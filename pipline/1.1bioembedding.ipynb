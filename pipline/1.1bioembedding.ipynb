{
 "cells": [
  {
   "cell_type": "code",
   "execution_count": 1,
   "metadata": {},
   "outputs": [
    {
     "name": "stderr",
     "output_type": "stream",
     "text": [
      "/xtdisk/xueyb_group/xutingfeng/Anaconda/envs/BioEmbedding/lib/python3.8/site-packages/tqdm/auto.py:21: TqdmWarning: IProgress not found. Please update jupyter and ipywidgets. See https://ipywidgets.readthedocs.io/en/stable/user_install.html\n",
      "  from .autonotebook import tqdm as notebook_tqdm\n"
     ]
    }
   ],
   "source": [
    "from bio_embeddings.embed import SeqVecEmbedder, ProtTransBertBFDEmbedder\n",
    "\n",
    "\n",
    "from bio_embeddings.project import tsne_reduce,umap_reduce\n",
    "from bio_embeddings.visualize import render_3D_scatter_plotly\n",
    "\n",
    "from Bio import SeqIO\n",
    "import matplotlib.pyplot as plt \n",
    "\n",
    "import pandas as pd \n",
    "import re \n",
    "import seaborn as sns\n",
    "import os.path as osp \n",
    "import numpy as np \n",
    "import os "
   ]
  },
  {
   "attachments": {},
   "cell_type": "markdown",
   "metadata": {},
   "source": [
    "查看不同的embedding的方式，对SLF和RNase的区分度，以及\n",
    "- mean \n",
    "- concat\n",
    "- sum\n",
    "- minus\n",
    "\n",
    "四种简单的模态融合的方式能否区分自交亲和与不亲和"
   ]
  },
  {
   "cell_type": "code",
   "execution_count": 3,
   "metadata": {},
   "outputs": [],
   "source": [
    "\n",
    "\n",
    "def embed_sis(sisFilePath, embedder):\n",
    "    # if hasattr(embedder, \"name\"):\n",
    "    #     embedderName = getattr(embedder, \"name\")\n",
    "    # else:\n",
    "    #     embedderName = 'unk'\n",
    "    \n",
    "\n",
    "    total = pd.read_csv(sisFilePath)\n",
    "    for i in [\"SLF_Seq\", \"SRnase_Seq\"]:\n",
    "        embeddings = [embedder.reduce_per_protein(embedding) for embedding in embedder.embed_many(total[i])]\n",
    "        # total[f\"{i}_{embedderName}\"] = pd.Series(embeddings)\n",
    "        total[f\"{i}_embedding\"] = pd.Series(embeddings)\n",
    "\n",
    "    return total \n",
    "\n",
    "\n",
    "def fusion_slf_RNase(data):\n",
    "    inter_data = pd.DataFrame()\n",
    "    inter_data[\"name\"] = data[\"SLF\"]+\"_\" + data[\"SRnase\"]\n",
    "    inter_data[\"SLF\"] = data[\"SLF\"]\n",
    "    inter_data[\"RNase\"] = data[\"SRnase\"]\n",
    "    inter_data[\"label\"] = data[\"label\"]\n",
    "\n",
    "    inter_data[\"mean\"] =( data[\"SLF_Seq_embedding\"] + data[\"SRnase_Seq_embedding\"] )/ 2\n",
    "    inter_data[\"sum\"] =data[\"SLF_Seq_embedding\"] + data[\"SRnase_Seq_embedding\"] \n",
    "    inter_data[\"minus\"] =data[\"SLF_Seq_embedding\"] - data[\"SRnase_Seq_embedding\"] \n",
    "\n",
    "    def concat(x, cols):\n",
    "        concat_data = []\n",
    "        for col in cols:\n",
    "            concat_data.append(x[col])\n",
    "        return np.concatenate(concat_data)\n",
    "    inter_data[\"concat\"] = data.apply(lambda x: concat(x, [\"SLF_Seq_embedding\", \"SRnase_Seq_embedding\"]), axis=1)\n",
    "    return inter_data\n",
    "\n",
    "\n",
    "\n",
    "def plot_SLF_RNase(SLF=None, RNase=None, ax=None, **kwargs):\n",
    "    if ax is None:\n",
    "        fig, ax = plt.subplots(figsize=(10, 10))\n",
    "    if SLF is not None:\n",
    "            \n",
    "        SLF[\"SLF_num\"] = SLF[\"name\"].apply(lambda x: re.findall(r\"SLF\\d+\", x)[0])\n",
    "        sns.scatterplot(SLF[SLF[\"SLF_num\"].isin([f\"SLF{i}\" for i in range(1, 6)])], x=\"compoent_0\", y=\"compoent_1\", hue=\"SLF_num\", ax = ax )\n",
    "    if RNase is not None:\n",
    "        sns.scatterplot(RNase, x=\"compoent_0\", y=\"compoent_1\", hue=\"name\", marker=\"*\", s=100, ax = ax)\n",
    "    \n",
    "    \n",
    "def mkdirs(path):\n",
    "    try:\n",
    "        os.makedirs(path)\n",
    "    except:\n",
    "        pass\n",
    "\n",
    "\n",
    "\n",
    "def mainFunc(embedder, filePath, saveRootDir):\n",
    "    if hasattr(embedder, \"name\"):\n",
    "        embedderName = getattr(embedder, \"name\")\n",
    "    else:\n",
    "        embedderName = \"unk\"\n",
    "\n",
    "    saveRootDir_embedder = osp.join(saveRootDir, embedderName)\n",
    "    mkdirs(saveRootDir_embedder)\n",
    "\n",
    "    o = embed_sis(filePath, embedder)\n",
    "    # save embedding \n",
    "    o.to_csv(osp.join(saveRootDir_embedder, f\"{embedderName}_embedding.csv\"))\n",
    "\n",
    "    # plot slf and RNase\n",
    "    options = {\n",
    "        'n_components': 2,\n",
    "        \"n_jobs\":10\n",
    "    }\n",
    "    SLF_embedding = o.loc[:, [\"SLF\", \"SLF_Seq\", \"SLF_Seq_embedding\"]].rename(columns={\"SLF\":\"name\", \"SLF_Seq\":\"seq\", f\"SLF_Seq_embedding\":\"embedding\"}).drop_duplicates([\"name\", \"seq\"]).reset_index(drop=True)\n",
    "    RNase_embedding = o.loc[:, [\"SRnase\", \"SRnase_Seq\", \"SRnase_Seq_embedding\"]].rename(columns={\"SRnase\":\"name\", \"SRnase_Seq\":\"seq\", f\"SRnase_Seq_embedding\":\"embedding\"}).drop_duplicates([\"name\", \"seq\"]).reset_index(drop=True)\n",
    "    # tsne SLF\n",
    "    embedding_tsne_SLF = tsne_reduce(SLF_embedding[\"embedding\"].to_list(),  **options)\n",
    "    for i in range(embedding_tsne_SLF.shape[1]):\n",
    "        SLF_embedding[f\"compoent_{i}\"] = embedding_tsne_SLF[:, i]\n",
    "    # tsne RNase\n",
    "    embedding_tsne_RNase = tsne_reduce(RNase_embedding[\"embedding\"].to_list(),  **options)\n",
    "    for i in range(embedding_tsne_RNase.shape[1]):\n",
    "        RNase_embedding[f\"compoent_{i}\"] = embedding_tsne_RNase[:, i]\n",
    "\n",
    "    fig, ax = plt.subplots(figsize=(10, 10))\n",
    "    plot_SLF_RNase(SLF= SLF_embedding,  RNase = RNase_embedding,ax=ax)\n",
    "    fig.savefig(osp.join(saveRootDir_embedder, \"SLF_RNase_tsne.png\"), dpi=400)\n",
    "\n",
    "\n",
    "    # fusion slf and SRnase\n",
    "    fusion_data = fusion_slf_RNase(o)\n",
    "    # tsne each fusion type at 2d \n",
    "\n",
    "    options = {\n",
    "        'n_components': 2,\n",
    "        \"n_jobs\":10\n",
    "    }\n",
    "\n",
    "    fusion_data_tsne_dict = {}\n",
    "\n",
    "    for col in fusion_data.columns[4:]:\n",
    "        fusion_data_tsne = fusion_data.iloc[:, :4]\n",
    "        embedding_tsne = tsne_reduce(fusion_data[col].to_list(),  **options)\n",
    "\n",
    "        for i in range(embedding_tsne.shape[1]):\n",
    "            fusion_data_tsne[f\"compoent_{i}\"] = embedding_tsne[:, i]\n",
    "            \n",
    "        fusion_data_tsne_dict[col] = fusion_data_tsne\n",
    "\n",
    "\n",
    "    # plot 2d \n",
    "\n",
    "    length = len(fusion_data_tsne_dict)\n",
    "    fig, axes = plt.subplots(length, 3, figsize=(10*3, 10*length))\n",
    "    for row, (key, df) in enumerate(fusion_data_tsne_dict.items()):\n",
    "        tmp_df = df[df[\"label\"] != -1].copy()\n",
    "        ax1 =  axes[row, 0]\n",
    "        sns.scatterplot(tmp_df, x=\"compoent_0\", y=\"compoent_1\", hue=\"label\",ax =ax1)\n",
    "        ax1.set_title(f\"{key} and hue by label\")\n",
    "\n",
    "        ax2=axes[row, 1]\n",
    "        sns.scatterplot(tmp_df, x=\"compoent_0\", y=\"compoent_1\", hue=\"RNase\",ax = ax2)\n",
    "        ax2.set_title(f\"{key} and hue by RNase\")\n",
    "\n",
    "        ax3 = axes[row, 2]\n",
    "        tmp_df[\"SLF_num\"] = tmp_df[\"SLF\"].apply(lambda x: re.findall(r\"SLF\\d+\", x)[0])\n",
    "        sns.scatterplot(tmp_df, x=\"compoent_0\", y=\"compoent_1\", hue=\"SLF_num\", ax = ax3)\n",
    "        ax3.set_title(f\"{key} and hue by SLF_num\")\n",
    "    fig.savefig(osp.join(saveRootDir_embedder, \"SLF_RNase_pair_tsne.png\"), dpi=400)\n",
    "\n"
   ]
  },
  {
   "cell_type": "code",
   "execution_count": 3,
   "metadata": {},
   "outputs": [
    {
     "name": "stderr",
     "output_type": "stream",
     "text": [
      "/xtdisk/xueyb_group/xutingfeng/Anaconda/envs/BioEmbedding/lib/python3.8/site-packages/sklearn/manifold/_t_sne.py:691: FutureWarning: 'square_distances' has been introduced in 0.24 to help phase out legacy squaring behavior. The 'legacy' setting will be removed in 1.1 (renaming of 0.26), and the default setting will be changed to True. In 1.3, 'square_distances' will be removed altogether, and distances will be squared by default. Set 'square_distances'=True to silence this warning.\n",
      "  warnings.warn(\n"
     ]
    },
    {
     "name": "stdout",
     "output_type": "stream",
     "text": [
      "[t-SNE] Computing 15 nearest neighbors...\n",
      "[t-SNE] Indexed 16 samples in 0.000s...\n",
      "[t-SNE] Computed neighbors for 16 samples in 1.133s...\n",
      "[t-SNE] Computed conditional probabilities for sample 16 / 16\n",
      "[t-SNE] Mean sigma: 0.019026\n",
      "[t-SNE] KL divergence after 250 iterations with early exaggeration: 63.008144\n",
      "[t-SNE] KL divergence after 1850 iterations: 0.264278\n",
      "[t-SNE] Computing 6 nearest neighbors...\n",
      "[t-SNE] Indexed 7 samples in 0.000s...\n",
      "[t-SNE] Computed neighbors for 7 samples in 0.014s...\n",
      "[t-SNE] Computed conditional probabilities for sample 7 / 7\n",
      "[t-SNE] Mean sigma: 2.075498\n"
     ]
    },
    {
     "name": "stderr",
     "output_type": "stream",
     "text": [
      "/xtdisk/xueyb_group/xutingfeng/Anaconda/envs/BioEmbedding/lib/python3.8/site-packages/sklearn/manifold/_t_sne.py:691: FutureWarning: 'square_distances' has been introduced in 0.24 to help phase out legacy squaring behavior. The 'legacy' setting will be removed in 1.1 (renaming of 0.26), and the default setting will be changed to True. In 1.3, 'square_distances' will be removed altogether, and distances will be squared by default. Set 'square_distances'=True to silence this warning.\n",
      "  warnings.warn(\n"
     ]
    },
    {
     "name": "stdout",
     "output_type": "stream",
     "text": [
      "[t-SNE] KL divergence after 250 iterations with early exaggeration: 41.140308\n",
      "[t-SNE] KL divergence after 450 iterations: 0.157692\n"
     ]
    },
    {
     "name": "stderr",
     "output_type": "stream",
     "text": [
      "/xtdisk/xueyb_group/xutingfeng/Anaconda/envs/BioEmbedding/lib/python3.8/site-packages/sklearn/manifold/_t_sne.py:691: FutureWarning: 'square_distances' has been introduced in 0.24 to help phase out legacy squaring behavior. The 'legacy' setting will be removed in 1.1 (renaming of 0.26), and the default setting will be changed to True. In 1.3, 'square_distances' will be removed altogether, and distances will be squared by default. Set 'square_distances'=True to silence this warning.\n",
      "  warnings.warn(\n"
     ]
    },
    {
     "name": "stdout",
     "output_type": "stream",
     "text": [
      "[t-SNE] Computing 19 nearest neighbors...\n",
      "[t-SNE] Indexed 112 samples in 0.001s...\n",
      "[t-SNE] Computed neighbors for 112 samples in 0.111s...\n",
      "[t-SNE] Computed conditional probabilities for sample 112 / 112\n",
      "[t-SNE] Mean sigma: 0.012950\n",
      "[t-SNE] KL divergence after 250 iterations with early exaggeration: 60.547482\n",
      "[t-SNE] KL divergence after 800 iterations: 0.752811\n",
      "[t-SNE] Computing 19 nearest neighbors...\n",
      "[t-SNE] Indexed 112 samples in 0.000s...\n",
      "[t-SNE] Computed neighbors for 112 samples in 0.024s...\n",
      "[t-SNE] Computed conditional probabilities for sample 112 / 112\n",
      "[t-SNE] Mean sigma: 0.012950\n"
     ]
    },
    {
     "name": "stderr",
     "output_type": "stream",
     "text": [
      "/xtdisk/xueyb_group/xutingfeng/Anaconda/envs/BioEmbedding/lib/python3.8/site-packages/sklearn/manifold/_t_sne.py:691: FutureWarning: 'square_distances' has been introduced in 0.24 to help phase out legacy squaring behavior. The 'legacy' setting will be removed in 1.1 (renaming of 0.26), and the default setting will be changed to True. In 1.3, 'square_distances' will be removed altogether, and distances will be squared by default. Set 'square_distances'=True to silence this warning.\n",
      "  warnings.warn(\n"
     ]
    },
    {
     "name": "stdout",
     "output_type": "stream",
     "text": [
      "[t-SNE] KL divergence after 250 iterations with early exaggeration: 60.547485\n",
      "[t-SNE] KL divergence after 800 iterations: 0.752811\n",
      "[t-SNE] Computing 19 nearest neighbors...\n",
      "[t-SNE] Indexed 112 samples in 0.001s...\n",
      "[t-SNE] Computed neighbors for 112 samples in 0.100s...\n",
      "[t-SNE] Computed conditional probabilities for sample 112 / 112\n",
      "[t-SNE] Mean sigma: 0.021341\n"
     ]
    },
    {
     "name": "stderr",
     "output_type": "stream",
     "text": [
      "/xtdisk/xueyb_group/xutingfeng/Anaconda/envs/BioEmbedding/lib/python3.8/site-packages/sklearn/manifold/_t_sne.py:691: FutureWarning: 'square_distances' has been introduced in 0.24 to help phase out legacy squaring behavior. The 'legacy' setting will be removed in 1.1 (renaming of 0.26), and the default setting will be changed to True. In 1.3, 'square_distances' will be removed altogether, and distances will be squared by default. Set 'square_distances'=True to silence this warning.\n",
      "  warnings.warn(\n"
     ]
    },
    {
     "name": "stdout",
     "output_type": "stream",
     "text": [
      "[t-SNE] KL divergence after 250 iterations with early exaggeration: 62.924969\n",
      "[t-SNE] KL divergence after 850 iterations: 0.789910\n",
      "[t-SNE] Computing 19 nearest neighbors...\n",
      "[t-SNE] Indexed 112 samples in 0.000s...\n",
      "[t-SNE] Computed neighbors for 112 samples in 0.035s...\n",
      "[t-SNE] Computed conditional probabilities for sample 112 / 112\n",
      "[t-SNE] Mean sigma: 0.015702\n"
     ]
    },
    {
     "name": "stderr",
     "output_type": "stream",
     "text": [
      "/xtdisk/xueyb_group/xutingfeng/Anaconda/envs/BioEmbedding/lib/python3.8/site-packages/sklearn/manifold/_t_sne.py:691: FutureWarning: 'square_distances' has been introduced in 0.24 to help phase out legacy squaring behavior. The 'legacy' setting will be removed in 1.1 (renaming of 0.26), and the default setting will be changed to True. In 1.3, 'square_distances' will be removed altogether, and distances will be squared by default. Set 'square_distances'=True to silence this warning.\n",
      "  warnings.warn(\n"
     ]
    },
    {
     "name": "stdout",
     "output_type": "stream",
     "text": [
      "[t-SNE] KL divergence after 250 iterations with early exaggeration: 61.824490\n",
      "[t-SNE] KL divergence after 1900 iterations: 0.151092\n",
      "successseqvec\n"
     ]
    },
    {
     "name": "stderr",
     "output_type": "stream",
     "text": [
      "Some weights of the model checkpoint at /home/xutingfeng/.cache/bio_embeddings/prottrans_bert_bfd/model_directory were not used when initializing BertModel: ['cls.predictions.bias', 'cls.predictions.decoder.weight', 'cls.predictions.decoder.bias', 'cls.seq_relationship.weight', 'cls.seq_relationship.bias', 'cls.predictions.transform.dense.weight', 'cls.predictions.transform.dense.bias', 'cls.predictions.transform.LayerNorm.weight', 'cls.predictions.transform.LayerNorm.bias']\n",
      "- This IS expected if you are initializing BertModel from the checkpoint of a model trained on another task or with another architecture (e.g. initializing a BertForSequenceClassification model from a BertForPreTraining model).\n",
      "- This IS NOT expected if you are initializing BertModel from the checkpoint of a model that you expect to be exactly identical (initializing a BertForSequenceClassification model from a BertForSequenceClassification model).\n",
      "/xtdisk/xueyb_group/xutingfeng/Anaconda/envs/BioEmbedding/lib/python3.8/site-packages/sklearn/manifold/_t_sne.py:691: FutureWarning: 'square_distances' has been introduced in 0.24 to help phase out legacy squaring behavior. The 'legacy' setting will be removed in 1.1 (renaming of 0.26), and the default setting will be changed to True. In 1.3, 'square_distances' will be removed altogether, and distances will be squared by default. Set 'square_distances'=True to silence this warning.\n",
      "  warnings.warn(\n"
     ]
    },
    {
     "name": "stdout",
     "output_type": "stream",
     "text": [
      "[t-SNE] Computing 15 nearest neighbors...\n",
      "[t-SNE] Indexed 16 samples in 0.000s...\n",
      "[t-SNE] Computed neighbors for 16 samples in 0.060s...\n",
      "[t-SNE] Computed conditional probabilities for sample 16 / 16\n",
      "[t-SNE] Mean sigma: 0.014526\n",
      "[t-SNE] KL divergence after 250 iterations with early exaggeration: 66.066093\n",
      "[t-SNE] KL divergence after 1150 iterations: 0.160901\n",
      "[t-SNE] Computing 6 nearest neighbors...\n",
      "[t-SNE] Indexed 7 samples in 0.000s...\n",
      "[t-SNE] Computed neighbors for 7 samples in 0.010s...\n",
      "[t-SNE] Computed conditional probabilities for sample 7 / 7\n",
      "[t-SNE] Mean sigma: 1.595448\n",
      "[t-SNE] KL divergence after 250 iterations with early exaggeration: 57.277561\n"
     ]
    },
    {
     "name": "stderr",
     "output_type": "stream",
     "text": [
      "/xtdisk/xueyb_group/xutingfeng/Anaconda/envs/BioEmbedding/lib/python3.8/site-packages/sklearn/manifold/_t_sne.py:691: FutureWarning: 'square_distances' has been introduced in 0.24 to help phase out legacy squaring behavior. The 'legacy' setting will be removed in 1.1 (renaming of 0.26), and the default setting will be changed to True. In 1.3, 'square_distances' will be removed altogether, and distances will be squared by default. Set 'square_distances'=True to silence this warning.\n",
      "  warnings.warn(\n"
     ]
    },
    {
     "name": "stdout",
     "output_type": "stream",
     "text": [
      "[t-SNE] KL divergence after 5750 iterations: 0.162500\n"
     ]
    },
    {
     "name": "stderr",
     "output_type": "stream",
     "text": [
      "/xtdisk/xueyb_group/xutingfeng/Anaconda/envs/BioEmbedding/lib/python3.8/site-packages/sklearn/manifold/_t_sne.py:691: FutureWarning: 'square_distances' has been introduced in 0.24 to help phase out legacy squaring behavior. The 'legacy' setting will be removed in 1.1 (renaming of 0.26), and the default setting will be changed to True. In 1.3, 'square_distances' will be removed altogether, and distances will be squared by default. Set 'square_distances'=True to silence this warning.\n",
      "  warnings.warn(\n"
     ]
    },
    {
     "name": "stdout",
     "output_type": "stream",
     "text": [
      "[t-SNE] Computing 19 nearest neighbors...\n",
      "[t-SNE] Indexed 112 samples in 0.001s...\n",
      "[t-SNE] Computed neighbors for 112 samples in 0.108s...\n",
      "[t-SNE] Computed conditional probabilities for sample 112 / 112\n",
      "[t-SNE] Mean sigma: 0.009562\n",
      "[t-SNE] KL divergence after 250 iterations with early exaggeration: 59.783512\n",
      "[t-SNE] KL divergence after 2850 iterations: 0.526232\n",
      "[t-SNE] Computing 19 nearest neighbors...\n",
      "[t-SNE] Indexed 112 samples in 0.000s...\n",
      "[t-SNE] Computed neighbors for 112 samples in 0.054s...\n",
      "[t-SNE] Computed conditional probabilities for sample 112 / 112\n",
      "[t-SNE] Mean sigma: 0.009562\n"
     ]
    },
    {
     "name": "stderr",
     "output_type": "stream",
     "text": [
      "/xtdisk/xueyb_group/xutingfeng/Anaconda/envs/BioEmbedding/lib/python3.8/site-packages/sklearn/manifold/_t_sne.py:691: FutureWarning: 'square_distances' has been introduced in 0.24 to help phase out legacy squaring behavior. The 'legacy' setting will be removed in 1.1 (renaming of 0.26), and the default setting will be changed to True. In 1.3, 'square_distances' will be removed altogether, and distances will be squared by default. Set 'square_distances'=True to silence this warning.\n",
      "  warnings.warn(\n"
     ]
    },
    {
     "name": "stdout",
     "output_type": "stream",
     "text": [
      "[t-SNE] KL divergence after 250 iterations with early exaggeration: 59.783512\n",
      "[t-SNE] KL divergence after 2850 iterations: 0.526232\n",
      "[t-SNE] Computing 19 nearest neighbors...\n",
      "[t-SNE] Indexed 112 samples in 0.000s...\n",
      "[t-SNE] Computed neighbors for 112 samples in 0.040s...\n",
      "[t-SNE] Computed conditional probabilities for sample 112 / 112\n",
      "[t-SNE] Mean sigma: 0.016125\n"
     ]
    },
    {
     "name": "stderr",
     "output_type": "stream",
     "text": [
      "/xtdisk/xueyb_group/xutingfeng/Anaconda/envs/BioEmbedding/lib/python3.8/site-packages/sklearn/manifold/_t_sne.py:691: FutureWarning: 'square_distances' has been introduced in 0.24 to help phase out legacy squaring behavior. The 'legacy' setting will be removed in 1.1 (renaming of 0.26), and the default setting will be changed to True. In 1.3, 'square_distances' will be removed altogether, and distances will be squared by default. Set 'square_distances'=True to silence this warning.\n",
      "  warnings.warn(\n"
     ]
    },
    {
     "name": "stdout",
     "output_type": "stream",
     "text": [
      "[t-SNE] KL divergence after 250 iterations with early exaggeration: 57.227654\n",
      "[t-SNE] KL divergence after 1300 iterations: 0.396517\n",
      "[t-SNE] Computing 19 nearest neighbors...\n",
      "[t-SNE] Indexed 112 samples in 0.000s...\n",
      "[t-SNE] Computed neighbors for 112 samples in 0.057s...\n",
      "[t-SNE] Computed conditional probabilities for sample 112 / 112\n",
      "[t-SNE] Mean sigma: 0.011663\n"
     ]
    },
    {
     "name": "stderr",
     "output_type": "stream",
     "text": [
      "/xtdisk/xueyb_group/xutingfeng/Anaconda/envs/BioEmbedding/lib/python3.8/site-packages/sklearn/manifold/_t_sne.py:691: FutureWarning: 'square_distances' has been introduced in 0.24 to help phase out legacy squaring behavior. The 'legacy' setting will be removed in 1.1 (renaming of 0.26), and the default setting will be changed to True. In 1.3, 'square_distances' will be removed altogether, and distances will be squared by default. Set 'square_distances'=True to silence this warning.\n",
      "  warnings.warn(\n"
     ]
    },
    {
     "name": "stdout",
     "output_type": "stream",
     "text": [
      "[t-SNE] KL divergence after 250 iterations with early exaggeration: 58.420292\n",
      "[t-SNE] KL divergence after 5200 iterations: 0.129709\n",
      "successprottrans_bert_bfd\n",
      "failure: prottrans_t5_uniref50\n"
     ]
    },
    {
     "name": "stderr",
     "output_type": "stream",
     "text": [
      "Some weights of the model checkpoint at /home/xutingfeng/.cache/bio_embeddings/prottrans_xlnet_uniref100/model_directory were not used when initializing XLNetModel: ['lm_loss.weight', 'lm_loss.bias']\n",
      "- This IS expected if you are initializing XLNetModel from the checkpoint of a model trained on another task or with another architecture (e.g. initializing a BertForSequenceClassification model from a BertForPreTraining model).\n",
      "- This IS NOT expected if you are initializing XLNetModel from the checkpoint of a model that you expect to be exactly identical (initializing a BertForSequenceClassification model from a BertForSequenceClassification model).\n",
      "/xtdisk/xueyb_group/xutingfeng/Anaconda/envs/BioEmbedding/lib/python3.8/site-packages/transformers/tokenization_utils_base.py:1706: FutureWarning: Calling XLNetTokenizer.from_pretrained() with the path to a single file or url is deprecated and won't be possible anymore in v5. Use a model identifier or the path to a directory instead.\n",
      "  warnings.warn(\n"
     ]
    },
    {
     "name": "stdout",
     "output_type": "stream",
     "text": [
      "failure: prottrans_xlnet_uniref100\n",
      "failure: prottrans_t5_bfd\n"
     ]
    },
    {
     "name": "stderr",
     "output_type": "stream",
     "text": [
      "Some weights of the model checkpoint at /home/xutingfeng/.cache/bio_embeddings/prottrans_albert_bfd/model_directory were not used when initializing AlbertModel: ['predictions.dense.bias', 'predictions.bias', 'predictions.LayerNorm.weight', 'predictions.LayerNorm.bias', 'predictions.dense.weight', 'predictions.decoder.weight', 'sop_classifier.classifier.bias', 'predictions.decoder.bias', 'sop_classifier.classifier.weight']\n",
      "- This IS expected if you are initializing AlbertModel from the checkpoint of a model trained on another task or with another architecture (e.g. initializing a BertForSequenceClassification model from a BertForPreTraining model).\n",
      "- This IS NOT expected if you are initializing AlbertModel from the checkpoint of a model that you expect to be exactly identical (initializing a BertForSequenceClassification model from a BertForSequenceClassification model).\n"
     ]
    },
    {
     "name": "stdout",
     "output_type": "stream",
     "text": [
      "failure: prottrans_albert_bfd\n",
      "failure: prottrans_t5_xl_u50\n"
     ]
    },
    {
     "name": "stderr",
     "output_type": "stream",
     "text": [
      "/xtdisk/xueyb_group/xutingfeng/Anaconda/envs/BioEmbedding/lib/python3.8/site-packages/sklearn/manifold/_t_sne.py:691: FutureWarning: 'square_distances' has been introduced in 0.24 to help phase out legacy squaring behavior. The 'legacy' setting will be removed in 1.1 (renaming of 0.26), and the default setting will be changed to True. In 1.3, 'square_distances' will be removed altogether, and distances will be squared by default. Set 'square_distances'=True to silence this warning.\n",
      "  warnings.warn(\n"
     ]
    },
    {
     "name": "stdout",
     "output_type": "stream",
     "text": [
      "[t-SNE] Computing 15 nearest neighbors...\n",
      "[t-SNE] Indexed 16 samples in 0.000s...\n",
      "[t-SNE] Computed neighbors for 16 samples in 0.019s...\n",
      "[t-SNE] Computed conditional probabilities for sample 16 / 16\n",
      "[t-SNE] Mean sigma: 0.134365\n",
      "[t-SNE] KL divergence after 250 iterations with early exaggeration: 59.900291\n",
      "[t-SNE] KL divergence after 1750 iterations: 0.110886\n",
      "[t-SNE] Computing 6 nearest neighbors...\n",
      "[t-SNE] Indexed 7 samples in 0.000s...\n",
      "[t-SNE] Computed neighbors for 7 samples in 0.011s...\n",
      "[t-SNE] Computed conditional probabilities for sample 7 / 7\n",
      "[t-SNE] Mean sigma: 2.828427\n",
      "[t-SNE] KL divergence after 250 iterations with early exaggeration: 43.422234\n"
     ]
    },
    {
     "name": "stderr",
     "output_type": "stream",
     "text": [
      "/xtdisk/xueyb_group/xutingfeng/Anaconda/envs/BioEmbedding/lib/python3.8/site-packages/sklearn/manifold/_t_sne.py:691: FutureWarning: 'square_distances' has been introduced in 0.24 to help phase out legacy squaring behavior. The 'legacy' setting will be removed in 1.1 (renaming of 0.26), and the default setting will be changed to True. In 1.3, 'square_distances' will be removed altogether, and distances will be squared by default. Set 'square_distances'=True to silence this warning.\n",
      "  warnings.warn(\n"
     ]
    },
    {
     "name": "stdout",
     "output_type": "stream",
     "text": [
      "[t-SNE] KL divergence after 550 iterations: 0.158711\n"
     ]
    },
    {
     "name": "stderr",
     "output_type": "stream",
     "text": [
      "/xtdisk/xueyb_group/xutingfeng/Anaconda/envs/BioEmbedding/lib/python3.8/site-packages/sklearn/manifold/_t_sne.py:691: FutureWarning: 'square_distances' has been introduced in 0.24 to help phase out legacy squaring behavior. The 'legacy' setting will be removed in 1.1 (renaming of 0.26), and the default setting will be changed to True. In 1.3, 'square_distances' will be removed altogether, and distances will be squared by default. Set 'square_distances'=True to silence this warning.\n",
      "  warnings.warn(\n"
     ]
    },
    {
     "name": "stdout",
     "output_type": "stream",
     "text": [
      "[t-SNE] Computing 19 nearest neighbors...\n",
      "[t-SNE] Indexed 112 samples in 0.000s...\n",
      "[t-SNE] Computed neighbors for 112 samples in 0.019s...\n",
      "[t-SNE] Computed conditional probabilities for sample 112 / 112\n",
      "[t-SNE] Mean sigma: 0.053976\n",
      "[t-SNE] KL divergence after 250 iterations with early exaggeration: 68.756012\n",
      "[t-SNE] KL divergence after 1000 iterations: 0.978538\n",
      "[t-SNE] Computing 19 nearest neighbors...\n",
      "[t-SNE] Indexed 112 samples in 0.000s...\n",
      "[t-SNE] Computed neighbors for 112 samples in 0.020s...\n",
      "[t-SNE] Computed conditional probabilities for sample 112 / 112\n",
      "[t-SNE] Mean sigma: 0.053976\n"
     ]
    },
    {
     "name": "stderr",
     "output_type": "stream",
     "text": [
      "/xtdisk/xueyb_group/xutingfeng/Anaconda/envs/BioEmbedding/lib/python3.8/site-packages/sklearn/manifold/_t_sne.py:691: FutureWarning: 'square_distances' has been introduced in 0.24 to help phase out legacy squaring behavior. The 'legacy' setting will be removed in 1.1 (renaming of 0.26), and the default setting will be changed to True. In 1.3, 'square_distances' will be removed altogether, and distances will be squared by default. Set 'square_distances'=True to silence this warning.\n",
      "  warnings.warn(\n"
     ]
    },
    {
     "name": "stdout",
     "output_type": "stream",
     "text": [
      "[t-SNE] KL divergence after 250 iterations with early exaggeration: 68.756012\n",
      "[t-SNE] KL divergence after 1000 iterations: 0.978537\n",
      "[t-SNE] Computing 19 nearest neighbors...\n",
      "[t-SNE] Indexed 112 samples in 0.000s...\n",
      "[t-SNE] Computed neighbors for 112 samples in 0.016s...\n",
      "[t-SNE] Computed conditional probabilities for sample 112 / 112\n",
      "[t-SNE] Mean sigma: 0.069420\n"
     ]
    },
    {
     "name": "stderr",
     "output_type": "stream",
     "text": [
      "/xtdisk/xueyb_group/xutingfeng/Anaconda/envs/BioEmbedding/lib/python3.8/site-packages/sklearn/manifold/_t_sne.py:691: FutureWarning: 'square_distances' has been introduced in 0.24 to help phase out legacy squaring behavior. The 'legacy' setting will be removed in 1.1 (renaming of 0.26), and the default setting will be changed to True. In 1.3, 'square_distances' will be removed altogether, and distances will be squared by default. Set 'square_distances'=True to silence this warning.\n",
      "  warnings.warn(\n"
     ]
    },
    {
     "name": "stdout",
     "output_type": "stream",
     "text": [
      "[t-SNE] KL divergence after 250 iterations with early exaggeration: 63.877544\n",
      "[t-SNE] KL divergence after 2250 iterations: 0.646616\n",
      "[t-SNE] Computing 19 nearest neighbors...\n",
      "[t-SNE] Indexed 112 samples in 0.000s...\n",
      "[t-SNE] Computed neighbors for 112 samples in 0.028s...\n",
      "[t-SNE] Computed conditional probabilities for sample 112 / 112\n",
      "[t-SNE] Mean sigma: 0.067022\n"
     ]
    },
    {
     "name": "stderr",
     "output_type": "stream",
     "text": [
      "/xtdisk/xueyb_group/xutingfeng/Anaconda/envs/BioEmbedding/lib/python3.8/site-packages/sklearn/manifold/_t_sne.py:691: FutureWarning: 'square_distances' has been introduced in 0.24 to help phase out legacy squaring behavior. The 'legacy' setting will be removed in 1.1 (renaming of 0.26), and the default setting will be changed to True. In 1.3, 'square_distances' will be removed altogether, and distances will be squared by default. Set 'square_distances'=True to silence this warning.\n",
      "  warnings.warn(\n"
     ]
    },
    {
     "name": "stdout",
     "output_type": "stream",
     "text": [
      "[t-SNE] KL divergence after 250 iterations with early exaggeration: 67.913353\n",
      "[t-SNE] KL divergence after 1700 iterations: 0.681234\n",
      "successbepler\n"
     ]
    }
   ],
   "source": [
    "from bio_embeddings.embed import SeqVecEmbedder, ProtTransBertBFDEmbedder, ProtTransT5UniRef50Embedder, ProtTransXLNetUniRef100Embedder,ProtTransT5BFDEmbedder, ProtTransAlbertBFDEmbedder, ProtTransT5XLU50Embedder, BeplerEmbedder, ESM1bEmbedder, ESM1vEmbedder, ESMEmbedder,CPCProtEmbedder, PLUSRNNEmbedder\n",
    "\n",
    "saveRootDir = \"./embeddingSave\"\n",
    "mkdirs(saveRootDir)\n",
    "\n",
    "filePath = \"/p300s/wangmx_group/xutingfeng/SIS/data/SLF1.csv\"\n",
    "\n",
    "\n",
    "for embedder in [SeqVecEmbedder, ProtTransBertBFDEmbedder, ProtTransT5UniRef50Embedder, ProtTransXLNetUniRef100Embedder,ProtTransT5BFDEmbedder, ProtTransAlbertBFDEmbedder, ProtTransT5XLU50Embedder, BeplerEmbedder, ESM1bEmbedder, ESM1vEmbedder, ESMEmbedder,CPCProtEmbedder, PLUSRNNEmbedder]:\n",
    "    try:    \n",
    "        EMBERDER = embedder()\n",
    "        mainFunc(EMBERDER, filePath, saveRootDir)\n",
    "        print(f\"success{embedder.name}\")\n",
    "        del EMBERDER\n",
    "    except:\n",
    "        print(f\"failure: {embedder.name}\")\n",
    "        pass "
   ]
  },
  {
   "cell_type": "code",
   "execution_count": null,
   "metadata": {},
   "outputs": [],
   "source": []
  },
  {
   "attachments": {},
   "cell_type": "markdown",
   "metadata": {},
   "source": [
    "## raw test code"
   ]
  },
  {
   "cell_type": "code",
   "execution_count": 5,
   "metadata": {},
   "outputs": [],
   "source": [
    "saveRootDir = \"./embeddingSave\"\n",
    "mkdirs(saveRootDir)\n",
    "\n",
    "filePath = \"/p300s/wangmx_group/xutingfeng/project_development/mmodel/pipline/SLF1.csv\""
   ]
  },
  {
   "cell_type": "code",
   "execution_count": 6,
   "metadata": {},
   "outputs": [
    {
     "ename": "NameError",
     "evalue": "name 'embedderName' is not defined",
     "output_type": "error",
     "traceback": [
      "\u001b[0;31m---------------------------------------------------------------------------\u001b[0m",
      "\u001b[0;31mNameError\u001b[0m                                 Traceback (most recent call last)",
      "Cell \u001b[0;32mIn[6], line 4\u001b[0m\n\u001b[1;32m      1\u001b[0m embedder \u001b[39m=\u001b[39m SeqVecEmbedder()\n\u001b[1;32m      3\u001b[0m \u001b[39mif\u001b[39;00m \u001b[39mhasattr\u001b[39m(embedder, \u001b[39m\"\u001b[39m\u001b[39mname\u001b[39m\u001b[39m\"\u001b[39m):\n\u001b[0;32m----> 4\u001b[0m     embedderName \u001b[39m=\u001b[39m \u001b[39mgetattr\u001b[39m(embedderName, \u001b[39m\"\u001b[39m\u001b[39mname\u001b[39m\u001b[39m\"\u001b[39m)\n\u001b[1;32m      5\u001b[0m \u001b[39melse\u001b[39;00m:\n\u001b[1;32m      6\u001b[0m     embedderName \u001b[39m=\u001b[39m \u001b[39m\"\u001b[39m\u001b[39munk\u001b[39m\u001b[39m\"\u001b[39m\n",
      "\u001b[0;31mNameError\u001b[0m: name 'embedderName' is not defined"
     ]
    }
   ],
   "source": [
    "embedder = SeqVecEmbedder()\n",
    "\n",
    "if hasattr(embedder, \"name\"):\n",
    "    embedderName = getattr(embedderName, \"name\")\n",
    "else:\n",
    "    embedderName = \"unk\"\n",
    "\n",
    "saveRootDir_embedder = osp.join(saveRootDir, embedderName)\n",
    "mkdirs(saveRootDir_embedder)\n",
    "\n",
    "o = embed_sis(filePath, embedder)\n",
    "# save embedding \n",
    "o.to_csv(osp.join(saveRootDir_embedder, f\"{embedderName}_embedding.csv\"))\n"
   ]
  },
  {
   "cell_type": "code",
   "execution_count": null,
   "metadata": {},
   "outputs": [],
   "source": [
    "# plot slf and RNase\n",
    "options = {\n",
    "    'n_components': 2,\n",
    "    \"n_jobs\":10\n",
    "}\n",
    "SLF_embedding = o.loc[:, [\"SLF\", \"SLF_Seq\", \"SLF_Seq_embedding\"]].rename(columns={\"SLF\":\"name\", \"SLF_Seq\":\"seq\", f\"SLF_Seq_embedding\":\"embedding\"}).drop_duplicates([\"name\", \"seq\"]).reset_index(drop=True)\n",
    "RNase_embedding = o.loc[:, [\"SRnase\", \"SRnase_Seq\", \"SRnase_Seq_embedding\"]].rename(columns={\"SRnase\":\"name\", \"SRnase_Seq\":\"seq\", f\"SRnase_Seq_embedding\":\"embedding\"}).drop_duplicates([\"name\", \"seq\"]).reset_index(drop=True)\n",
    "# tsne SLF\n",
    "embedding_tsne_SLF = tsne_reduce(SLF_embedding[\"embedding\"].to_list(),  **options)\n",
    "for i in range(embedding_tsne_SLF.shape[1]):\n",
    "    SLF_embedding[f\"compoent_{i}\"] = embedding_tsne_SLF[:, i]\n",
    "# tsne RNase\n",
    "embedding_tsne_RNase = tsne_reduce(RNase_embedding[\"embedding\"].to_list(),  **options)\n",
    "for i in range(embedding_tsne_RNase.shape[1]):\n",
    "    RNase_embedding[f\"compoent_{i}\"] = embedding_tsne_RNase[:, i]\n",
    "\n",
    "fig, ax = plt.subplots(figsize=(10, 10))\n",
    "plot_SLF_RNase(SLF= SLF_embedding,  RNase = RNase_embedding,ax=ax)\n",
    "fig.savefig(osp.join(saveRootDir_embedder, \"SLF_RNase_tsne.png\"), dpi=400)\n"
   ]
  },
  {
   "cell_type": "code",
   "execution_count": null,
   "metadata": {},
   "outputs": [],
   "source": [
    "# fusion slf and SRnase\n",
    "fusion_data = fusion_slf_RNase(o)\n",
    "# tsne each fusion type at 2d \n",
    "\n",
    "options = {\n",
    "    'n_components': 2,\n",
    "    \"n_jobs\":10\n",
    "}\n",
    "\n",
    "fusion_data_tsne_dict = {}\n",
    "\n",
    "for col in fusion_data.columns[4:]:\n",
    "    fusion_data_tsne = fusion_data.iloc[:, :4]\n",
    "    embedding_tsne = tsne_reduce(fusion_data[col].to_list(),  **options)\n",
    "\n",
    "    for i in range(embedding_tsne.shape[1]):\n",
    "        fusion_data_tsne[f\"compoent_{i}\"] = embedding_tsne[:, i]\n",
    "        \n",
    "    fusion_data_tsne_dict[col] = fusion_data_tsne\n",
    "\n",
    "\n",
    "# plot 2d \n",
    "\n",
    "length = len(fusion_data_tsne_dict)\n",
    "fig, axes = plt.subplots(length, 3, figsize=(10*3, 10*length))\n",
    "for row, (key, df) in enumerate(fusion_data_tsne_dict.items()):\n",
    "    tmp_df = df[df[\"label\"] != -1].copy()\n",
    "    ax1 =  axes[row, 0]\n",
    "    sns.scatterplot(tmp_df, x=\"compoent_0\", y=\"compoent_1\", hue=\"label\",ax =ax1)\n",
    "    ax1.set_title(f\"{key} and hue by label\")\n",
    "\n",
    "    ax2=axes[row, 1]\n",
    "    sns.scatterplot(tmp_df, x=\"compoent_0\", y=\"compoent_1\", hue=\"RNase\",ax = ax2)\n",
    "    ax2.set_title(f\"{key} and hue by RNase\")\n",
    "\n",
    "    ax3 = axes[row, 2]\n",
    "    tmp_df[\"SLF_num\"] = tmp_df[\"SLF\"].apply(lambda x: re.findall(r\"SLF\\d+\", x)[0])\n",
    "    sns.scatterplot(tmp_df, x=\"compoent_0\", y=\"compoent_1\", hue=\"SLF_num\", ax = ax3)\n",
    "    ax3.set_title(f\"{key} and hue by SLF_num\")\n",
    "fig.savefig(osp.join(saveRootDir_embedder, \"SLF_RNase_pair_tsne.png\"), dpi=400)\n"
   ]
  },
  {
   "cell_type": "code",
   "execution_count": null,
   "metadata": {},
   "outputs": [],
   "source": []
  },
  {
   "cell_type": "code",
   "execution_count": null,
   "metadata": {},
   "outputs": [],
   "source": [
    "# tsne each fusion type at 3d \n",
    "options = {\n",
    "    'n_components': 3,\n",
    "    \"n_jobs\":10\n",
    "}\n",
    "\n",
    "fusion_data_tsne_dict3d = {}\n",
    "\n",
    "for col in fusion_data.columns[4:]:\n",
    "    fusion_data_tsne = fusion_data.iloc[:, :4]\n",
    "    embedding_tsne = tsne_reduce(fusion_data[col].to_list(),  **options)\n",
    "\n",
    "    for i in range(embedding_tsne.shape[1]):\n",
    "        fusion_data_tsne[f\"compoent_{i}\"] = embedding_tsne[:, i]\n",
    "        \n",
    "    fusion_data_tsne_dict3d[col] = fusion_data_tsne"
   ]
  },
  {
   "cell_type": "code",
   "execution_count": null,
   "metadata": {},
   "outputs": [],
   "source": [
    "fusion_data_tsne_dict[\"mean\"]"
   ]
  },
  {
   "cell_type": "code",
   "execution_count": null,
   "metadata": {},
   "outputs": [],
   "source": []
  },
  {
   "cell_type": "code",
   "execution_count": null,
   "metadata": {},
   "outputs": [],
   "source": [
    "import plotly.express as px\n",
    "\n"
   ]
  },
  {
   "cell_type": "code",
   "execution_count": null,
   "metadata": {},
   "outputs": [],
   "source": [
    "df = fusion_data_tsne_dict3d[\"mean\"][fusion_data_tsne_dict3d[\"minus\"][\"label\"]!=-1]\n",
    "\n",
    "df[\"label\"] = df[\"label\"].astype(\"str\")\n",
    "fig = px.scatter_3d(df, x='compoent_0', y='compoent_1', z='compoent_2',\n",
    "              color='label')\n",
    "fig.show()"
   ]
  },
  {
   "cell_type": "code",
   "execution_count": null,
   "metadata": {},
   "outputs": [],
   "source": []
  },
  {
   "cell_type": "code",
   "execution_count": null,
   "metadata": {},
   "outputs": [],
   "source": []
  },
  {
   "attachments": {},
   "cell_type": "markdown",
   "metadata": {},
   "source": [
    "## 废弃"
   ]
  },
  {
   "cell_type": "code",
   "execution_count": null,
   "metadata": {},
   "outputs": [],
   "source": [
    "\n",
    "\n",
    "filePathList=[\"/p300s/wangmx_group/xutingfeng/SIS/data/fasta/single/SLF.fasta\", \"/p300s/wangmx_group/xutingfeng/SIS/data/fasta/single/SRnase.fasta\"]\n",
    "\n",
    "embedding_tsne_df_List = []\n",
    "\n",
    "\n",
    "for filePath in filePathList:\n",
    "    for embedder_name in embedder_dict.keys():\n",
    "        embedder =embedder_dict[embedder_name]\n",
    "\n",
    "        df = pd.DataFrame([[i.name,str(i.seq)] for i in SeqIO.parse(filePath, \"fasta\")], columns = [\"name\", \"seq\"])\n",
    "\n",
    "        # Generate embeddings for heay and light CDR3 AA sequences\n",
    "        embeddings = [embedder.reduce_per_protein(embedding) for embedding in embedder.embed_many(df[\"seq\"])]\n",
    "\n",
    "        o = pd.DataFrame([df[\"name\"], pd.Series(embeddings, name=\"embedding\")]).T\n",
    "        o[\"embedderName\"] = embedder_name\n",
    "        embedding_tsne_df_List.append(o)\n",
    "        \n",
    "\n",
    "    # options = {\n",
    "    #     'min_dist': .1,\n",
    "    #     'spread': 8,\n",
    "    #     'n_neighbors': 160,\n",
    "    #     'metric': 'euclidean',\n",
    "    #     'n_components': 2,\n",
    "    #     'random_state': 10\n",
    "    # }\n",
    "\n",
    "        # options = {\n",
    "        #     'n_components': 2,\n",
    "        #     \"n_jobs\":10\n",
    "        # }\n",
    "\n",
    "        # embedding_tsne = tsne_reduce(embeddings, **options)\n",
    "        # embedding_tsne_df =  pd.DataFrame(embedding_tsne, columns=[\"component_0\", \"component_1\"])\n",
    "\n",
    "        # embedding_tsne_df[\"label\"] =  df[\"name\"]\n",
    "        # embedding_tsne_df_List.append(embedding_tsne_df)\n",
    "\n",
    "\n",
    "\n",
    "# sns.scatterplot(data = embedding_tsne_df[embedding_tsne_df[\"label\"].isin([f\"SLF{i}\" for i in range(1, 6)])], x= \"component_0\", y =\"component_1\", hue=\"label\")"
   ]
  },
  {
   "cell_type": "code",
   "execution_count": null,
   "metadata": {},
   "outputs": [],
   "source": [
    "data_embedding = pd.concat(embedding_tsne_df_List)"
   ]
  },
  {
   "cell_type": "code",
   "execution_count": null,
   "metadata": {},
   "outputs": [],
   "source": [
    "data_embedding"
   ]
  },
  {
   "cell_type": "code",
   "execution_count": null,
   "metadata": {},
   "outputs": [],
   "source": [
    "def func(x):\n",
    "    if \"SLF\" in x:\n",
    "        return re.findall(r\"SLF\\d+\", x)[0]\n",
    "    if \"RNase\" in x:\n",
    "        return x \n",
    "\n",
    "\n",
    "data_embedding[\"label\"] = data_embedding[\"name\"].apply(func)\n"
   ]
  },
  {
   "cell_type": "code",
   "execution_count": null,
   "metadata": {},
   "outputs": [],
   "source": [
    "options = {\n",
    "    'n_components': 2,\n",
    "    \"n_jobs\":10\n",
    "}\n",
    "\n",
    "embedding_tsne = tsne_reduce(data_embedding[\"embedding\"].to_list(), **options)\n",
    "embedding_tsne_df =  pd.DataFrame(embedding_tsne, columns=[\"component_0\", \"component_1\"])\n",
    "    \n",
    "data_embedding = pd.concat([data_embedding.reset_index(drop=True), embedding_tsne_df], axis=1)"
   ]
  },
  {
   "cell_type": "code",
   "execution_count": null,
   "metadata": {},
   "outputs": [],
   "source": [
    "fig, axes = plt.subplots(1, 2,figsize=(20, 10))\n",
    "axes = axes.flatten()\n",
    "for embedder_name,ax in zip(data_embedding[\"embedderName\"].unique(), axes):\n",
    "    data_embedde_plt = data_embedding[data_embedding[\"embedderName\"] == embedder_name]\n",
    "\n",
    "    sns.scatterplot(data = data_embedde_plt[data_embedde_plt[\"label\"].isin([f\"SLF{i}\" for i in range(1, 6)])], x= \"component_0\", y =\"component_1\", hue=\"label\", ax = ax )\n",
    "    sns.scatterplot(data = data_embedde_plt[data_embedde_plt[\"label\"].isin([f\"S{i}-RNase\" for i in range(1,20)])], x= \"component_0\", y =\"component_1\", hue=\"label\", marker=\"*\", s=100, ax = ax)\n",
    "    ax.set_title(f\"{embedder_name}\")\n",
    "\n",
    "# sns.scatterplot(data_embedde_plt = slf_embedding_tsne_df[slf_embedding_tsne_df[\"label\"].isin([f\"SLF{i}\" for i in range(1, 6)])], x= \"component_0\", y =\"component_1\", hue=\"label\")\n",
    "# data_embedde_plt[data_embedde_plt[\"label\"].isin([*[f\"S{i}-RNase\" for i in range(1,20)], *[f\"SLF{i}\" for i in range(1, 6)]])]"
   ]
  },
  {
   "cell_type": "code",
   "execution_count": null,
   "metadata": {},
   "outputs": [],
   "source": [
    "SLF_embedding = data_embedding[data_embedding[\"name\"].apply(lambda x: \"SLF\" in x)].loc[:, [\"name\", \"embedding\", \"embedderName\"]].rename(columns = {\"embedding\":\"SLF_embedding\"})\n",
    "RNase_embedding = data_embedding[data_embedding[\"name\"].apply(lambda x: \"RNase\" in x)].loc[:, [\"name\", \"embedding\", \"embedderName\"]].rename(columns = {\"embedding\":\"RNase_embedding\"})\n",
    "\n",
    "\n"
   ]
  },
  {
   "cell_type": "code",
   "execution_count": null,
   "metadata": {},
   "outputs": [],
   "source": [
    "total = pd.read_csv(\"/p300s/wangmx_group/xutingfeng/SIS/data/total_haplotype_combination_data.csv\")\n",
    "total"
   ]
  },
  {
   "cell_type": "code",
   "execution_count": null,
   "metadata": {},
   "outputs": [],
   "source": [
    "total_embedding = total.merge(SLF_embedding, left_on=\"SLF\", right_on=\"name\", how=\"left\").drop(\"name\", axis=1).merge(RNase_embedding, left_on=[\"SRnase\", \"embedderName\"], right_on=[\"name\", \"embedderName\"], how=\"left\").drop(\"name\", axis=1)\n",
    "\n",
    "total_embedding"
   ]
  },
  {
   "cell_type": "code",
   "execution_count": null,
   "metadata": {},
   "outputs": [],
   "source": [
    "\n",
    "\n",
    "# total = pd.read_csv(\"/p300s/wangmx_group/xutingfeng/SIS/data/total_data.csv\")\n",
    "# total = total[total[\"label\"] != -1]\n",
    "\n",
    "# for i in [\"SLF_Seq\", \"SRnase_Seq\"]:\n",
    "\n",
    "#     embeddings = [embedder.reduce_per_protein(embedding) for embedding in embedder.embed_many(total[i])]\n",
    "\n",
    "#     total[i] = pd.Series(embeddings)\n",
    "    "
   ]
  },
  {
   "cell_type": "code",
   "execution_count": null,
   "metadata": {},
   "outputs": [],
   "source": [
    "def func(x):\n",
    "    x[\"SLF_RNase_concat\"] = np.concatenate([x[\"SLF_embedding\"], x[\"RNase_embedding\"]])\n",
    "    x[\"SLF_RNase_mean\"] = np.stack([x[\"SLF_embedding\"], x[\"RNase_embedding\"]], axis=1).mean(axis=1)\n",
    "    return x \n",
    "\n",
    "total_inter = total_embedding.apply(func, axis=1)\n",
    "total_inter"
   ]
  },
  {
   "cell_type": "code",
   "execution_count": null,
   "metadata": {},
   "outputs": [],
   "source": [
    "test_data = total_inter[total_inter[\"embedderName\"] == \"SeqVec\"][\"SLF_RNase_concat\"].to_list()\n",
    "\n"
   ]
  },
  {
   "cell_type": "code",
   "execution_count": null,
   "metadata": {},
   "outputs": [],
   "source": [
    "\n",
    "options = {\n",
    "    'n_components': 2,\n",
    "    \"n_jobs\":10\n",
    "}\n",
    "\n",
    "\n",
    "embedder_res = {}\n",
    "for embedderName, embedder_df in total_inter.groupby(\"embedderName\"):\n",
    "    \n",
    "    res = []\n",
    "    for col in [\"SLF_RNase_concat\", \"SLF_RNase_mean\"]:\n",
    "        embedding_tsne = tsne_reduce(embedder_df[col].to_list(), **options)\n",
    "\n",
    "        embedding_tsne_df =  pd.DataFrame(embedding_tsne, columns=[\"component_0\", \"component_1\"])\n",
    "        embedding_tsne_df[\"name\"] =  embedder_df[\"SLF\"] + \"_\" + embedder_df[\"SRnase\"]\n",
    "        embedding_tsne_df[\"label\"] =  embedder_df[\"label\"]\n",
    "\n",
    "        res.append(embedding_tsne_df)\n",
    "    embedder_res[embedderName] = res\n",
    "\n",
    "    "
   ]
  },
  {
   "cell_type": "code",
   "execution_count": null,
   "metadata": {},
   "outputs": [],
   "source": [
    "embedding_tsne.shape"
   ]
  },
  {
   "cell_type": "code",
   "execution_count": null,
   "metadata": {},
   "outputs": [],
   "source": [
    "import matplotlib.pyplot as plt \n",
    "\n",
    "res = embedder_res[\"ProtTansBertBFD\"]\n",
    "fig, axes = plt.subplots(1, 2, figsize=(10, 5))\n",
    "axes = axes.flatten()\n",
    "\n",
    "for idx,(name, ax )in enumerate(zip([\"SLF_RNase_concat\", \"SLF_RNase_mean\"], axes)):\n",
    "    sns.scatterplot(data =res[idx], x= \"component_0\", y =\"component_1\", hue=\"label\", ax = ax )\n",
    "    ax.set_title(f\"{name}\") "
   ]
  },
  {
   "cell_type": "code",
   "execution_count": null,
   "metadata": {},
   "outputs": [],
   "source": [
    "res[0]"
   ]
  },
  {
   "cell_type": "code",
   "execution_count": null,
   "metadata": {},
   "outputs": [],
   "source": [
    "for i in res:\n",
    "    print(i[\"name\"])\n",
    "    i[\"SLF_name\"] = i[\"name\"].apply(lambda x: re.findall(r\"SLF\\d+\", x)[0])\n",
    "    i[\"RNase_name\"] = i[\"name\"].apply(lambda x: re.findall(r\"S\\d+-RNase\", x)[0])\n",
    "    #  data[data[\"label\"].isin([f\"S{i}-RNase\" for i in range(1,20)])]"
   ]
  },
  {
   "cell_type": "code",
   "execution_count": null,
   "metadata": {},
   "outputs": [],
   "source": [
    "fig, axes = plt.subplots(1, 2, figsize=(10, 5))\n",
    "axes = axes.flatten()\n",
    "\n",
    "for idx,(name, ax )in enumerate(zip([\"SLF_RNase_concat\", \"SLF_RNase_mean\"], axes)):\n",
    "    sns.scatterplot(data =res[idx], x= \"component_0\", y =\"component_1\", hue=\"SLF_name\", ax = ax )\n",
    "    ax.set_title(f\"{name}\")"
   ]
  },
  {
   "cell_type": "code",
   "execution_count": null,
   "metadata": {},
   "outputs": [],
   "source": [
    "fig, axes = plt.subplots(1, 2, figsize=(10, 5))\n",
    "axes = axes.flatten()\n",
    "\n",
    "for idx,(name, ax )in enumerate(zip([\"SLF_RNase_concat\", \"SLF_RNase_mean\"], axes)):\n",
    "    sns.scatterplot(data =res[idx], x= \"component_0\", y =\"component_1\", hue=\"RNase_name\", ax = ax )\n",
    "    ax.set_title(f\"{name}\")"
   ]
  },
  {
   "cell_type": "code",
   "execution_count": null,
   "metadata": {},
   "outputs": [],
   "source": [
    "t = res[0]\n",
    "fig, ax = plt.subplots(figsize=(20, 20))\n",
    "sns.scatterplot(data =t, x= \"component_0\", y =\"component_1\", hue=\"label\", ax =ax)\n",
    "\n",
    "\n",
    "\n",
    "\n",
    "# for _, df in t.iterrows():\n",
    "#     x= df[\"component_0\"]\n",
    "#     y = df[\"component_1\"]\n",
    "#     s = df[\"name\"] + \"_\" + str(df[\"label\"])\n",
    "#     ax.annotate(text = s,xy=(x,y), xycoords='data')\n",
    "    \n",
    "# ax.set_xlim(-100, 50)\n",
    "# ax.set_ylim(70, 120)\n",
    "# plt.xlim(-53, -45)\n",
    "# plt.ylim(-5, 10)"
   ]
  },
  {
   "cell_type": "code",
   "execution_count": null,
   "metadata": {},
   "outputs": [],
   "source": [
    "t"
   ]
  },
  {
   "cell_type": "code",
   "execution_count": null,
   "metadata": {},
   "outputs": [],
   "source": []
  },
  {
   "cell_type": "code",
   "execution_count": null,
   "metadata": {},
   "outputs": [],
   "source": []
  }
 ],
 "metadata": {
  "kernelspec": {
   "display_name": "esm",
   "language": "python",
   "name": "python3"
  },
  "language_info": {
   "codemirror_mode": {
    "name": "ipython",
    "version": 3
   },
   "file_extension": ".py",
   "mimetype": "text/x-python",
   "name": "python",
   "nbconvert_exporter": "python",
   "pygments_lexer": "ipython3",
   "version": "3.8.16"
  },
  "orig_nbformat": 4
 },
 "nbformat": 4,
 "nbformat_minor": 2
}

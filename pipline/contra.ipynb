{
 "cells": [
  {
   "cell_type": "code",
   "execution_count": 1,
   "metadata": {},
   "outputs": [
    {
     "name": "stdout",
     "output_type": "stream",
     "text": [
      "['/p300s/wangmx_group/xutingfeng/project_development/mmodel/pipline', '/p300s/wangmx_group/xutingfeng/SIS', '/p300s/wangmx_group/xutingfeng/statistic/proture', '/p300s/wangmx_group/xutingfeng/project_development/mmodel/pipline', '/xtdisk/xueyb_group/xutingfeng/Anaconda/envs/torch/lib/python310.zip', '/xtdisk/xueyb_group/xutingfeng/Anaconda/envs/torch/lib/python3.10', '/xtdisk/xueyb_group/xutingfeng/Anaconda/envs/torch/lib/python3.10/lib-dynload', '', '/xtdisk/xueyb_group/xutingfeng/Anaconda/envs/torch/lib/python3.10/site-packages', '/xtdisk/xueyb_group/xutingfeng/Anaconda/envs/torch/lib/python3.10/site-packages/PyYAML-6.0-py3.10-linux-x86_64.egg', '/xtdisk/xueyb_group/xutingfeng/Anaconda/envs/torch/lib/python3.10/site-packages/huggingface_hub-0.8.1-py3.8.egg', '/xtdisk/xueyb_group/xutingfeng/Anaconda/envs/torch/lib/python3.10/site-packages/sacremoses-0.0.43-py3.8.egg', '../']\n"
     ]
    }
   ],
   "source": [
    "import sys\n",
    "import os\n",
    "\n",
    "sys.path.append(\"../\")\n",
    "print(sys.path)\n"
   ]
  },
  {
   "cell_type": "code",
   "execution_count": 2,
   "metadata": {},
   "outputs": [],
   "source": [
    "import torch \n",
    "import pandas as pd \n",
    "from tqdm import tqdm\n"
   ]
  },
  {
   "cell_type": "code",
   "execution_count": null,
   "metadata": {},
   "outputs": [],
   "source": []
  },
  {
   "attachments": {},
   "cell_type": "markdown",
   "metadata": {},
   "source": [
    "## 读取数据集"
   ]
  },
  {
   "cell_type": "code",
   "execution_count": 4,
   "metadata": {},
   "outputs": [
    {
     "name": "stderr",
     "output_type": "stream",
     "text": [
      "37it [00:00, 377.89it/s]\n"
     ]
    }
   ],
   "source": [
    "#预先计算各个组合之间的距离\n",
    "from mmodel.distance import compute_esm_distance\n",
    "compute_esm_distance('dataset')"
   ]
  },
  {
   "cell_type": "code",
   "execution_count": 8,
   "metadata": {},
   "outputs": [
    {
     "data": {
      "text/plain": [
       "{0: ['S11-SLF1_S7-RNase',\n",
       "  'S11-SLF2_S17-RNase',\n",
       "  'S9-SLF1_S5-RNase',\n",
       "  'S11-SLF2_S5-RNase',\n",
       "  'S11-SLF1_S5-RNase',\n",
       "  'S5-SLF1_S7-RNase',\n",
       "  'S9-SLF1_S7-RNase',\n",
       "  'S11-SLF1_S9-RNase',\n",
       "  'S11-SLF2_S7-RNase',\n",
       "  'S11-SLF3_S17-RNase',\n",
       "  'S7-SLF1_S5-RNase',\n",
       "  'S7-SLF1_S11-RNase',\n",
       "  'S7-SLF2_S5-RNase',\n",
       "  'S5-SLF2_S17-RNase',\n",
       "  'S5-SLF2_S7-RNase',\n",
       "  'S7-SLF3_S11-RNase',\n",
       "  'S7-SLF3_S17-RNase',\n",
       "  'S9-SLF1_S11-RNase',\n",
       "  'S11-SLF3_S5-RNase',\n",
       "  'S7-SLF2_S17-RNase',\n",
       "  'S7-SLF3_S9-RNase',\n",
       "  'S11-SLF3_S9-RNase',\n",
       "  'S5-SLF1_S11-RNase',\n",
       "  'S7-SLF3_S5-RNase'],\n",
       " 1: ['S11-SLF2_S9-RNase',\n",
       "  'S9-SLF1_S3-RNase',\n",
       "  'S11-SLF1_S17-RNase',\n",
       "  'S5-SLF1_S9-RNase',\n",
       "  'S7-SLF1_S9-RNase',\n",
       "  'S11-SLF3_S7-RNase',\n",
       "  'S7-SLF1_S17-RNase',\n",
       "  'S5-SLF2_S11-RNase',\n",
       "  'S7-SLF2_S9-RNase',\n",
       "  'S9-SLF1_S17-RNase',\n",
       "  'S5-SLF2_S9-RNase',\n",
       "  'S7-SLF2_S11-RNase',\n",
       "  'S5-SLF1_S17-RNase']}"
      ]
     },
     "execution_count": 8,
     "metadata": {},
     "output_type": "execute_result"
    }
   ],
   "source": [
    "#读取标签数据\n",
    "from mmodel.utils import get_label_name_dict\n",
    "label_name_dict = get_label_name_dict(\"../data/dataset.csv\")\n",
    "label_name_dict"
   ]
  },
  {
   "cell_type": "code",
   "execution_count": null,
   "metadata": {},
   "outputs": [],
   "source": []
  }
 ],
 "metadata": {
  "kernelspec": {
   "display_name": "clean",
   "language": "python",
   "name": "python3"
  },
  "language_info": {
   "codemirror_mode": {
    "name": "ipython",
    "version": 3
   },
   "file_extension": ".py",
   "mimetype": "text/x-python",
   "name": "python",
   "nbconvert_exporter": "python",
   "pygments_lexer": "ipython3",
   "version": "3.10.4"
  },
  "orig_nbformat": 4
 },
 "nbformat": 4,
 "nbformat_minor": 2
}

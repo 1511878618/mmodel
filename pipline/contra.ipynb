{
 "cells": [
  {
   "cell_type": "code",
   "execution_count": 1,
   "metadata": {},
   "outputs": [
    {
     "name": "stdout",
     "output_type": "stream",
     "text": [
      "['/p300s/wangmx_group/xutingfeng/project_development/mmodel/pipline', '/p300s/wangmx_group/xutingfeng/SIS', '/p300s/wangmx_group/xutingfeng/statistic/proture', '/p300s/wangmx_group/xutingfeng/project_development/mmodel/pipline', '/xtdisk/xueyb_group/xutingfeng/Anaconda/envs/torch/lib/python310.zip', '/xtdisk/xueyb_group/xutingfeng/Anaconda/envs/torch/lib/python3.10', '/xtdisk/xueyb_group/xutingfeng/Anaconda/envs/torch/lib/python3.10/lib-dynload', '', '/xtdisk/xueyb_group/xutingfeng/Anaconda/envs/torch/lib/python3.10/site-packages', '/xtdisk/xueyb_group/xutingfeng/Anaconda/envs/torch/lib/python3.10/site-packages/PyYAML-6.0-py3.10-linux-x86_64.egg', '/xtdisk/xueyb_group/xutingfeng/Anaconda/envs/torch/lib/python3.10/site-packages/huggingface_hub-0.8.1-py3.8.egg', '/xtdisk/xueyb_group/xutingfeng/Anaconda/envs/torch/lib/python3.10/site-packages/sacremoses-0.0.43-py3.8.egg', '../']\n"
     ]
    }
   ],
   "source": [
    "import sys\n",
    "import os \n",
    "\n",
    "\n",
    "sys.path.append(\"../\")\n",
    "print(sys.path)\n"
   ]
  },
  {
   "cell_type": "code",
   "execution_count": 2,
   "metadata": {},
   "outputs": [],
   "source": [
    "import torch \n",
    "import pandas as pd \n",
    "from tqdm import tqdm\n",
    "import pickle\n",
    "from mmodel.dataloader import get_dataloader\n",
    "\n",
    "\n",
    "    \n",
    "\n",
    "\n",
    " "
   ]
  },
  {
   "cell_type": "code",
   "execution_count": null,
   "metadata": {},
   "outputs": [],
   "source": []
  },
  {
   "attachments": {},
   "cell_type": "markdown",
   "metadata": {},
   "source": [
    "## 读取数据集"
   ]
  },
  {
   "cell_type": "code",
   "execution_count": 3,
   "metadata": {},
   "outputs": [],
   "source": [
    "dataname=\"dataset\"  # 数据集需要保存在../data/dataname.csv"
   ]
  },
  {
   "cell_type": "code",
   "execution_count": 4,
   "metadata": {},
   "outputs": [],
   "source": [
    "from mmodel.utils import csv_to_fusion_embedding, ensure_dirs\n",
    "# from bio_embeddings.embed import ESM1bEmbedder\n",
    "\n",
    "# embedder = ESM1bEmbedder()\n",
    "# csv_to_fusion_embedding(csv_path, embedder, seq_col=[\"SLF_seq\", \"RNase_seq\"], name_col=\"name\", savedir=\"../data/esm_data/\")"
   ]
  },
  {
   "cell_type": "code",
   "execution_count": 5,
   "metadata": {},
   "outputs": [],
   "source": [
    "#预先计算各个组合之间的距离\n",
    "\n",
    "\n",
    "# from mmodel.distance import compute_emb_distance\n",
    "# compute_emb_distance(dataname)"
   ]
  },
  {
   "cell_type": "code",
   "execution_count": 6,
   "metadata": {},
   "outputs": [],
   "source": [
    "#读取标签数据\n",
    "from mmodel.utils import get_label_name_dict\n",
    "label_name_dict = get_label_name_dict(f\"../data/{dataname}.csv\")\n",
    "\n",
    "use_cuda = torch.cuda.is_available()\n",
    "device = torch.device(\"cuda:0\" if use_cuda else \"cpu\")\n",
    "dtype = torch.float32\n"
   ]
  },
  {
   "cell_type": "code",
   "execution_count": 7,
   "metadata": {},
   "outputs": [
    {
     "name": "stdout",
     "output_type": "stream",
     "text": [
      "device used: cuda:0 | dtype used:  torch.float32\n"
     ]
    }
   ],
   "source": [
    "use_cuda = torch.cuda.is_available()\n",
    "device = torch.device(\"cuda:0\" if use_cuda else \"cpu\")\n",
    "dtype = torch.float32\n",
    "print('device used:', device, '| dtype used: ',\n",
    "          dtype,)"
   ]
  },
  {
   "cell_type": "code",
   "execution_count": 8,
   "metadata": {},
   "outputs": [],
   "source": [
    "esm_emb = pickle.load(\n",
    "    open('../data/distance_map/' +  dataname+ '_emb.pkl',\n",
    "            'rb')).to(device=device, dtype=dtype)\n",
    "dist_map = pickle.load(open('../data/distance_map/' + \\\n",
    "    dataname + '.pkl', 'rb')) "
   ]
  },
  {
   "cell_type": "code",
   "execution_count": 9,
   "metadata": {},
   "outputs": [
    {
     "data": {
      "text/plain": [
       "torch.Size([37, 1280])"
      ]
     },
     "execution_count": 9,
     "metadata": {},
     "output_type": "execute_result"
    }
   ],
   "source": [
    "esm_emb.shape"
   ]
  },
  {
   "cell_type": "code",
   "execution_count": 10,
   "metadata": {},
   "outputs": [
    {
     "data": {
      "text/plain": [
       "{'S11-SLF1_S7-RNase': [0],\n",
       " 'S11-SLF2_S17-RNase': [0],\n",
       " 'S9-SLF1_S5-RNase': [0],\n",
       " 'S11-SLF2_S5-RNase': [0],\n",
       " 'S11-SLF1_S5-RNase': [0],\n",
       " 'S5-SLF1_S7-RNase': [0],\n",
       " 'S9-SLF1_S7-RNase': [0],\n",
       " 'S11-SLF1_S9-RNase': [0],\n",
       " 'S11-SLF2_S7-RNase': [0],\n",
       " 'S11-SLF3_S17-RNase': [0],\n",
       " 'S7-SLF1_S5-RNase': [0],\n",
       " 'S7-SLF1_S11-RNase': [0],\n",
       " 'S7-SLF2_S5-RNase': [0],\n",
       " 'S5-SLF2_S17-RNase': [0],\n",
       " 'S5-SLF2_S7-RNase': [0],\n",
       " 'S7-SLF3_S11-RNase': [0],\n",
       " 'S7-SLF3_S17-RNase': [0],\n",
       " 'S9-SLF1_S11-RNase': [0],\n",
       " 'S11-SLF3_S5-RNase': [0],\n",
       " 'S7-SLF2_S17-RNase': [0],\n",
       " 'S7-SLF3_S9-RNase': [0],\n",
       " 'S11-SLF3_S9-RNase': [0],\n",
       " 'S5-SLF1_S11-RNase': [0],\n",
       " 'S7-SLF3_S5-RNase': [0],\n",
       " 'S11-SLF2_S9-RNase': [1],\n",
       " 'S9-SLF1_S3-RNase': [1],\n",
       " 'S11-SLF1_S17-RNase': [1],\n",
       " 'S5-SLF1_S9-RNase': [1],\n",
       " 'S7-SLF1_S9-RNase': [1],\n",
       " 'S11-SLF3_S7-RNase': [1],\n",
       " 'S7-SLF1_S17-RNase': [1],\n",
       " 'S5-SLF2_S11-RNase': [1],\n",
       " 'S7-SLF2_S9-RNase': [1],\n",
       " 'S9-SLF1_S17-RNase': [1],\n",
       " 'S5-SLF2_S9-RNase': [1],\n",
       " 'S7-SLF2_S11-RNase': [1],\n",
       " 'S5-SLF1_S17-RNase': [1]}"
      ]
     },
     "execution_count": 10,
     "metadata": {},
     "output_type": "execute_result"
    }
   ],
   "source": [
    "from mmodel.utils import get_name_label_dict\n",
    "name_label_dict = get_name_label_dict(label_name_dict)\n",
    "name_label_dict"
   ]
  },
  {
   "cell_type": "code",
   "execution_count": 11,
   "metadata": {},
   "outputs": [],
   "source": [
    "dataloader = get_dataloader(dist_map, label_name_dict, name_label_dict, knn=3, params={\"batch_size\": 4, \"shuffle\": True, \"num_workers\": 4})"
   ]
  },
  {
   "cell_type": "code",
   "execution_count": 12,
   "metadata": {},
   "outputs": [],
   "source": [
    "from mmodel.model import LayerNormNet\n",
    "import torch.nn as nn \n",
    "from mmodel.distance import get_dist_map"
   ]
  },
  {
   "cell_type": "code",
   "execution_count": 13,
   "metadata": {},
   "outputs": [],
   "source": [
    "model = LayerNormNet(512, 128, device, dtype)\n",
    "optimizer = torch.optim.NAdam(model.parameters(), lr=5e-4, betas=(0.9, 0.999))\n",
    "criterion = nn.TripletMarginLoss(margin=1, reduction='mean')\n",
    "best_loss = float('inf')\n",
    "# train_loader = get_dataloader(dist_map, label_name_dict, name_label_dict, knn=1, params={\"batch_size\": 4, \"shuffle\": True, \"num_workers\": 4})"
   ]
  },
  {
   "cell_type": "code",
   "execution_count": 14,
   "metadata": {},
   "outputs": [],
   "source": [
    "import time\n",
    "def train(model, epoch, train_loader, optimizer,device, dtype, criterion, verbose=True):\n",
    "    model.train()\n",
    "    total_loss = 0\n",
    "    start_time = time.time()\n",
    "    for batch, x in enumerate(train_loader):\n",
    "        data = x[\"data\"]\n",
    "        optimizer.zero_grad()\n",
    "        anchor, positive, negative = data\n",
    "\n",
    "        anchor_out = model(anchor.to(device=device, dtype=dtype))\n",
    "        positive_out = model(positive.to(device=device, dtype=dtype))\n",
    "        negative_out = model(negative.to(device=device, dtype=dtype))\n",
    "\n",
    "        loss = criterion(anchor_out, positive_out, negative_out)\n",
    "        loss.backward()\n",
    "        optimizer.step()\n",
    "\n",
    "        total_loss += loss.item()\n",
    "        if verbose:\n",
    "            # lr = args.learning_rate\n",
    "            ms_per_batch = (time.time() - start_time) * 1000\n",
    "            cur_loss = total_loss \n",
    "            print(f'| epoch {epoch:3d} | {batch:5d}/{len(train_loader):5d} batches | '\n",
    "                  f'ms/batch {ms_per_batch:6.4f} | '\n",
    "                  f'loss {cur_loss:5.2f}')\n",
    "            start_time = time.time()\n",
    "\n",
    "    return total_loss/(batch + 1)"
   ]
  },
  {
   "cell_type": "code",
   "execution_count": null,
   "metadata": {},
   "outputs": [],
   "source": [
    "    "
   ]
  },
  {
   "cell_type": "code",
   "execution_count": 38,
   "metadata": {},
   "outputs": [
    {
     "name": "stdout",
     "output_type": "stream",
     "text": [
      "[[tensor([0, 1, 1, 0])], [tensor([0, 1, 1, 0])], [tensor([1, 0, 0, 1])]]\n",
      "[('S11-SLF2_S17-RNase', 'S5-SLF2_S9-RNase', 'S7-SLF1_S9-RNase', 'S11-SLF2_S5-RNase'), ('S9-SLF1_S11-RNase', 'S11-SLF1_S17-RNase', 'S11-SLF3_S7-RNase', 'S7-SLF3_S9-RNase'), ('S11-SLF2_S9-RNase', 'S11-SLF2_S17-RNase', 'S5-SLF1_S7-RNase', 'S11-SLF1_S17-RNase')]\n"
     ]
    }
   ],
   "source": [
    "\n",
    "\n",
    "for x in train_loader:\n",
    "    data = x[\"data\"]\n",
    "    anchor, positive, negative = data\n",
    "    model.eval()\n",
    "    print(x[\"label\"])\n",
    "    print(x[\"name\"])\n",
    "    anchor_out = model(anchor.to(device=device, dtype=dtype))\n",
    "    positive_out = model(positive.to(device=device, dtype=dtype))\n",
    "    negative_out = model(negative.to(device=device, dtype=dtype))\n",
    "\n",
    "    loss = criterion(anchor_out, positive_out, negative_out)\n",
    "\n",
    "    break "
   ]
  },
  {
   "cell_type": "code",
   "execution_count": 45,
   "metadata": {},
   "outputs": [
    {
     "data": {
      "text/plain": [
       "{'S11-SLF1_S7-RNase': 3.2907078,\n",
       " 'S11-SLF2_S17-RNase': 3.6872845,\n",
       " 'S9-SLF1_S5-RNase': 2.74231,\n",
       " 'S11-SLF2_S5-RNase': 3.9431725,\n",
       " 'S11-SLF1_S5-RNase': 3.2801723,\n",
       " 'S5-SLF1_S7-RNase': 3.450512,\n",
       " 'S9-SLF1_S7-RNase': 3.3924286,\n",
       " 'S11-SLF1_S9-RNase': 3.0447829,\n",
       " 'S11-SLF2_S7-RNase': 3.3185222,\n",
       " 'S11-SLF3_S17-RNase': 3.1505983,\n",
       " 'S7-SLF1_S5-RNase': 2.6660569,\n",
       " 'S7-SLF1_S11-RNase': 3.179361,\n",
       " 'S7-SLF2_S5-RNase': 2.6084452,\n",
       " 'S5-SLF2_S17-RNase': 2.9489636,\n",
       " 'S5-SLF2_S7-RNase': 3.5364053,\n",
       " 'S7-SLF3_S11-RNase': 3.560056,\n",
       " 'S7-SLF3_S17-RNase': 3.2211049,\n",
       " 'S9-SLF1_S11-RNase': 3.2781267,\n",
       " 'S11-SLF3_S5-RNase': 3.9077432,\n",
       " 'S7-SLF2_S17-RNase': 4.577488,\n",
       " 'S7-SLF3_S9-RNase': 2.891596,\n",
       " 'S11-SLF3_S9-RNase': 3.543517,\n",
       " 'S5-SLF1_S11-RNase': 3.4332876,\n",
       " 'S7-SLF3_S5-RNase': 3.346898,\n",
       " 'S11-SLF2_S9-RNase': 3.4710257,\n",
       " 'S9-SLF1_S3-RNase': 3.0483882,\n",
       " 'S11-SLF1_S17-RNase': 3.23649,\n",
       " 'S5-SLF1_S9-RNase': 3.1927392,\n",
       " 'S7-SLF1_S9-RNase': 3.4641724,\n",
       " 'S11-SLF3_S7-RNase': 2.8141613,\n",
       " 'S7-SLF1_S17-RNase': 3.522597,\n",
       " 'S5-SLF2_S11-RNase': 3.531317,\n",
       " 'S7-SLF2_S9-RNase': 3.4091809,\n",
       " 'S9-SLF1_S17-RNase': 3.5152628,\n",
       " 'S5-SLF2_S9-RNase': 0.0,\n",
       " 'S7-SLF2_S11-RNase': 3.3455474,\n",
       " 'S5-SLF1_S17-RNase': 3.8571315}"
      ]
     },
     "execution_count": 45,
     "metadata": {},
     "output_type": "execute_result"
    }
   ],
   "source": [
    "dist_map[x[\"name\"][0][1]]"
   ]
  },
  {
   "cell_type": "code",
   "execution_count": 16,
   "metadata": {},
   "outputs": [
    {
     "name": "stdout",
     "output_type": "stream",
     "text": [
      "[tensor([[-0.1084,  0.3086, -0.0951,  ...,  0.0418, -0.0823,  0.0501],\n",
      "        [-0.1119,  0.3013, -0.1301,  ...,  0.0394, -0.0765,  0.0421],\n",
      "        [-0.1233,  0.3232, -0.0857,  ...,  0.0340, -0.0907,  0.0539],\n",
      "        [-0.1089,  0.3007, -0.1211,  ...,  0.0341, -0.0746,  0.0534]]), tensor([[-0.1053,  0.2981, -0.1212,  ...,  0.0313, -0.0781,  0.0441],\n",
      "        [-0.0995,  0.2917, -0.1288,  ...,  0.0289, -0.0824,  0.0536],\n",
      "        [-0.1152,  0.3080, -0.1147,  ...,  0.0382, -0.0749,  0.0487],\n",
      "        [-0.1026,  0.2923, -0.1379,  ...,  0.0342, -0.0842,  0.0424]]), tensor([[-0.1119,  0.3013, -0.1301,  ...,  0.0394, -0.0765,  0.0421],\n",
      "        [-0.1089,  0.3007, -0.1211,  ...,  0.0341, -0.0746,  0.0534],\n",
      "        [-0.1225,  0.3040, -0.1189,  ...,  0.0414, -0.0863,  0.0425],\n",
      "        [-0.1113,  0.3004, -0.1306,  ...,  0.0397, -0.0773,  0.0444]])]\n",
      "4\n",
      "[[tensor([0, 1, 0, 0])], [tensor([0, 1, 0, 0])], [tensor([1, 0, 1, 1])]]\n"
     ]
    }
   ],
   "source": [
    "for x in train_loader:\n",
    "    print(x[\"data\"])\n",
    "    data =x[\"data\"]\n",
    "    anchor, positive, negative = data\n",
    "    print(len(anchor))\n",
    "    print(x[\"label\"])\n",
    "    break "
   ]
  },
  {
   "cell_type": "code",
   "execution_count": 63,
   "metadata": {},
   "outputs": [
    {
     "name": "stderr",
     "output_type": "stream",
     "text": [
      "  0%|          | 1/400 [00:00<03:09,  2.11it/s]"
     ]
    },
    {
     "name": "stdout",
     "output_type": "stream",
     "text": [
      "---------------------------------------------------------------------------\n",
      "| end of epoch   1 | time:  0.45s | training loss 1.0199\n",
      "---------------------------------------------------------------------------\n"
     ]
    },
    {
     "name": "stderr",
     "output_type": "stream",
     "text": [
      "  0%|          | 2/400 [00:01<03:30,  1.89it/s]"
     ]
    },
    {
     "name": "stdout",
     "output_type": "stream",
     "text": [
      "---------------------------------------------------------------------------\n",
      "| end of epoch   2 | time:  0.53s | training loss 0.9788\n",
      "---------------------------------------------------------------------------\n"
     ]
    },
    {
     "name": "stderr",
     "output_type": "stream",
     "text": [
      "  1%|          | 3/400 [00:01<03:43,  1.78it/s]"
     ]
    },
    {
     "name": "stdout",
     "output_type": "stream",
     "text": [
      "---------------------------------------------------------------------------\n",
      "| end of epoch   3 | time:  0.58s | training loss 1.0797\n",
      "---------------------------------------------------------------------------\n"
     ]
    },
    {
     "name": "stderr",
     "output_type": "stream",
     "text": [
      "  1%|          | 4/400 [00:02<03:45,  1.75it/s]"
     ]
    },
    {
     "name": "stdout",
     "output_type": "stream",
     "text": [
      "---------------------------------------------------------------------------\n",
      "| end of epoch   4 | time:  0.55s | training loss 0.9998\n",
      "---------------------------------------------------------------------------\n"
     ]
    },
    {
     "name": "stderr",
     "output_type": "stream",
     "text": [
      "  1%|▏         | 5/400 [00:02<03:41,  1.78it/s]"
     ]
    },
    {
     "name": "stdout",
     "output_type": "stream",
     "text": [
      "---------------------------------------------------------------------------\n",
      "| end of epoch   5 | time:  0.51s | training loss 0.9693\n",
      "---------------------------------------------------------------------------\n"
     ]
    },
    {
     "name": "stderr",
     "output_type": "stream",
     "text": [
      "  2%|▏         | 6/400 [00:03<03:39,  1.80it/s]"
     ]
    },
    {
     "name": "stdout",
     "output_type": "stream",
     "text": [
      "---------------------------------------------------------------------------\n",
      "| end of epoch   6 | time:  0.51s | training loss 0.9567\n",
      "---------------------------------------------------------------------------\n"
     ]
    },
    {
     "name": "stderr",
     "output_type": "stream",
     "text": [
      "  2%|▏         | 7/400 [00:03<03:37,  1.81it/s]"
     ]
    },
    {
     "name": "stdout",
     "output_type": "stream",
     "text": [
      "---------------------------------------------------------------------------\n",
      "| end of epoch   7 | time:  0.51s | training loss 0.8763\n",
      "---------------------------------------------------------------------------\n"
     ]
    },
    {
     "name": "stderr",
     "output_type": "stream",
     "text": [
      "  2%|▏         | 8/400 [00:04<03:33,  1.84it/s]"
     ]
    },
    {
     "name": "stdout",
     "output_type": "stream",
     "text": [
      "---------------------------------------------------------------------------\n",
      "| end of epoch   8 | time:  0.49s | training loss 0.9516\n",
      "---------------------------------------------------------------------------\n"
     ]
    },
    {
     "name": "stderr",
     "output_type": "stream",
     "text": [
      "  2%|▏         | 9/400 [00:04<03:26,  1.89it/s]"
     ]
    },
    {
     "name": "stdout",
     "output_type": "stream",
     "text": [
      "---------------------------------------------------------------------------\n",
      "| end of epoch   9 | time:  0.47s | training loss 1.1854\n",
      "---------------------------------------------------------------------------\n"
     ]
    },
    {
     "name": "stderr",
     "output_type": "stream",
     "text": [
      "  2%|▎         | 10/400 [00:05<03:32,  1.83it/s]"
     ]
    },
    {
     "name": "stdout",
     "output_type": "stream",
     "text": [
      "---------------------------------------------------------------------------\n",
      "| end of epoch  10 | time:  0.55s | training loss 1.1638\n",
      "---------------------------------------------------------------------------\n"
     ]
    },
    {
     "name": "stderr",
     "output_type": "stream",
     "text": [
      "  3%|▎         | 11/400 [00:06<03:30,  1.84it/s]"
     ]
    },
    {
     "name": "stdout",
     "output_type": "stream",
     "text": [
      "---------------------------------------------------------------------------\n",
      "| end of epoch  11 | time:  0.51s | training loss 1.0804\n",
      "---------------------------------------------------------------------------\n"
     ]
    },
    {
     "name": "stderr",
     "output_type": "stream",
     "text": [
      "  3%|▎         | 12/400 [00:06<03:34,  1.81it/s]"
     ]
    },
    {
     "name": "stdout",
     "output_type": "stream",
     "text": [
      "---------------------------------------------------------------------------\n",
      "| end of epoch  12 | time:  0.55s | training loss 0.8276\n",
      "---------------------------------------------------------------------------\n"
     ]
    },
    {
     "name": "stderr",
     "output_type": "stream",
     "text": [
      "  3%|▎         | 13/400 [00:07<03:28,  1.86it/s]"
     ]
    },
    {
     "name": "stdout",
     "output_type": "stream",
     "text": [
      "---------------------------------------------------------------------------\n",
      "| end of epoch  13 | time:  0.47s | training loss 1.0171\n",
      "---------------------------------------------------------------------------\n"
     ]
    },
    {
     "name": "stderr",
     "output_type": "stream",
     "text": [
      "  4%|▎         | 14/400 [00:07<03:43,  1.73it/s]"
     ]
    },
    {
     "name": "stdout",
     "output_type": "stream",
     "text": [
      "---------------------------------------------------------------------------\n",
      "| end of epoch  14 | time:  0.63s | training loss 0.9335\n",
      "---------------------------------------------------------------------------\n"
     ]
    },
    {
     "name": "stderr",
     "output_type": "stream",
     "text": [
      "  4%|▍         | 15/400 [00:08<03:43,  1.72it/s]"
     ]
    },
    {
     "name": "stdout",
     "output_type": "stream",
     "text": [
      "---------------------------------------------------------------------------\n",
      "| end of epoch  15 | time:  0.54s | training loss 0.9994\n",
      "---------------------------------------------------------------------------\n"
     ]
    },
    {
     "name": "stderr",
     "output_type": "stream",
     "text": [
      "  4%|▍         | 16/400 [00:08<03:48,  1.68it/s]"
     ]
    },
    {
     "name": "stdout",
     "output_type": "stream",
     "text": [
      "---------------------------------------------------------------------------\n",
      "| end of epoch  16 | time:  0.60s | training loss 0.9462\n",
      "---------------------------------------------------------------------------\n"
     ]
    },
    {
     "name": "stderr",
     "output_type": "stream",
     "text": [
      "  4%|▍         | 17/400 [00:09<03:52,  1.65it/s]"
     ]
    },
    {
     "name": "stdout",
     "output_type": "stream",
     "text": [
      "---------------------------------------------------------------------------\n",
      "| end of epoch  17 | time:  0.61s | training loss 0.9550\n",
      "---------------------------------------------------------------------------\n"
     ]
    },
    {
     "name": "stderr",
     "output_type": "stream",
     "text": [
      "  4%|▍         | 18/400 [00:10<03:43,  1.71it/s]"
     ]
    },
    {
     "name": "stdout",
     "output_type": "stream",
     "text": [
      "---------------------------------------------------------------------------\n",
      "| end of epoch  18 | time:  0.50s | training loss 0.9930\n",
      "---------------------------------------------------------------------------\n"
     ]
    },
    {
     "name": "stderr",
     "output_type": "stream",
     "text": [
      "  5%|▍         | 19/400 [00:10<03:58,  1.60it/s]"
     ]
    },
    {
     "name": "stdout",
     "output_type": "stream",
     "text": [
      "---------------------------------------------------------------------------\n",
      "| end of epoch  19 | time:  0.68s | training loss 0.9384\n",
      "---------------------------------------------------------------------------\n"
     ]
    },
    {
     "name": "stderr",
     "output_type": "stream",
     "text": [
      "  5%|▌         | 20/400 [00:11<03:51,  1.64it/s]"
     ]
    },
    {
     "name": "stdout",
     "output_type": "stream",
     "text": [
      "---------------------------------------------------------------------------\n",
      "| end of epoch  20 | time:  0.54s | training loss 1.1203\n",
      "---------------------------------------------------------------------------\n"
     ]
    },
    {
     "name": "stderr",
     "output_type": "stream",
     "text": [
      "  5%|▌         | 21/400 [00:11<03:41,  1.71it/s]"
     ]
    },
    {
     "name": "stdout",
     "output_type": "stream",
     "text": [
      "---------------------------------------------------------------------------\n",
      "| end of epoch  21 | time:  0.50s | training loss 0.9781\n",
      "---------------------------------------------------------------------------\n"
     ]
    },
    {
     "name": "stderr",
     "output_type": "stream",
     "text": [
      "  6%|▌         | 22/400 [00:12<03:44,  1.69it/s]"
     ]
    },
    {
     "name": "stdout",
     "output_type": "stream",
     "text": [
      "---------------------------------------------------------------------------\n",
      "| end of epoch  22 | time:  0.57s | training loss 1.0152\n",
      "---------------------------------------------------------------------------\n"
     ]
    },
    {
     "name": "stderr",
     "output_type": "stream",
     "text": [
      "  6%|▌         | 23/400 [00:13<03:34,  1.76it/s]"
     ]
    },
    {
     "name": "stdout",
     "output_type": "stream",
     "text": [
      "---------------------------------------------------------------------------\n",
      "| end of epoch  23 | time:  0.48s | training loss 0.9540\n",
      "---------------------------------------------------------------------------\n"
     ]
    },
    {
     "name": "stderr",
     "output_type": "stream",
     "text": [
      "  6%|▌         | 24/400 [00:13<03:25,  1.83it/s]"
     ]
    },
    {
     "name": "stdout",
     "output_type": "stream",
     "text": [
      "---------------------------------------------------------------------------\n",
      "| end of epoch  24 | time:  0.47s | training loss 1.0267\n",
      "---------------------------------------------------------------------------\n"
     ]
    },
    {
     "name": "stderr",
     "output_type": "stream",
     "text": [
      "  6%|▋         | 25/400 [00:14<03:45,  1.67it/s]"
     ]
    },
    {
     "name": "stdout",
     "output_type": "stream",
     "text": [
      "---------------------------------------------------------------------------\n",
      "| end of epoch  25 | time:  0.69s | training loss 0.9582\n",
      "---------------------------------------------------------------------------\n"
     ]
    },
    {
     "name": "stderr",
     "output_type": "stream",
     "text": [
      "  6%|▋         | 26/400 [00:14<03:47,  1.64it/s]"
     ]
    },
    {
     "name": "stdout",
     "output_type": "stream",
     "text": [
      "---------------------------------------------------------------------------\n",
      "| end of epoch  26 | time:  0.60s | training loss 1.1048\n",
      "---------------------------------------------------------------------------\n"
     ]
    },
    {
     "name": "stderr",
     "output_type": "stream",
     "text": [
      "  7%|▋         | 27/400 [00:15<03:47,  1.64it/s]"
     ]
    },
    {
     "name": "stdout",
     "output_type": "stream",
     "text": [
      "---------------------------------------------------------------------------\n",
      "| end of epoch  27 | time:  0.58s | training loss 1.0706\n",
      "---------------------------------------------------------------------------\n"
     ]
    },
    {
     "name": "stderr",
     "output_type": "stream",
     "text": [
      "  7%|▋         | 28/400 [00:16<03:58,  1.56it/s]"
     ]
    },
    {
     "name": "stdout",
     "output_type": "stream",
     "text": [
      "---------------------------------------------------------------------------\n",
      "| end of epoch  28 | time:  0.68s | training loss 1.2431\n",
      "---------------------------------------------------------------------------\n"
     ]
    },
    {
     "name": "stderr",
     "output_type": "stream",
     "text": [
      "  7%|▋         | 29/400 [00:16<03:43,  1.66it/s]"
     ]
    },
    {
     "name": "stdout",
     "output_type": "stream",
     "text": [
      "---------------------------------------------------------------------------\n",
      "| end of epoch  29 | time:  0.49s | training loss 1.0374\n",
      "---------------------------------------------------------------------------\n"
     ]
    },
    {
     "name": "stderr",
     "output_type": "stream",
     "text": [
      "  8%|▊         | 30/400 [00:17<03:36,  1.71it/s]"
     ]
    },
    {
     "name": "stdout",
     "output_type": "stream",
     "text": [
      "---------------------------------------------------------------------------\n",
      "| end of epoch  30 | time:  0.51s | training loss 0.9777\n",
      "---------------------------------------------------------------------------\n"
     ]
    },
    {
     "name": "stderr",
     "output_type": "stream",
     "text": [
      "  8%|▊         | 31/400 [00:17<03:33,  1.73it/s]"
     ]
    },
    {
     "name": "stdout",
     "output_type": "stream",
     "text": [
      "---------------------------------------------------------------------------\n",
      "| end of epoch  31 | time:  0.53s | training loss 0.9803\n",
      "---------------------------------------------------------------------------\n"
     ]
    },
    {
     "name": "stderr",
     "output_type": "stream",
     "text": [
      "  8%|▊         | 32/400 [00:18<03:35,  1.71it/s]"
     ]
    },
    {
     "name": "stdout",
     "output_type": "stream",
     "text": [
      "---------------------------------------------------------------------------\n",
      "| end of epoch  32 | time:  0.57s | training loss 1.0846\n",
      "---------------------------------------------------------------------------\n"
     ]
    },
    {
     "name": "stderr",
     "output_type": "stream",
     "text": [
      "  8%|▊         | 33/400 [00:19<03:42,  1.65it/s]"
     ]
    },
    {
     "name": "stdout",
     "output_type": "stream",
     "text": [
      "---------------------------------------------------------------------------\n",
      "| end of epoch  33 | time:  0.61s | training loss 1.0227\n",
      "---------------------------------------------------------------------------\n"
     ]
    },
    {
     "name": "stderr",
     "output_type": "stream",
     "text": [
      "  8%|▊         | 34/400 [00:19<03:40,  1.66it/s]"
     ]
    },
    {
     "name": "stdout",
     "output_type": "stream",
     "text": [
      "---------------------------------------------------------------------------\n",
      "| end of epoch  34 | time:  0.57s | training loss 0.9586\n",
      "---------------------------------------------------------------------------\n"
     ]
    },
    {
     "name": "stderr",
     "output_type": "stream",
     "text": [
      "  9%|▉         | 35/400 [00:20<03:38,  1.67it/s]"
     ]
    },
    {
     "name": "stdout",
     "output_type": "stream",
     "text": [
      "---------------------------------------------------------------------------\n",
      "| end of epoch  35 | time:  0.55s | training loss 1.0827\n",
      "---------------------------------------------------------------------------\n"
     ]
    },
    {
     "name": "stderr",
     "output_type": "stream",
     "text": [
      "  9%|▉         | 36/400 [00:20<03:28,  1.74it/s]"
     ]
    },
    {
     "name": "stdout",
     "output_type": "stream",
     "text": [
      "---------------------------------------------------------------------------\n",
      "| end of epoch  36 | time:  0.49s | training loss 0.9739\n",
      "---------------------------------------------------------------------------\n"
     ]
    },
    {
     "name": "stderr",
     "output_type": "stream",
     "text": [
      "  9%|▉         | 37/400 [00:21<03:26,  1.76it/s]"
     ]
    },
    {
     "name": "stdout",
     "output_type": "stream",
     "text": [
      "---------------------------------------------------------------------------\n",
      "| end of epoch  37 | time:  0.53s | training loss 0.9587\n",
      "---------------------------------------------------------------------------\n"
     ]
    },
    {
     "name": "stderr",
     "output_type": "stream",
     "text": [
      " 10%|▉         | 38/400 [00:21<03:22,  1.78it/s]"
     ]
    },
    {
     "name": "stdout",
     "output_type": "stream",
     "text": [
      "---------------------------------------------------------------------------\n",
      "| end of epoch  38 | time:  0.51s | training loss 1.0146\n",
      "---------------------------------------------------------------------------\n"
     ]
    },
    {
     "name": "stderr",
     "output_type": "stream",
     "text": [
      " 10%|▉         | 39/400 [00:22<03:47,  1.59it/s]"
     ]
    },
    {
     "name": "stdout",
     "output_type": "stream",
     "text": [
      "---------------------------------------------------------------------------\n",
      "| end of epoch  39 | time:  0.76s | training loss 1.0167\n",
      "---------------------------------------------------------------------------\n"
     ]
    },
    {
     "name": "stderr",
     "output_type": "stream",
     "text": [
      " 10%|█         | 40/400 [00:23<03:40,  1.63it/s]"
     ]
    },
    {
     "name": "stdout",
     "output_type": "stream",
     "text": [
      "---------------------------------------------------------------------------\n",
      "| end of epoch  40 | time:  0.54s | training loss 0.9160\n",
      "---------------------------------------------------------------------------\n"
     ]
    },
    {
     "name": "stderr",
     "output_type": "stream",
     "text": [
      " 10%|█         | 41/400 [00:23<03:25,  1.75it/s]"
     ]
    },
    {
     "name": "stdout",
     "output_type": "stream",
     "text": [
      "---------------------------------------------------------------------------\n",
      "| end of epoch  41 | time:  0.46s | training loss 1.1324\n",
      "---------------------------------------------------------------------------\n"
     ]
    },
    {
     "name": "stderr",
     "output_type": "stream",
     "text": [
      " 10%|█         | 42/400 [00:24<03:20,  1.78it/s]"
     ]
    },
    {
     "name": "stdout",
     "output_type": "stream",
     "text": [
      "---------------------------------------------------------------------------\n",
      "| end of epoch  42 | time:  0.50s | training loss 1.0808\n",
      "---------------------------------------------------------------------------\n"
     ]
    },
    {
     "name": "stderr",
     "output_type": "stream",
     "text": [
      " 11%|█         | 43/400 [00:24<03:17,  1.81it/s]"
     ]
    },
    {
     "name": "stdout",
     "output_type": "stream",
     "text": [
      "---------------------------------------------------------------------------\n",
      "| end of epoch  43 | time:  0.51s | training loss 0.9959\n",
      "---------------------------------------------------------------------------\n"
     ]
    },
    {
     "name": "stderr",
     "output_type": "stream",
     "text": [
      " 11%|█         | 44/400 [00:25<03:16,  1.81it/s]"
     ]
    },
    {
     "name": "stdout",
     "output_type": "stream",
     "text": [
      "---------------------------------------------------------------------------\n",
      "| end of epoch  44 | time:  0.52s | training loss 1.1461\n",
      "---------------------------------------------------------------------------\n"
     ]
    },
    {
     "name": "stderr",
     "output_type": "stream",
     "text": [
      " 11%|█▏        | 45/400 [00:25<03:17,  1.79it/s]"
     ]
    },
    {
     "name": "stdout",
     "output_type": "stream",
     "text": [
      "---------------------------------------------------------------------------\n",
      "| end of epoch  45 | time:  0.53s | training loss 1.0674\n",
      "---------------------------------------------------------------------------\n"
     ]
    },
    {
     "name": "stderr",
     "output_type": "stream",
     "text": [
      " 12%|█▏        | 46/400 [00:26<03:21,  1.75it/s]"
     ]
    },
    {
     "name": "stdout",
     "output_type": "stream",
     "text": [
      "---------------------------------------------------------------------------\n",
      "| end of epoch  46 | time:  0.56s | training loss 1.0150\n",
      "---------------------------------------------------------------------------\n"
     ]
    },
    {
     "name": "stderr",
     "output_type": "stream",
     "text": [
      " 12%|█▏        | 47/400 [00:27<03:21,  1.75it/s]"
     ]
    },
    {
     "name": "stdout",
     "output_type": "stream",
     "text": [
      "---------------------------------------------------------------------------\n",
      "| end of epoch  47 | time:  0.54s | training loss 1.0483\n",
      "---------------------------------------------------------------------------\n"
     ]
    },
    {
     "name": "stderr",
     "output_type": "stream",
     "text": [
      " 12%|█▏        | 48/400 [00:27<03:19,  1.76it/s]"
     ]
    },
    {
     "name": "stdout",
     "output_type": "stream",
     "text": [
      "---------------------------------------------------------------------------\n",
      "| end of epoch  48 | time:  0.52s | training loss 0.8508\n",
      "---------------------------------------------------------------------------\n"
     ]
    },
    {
     "name": "stderr",
     "output_type": "stream",
     "text": [
      " 12%|█▏        | 49/400 [00:28<03:11,  1.83it/s]"
     ]
    },
    {
     "name": "stdout",
     "output_type": "stream",
     "text": [
      "---------------------------------------------------------------------------\n",
      "| end of epoch  49 | time:  0.47s | training loss 0.9741\n",
      "---------------------------------------------------------------------------\n"
     ]
    },
    {
     "name": "stderr",
     "output_type": "stream",
     "text": [
      " 12%|█▎        | 50/400 [00:28<03:13,  1.81it/s]"
     ]
    },
    {
     "name": "stdout",
     "output_type": "stream",
     "text": [
      "---------------------------------------------------------------------------\n",
      "| end of epoch  50 | time:  0.53s | training loss 1.0668\n",
      "---------------------------------------------------------------------------\n"
     ]
    },
    {
     "name": "stderr",
     "output_type": "stream",
     "text": [
      " 13%|█▎        | 51/400 [00:29<03:20,  1.74it/s]"
     ]
    },
    {
     "name": "stdout",
     "output_type": "stream",
     "text": [
      "---------------------------------------------------------------------------\n",
      "| end of epoch  51 | time:  0.59s | training loss 1.0481\n",
      "---------------------------------------------------------------------------\n"
     ]
    },
    {
     "name": "stderr",
     "output_type": "stream",
     "text": [
      " 13%|█▎        | 52/400 [00:29<03:16,  1.77it/s]"
     ]
    },
    {
     "name": "stdout",
     "output_type": "stream",
     "text": [
      "---------------------------------------------------------------------------\n",
      "| end of epoch  52 | time:  0.51s | training loss 0.9035\n",
      "---------------------------------------------------------------------------\n"
     ]
    },
    {
     "name": "stderr",
     "output_type": "stream",
     "text": [
      " 13%|█▎        | 53/400 [00:30<03:16,  1.77it/s]"
     ]
    },
    {
     "name": "stdout",
     "output_type": "stream",
     "text": [
      "---------------------------------------------------------------------------\n",
      "| end of epoch  53 | time:  0.53s | training loss 0.8615\n",
      "---------------------------------------------------------------------------\n"
     ]
    },
    {
     "name": "stderr",
     "output_type": "stream",
     "text": [
      " 14%|█▎        | 54/400 [00:31<03:18,  1.74it/s]"
     ]
    },
    {
     "name": "stdout",
     "output_type": "stream",
     "text": [
      "---------------------------------------------------------------------------\n",
      "| end of epoch  54 | time:  0.56s | training loss 0.8524\n",
      "---------------------------------------------------------------------------\n"
     ]
    },
    {
     "name": "stderr",
     "output_type": "stream",
     "text": [
      " 14%|█▍        | 55/400 [00:31<03:15,  1.77it/s]"
     ]
    },
    {
     "name": "stdout",
     "output_type": "stream",
     "text": [
      "---------------------------------------------------------------------------\n",
      "| end of epoch  55 | time:  0.51s | training loss 0.8372\n",
      "---------------------------------------------------------------------------\n"
     ]
    },
    {
     "name": "stderr",
     "output_type": "stream",
     "text": [
      " 14%|█▍        | 56/400 [00:32<03:14,  1.77it/s]"
     ]
    },
    {
     "name": "stdout",
     "output_type": "stream",
     "text": [
      "---------------------------------------------------------------------------\n",
      "| end of epoch  56 | time:  0.54s | training loss 0.9350\n",
      "---------------------------------------------------------------------------\n"
     ]
    },
    {
     "name": "stderr",
     "output_type": "stream",
     "text": [
      " 14%|█▍        | 57/400 [00:32<03:17,  1.74it/s]"
     ]
    },
    {
     "name": "stdout",
     "output_type": "stream",
     "text": [
      "---------------------------------------------------------------------------\n",
      "| end of epoch  57 | time:  0.56s | training loss 1.0948\n",
      "---------------------------------------------------------------------------\n"
     ]
    },
    {
     "name": "stderr",
     "output_type": "stream",
     "text": [
      " 14%|█▍        | 58/400 [00:33<03:17,  1.73it/s]"
     ]
    },
    {
     "name": "stdout",
     "output_type": "stream",
     "text": [
      "---------------------------------------------------------------------------\n",
      "| end of epoch  58 | time:  0.55s | training loss 0.9939\n",
      "---------------------------------------------------------------------------\n"
     ]
    },
    {
     "name": "stderr",
     "output_type": "stream",
     "text": [
      " 15%|█▍        | 59/400 [00:33<03:20,  1.70it/s]"
     ]
    },
    {
     "name": "stdout",
     "output_type": "stream",
     "text": [
      "---------------------------------------------------------------------------\n",
      "| end of epoch  59 | time:  0.57s | training loss 1.0468\n",
      "---------------------------------------------------------------------------\n"
     ]
    },
    {
     "name": "stderr",
     "output_type": "stream",
     "text": [
      " 15%|█▌        | 60/400 [00:34<03:24,  1.66it/s]"
     ]
    },
    {
     "name": "stdout",
     "output_type": "stream",
     "text": [
      "---------------------------------------------------------------------------\n",
      "| end of epoch  60 | time:  0.61s | training loss 0.9777\n",
      "---------------------------------------------------------------------------\n"
     ]
    },
    {
     "name": "stderr",
     "output_type": "stream",
     "text": [
      " 15%|█▌        | 61/400 [00:35<03:28,  1.63it/s]"
     ]
    },
    {
     "name": "stdout",
     "output_type": "stream",
     "text": [
      "---------------------------------------------------------------------------\n",
      "| end of epoch  61 | time:  0.60s | training loss 1.0691\n",
      "---------------------------------------------------------------------------\n"
     ]
    },
    {
     "name": "stderr",
     "output_type": "stream",
     "text": [
      " 16%|█▌        | 62/400 [00:36<03:41,  1.53it/s]"
     ]
    },
    {
     "name": "stdout",
     "output_type": "stream",
     "text": [
      "---------------------------------------------------------------------------\n",
      "| end of epoch  62 | time:  0.71s | training loss 0.9583\n",
      "---------------------------------------------------------------------------\n"
     ]
    },
    {
     "name": "stderr",
     "output_type": "stream",
     "text": [
      " 16%|█▌        | 63/400 [00:36<03:26,  1.63it/s]"
     ]
    },
    {
     "name": "stdout",
     "output_type": "stream",
     "text": [
      "---------------------------------------------------------------------------\n",
      "| end of epoch  63 | time:  0.48s | training loss 1.0183\n",
      "---------------------------------------------------------------------------\n"
     ]
    },
    {
     "name": "stderr",
     "output_type": "stream",
     "text": [
      " 16%|█▌        | 64/400 [00:37<03:15,  1.72it/s]"
     ]
    },
    {
     "name": "stdout",
     "output_type": "stream",
     "text": [
      "---------------------------------------------------------------------------\n",
      "| end of epoch  64 | time:  0.49s | training loss 1.0487\n",
      "---------------------------------------------------------------------------\n"
     ]
    },
    {
     "name": "stderr",
     "output_type": "stream",
     "text": [
      " 16%|█▋        | 65/400 [00:37<03:08,  1.78it/s]"
     ]
    },
    {
     "name": "stdout",
     "output_type": "stream",
     "text": [
      "---------------------------------------------------------------------------\n",
      "| end of epoch  65 | time:  0.49s | training loss 0.9706\n",
      "---------------------------------------------------------------------------\n"
     ]
    },
    {
     "name": "stderr",
     "output_type": "stream",
     "text": [
      " 16%|█▋        | 66/400 [00:38<03:04,  1.81it/s]"
     ]
    },
    {
     "name": "stdout",
     "output_type": "stream",
     "text": [
      "---------------------------------------------------------------------------\n",
      "| end of epoch  66 | time:  0.49s | training loss 1.0788\n",
      "---------------------------------------------------------------------------\n"
     ]
    },
    {
     "name": "stderr",
     "output_type": "stream",
     "text": [
      " 17%|█▋        | 67/400 [00:38<03:14,  1.71it/s]"
     ]
    },
    {
     "name": "stdout",
     "output_type": "stream",
     "text": [
      "---------------------------------------------------------------------------\n",
      "| end of epoch  67 | time:  0.62s | training loss 1.0452\n",
      "---------------------------------------------------------------------------\n"
     ]
    },
    {
     "name": "stderr",
     "output_type": "stream",
     "text": [
      " 17%|█▋        | 68/400 [00:39<03:11,  1.73it/s]"
     ]
    },
    {
     "name": "stdout",
     "output_type": "stream",
     "text": [
      "---------------------------------------------------------------------------\n",
      "| end of epoch  68 | time:  0.52s | training loss 0.8960\n",
      "---------------------------------------------------------------------------\n"
     ]
    },
    {
     "name": "stderr",
     "output_type": "stream",
     "text": [
      " 17%|█▋        | 69/400 [00:39<03:14,  1.70it/s]"
     ]
    },
    {
     "name": "stdout",
     "output_type": "stream",
     "text": [
      "---------------------------------------------------------------------------\n",
      "| end of epoch  69 | time:  0.58s | training loss 0.9843\n",
      "---------------------------------------------------------------------------\n"
     ]
    },
    {
     "name": "stderr",
     "output_type": "stream",
     "text": [
      " 18%|█▊        | 70/400 [00:40<03:17,  1.67it/s]"
     ]
    },
    {
     "name": "stdout",
     "output_type": "stream",
     "text": [
      "---------------------------------------------------------------------------\n",
      "| end of epoch  70 | time:  0.59s | training loss 1.1238\n",
      "---------------------------------------------------------------------------\n"
     ]
    },
    {
     "name": "stderr",
     "output_type": "stream",
     "text": [
      " 18%|█▊        | 71/400 [00:41<03:16,  1.68it/s]"
     ]
    },
    {
     "name": "stdout",
     "output_type": "stream",
     "text": [
      "---------------------------------------------------------------------------\n",
      "| end of epoch  71 | time:  0.55s | training loss 1.0347\n",
      "---------------------------------------------------------------------------\n"
     ]
    },
    {
     "name": "stderr",
     "output_type": "stream",
     "text": [
      " 18%|█▊        | 72/400 [00:41<03:10,  1.72it/s]"
     ]
    },
    {
     "name": "stdout",
     "output_type": "stream",
     "text": [
      "---------------------------------------------------------------------------\n",
      "| end of epoch  72 | time:  0.51s | training loss 1.0876\n",
      "---------------------------------------------------------------------------\n"
     ]
    },
    {
     "name": "stderr",
     "output_type": "stream",
     "text": [
      " 18%|█▊        | 73/400 [00:42<03:15,  1.67it/s]"
     ]
    },
    {
     "name": "stdout",
     "output_type": "stream",
     "text": [
      "---------------------------------------------------------------------------\n",
      "| end of epoch  73 | time:  0.59s | training loss 0.9207\n",
      "---------------------------------------------------------------------------\n"
     ]
    },
    {
     "name": "stderr",
     "output_type": "stream",
     "text": [
      " 18%|█▊        | 74/400 [00:43<03:27,  1.57it/s]"
     ]
    },
    {
     "name": "stdout",
     "output_type": "stream",
     "text": [
      "---------------------------------------------------------------------------\n",
      "| end of epoch  74 | time:  0.69s | training loss 0.9880\n",
      "---------------------------------------------------------------------------\n"
     ]
    },
    {
     "name": "stderr",
     "output_type": "stream",
     "text": [
      " 19%|█▉        | 75/400 [00:43<03:34,  1.51it/s]"
     ]
    },
    {
     "name": "stdout",
     "output_type": "stream",
     "text": [
      "---------------------------------------------------------------------------\n",
      "| end of epoch  75 | time:  0.68s | training loss 0.9636\n",
      "---------------------------------------------------------------------------\n"
     ]
    },
    {
     "name": "stderr",
     "output_type": "stream",
     "text": [
      " 19%|█▉        | 76/400 [00:44<03:19,  1.62it/s]"
     ]
    },
    {
     "name": "stdout",
     "output_type": "stream",
     "text": [
      "---------------------------------------------------------------------------\n",
      "| end of epoch  76 | time:  0.48s | training loss 1.0377\n",
      "---------------------------------------------------------------------------\n"
     ]
    },
    {
     "name": "stderr",
     "output_type": "stream",
     "text": [
      " 19%|█▉        | 77/400 [00:44<03:08,  1.71it/s]"
     ]
    },
    {
     "name": "stdout",
     "output_type": "stream",
     "text": [
      "---------------------------------------------------------------------------\n",
      "| end of epoch  77 | time:  0.48s | training loss 0.6436\n",
      "---------------------------------------------------------------------------\n"
     ]
    },
    {
     "name": "stderr",
     "output_type": "stream",
     "text": [
      " 20%|█▉        | 78/400 [00:45<03:10,  1.69it/s]"
     ]
    },
    {
     "name": "stdout",
     "output_type": "stream",
     "text": [
      "---------------------------------------------------------------------------\n",
      "| end of epoch  78 | time:  0.57s | training loss 1.1273\n",
      "---------------------------------------------------------------------------\n"
     ]
    },
    {
     "name": "stderr",
     "output_type": "stream",
     "text": [
      " 20%|█▉        | 79/400 [00:46<03:12,  1.66it/s]"
     ]
    },
    {
     "name": "stdout",
     "output_type": "stream",
     "text": [
      "---------------------------------------------------------------------------\n",
      "| end of epoch  79 | time:  0.58s | training loss 0.9924\n",
      "---------------------------------------------------------------------------\n"
     ]
    },
    {
     "name": "stderr",
     "output_type": "stream",
     "text": [
      " 20%|██        | 80/400 [00:46<03:08,  1.70it/s]"
     ]
    },
    {
     "name": "stdout",
     "output_type": "stream",
     "text": [
      "---------------------------------------------------------------------------\n",
      "| end of epoch  80 | time:  0.53s | training loss 0.9828\n",
      "---------------------------------------------------------------------------\n"
     ]
    },
    {
     "name": "stderr",
     "output_type": "stream",
     "text": [
      " 20%|██        | 81/400 [00:47<03:03,  1.74it/s]"
     ]
    },
    {
     "name": "stdout",
     "output_type": "stream",
     "text": [
      "---------------------------------------------------------------------------\n",
      "| end of epoch  81 | time:  0.51s | training loss 1.1791\n",
      "---------------------------------------------------------------------------\n"
     ]
    },
    {
     "name": "stderr",
     "output_type": "stream",
     "text": [
      " 20%|██        | 82/400 [00:47<03:02,  1.74it/s]"
     ]
    },
    {
     "name": "stdout",
     "output_type": "stream",
     "text": [
      "---------------------------------------------------------------------------\n",
      "| end of epoch  82 | time:  0.54s | training loss 0.9563\n",
      "---------------------------------------------------------------------------\n"
     ]
    },
    {
     "name": "stderr",
     "output_type": "stream",
     "text": [
      " 21%|██        | 83/400 [00:48<03:07,  1.69it/s]"
     ]
    },
    {
     "name": "stdout",
     "output_type": "stream",
     "text": [
      "---------------------------------------------------------------------------\n",
      "| end of epoch  83 | time:  0.59s | training loss 1.0534\n",
      "---------------------------------------------------------------------------\n"
     ]
    },
    {
     "name": "stderr",
     "output_type": "stream",
     "text": [
      " 21%|██        | 84/400 [00:48<03:06,  1.69it/s]"
     ]
    },
    {
     "name": "stdout",
     "output_type": "stream",
     "text": [
      "---------------------------------------------------------------------------\n",
      "| end of epoch  84 | time:  0.55s | training loss 1.1454\n",
      "---------------------------------------------------------------------------\n"
     ]
    },
    {
     "name": "stderr",
     "output_type": "stream",
     "text": [
      " 21%|██▏       | 85/400 [00:49<03:09,  1.67it/s]"
     ]
    },
    {
     "name": "stdout",
     "output_type": "stream",
     "text": [
      "---------------------------------------------------------------------------\n",
      "| end of epoch  85 | time:  0.58s | training loss 1.0063\n",
      "---------------------------------------------------------------------------\n"
     ]
    },
    {
     "name": "stderr",
     "output_type": "stream",
     "text": [
      " 22%|██▏       | 86/400 [00:50<03:09,  1.66it/s]"
     ]
    },
    {
     "name": "stdout",
     "output_type": "stream",
     "text": [
      "---------------------------------------------------------------------------\n",
      "| end of epoch  86 | time:  0.57s | training loss 1.0649\n",
      "---------------------------------------------------------------------------\n"
     ]
    },
    {
     "name": "stderr",
     "output_type": "stream",
     "text": [
      " 22%|██▏       | 87/400 [00:50<03:16,  1.59it/s]"
     ]
    },
    {
     "name": "stdout",
     "output_type": "stream",
     "text": [
      "---------------------------------------------------------------------------\n",
      "| end of epoch  87 | time:  0.64s | training loss 0.8522\n",
      "---------------------------------------------------------------------------\n"
     ]
    },
    {
     "name": "stderr",
     "output_type": "stream",
     "text": [
      " 22%|██▏       | 88/400 [00:51<03:23,  1.53it/s]"
     ]
    },
    {
     "name": "stdout",
     "output_type": "stream",
     "text": [
      "---------------------------------------------------------------------------\n",
      "| end of epoch  88 | time:  0.68s | training loss 0.8886\n",
      "---------------------------------------------------------------------------\n"
     ]
    },
    {
     "name": "stderr",
     "output_type": "stream",
     "text": [
      " 22%|██▏       | 89/400 [00:52<03:15,  1.59it/s]"
     ]
    },
    {
     "name": "stdout",
     "output_type": "stream",
     "text": [
      "---------------------------------------------------------------------------\n",
      "| end of epoch  89 | time:  0.53s | training loss 1.0062\n",
      "---------------------------------------------------------------------------\n"
     ]
    },
    {
     "name": "stderr",
     "output_type": "stream",
     "text": [
      " 22%|██▎       | 90/400 [00:52<03:09,  1.63it/s]"
     ]
    },
    {
     "name": "stdout",
     "output_type": "stream",
     "text": [
      "---------------------------------------------------------------------------\n",
      "| end of epoch  90 | time:  0.52s | training loss 1.0411\n",
      "---------------------------------------------------------------------------\n"
     ]
    },
    {
     "name": "stderr",
     "output_type": "stream",
     "text": [
      " 23%|██▎       | 91/400 [00:53<03:03,  1.68it/s]"
     ]
    },
    {
     "name": "stdout",
     "output_type": "stream",
     "text": [
      "---------------------------------------------------------------------------\n",
      "| end of epoch  91 | time:  0.52s | training loss 1.1030\n",
      "---------------------------------------------------------------------------\n"
     ]
    },
    {
     "name": "stderr",
     "output_type": "stream",
     "text": [
      " 23%|██▎       | 92/400 [00:53<02:58,  1.73it/s]"
     ]
    },
    {
     "name": "stdout",
     "output_type": "stream",
     "text": [
      "---------------------------------------------------------------------------\n",
      "| end of epoch  92 | time:  0.51s | training loss 0.9457\n",
      "---------------------------------------------------------------------------\n"
     ]
    },
    {
     "name": "stderr",
     "output_type": "stream",
     "text": [
      " 23%|██▎       | 93/400 [00:54<02:58,  1.72it/s]"
     ]
    },
    {
     "name": "stdout",
     "output_type": "stream",
     "text": [
      "---------------------------------------------------------------------------\n",
      "| end of epoch  93 | time:  0.55s | training loss 0.7590\n",
      "---------------------------------------------------------------------------\n"
     ]
    },
    {
     "name": "stderr",
     "output_type": "stream",
     "text": [
      " 24%|██▎       | 94/400 [00:54<02:55,  1.75it/s]"
     ]
    },
    {
     "name": "stdout",
     "output_type": "stream",
     "text": [
      "---------------------------------------------------------------------------\n",
      "| end of epoch  94 | time:  0.52s | training loss 1.0413\n",
      "---------------------------------------------------------------------------\n"
     ]
    },
    {
     "name": "stderr",
     "output_type": "stream",
     "text": [
      " 24%|██▍       | 95/400 [00:55<02:59,  1.70it/s]"
     ]
    },
    {
     "name": "stdout",
     "output_type": "stream",
     "text": [
      "---------------------------------------------------------------------------\n",
      "| end of epoch  95 | time:  0.59s | training loss 0.9125\n",
      "---------------------------------------------------------------------------\n"
     ]
    },
    {
     "name": "stderr",
     "output_type": "stream",
     "text": [
      " 24%|██▍       | 96/400 [00:56<03:00,  1.69it/s]"
     ]
    },
    {
     "name": "stdout",
     "output_type": "stream",
     "text": [
      "---------------------------------------------------------------------------\n",
      "| end of epoch  96 | time:  0.57s | training loss 0.9504\n",
      "---------------------------------------------------------------------------\n"
     ]
    },
    {
     "name": "stderr",
     "output_type": "stream",
     "text": [
      " 24%|██▍       | 97/400 [00:56<02:55,  1.73it/s]"
     ]
    },
    {
     "name": "stdout",
     "output_type": "stream",
     "text": [
      "---------------------------------------------------------------------------\n",
      "| end of epoch  97 | time:  0.51s | training loss 0.9674\n",
      "---------------------------------------------------------------------------\n"
     ]
    },
    {
     "name": "stderr",
     "output_type": "stream",
     "text": [
      " 24%|██▍       | 98/400 [00:57<02:54,  1.73it/s]"
     ]
    },
    {
     "name": "stdout",
     "output_type": "stream",
     "text": [
      "---------------------------------------------------------------------------\n",
      "| end of epoch  98 | time:  0.54s | training loss 1.0363\n",
      "---------------------------------------------------------------------------\n"
     ]
    },
    {
     "name": "stderr",
     "output_type": "stream",
     "text": [
      " 25%|██▍       | 99/400 [00:57<02:53,  1.73it/s]"
     ]
    },
    {
     "name": "stdout",
     "output_type": "stream",
     "text": [
      "---------------------------------------------------------------------------\n",
      "| end of epoch  99 | time:  0.55s | training loss 1.0173\n",
      "---------------------------------------------------------------------------\n"
     ]
    },
    {
     "name": "stderr",
     "output_type": "stream",
     "text": [
      " 25%|██▌       | 100/400 [00:58<02:45,  1.81it/s]"
     ]
    },
    {
     "name": "stdout",
     "output_type": "stream",
     "text": [
      "---------------------------------------------------------------------------\n",
      "| end of epoch 100 | time:  0.47s | training loss 1.0690\n",
      "---------------------------------------------------------------------------\n"
     ]
    },
    {
     "name": "stderr",
     "output_type": "stream",
     "text": [
      " 25%|██▌       | 101/400 [00:58<02:49,  1.77it/s]"
     ]
    },
    {
     "name": "stdout",
     "output_type": "stream",
     "text": [
      "---------------------------------------------------------------------------\n",
      "| end of epoch 101 | time:  0.56s | training loss 1.0010\n",
      "---------------------------------------------------------------------------\n"
     ]
    },
    {
     "name": "stderr",
     "output_type": "stream",
     "text": [
      " 26%|██▌       | 102/400 [00:59<02:53,  1.72it/s]"
     ]
    },
    {
     "name": "stdout",
     "output_type": "stream",
     "text": [
      "---------------------------------------------------------------------------\n",
      "| end of epoch 102 | time:  0.57s | training loss 0.9366\n",
      "---------------------------------------------------------------------------\n"
     ]
    },
    {
     "name": "stderr",
     "output_type": "stream",
     "text": [
      " 26%|██▌       | 103/400 [01:00<02:54,  1.71it/s]"
     ]
    },
    {
     "name": "stdout",
     "output_type": "stream",
     "text": [
      "---------------------------------------------------------------------------\n",
      "| end of epoch 103 | time:  0.55s | training loss 1.0171\n",
      "---------------------------------------------------------------------------\n"
     ]
    },
    {
     "name": "stderr",
     "output_type": "stream",
     "text": [
      " 26%|██▌       | 104/400 [01:00<02:47,  1.77it/s]"
     ]
    },
    {
     "name": "stdout",
     "output_type": "stream",
     "text": [
      "---------------------------------------------------------------------------\n",
      "| end of epoch 104 | time:  0.49s | training loss 0.9724\n",
      "---------------------------------------------------------------------------\n"
     ]
    },
    {
     "name": "stderr",
     "output_type": "stream",
     "text": [
      " 26%|██▋       | 105/400 [01:01<02:48,  1.75it/s]"
     ]
    },
    {
     "name": "stdout",
     "output_type": "stream",
     "text": [
      "---------------------------------------------------------------------------\n",
      "| end of epoch 105 | time:  0.55s | training loss 1.0204\n",
      "---------------------------------------------------------------------------\n"
     ]
    },
    {
     "name": "stderr",
     "output_type": "stream",
     "text": [
      " 26%|██▋       | 106/400 [01:01<02:59,  1.64it/s]"
     ]
    },
    {
     "name": "stdout",
     "output_type": "stream",
     "text": [
      "---------------------------------------------------------------------------\n",
      "| end of epoch 106 | time:  0.66s | training loss 1.0077\n",
      "---------------------------------------------------------------------------\n"
     ]
    },
    {
     "name": "stderr",
     "output_type": "stream",
     "text": [
      " 27%|██▋       | 107/400 [01:02<02:56,  1.66it/s]"
     ]
    },
    {
     "name": "stdout",
     "output_type": "stream",
     "text": [
      "---------------------------------------------------------------------------\n",
      "| end of epoch 107 | time:  0.54s | training loss 1.1051\n",
      "---------------------------------------------------------------------------\n"
     ]
    },
    {
     "name": "stderr",
     "output_type": "stream",
     "text": [
      " 27%|██▋       | 108/400 [01:03<03:02,  1.60it/s]"
     ]
    },
    {
     "name": "stdout",
     "output_type": "stream",
     "text": [
      "---------------------------------------------------------------------------\n",
      "| end of epoch 108 | time:  0.64s | training loss 1.0302\n",
      "---------------------------------------------------------------------------\n"
     ]
    },
    {
     "name": "stderr",
     "output_type": "stream",
     "text": [
      " 27%|██▋       | 109/400 [01:03<02:56,  1.65it/s]"
     ]
    },
    {
     "name": "stdout",
     "output_type": "stream",
     "text": [
      "---------------------------------------------------------------------------\n",
      "| end of epoch 109 | time:  0.53s | training loss 1.0108\n",
      "---------------------------------------------------------------------------\n"
     ]
    },
    {
     "name": "stderr",
     "output_type": "stream",
     "text": [
      " 28%|██▊       | 110/400 [01:04<02:48,  1.72it/s]"
     ]
    },
    {
     "name": "stdout",
     "output_type": "stream",
     "text": [
      "---------------------------------------------------------------------------\n",
      "| end of epoch 110 | time:  0.49s | training loss 0.9083\n",
      "---------------------------------------------------------------------------\n"
     ]
    },
    {
     "name": "stderr",
     "output_type": "stream",
     "text": [
      " 28%|██▊       | 111/400 [01:04<02:42,  1.77it/s]"
     ]
    },
    {
     "name": "stdout",
     "output_type": "stream",
     "text": [
      "---------------------------------------------------------------------------\n",
      "| end of epoch 111 | time:  0.48s | training loss 1.0175\n",
      "---------------------------------------------------------------------------\n"
     ]
    },
    {
     "name": "stderr",
     "output_type": "stream",
     "text": [
      " 28%|██▊       | 112/400 [01:05<02:50,  1.69it/s]"
     ]
    },
    {
     "name": "stdout",
     "output_type": "stream",
     "text": [
      "---------------------------------------------------------------------------\n",
      "| end of epoch 112 | time:  0.62s | training loss 1.2370\n",
      "---------------------------------------------------------------------------\n"
     ]
    },
    {
     "name": "stderr",
     "output_type": "stream",
     "text": [
      " 28%|██▊       | 113/400 [01:06<02:43,  1.75it/s]"
     ]
    },
    {
     "name": "stdout",
     "output_type": "stream",
     "text": [
      "---------------------------------------------------------------------------\n",
      "| end of epoch 113 | time:  0.49s | training loss 0.9760\n",
      "---------------------------------------------------------------------------\n"
     ]
    },
    {
     "name": "stderr",
     "output_type": "stream",
     "text": [
      " 28%|██▊       | 114/400 [01:06<02:42,  1.76it/s]"
     ]
    },
    {
     "name": "stdout",
     "output_type": "stream",
     "text": [
      "---------------------------------------------------------------------------\n",
      "| end of epoch 114 | time:  0.53s | training loss 0.8504\n",
      "---------------------------------------------------------------------------\n"
     ]
    },
    {
     "name": "stderr",
     "output_type": "stream",
     "text": [
      " 29%|██▉       | 115/400 [01:07<02:43,  1.74it/s]"
     ]
    },
    {
     "name": "stdout",
     "output_type": "stream",
     "text": [
      "---------------------------------------------------------------------------\n",
      "| end of epoch 115 | time:  0.55s | training loss 0.9727\n",
      "---------------------------------------------------------------------------\n"
     ]
    },
    {
     "name": "stderr",
     "output_type": "stream",
     "text": [
      " 29%|██▉       | 116/400 [01:07<02:42,  1.74it/s]"
     ]
    },
    {
     "name": "stdout",
     "output_type": "stream",
     "text": [
      "---------------------------------------------------------------------------\n",
      "| end of epoch 116 | time:  0.54s | training loss 0.9138\n",
      "---------------------------------------------------------------------------\n"
     ]
    },
    {
     "name": "stderr",
     "output_type": "stream",
     "text": [
      " 29%|██▉       | 117/400 [01:08<02:42,  1.75it/s]"
     ]
    },
    {
     "name": "stdout",
     "output_type": "stream",
     "text": [
      "---------------------------------------------------------------------------\n",
      "| end of epoch 117 | time:  0.53s | training loss 0.8711\n",
      "---------------------------------------------------------------------------\n"
     ]
    },
    {
     "name": "stderr",
     "output_type": "stream",
     "text": [
      " 30%|██▉       | 118/400 [01:08<02:36,  1.81it/s]"
     ]
    },
    {
     "name": "stdout",
     "output_type": "stream",
     "text": [
      "---------------------------------------------------------------------------\n",
      "| end of epoch 118 | time:  0.48s | training loss 1.0112\n",
      "---------------------------------------------------------------------------\n"
     ]
    },
    {
     "name": "stderr",
     "output_type": "stream",
     "text": [
      " 30%|██▉       | 119/400 [01:09<02:40,  1.75it/s]"
     ]
    },
    {
     "name": "stdout",
     "output_type": "stream",
     "text": [
      "---------------------------------------------------------------------------\n",
      "| end of epoch 119 | time:  0.58s | training loss 0.8889\n",
      "---------------------------------------------------------------------------\n"
     ]
    },
    {
     "name": "stderr",
     "output_type": "stream",
     "text": [
      " 30%|███       | 120/400 [01:10<02:43,  1.71it/s]"
     ]
    },
    {
     "name": "stdout",
     "output_type": "stream",
     "text": [
      "---------------------------------------------------------------------------\n",
      "| end of epoch 120 | time:  0.58s | training loss 0.8931\n",
      "---------------------------------------------------------------------------\n"
     ]
    },
    {
     "name": "stderr",
     "output_type": "stream",
     "text": [
      " 30%|███       | 121/400 [01:10<02:38,  1.76it/s]"
     ]
    },
    {
     "name": "stdout",
     "output_type": "stream",
     "text": [
      "---------------------------------------------------------------------------\n",
      "| end of epoch 121 | time:  0.50s | training loss 1.0407\n",
      "---------------------------------------------------------------------------\n"
     ]
    },
    {
     "name": "stderr",
     "output_type": "stream",
     "text": [
      " 30%|███       | 122/400 [01:11<02:40,  1.73it/s]"
     ]
    },
    {
     "name": "stdout",
     "output_type": "stream",
     "text": [
      "---------------------------------------------------------------------------\n",
      "| end of epoch 122 | time:  0.56s | training loss 1.0210\n",
      "---------------------------------------------------------------------------\n"
     ]
    },
    {
     "name": "stderr",
     "output_type": "stream",
     "text": [
      " 31%|███       | 123/400 [01:11<02:38,  1.75it/s]"
     ]
    },
    {
     "name": "stdout",
     "output_type": "stream",
     "text": [
      "---------------------------------------------------------------------------\n",
      "| end of epoch 123 | time:  0.52s | training loss 0.8896\n",
      "---------------------------------------------------------------------------\n"
     ]
    },
    {
     "name": "stderr",
     "output_type": "stream",
     "text": [
      " 31%|███       | 124/400 [01:12<02:38,  1.74it/s]"
     ]
    },
    {
     "name": "stdout",
     "output_type": "stream",
     "text": [
      "---------------------------------------------------------------------------\n",
      "| end of epoch 124 | time:  0.54s | training loss 1.0434\n",
      "---------------------------------------------------------------------------\n"
     ]
    },
    {
     "name": "stderr",
     "output_type": "stream",
     "text": [
      " 31%|███▏      | 125/400 [01:12<02:31,  1.81it/s]"
     ]
    },
    {
     "name": "stdout",
     "output_type": "stream",
     "text": [
      "---------------------------------------------------------------------------\n",
      "| end of epoch 125 | time:  0.47s | training loss 1.0942\n",
      "---------------------------------------------------------------------------\n"
     ]
    },
    {
     "name": "stderr",
     "output_type": "stream",
     "text": [
      " 32%|███▏      | 126/400 [01:13<02:30,  1.82it/s]"
     ]
    },
    {
     "name": "stdout",
     "output_type": "stream",
     "text": [
      "---------------------------------------------------------------------------\n",
      "| end of epoch 126 | time:  0.51s | training loss 1.1391\n",
      "---------------------------------------------------------------------------\n"
     ]
    },
    {
     "name": "stderr",
     "output_type": "stream",
     "text": [
      " 32%|███▏      | 127/400 [01:13<02:35,  1.76it/s]"
     ]
    },
    {
     "name": "stdout",
     "output_type": "stream",
     "text": [
      "---------------------------------------------------------------------------\n",
      "| end of epoch 127 | time:  0.58s | training loss 1.0892\n",
      "---------------------------------------------------------------------------\n"
     ]
    },
    {
     "name": "stderr",
     "output_type": "stream",
     "text": [
      " 32%|███▏      | 128/400 [01:14<02:34,  1.76it/s]"
     ]
    },
    {
     "name": "stdout",
     "output_type": "stream",
     "text": [
      "---------------------------------------------------------------------------\n",
      "| end of epoch 128 | time:  0.53s | training loss 1.1145\n",
      "---------------------------------------------------------------------------\n"
     ]
    },
    {
     "name": "stderr",
     "output_type": "stream",
     "text": [
      " 32%|███▏      | 129/400 [01:15<02:37,  1.72it/s]"
     ]
    },
    {
     "name": "stdout",
     "output_type": "stream",
     "text": [
      "---------------------------------------------------------------------------\n",
      "| end of epoch 129 | time:  0.58s | training loss 0.9239\n",
      "---------------------------------------------------------------------------\n"
     ]
    },
    {
     "name": "stderr",
     "output_type": "stream",
     "text": [
      " 32%|███▎      | 130/400 [01:15<02:34,  1.75it/s]"
     ]
    },
    {
     "name": "stdout",
     "output_type": "stream",
     "text": [
      "---------------------------------------------------------------------------\n",
      "| end of epoch 130 | time:  0.51s | training loss 1.0634\n",
      "---------------------------------------------------------------------------\n"
     ]
    },
    {
     "name": "stderr",
     "output_type": "stream",
     "text": [
      " 33%|███▎      | 131/400 [01:16<02:32,  1.76it/s]"
     ]
    },
    {
     "name": "stdout",
     "output_type": "stream",
     "text": [
      "---------------------------------------------------------------------------\n",
      "| end of epoch 131 | time:  0.52s | training loss 1.2407\n",
      "---------------------------------------------------------------------------\n"
     ]
    },
    {
     "name": "stderr",
     "output_type": "stream",
     "text": [
      " 33%|███▎      | 132/400 [01:16<02:42,  1.65it/s]"
     ]
    },
    {
     "name": "stdout",
     "output_type": "stream",
     "text": [
      "---------------------------------------------------------------------------\n",
      "| end of epoch 132 | time:  0.66s | training loss 1.1167\n",
      "---------------------------------------------------------------------------\n"
     ]
    },
    {
     "name": "stderr",
     "output_type": "stream",
     "text": [
      " 33%|███▎      | 133/400 [01:17<02:49,  1.58it/s]"
     ]
    },
    {
     "name": "stdout",
     "output_type": "stream",
     "text": [
      "---------------------------------------------------------------------------\n",
      "| end of epoch 133 | time:  0.66s | training loss 1.1200\n",
      "---------------------------------------------------------------------------\n"
     ]
    },
    {
     "name": "stderr",
     "output_type": "stream",
     "text": [
      " 34%|███▎      | 134/400 [01:18<02:41,  1.64it/s]"
     ]
    },
    {
     "name": "stdout",
     "output_type": "stream",
     "text": [
      "---------------------------------------------------------------------------\n",
      "| end of epoch 134 | time:  0.51s | training loss 0.8517\n",
      "---------------------------------------------------------------------------\n"
     ]
    },
    {
     "name": "stderr",
     "output_type": "stream",
     "text": [
      " 34%|███▍      | 135/400 [01:18<02:33,  1.72it/s]"
     ]
    },
    {
     "name": "stdout",
     "output_type": "stream",
     "text": [
      "---------------------------------------------------------------------------\n",
      "| end of epoch 135 | time:  0.49s | training loss 1.0924\n",
      "---------------------------------------------------------------------------\n"
     ]
    },
    {
     "name": "stderr",
     "output_type": "stream",
     "text": [
      " 34%|███▍      | 136/400 [01:19<02:32,  1.74it/s]"
     ]
    },
    {
     "name": "stdout",
     "output_type": "stream",
     "text": [
      "---------------------------------------------------------------------------\n",
      "| end of epoch 136 | time:  0.53s | training loss 1.0849\n",
      "---------------------------------------------------------------------------\n"
     ]
    },
    {
     "name": "stderr",
     "output_type": "stream",
     "text": [
      " 34%|███▍      | 137/400 [01:19<02:29,  1.75it/s]"
     ]
    },
    {
     "name": "stdout",
     "output_type": "stream",
     "text": [
      "---------------------------------------------------------------------------\n",
      "| end of epoch 137 | time:  0.52s | training loss 0.9965\n",
      "---------------------------------------------------------------------------\n"
     ]
    },
    {
     "name": "stderr",
     "output_type": "stream",
     "text": [
      " 34%|███▍      | 138/400 [01:20<02:32,  1.72it/s]"
     ]
    },
    {
     "name": "stdout",
     "output_type": "stream",
     "text": [
      "---------------------------------------------------------------------------\n",
      "| end of epoch 138 | time:  0.57s | training loss 0.9048\n",
      "---------------------------------------------------------------------------\n"
     ]
    },
    {
     "name": "stderr",
     "output_type": "stream",
     "text": [
      " 35%|███▍      | 139/400 [01:20<02:28,  1.76it/s]"
     ]
    },
    {
     "name": "stdout",
     "output_type": "stream",
     "text": [
      "---------------------------------------------------------------------------\n",
      "| end of epoch 139 | time:  0.51s | training loss 1.0471\n",
      "---------------------------------------------------------------------------\n"
     ]
    },
    {
     "name": "stderr",
     "output_type": "stream",
     "text": [
      " 35%|███▌      | 140/400 [01:21<02:30,  1.73it/s]"
     ]
    },
    {
     "name": "stdout",
     "output_type": "stream",
     "text": [
      "---------------------------------------------------------------------------\n",
      "| end of epoch 140 | time:  0.56s | training loss 0.8210\n",
      "---------------------------------------------------------------------------\n"
     ]
    },
    {
     "name": "stderr",
     "output_type": "stream",
     "text": [
      " 35%|███▌      | 141/400 [01:22<02:30,  1.72it/s]"
     ]
    },
    {
     "name": "stdout",
     "output_type": "stream",
     "text": [
      "---------------------------------------------------------------------------\n",
      "| end of epoch 141 | time:  0.55s | training loss 1.1068\n",
      "---------------------------------------------------------------------------\n"
     ]
    },
    {
     "name": "stderr",
     "output_type": "stream",
     "text": [
      " 36%|███▌      | 142/400 [01:22<02:35,  1.66it/s]"
     ]
    },
    {
     "name": "stdout",
     "output_type": "stream",
     "text": [
      "---------------------------------------------------------------------------\n",
      "| end of epoch 142 | time:  0.62s | training loss 1.0993\n",
      "---------------------------------------------------------------------------\n"
     ]
    },
    {
     "name": "stderr",
     "output_type": "stream",
     "text": [
      " 36%|███▌      | 143/400 [01:23<02:25,  1.76it/s]"
     ]
    },
    {
     "name": "stdout",
     "output_type": "stream",
     "text": [
      "---------------------------------------------------------------------------\n",
      "| end of epoch 143 | time:  0.45s | training loss 1.0537\n",
      "---------------------------------------------------------------------------\n"
     ]
    },
    {
     "name": "stderr",
     "output_type": "stream",
     "text": [
      " 36%|███▌      | 144/400 [01:23<02:25,  1.75it/s]"
     ]
    },
    {
     "name": "stdout",
     "output_type": "stream",
     "text": [
      "---------------------------------------------------------------------------\n",
      "| end of epoch 144 | time:  0.54s | training loss 0.9175\n",
      "---------------------------------------------------------------------------\n"
     ]
    },
    {
     "name": "stderr",
     "output_type": "stream",
     "text": [
      " 36%|███▋      | 145/400 [01:24<02:27,  1.73it/s]"
     ]
    },
    {
     "name": "stdout",
     "output_type": "stream",
     "text": [
      "---------------------------------------------------------------------------\n",
      "| end of epoch 145 | time:  0.56s | training loss 0.7941\n",
      "---------------------------------------------------------------------------\n"
     ]
    },
    {
     "name": "stderr",
     "output_type": "stream",
     "text": [
      " 36%|███▋      | 146/400 [01:25<02:22,  1.78it/s]"
     ]
    },
    {
     "name": "stdout",
     "output_type": "stream",
     "text": [
      "---------------------------------------------------------------------------\n",
      "| end of epoch 146 | time:  0.50s | training loss 1.0358\n",
      "---------------------------------------------------------------------------\n"
     ]
    },
    {
     "name": "stderr",
     "output_type": "stream",
     "text": [
      " 37%|███▋      | 147/400 [01:25<02:19,  1.82it/s]"
     ]
    },
    {
     "name": "stdout",
     "output_type": "stream",
     "text": [
      "---------------------------------------------------------------------------\n",
      "| end of epoch 147 | time:  0.49s | training loss 1.0479\n",
      "---------------------------------------------------------------------------\n"
     ]
    },
    {
     "name": "stderr",
     "output_type": "stream",
     "text": [
      " 37%|███▋      | 148/400 [01:26<02:21,  1.78it/s]"
     ]
    },
    {
     "name": "stdout",
     "output_type": "stream",
     "text": [
      "---------------------------------------------------------------------------\n",
      "| end of epoch 148 | time:  0.55s | training loss 1.0990\n",
      "---------------------------------------------------------------------------\n"
     ]
    },
    {
     "name": "stderr",
     "output_type": "stream",
     "text": [
      " 37%|███▋      | 149/400 [01:26<02:22,  1.77it/s]"
     ]
    },
    {
     "name": "stdout",
     "output_type": "stream",
     "text": [
      "---------------------------------------------------------------------------\n",
      "| end of epoch 149 | time:  0.55s | training loss 1.0204\n",
      "---------------------------------------------------------------------------\n"
     ]
    },
    {
     "name": "stderr",
     "output_type": "stream",
     "text": [
      " 38%|███▊      | 150/400 [01:27<02:18,  1.81it/s]"
     ]
    },
    {
     "name": "stdout",
     "output_type": "stream",
     "text": [
      "---------------------------------------------------------------------------\n",
      "| end of epoch 150 | time:  0.50s | training loss 0.9988\n",
      "---------------------------------------------------------------------------\n"
     ]
    },
    {
     "name": "stderr",
     "output_type": "stream",
     "text": [
      " 38%|███▊      | 151/400 [01:27<02:13,  1.87it/s]"
     ]
    },
    {
     "name": "stdout",
     "output_type": "stream",
     "text": [
      "---------------------------------------------------------------------------\n",
      "| end of epoch 151 | time:  0.46s | training loss 1.0581\n",
      "---------------------------------------------------------------------------\n"
     ]
    },
    {
     "name": "stderr",
     "output_type": "stream",
     "text": [
      " 38%|███▊      | 152/400 [01:28<02:13,  1.86it/s]"
     ]
    },
    {
     "name": "stdout",
     "output_type": "stream",
     "text": [
      "---------------------------------------------------------------------------\n",
      "| end of epoch 152 | time:  0.51s | training loss 1.0494\n",
      "---------------------------------------------------------------------------\n"
     ]
    },
    {
     "name": "stderr",
     "output_type": "stream",
     "text": [
      " 38%|███▊      | 153/400 [01:28<02:14,  1.84it/s]"
     ]
    },
    {
     "name": "stdout",
     "output_type": "stream",
     "text": [
      "---------------------------------------------------------------------------\n",
      "| end of epoch 153 | time:  0.52s | training loss 0.9338\n",
      "---------------------------------------------------------------------------\n"
     ]
    },
    {
     "name": "stderr",
     "output_type": "stream",
     "text": [
      " 38%|███▊      | 154/400 [01:29<02:15,  1.81it/s]"
     ]
    },
    {
     "name": "stdout",
     "output_type": "stream",
     "text": [
      "---------------------------------------------------------------------------\n",
      "| end of epoch 154 | time:  0.53s | training loss 1.0903\n",
      "---------------------------------------------------------------------------\n"
     ]
    },
    {
     "name": "stderr",
     "output_type": "stream",
     "text": [
      " 39%|███▉      | 155/400 [01:29<02:18,  1.77it/s]"
     ]
    },
    {
     "name": "stdout",
     "output_type": "stream",
     "text": [
      "---------------------------------------------------------------------------\n",
      "| end of epoch 155 | time:  0.55s | training loss 0.9307\n",
      "---------------------------------------------------------------------------\n"
     ]
    },
    {
     "name": "stderr",
     "output_type": "stream",
     "text": [
      " 39%|███▉      | 156/400 [01:30<02:21,  1.72it/s]"
     ]
    },
    {
     "name": "stdout",
     "output_type": "stream",
     "text": [
      "---------------------------------------------------------------------------\n",
      "| end of epoch 156 | time:  0.58s | training loss 1.1515\n",
      "---------------------------------------------------------------------------\n"
     ]
    },
    {
     "name": "stderr",
     "output_type": "stream",
     "text": [
      " 39%|███▉      | 157/400 [01:31<02:16,  1.78it/s]"
     ]
    },
    {
     "name": "stdout",
     "output_type": "stream",
     "text": [
      "---------------------------------------------------------------------------\n",
      "| end of epoch 157 | time:  0.49s | training loss 1.0022\n",
      "---------------------------------------------------------------------------\n"
     ]
    },
    {
     "name": "stderr",
     "output_type": "stream",
     "text": [
      " 40%|███▉      | 158/400 [01:31<02:25,  1.67it/s]"
     ]
    },
    {
     "name": "stdout",
     "output_type": "stream",
     "text": [
      "---------------------------------------------------------------------------\n",
      "| end of epoch 158 | time:  0.66s | training loss 0.9435\n",
      "---------------------------------------------------------------------------\n"
     ]
    },
    {
     "name": "stderr",
     "output_type": "stream",
     "text": [
      " 40%|███▉      | 159/400 [01:32<02:24,  1.67it/s]"
     ]
    },
    {
     "name": "stdout",
     "output_type": "stream",
     "text": [
      "---------------------------------------------------------------------------\n",
      "| end of epoch 159 | time:  0.55s | training loss 0.9128\n",
      "---------------------------------------------------------------------------\n"
     ]
    },
    {
     "name": "stderr",
     "output_type": "stream",
     "text": [
      " 40%|████      | 160/400 [01:33<02:33,  1.56it/s]"
     ]
    },
    {
     "name": "stdout",
     "output_type": "stream",
     "text": [
      "---------------------------------------------------------------------------\n",
      "| end of epoch 160 | time:  0.70s | training loss 1.0178\n",
      "---------------------------------------------------------------------------\n"
     ]
    },
    {
     "name": "stderr",
     "output_type": "stream",
     "text": [
      " 40%|████      | 161/400 [01:33<02:23,  1.67it/s]"
     ]
    },
    {
     "name": "stdout",
     "output_type": "stream",
     "text": [
      "---------------------------------------------------------------------------\n",
      "| end of epoch 161 | time:  0.48s | training loss 1.1952\n",
      "---------------------------------------------------------------------------\n"
     ]
    },
    {
     "name": "stderr",
     "output_type": "stream",
     "text": [
      " 40%|████      | 162/400 [01:34<02:13,  1.78it/s]"
     ]
    },
    {
     "name": "stdout",
     "output_type": "stream",
     "text": [
      "---------------------------------------------------------------------------\n",
      "| end of epoch 162 | time:  0.44s | training loss 1.0634\n",
      "---------------------------------------------------------------------------\n"
     ]
    },
    {
     "name": "stderr",
     "output_type": "stream",
     "text": [
      " 41%|████      | 163/400 [01:34<02:09,  1.83it/s]"
     ]
    },
    {
     "name": "stdout",
     "output_type": "stream",
     "text": [
      "---------------------------------------------------------------------------\n",
      "| end of epoch 163 | time:  0.47s | training loss 1.0314\n",
      "---------------------------------------------------------------------------\n"
     ]
    },
    {
     "name": "stderr",
     "output_type": "stream",
     "text": [
      " 41%|████      | 164/400 [01:35<02:11,  1.79it/s]"
     ]
    },
    {
     "name": "stdout",
     "output_type": "stream",
     "text": [
      "---------------------------------------------------------------------------\n",
      "| end of epoch 164 | time:  0.54s | training loss 0.9010\n",
      "---------------------------------------------------------------------------\n"
     ]
    },
    {
     "name": "stderr",
     "output_type": "stream",
     "text": [
      " 41%|████▏     | 165/400 [01:35<02:12,  1.78it/s]"
     ]
    },
    {
     "name": "stdout",
     "output_type": "stream",
     "text": [
      "---------------------------------------------------------------------------\n",
      "| end of epoch 165 | time:  0.53s | training loss 0.9187\n",
      "---------------------------------------------------------------------------\n"
     ]
    },
    {
     "name": "stderr",
     "output_type": "stream",
     "text": [
      " 42%|████▏     | 166/400 [01:36<02:11,  1.78it/s]"
     ]
    },
    {
     "name": "stdout",
     "output_type": "stream",
     "text": [
      "---------------------------------------------------------------------------\n",
      "| end of epoch 166 | time:  0.53s | training loss 0.8646\n",
      "---------------------------------------------------------------------------\n"
     ]
    },
    {
     "name": "stderr",
     "output_type": "stream",
     "text": [
      " 42%|████▏     | 167/400 [01:36<02:06,  1.84it/s]"
     ]
    },
    {
     "name": "stdout",
     "output_type": "stream",
     "text": [
      "---------------------------------------------------------------------------\n",
      "| end of epoch 167 | time:  0.47s | training loss 1.0567\n",
      "---------------------------------------------------------------------------\n"
     ]
    },
    {
     "name": "stderr",
     "output_type": "stream",
     "text": [
      " 42%|████▏     | 168/400 [01:37<02:02,  1.90it/s]"
     ]
    },
    {
     "name": "stdout",
     "output_type": "stream",
     "text": [
      "---------------------------------------------------------------------------\n",
      "| end of epoch 168 | time:  0.46s | training loss 1.1438\n",
      "---------------------------------------------------------------------------\n"
     ]
    },
    {
     "name": "stderr",
     "output_type": "stream",
     "text": [
      " 42%|████▏     | 169/400 [01:37<02:00,  1.92it/s]"
     ]
    },
    {
     "name": "stdout",
     "output_type": "stream",
     "text": [
      "---------------------------------------------------------------------------\n",
      "| end of epoch 169 | time:  0.47s | training loss 0.8489\n",
      "---------------------------------------------------------------------------\n"
     ]
    },
    {
     "name": "stderr",
     "output_type": "stream",
     "text": [
      " 42%|████▎     | 170/400 [01:38<02:01,  1.89it/s]"
     ]
    },
    {
     "name": "stdout",
     "output_type": "stream",
     "text": [
      "---------------------------------------------------------------------------\n",
      "| end of epoch 170 | time:  0.51s | training loss 1.1581\n",
      "---------------------------------------------------------------------------\n"
     ]
    },
    {
     "name": "stderr",
     "output_type": "stream",
     "text": [
      " 43%|████▎     | 171/400 [01:38<02:01,  1.88it/s]"
     ]
    },
    {
     "name": "stdout",
     "output_type": "stream",
     "text": [
      "---------------------------------------------------------------------------\n",
      "| end of epoch 171 | time:  0.50s | training loss 1.0867\n",
      "---------------------------------------------------------------------------\n"
     ]
    },
    {
     "name": "stderr",
     "output_type": "stream",
     "text": [
      " 43%|████▎     | 172/400 [01:39<02:01,  1.88it/s]"
     ]
    },
    {
     "name": "stdout",
     "output_type": "stream",
     "text": [
      "---------------------------------------------------------------------------\n",
      "| end of epoch 172 | time:  0.50s | training loss 1.0233\n",
      "---------------------------------------------------------------------------\n"
     ]
    },
    {
     "name": "stderr",
     "output_type": "stream",
     "text": [
      " 43%|████▎     | 173/400 [01:40<02:03,  1.84it/s]"
     ]
    },
    {
     "name": "stdout",
     "output_type": "stream",
     "text": [
      "---------------------------------------------------------------------------\n",
      "| end of epoch 173 | time:  0.53s | training loss 0.9945\n",
      "---------------------------------------------------------------------------\n"
     ]
    },
    {
     "name": "stderr",
     "output_type": "stream",
     "text": [
      " 44%|████▎     | 174/400 [01:40<02:04,  1.82it/s]"
     ]
    },
    {
     "name": "stdout",
     "output_type": "stream",
     "text": [
      "---------------------------------------------------------------------------\n",
      "| end of epoch 174 | time:  0.53s | training loss 1.0179\n",
      "---------------------------------------------------------------------------\n"
     ]
    },
    {
     "name": "stderr",
     "output_type": "stream",
     "text": [
      " 44%|████▍     | 175/400 [01:41<02:09,  1.74it/s]"
     ]
    },
    {
     "name": "stdout",
     "output_type": "stream",
     "text": [
      "---------------------------------------------------------------------------\n",
      "| end of epoch 175 | time:  0.61s | training loss 0.9098\n",
      "---------------------------------------------------------------------------\n"
     ]
    },
    {
     "name": "stderr",
     "output_type": "stream",
     "text": [
      " 44%|████▍     | 176/400 [01:41<02:06,  1.77it/s]"
     ]
    },
    {
     "name": "stdout",
     "output_type": "stream",
     "text": [
      "---------------------------------------------------------------------------\n",
      "| end of epoch 176 | time:  0.51s | training loss 1.0840\n",
      "---------------------------------------------------------------------------\n"
     ]
    },
    {
     "name": "stderr",
     "output_type": "stream",
     "text": [
      " 44%|████▍     | 177/400 [01:42<02:05,  1.78it/s]"
     ]
    },
    {
     "name": "stdout",
     "output_type": "stream",
     "text": [
      "---------------------------------------------------------------------------\n",
      "| end of epoch 177 | time:  0.52s | training loss 1.0410\n",
      "---------------------------------------------------------------------------\n"
     ]
    },
    {
     "name": "stderr",
     "output_type": "stream",
     "text": [
      " 44%|████▍     | 178/400 [01:42<02:02,  1.81it/s]"
     ]
    },
    {
     "name": "stdout",
     "output_type": "stream",
     "text": [
      "---------------------------------------------------------------------------\n",
      "| end of epoch 178 | time:  0.49s | training loss 0.9388\n",
      "---------------------------------------------------------------------------\n"
     ]
    },
    {
     "name": "stderr",
     "output_type": "stream",
     "text": [
      " 45%|████▍     | 179/400 [01:43<02:04,  1.77it/s]"
     ]
    },
    {
     "name": "stdout",
     "output_type": "stream",
     "text": [
      "---------------------------------------------------------------------------\n",
      "| end of epoch 179 | time:  0.56s | training loss 1.2283\n",
      "---------------------------------------------------------------------------\n"
     ]
    },
    {
     "name": "stderr",
     "output_type": "stream",
     "text": [
      " 45%|████▌     | 180/400 [01:44<02:06,  1.73it/s]"
     ]
    },
    {
     "name": "stdout",
     "output_type": "stream",
     "text": [
      "---------------------------------------------------------------------------\n",
      "| end of epoch 180 | time:  0.57s | training loss 1.0516\n",
      "---------------------------------------------------------------------------\n"
     ]
    },
    {
     "name": "stderr",
     "output_type": "stream",
     "text": [
      " 45%|████▌     | 181/400 [01:44<02:08,  1.70it/s]"
     ]
    },
    {
     "name": "stdout",
     "output_type": "stream",
     "text": [
      "---------------------------------------------------------------------------\n",
      "| end of epoch 181 | time:  0.57s | training loss 1.1217\n",
      "---------------------------------------------------------------------------\n"
     ]
    },
    {
     "name": "stderr",
     "output_type": "stream",
     "text": [
      " 46%|████▌     | 182/400 [01:45<02:12,  1.64it/s]"
     ]
    },
    {
     "name": "stdout",
     "output_type": "stream",
     "text": [
      "---------------------------------------------------------------------------\n",
      "| end of epoch 182 | time:  0.62s | training loss 1.0506\n",
      "---------------------------------------------------------------------------\n"
     ]
    },
    {
     "name": "stderr",
     "output_type": "stream",
     "text": [
      " 46%|████▌     | 183/400 [01:46<02:19,  1.55it/s]"
     ]
    },
    {
     "name": "stdout",
     "output_type": "stream",
     "text": [
      "---------------------------------------------------------------------------\n",
      "| end of epoch 183 | time:  0.67s | training loss 0.9973\n",
      "---------------------------------------------------------------------------\n"
     ]
    },
    {
     "name": "stderr",
     "output_type": "stream",
     "text": [
      " 46%|████▌     | 184/400 [01:46<02:15,  1.59it/s]"
     ]
    },
    {
     "name": "stdout",
     "output_type": "stream",
     "text": [
      "---------------------------------------------------------------------------\n",
      "| end of epoch 184 | time:  0.55s | training loss 1.0823\n",
      "---------------------------------------------------------------------------\n"
     ]
    },
    {
     "name": "stderr",
     "output_type": "stream",
     "text": [
      " 46%|████▋     | 185/400 [01:47<02:14,  1.59it/s]"
     ]
    },
    {
     "name": "stdout",
     "output_type": "stream",
     "text": [
      "---------------------------------------------------------------------------\n",
      "| end of epoch 185 | time:  0.58s | training loss 1.0100\n",
      "---------------------------------------------------------------------------\n"
     ]
    },
    {
     "name": "stderr",
     "output_type": "stream",
     "text": [
      " 46%|████▋     | 186/400 [01:47<02:13,  1.61it/s]"
     ]
    },
    {
     "name": "stdout",
     "output_type": "stream",
     "text": [
      "---------------------------------------------------------------------------\n",
      "| end of epoch 186 | time:  0.58s | training loss 1.0537\n",
      "---------------------------------------------------------------------------\n"
     ]
    },
    {
     "name": "stderr",
     "output_type": "stream",
     "text": [
      " 47%|████▋     | 187/400 [01:48<02:12,  1.61it/s]"
     ]
    },
    {
     "name": "stdout",
     "output_type": "stream",
     "text": [
      "---------------------------------------------------------------------------\n",
      "| end of epoch 187 | time:  0.58s | training loss 1.1034\n",
      "---------------------------------------------------------------------------\n"
     ]
    },
    {
     "name": "stderr",
     "output_type": "stream",
     "text": [
      " 47%|████▋     | 188/400 [01:49<02:14,  1.57it/s]"
     ]
    },
    {
     "name": "stdout",
     "output_type": "stream",
     "text": [
      "---------------------------------------------------------------------------\n",
      "| end of epoch 188 | time:  0.63s | training loss 0.9537\n",
      "---------------------------------------------------------------------------\n"
     ]
    },
    {
     "name": "stderr",
     "output_type": "stream",
     "text": [
      " 47%|████▋     | 189/400 [01:49<02:16,  1.55it/s]"
     ]
    },
    {
     "name": "stdout",
     "output_type": "stream",
     "text": [
      "---------------------------------------------------------------------------\n",
      "| end of epoch 189 | time:  0.63s | training loss 1.2194\n",
      "---------------------------------------------------------------------------\n"
     ]
    },
    {
     "name": "stderr",
     "output_type": "stream",
     "text": [
      " 48%|████▊     | 190/400 [01:50<02:08,  1.64it/s]"
     ]
    },
    {
     "name": "stdout",
     "output_type": "stream",
     "text": [
      "---------------------------------------------------------------------------\n",
      "| end of epoch 190 | time:  0.49s | training loss 1.0465\n",
      "---------------------------------------------------------------------------\n"
     ]
    },
    {
     "name": "stderr",
     "output_type": "stream",
     "text": [
      " 48%|████▊     | 191/400 [01:50<02:07,  1.63it/s]"
     ]
    },
    {
     "name": "stdout",
     "output_type": "stream",
     "text": [
      "---------------------------------------------------------------------------\n",
      "| end of epoch 191 | time:  0.58s | training loss 1.0304\n",
      "---------------------------------------------------------------------------\n"
     ]
    },
    {
     "name": "stderr",
     "output_type": "stream",
     "text": [
      " 48%|████▊     | 192/400 [01:51<02:07,  1.63it/s]"
     ]
    },
    {
     "name": "stdout",
     "output_type": "stream",
     "text": [
      "---------------------------------------------------------------------------\n",
      "| end of epoch 192 | time:  0.57s | training loss 0.9656\n",
      "---------------------------------------------------------------------------\n"
     ]
    },
    {
     "name": "stderr",
     "output_type": "stream",
     "text": [
      " 48%|████▊     | 193/400 [01:52<02:11,  1.57it/s]"
     ]
    },
    {
     "name": "stdout",
     "output_type": "stream",
     "text": [
      "---------------------------------------------------------------------------\n",
      "| end of epoch 193 | time:  0.66s | training loss 0.8902\n",
      "---------------------------------------------------------------------------\n"
     ]
    },
    {
     "name": "stderr",
     "output_type": "stream",
     "text": [
      " 48%|████▊     | 194/400 [01:53<02:17,  1.50it/s]"
     ]
    },
    {
     "name": "stdout",
     "output_type": "stream",
     "text": [
      "---------------------------------------------------------------------------\n",
      "| end of epoch 194 | time:  0.69s | training loss 1.1262\n",
      "---------------------------------------------------------------------------\n"
     ]
    },
    {
     "name": "stderr",
     "output_type": "stream",
     "text": [
      " 49%|████▉     | 195/400 [01:53<02:14,  1.52it/s]"
     ]
    },
    {
     "name": "stdout",
     "output_type": "stream",
     "text": [
      "---------------------------------------------------------------------------\n",
      "| end of epoch 195 | time:  0.60s | training loss 0.9344\n",
      "---------------------------------------------------------------------------\n"
     ]
    },
    {
     "name": "stderr",
     "output_type": "stream",
     "text": [
      " 49%|████▉     | 196/400 [01:54<02:16,  1.49it/s]"
     ]
    },
    {
     "name": "stdout",
     "output_type": "stream",
     "text": [
      "---------------------------------------------------------------------------\n",
      "| end of epoch 196 | time:  0.66s | training loss 1.0403\n",
      "---------------------------------------------------------------------------\n"
     ]
    },
    {
     "name": "stderr",
     "output_type": "stream",
     "text": [
      " 49%|████▉     | 197/400 [01:54<02:12,  1.53it/s]"
     ]
    },
    {
     "name": "stdout",
     "output_type": "stream",
     "text": [
      "---------------------------------------------------------------------------\n",
      "| end of epoch 197 | time:  0.58s | training loss 1.0176\n",
      "---------------------------------------------------------------------------\n"
     ]
    },
    {
     "name": "stderr",
     "output_type": "stream",
     "text": [
      " 50%|████▉     | 198/400 [01:55<02:11,  1.54it/s]"
     ]
    },
    {
     "name": "stdout",
     "output_type": "stream",
     "text": [
      "---------------------------------------------------------------------------\n",
      "| end of epoch 198 | time:  0.61s | training loss 0.9159\n",
      "---------------------------------------------------------------------------\n"
     ]
    },
    {
     "name": "stderr",
     "output_type": "stream",
     "text": [
      " 50%|████▉     | 199/400 [01:56<02:07,  1.57it/s]"
     ]
    },
    {
     "name": "stdout",
     "output_type": "stream",
     "text": [
      "---------------------------------------------------------------------------\n",
      "| end of epoch 199 | time:  0.56s | training loss 1.0536\n",
      "---------------------------------------------------------------------------\n"
     ]
    },
    {
     "name": "stderr",
     "output_type": "stream",
     "text": [
      " 50%|█████     | 200/400 [01:56<02:06,  1.58it/s]"
     ]
    },
    {
     "name": "stdout",
     "output_type": "stream",
     "text": [
      "---------------------------------------------------------------------------\n",
      "| end of epoch 200 | time:  0.59s | training loss 0.7898\n",
      "---------------------------------------------------------------------------\n"
     ]
    },
    {
     "name": "stderr",
     "output_type": "stream",
     "text": [
      " 50%|█████     | 201/400 [01:57<02:01,  1.64it/s]"
     ]
    },
    {
     "name": "stdout",
     "output_type": "stream",
     "text": [
      "---------------------------------------------------------------------------\n",
      "| end of epoch 201 | time:  0.51s | training loss 0.9758\n",
      "---------------------------------------------------------------------------\n"
     ]
    },
    {
     "name": "stderr",
     "output_type": "stream",
     "text": [
      " 50%|█████     | 202/400 [01:57<01:57,  1.69it/s]"
     ]
    },
    {
     "name": "stdout",
     "output_type": "stream",
     "text": [
      "---------------------------------------------------------------------------\n",
      "| end of epoch 202 | time:  0.52s | training loss 0.8939\n",
      "---------------------------------------------------------------------------\n"
     ]
    },
    {
     "name": "stderr",
     "output_type": "stream",
     "text": [
      " 51%|█████     | 203/400 [01:58<01:55,  1.71it/s]"
     ]
    },
    {
     "name": "stdout",
     "output_type": "stream",
     "text": [
      "---------------------------------------------------------------------------\n",
      "| end of epoch 203 | time:  0.53s | training loss 1.1151\n",
      "---------------------------------------------------------------------------\n"
     ]
    },
    {
     "name": "stderr",
     "output_type": "stream",
     "text": [
      " 51%|█████     | 204/400 [01:59<01:56,  1.68it/s]"
     ]
    },
    {
     "name": "stdout",
     "output_type": "stream",
     "text": [
      "---------------------------------------------------------------------------\n",
      "| end of epoch 204 | time:  0.59s | training loss 1.0530\n",
      "---------------------------------------------------------------------------\n"
     ]
    },
    {
     "name": "stderr",
     "output_type": "stream",
     "text": [
      " 51%|█████▏    | 205/400 [01:59<01:57,  1.66it/s]"
     ]
    },
    {
     "name": "stdout",
     "output_type": "stream",
     "text": [
      "---------------------------------------------------------------------------\n",
      "| end of epoch 205 | time:  0.57s | training loss 0.8814\n",
      "---------------------------------------------------------------------------\n"
     ]
    },
    {
     "name": "stderr",
     "output_type": "stream",
     "text": [
      " 52%|█████▏    | 206/400 [02:00<01:58,  1.64it/s]"
     ]
    },
    {
     "name": "stdout",
     "output_type": "stream",
     "text": [
      "---------------------------------------------------------------------------\n",
      "| end of epoch 206 | time:  0.59s | training loss 0.9649\n",
      "---------------------------------------------------------------------------\n"
     ]
    },
    {
     "name": "stderr",
     "output_type": "stream",
     "text": [
      " 52%|█████▏    | 207/400 [02:00<01:53,  1.71it/s]"
     ]
    },
    {
     "name": "stdout",
     "output_type": "stream",
     "text": [
      "---------------------------------------------------------------------------\n",
      "| end of epoch 207 | time:  0.49s | training loss 0.8333\n",
      "---------------------------------------------------------------------------\n"
     ]
    },
    {
     "name": "stderr",
     "output_type": "stream",
     "text": [
      " 52%|█████▏    | 208/400 [02:01<01:53,  1.69it/s]"
     ]
    },
    {
     "name": "stdout",
     "output_type": "stream",
     "text": [
      "---------------------------------------------------------------------------\n",
      "| end of epoch 208 | time:  0.57s | training loss 1.1057\n",
      "---------------------------------------------------------------------------\n"
     ]
    },
    {
     "name": "stderr",
     "output_type": "stream",
     "text": [
      " 52%|█████▏    | 209/400 [02:02<01:57,  1.63it/s]"
     ]
    },
    {
     "name": "stdout",
     "output_type": "stream",
     "text": [
      "---------------------------------------------------------------------------\n",
      "| end of epoch 209 | time:  0.62s | training loss 1.1373\n",
      "---------------------------------------------------------------------------\n"
     ]
    },
    {
     "name": "stderr",
     "output_type": "stream",
     "text": [
      " 52%|█████▎    | 210/400 [02:02<01:57,  1.62it/s]"
     ]
    },
    {
     "name": "stdout",
     "output_type": "stream",
     "text": [
      "---------------------------------------------------------------------------\n",
      "| end of epoch 210 | time:  0.59s | training loss 1.1012\n",
      "---------------------------------------------------------------------------\n"
     ]
    },
    {
     "name": "stderr",
     "output_type": "stream",
     "text": [
      " 53%|█████▎    | 211/400 [02:03<01:52,  1.67it/s]"
     ]
    },
    {
     "name": "stdout",
     "output_type": "stream",
     "text": [
      "---------------------------------------------------------------------------\n",
      "| end of epoch 211 | time:  0.51s | training loss 0.9815\n",
      "---------------------------------------------------------------------------\n"
     ]
    },
    {
     "name": "stderr",
     "output_type": "stream",
     "text": [
      " 53%|█████▎    | 212/400 [02:03<01:50,  1.70it/s]"
     ]
    },
    {
     "name": "stdout",
     "output_type": "stream",
     "text": [
      "---------------------------------------------------------------------------\n",
      "| end of epoch 212 | time:  0.52s | training loss 1.0901\n",
      "---------------------------------------------------------------------------\n"
     ]
    },
    {
     "name": "stderr",
     "output_type": "stream",
     "text": [
      " 53%|█████▎    | 213/400 [02:04<01:49,  1.71it/s]"
     ]
    },
    {
     "name": "stdout",
     "output_type": "stream",
     "text": [
      "---------------------------------------------------------------------------\n",
      "| end of epoch 213 | time:  0.55s | training loss 0.9229\n",
      "---------------------------------------------------------------------------\n"
     ]
    },
    {
     "name": "stderr",
     "output_type": "stream",
     "text": [
      " 54%|█████▎    | 214/400 [02:05<01:54,  1.62it/s]"
     ]
    },
    {
     "name": "stdout",
     "output_type": "stream",
     "text": [
      "---------------------------------------------------------------------------\n",
      "| end of epoch 214 | time:  0.65s | training loss 0.9433\n",
      "---------------------------------------------------------------------------\n"
     ]
    },
    {
     "name": "stderr",
     "output_type": "stream",
     "text": [
      " 54%|█████▍    | 215/400 [02:05<01:50,  1.68it/s]"
     ]
    },
    {
     "name": "stdout",
     "output_type": "stream",
     "text": [
      "---------------------------------------------------------------------------\n",
      "| end of epoch 215 | time:  0.52s | training loss 0.8431\n",
      "---------------------------------------------------------------------------\n"
     ]
    },
    {
     "name": "stderr",
     "output_type": "stream",
     "text": [
      " 54%|█████▍    | 216/400 [02:06<01:48,  1.70it/s]"
     ]
    },
    {
     "name": "stdout",
     "output_type": "stream",
     "text": [
      "---------------------------------------------------------------------------\n",
      "| end of epoch 216 | time:  0.54s | training loss 0.9637\n",
      "---------------------------------------------------------------------------\n"
     ]
    },
    {
     "name": "stderr",
     "output_type": "stream",
     "text": [
      " 54%|█████▍    | 217/400 [02:06<01:45,  1.73it/s]"
     ]
    },
    {
     "name": "stdout",
     "output_type": "stream",
     "text": [
      "---------------------------------------------------------------------------\n",
      "| end of epoch 217 | time:  0.52s | training loss 1.1139\n",
      "---------------------------------------------------------------------------\n"
     ]
    },
    {
     "name": "stderr",
     "output_type": "stream",
     "text": [
      " 55%|█████▍    | 218/400 [02:07<01:44,  1.73it/s]"
     ]
    },
    {
     "name": "stdout",
     "output_type": "stream",
     "text": [
      "---------------------------------------------------------------------------\n",
      "| end of epoch 218 | time:  0.54s | training loss 0.9302\n",
      "---------------------------------------------------------------------------\n"
     ]
    },
    {
     "name": "stderr",
     "output_type": "stream",
     "text": [
      " 55%|█████▍    | 219/400 [02:07<01:42,  1.77it/s]"
     ]
    },
    {
     "name": "stdout",
     "output_type": "stream",
     "text": [
      "---------------------------------------------------------------------------\n",
      "| end of epoch 219 | time:  0.50s | training loss 0.9571\n",
      "---------------------------------------------------------------------------\n"
     ]
    },
    {
     "name": "stderr",
     "output_type": "stream",
     "text": [
      " 55%|█████▌    | 220/400 [02:08<01:39,  1.81it/s]"
     ]
    },
    {
     "name": "stdout",
     "output_type": "stream",
     "text": [
      "---------------------------------------------------------------------------\n",
      "| end of epoch 220 | time:  0.49s | training loss 0.9863\n",
      "---------------------------------------------------------------------------\n"
     ]
    },
    {
     "name": "stderr",
     "output_type": "stream",
     "text": [
      " 55%|█████▌    | 221/400 [02:09<01:41,  1.76it/s]"
     ]
    },
    {
     "name": "stdout",
     "output_type": "stream",
     "text": [
      "---------------------------------------------------------------------------\n",
      "| end of epoch 221 | time:  0.56s | training loss 0.9530\n",
      "---------------------------------------------------------------------------\n"
     ]
    },
    {
     "name": "stderr",
     "output_type": "stream",
     "text": [
      " 56%|█████▌    | 222/400 [02:09<01:41,  1.75it/s]"
     ]
    },
    {
     "name": "stdout",
     "output_type": "stream",
     "text": [
      "---------------------------------------------------------------------------\n",
      "| end of epoch 222 | time:  0.55s | training loss 1.0289\n",
      "---------------------------------------------------------------------------\n"
     ]
    },
    {
     "name": "stderr",
     "output_type": "stream",
     "text": [
      " 56%|█████▌    | 223/400 [02:10<01:42,  1.72it/s]"
     ]
    },
    {
     "name": "stdout",
     "output_type": "stream",
     "text": [
      "---------------------------------------------------------------------------\n",
      "| end of epoch 223 | time:  0.57s | training loss 1.0496\n",
      "---------------------------------------------------------------------------\n"
     ]
    },
    {
     "name": "stderr",
     "output_type": "stream",
     "text": [
      " 56%|█████▌    | 224/400 [02:10<01:41,  1.73it/s]"
     ]
    },
    {
     "name": "stdout",
     "output_type": "stream",
     "text": [
      "---------------------------------------------------------------------------\n",
      "| end of epoch 224 | time:  0.53s | training loss 0.8722\n",
      "---------------------------------------------------------------------------\n"
     ]
    },
    {
     "name": "stderr",
     "output_type": "stream",
     "text": [
      " 56%|█████▋    | 225/400 [02:11<01:38,  1.78it/s]"
     ]
    },
    {
     "name": "stdout",
     "output_type": "stream",
     "text": [
      "---------------------------------------------------------------------------\n",
      "| end of epoch 225 | time:  0.49s | training loss 1.1400\n",
      "---------------------------------------------------------------------------\n"
     ]
    },
    {
     "name": "stderr",
     "output_type": "stream",
     "text": [
      " 56%|█████▋    | 226/400 [02:11<01:33,  1.85it/s]"
     ]
    },
    {
     "name": "stdout",
     "output_type": "stream",
     "text": [
      "---------------------------------------------------------------------------\n",
      "| end of epoch 226 | time:  0.46s | training loss 1.0644\n",
      "---------------------------------------------------------------------------\n"
     ]
    },
    {
     "name": "stderr",
     "output_type": "stream",
     "text": [
      " 57%|█████▋    | 227/400 [02:12<01:36,  1.80it/s]"
     ]
    },
    {
     "name": "stdout",
     "output_type": "stream",
     "text": [
      "---------------------------------------------------------------------------\n",
      "| end of epoch 227 | time:  0.56s | training loss 0.9769\n",
      "---------------------------------------------------------------------------\n"
     ]
    },
    {
     "name": "stderr",
     "output_type": "stream",
     "text": [
      " 57%|█████▋    | 228/400 [02:13<01:40,  1.71it/s]"
     ]
    },
    {
     "name": "stdout",
     "output_type": "stream",
     "text": [
      "---------------------------------------------------------------------------\n",
      "| end of epoch 228 | time:  0.61s | training loss 1.0046\n",
      "---------------------------------------------------------------------------\n"
     ]
    },
    {
     "name": "stderr",
     "output_type": "stream",
     "text": [
      " 57%|█████▋    | 229/400 [02:13<01:41,  1.69it/s]"
     ]
    },
    {
     "name": "stdout",
     "output_type": "stream",
     "text": [
      "---------------------------------------------------------------------------\n",
      "| end of epoch 229 | time:  0.57s | training loss 1.0683\n",
      "---------------------------------------------------------------------------\n"
     ]
    },
    {
     "name": "stderr",
     "output_type": "stream",
     "text": [
      " 57%|█████▊    | 230/400 [02:14<01:43,  1.64it/s]"
     ]
    },
    {
     "name": "stdout",
     "output_type": "stream",
     "text": [
      "---------------------------------------------------------------------------\n",
      "| end of epoch 230 | time:  0.62s | training loss 1.0662\n",
      "---------------------------------------------------------------------------\n"
     ]
    },
    {
     "name": "stderr",
     "output_type": "stream",
     "text": [
      " 58%|█████▊    | 231/400 [02:14<01:42,  1.65it/s]"
     ]
    },
    {
     "name": "stdout",
     "output_type": "stream",
     "text": [
      "---------------------------------------------------------------------------\n",
      "| end of epoch 231 | time:  0.57s | training loss 0.9855\n",
      "---------------------------------------------------------------------------\n"
     ]
    },
    {
     "name": "stderr",
     "output_type": "stream",
     "text": [
      " 58%|█████▊    | 232/400 [02:15<01:44,  1.61it/s]"
     ]
    },
    {
     "name": "stdout",
     "output_type": "stream",
     "text": [
      "---------------------------------------------------------------------------\n",
      "| end of epoch 232 | time:  0.61s | training loss 1.0265\n",
      "---------------------------------------------------------------------------\n"
     ]
    },
    {
     "name": "stderr",
     "output_type": "stream",
     "text": [
      " 58%|█████▊    | 233/400 [02:16<01:40,  1.66it/s]"
     ]
    },
    {
     "name": "stdout",
     "output_type": "stream",
     "text": [
      "---------------------------------------------------------------------------\n",
      "| end of epoch 233 | time:  0.53s | training loss 1.0738\n",
      "---------------------------------------------------------------------------\n"
     ]
    },
    {
     "name": "stderr",
     "output_type": "stream",
     "text": [
      " 58%|█████▊    | 234/400 [02:16<01:35,  1.73it/s]"
     ]
    },
    {
     "name": "stdout",
     "output_type": "stream",
     "text": [
      "---------------------------------------------------------------------------\n",
      "| end of epoch 234 | time:  0.49s | training loss 0.9734\n",
      "---------------------------------------------------------------------------\n"
     ]
    },
    {
     "name": "stderr",
     "output_type": "stream",
     "text": [
      " 59%|█████▉    | 235/400 [02:17<01:31,  1.81it/s]"
     ]
    },
    {
     "name": "stdout",
     "output_type": "stream",
     "text": [
      "---------------------------------------------------------------------------\n",
      "| end of epoch 235 | time:  0.46s | training loss 1.0792\n",
      "---------------------------------------------------------------------------\n"
     ]
    },
    {
     "name": "stderr",
     "output_type": "stream",
     "text": [
      " 59%|█████▉    | 236/400 [02:17<01:27,  1.88it/s]"
     ]
    },
    {
     "name": "stdout",
     "output_type": "stream",
     "text": [
      "---------------------------------------------------------------------------\n",
      "| end of epoch 236 | time:  0.45s | training loss 1.1313\n",
      "---------------------------------------------------------------------------\n"
     ]
    },
    {
     "name": "stderr",
     "output_type": "stream",
     "text": [
      " 59%|█████▉    | 237/400 [02:18<01:26,  1.89it/s]"
     ]
    },
    {
     "name": "stdout",
     "output_type": "stream",
     "text": [
      "---------------------------------------------------------------------------\n",
      "| end of epoch 237 | time:  0.49s | training loss 0.9120\n",
      "---------------------------------------------------------------------------\n"
     ]
    },
    {
     "name": "stderr",
     "output_type": "stream",
     "text": [
      " 60%|█████▉    | 238/400 [02:18<01:29,  1.82it/s]"
     ]
    },
    {
     "name": "stdout",
     "output_type": "stream",
     "text": [
      "---------------------------------------------------------------------------\n",
      "| end of epoch 238 | time:  0.57s | training loss 1.0081\n",
      "---------------------------------------------------------------------------\n"
     ]
    },
    {
     "name": "stderr",
     "output_type": "stream",
     "text": [
      " 60%|█████▉    | 239/400 [02:19<01:30,  1.78it/s]"
     ]
    },
    {
     "name": "stdout",
     "output_type": "stream",
     "text": [
      "---------------------------------------------------------------------------\n",
      "| end of epoch 239 | time:  0.56s | training loss 0.8636\n",
      "---------------------------------------------------------------------------\n"
     ]
    },
    {
     "name": "stderr",
     "output_type": "stream",
     "text": [
      " 60%|██████    | 240/400 [02:19<01:28,  1.80it/s]"
     ]
    },
    {
     "name": "stdout",
     "output_type": "stream",
     "text": [
      "---------------------------------------------------------------------------\n",
      "| end of epoch 240 | time:  0.51s | training loss 0.8284\n",
      "---------------------------------------------------------------------------\n"
     ]
    },
    {
     "name": "stderr",
     "output_type": "stream",
     "text": [
      " 60%|██████    | 241/400 [02:20<01:29,  1.78it/s]"
     ]
    },
    {
     "name": "stdout",
     "output_type": "stream",
     "text": [
      "---------------------------------------------------------------------------\n",
      "| end of epoch 241 | time:  0.53s | training loss 1.0562\n",
      "---------------------------------------------------------------------------\n"
     ]
    },
    {
     "name": "stderr",
     "output_type": "stream",
     "text": [
      " 60%|██████    | 242/400 [02:21<01:31,  1.72it/s]"
     ]
    },
    {
     "name": "stdout",
     "output_type": "stream",
     "text": [
      "---------------------------------------------------------------------------\n",
      "| end of epoch 242 | time:  0.59s | training loss 0.7786\n",
      "---------------------------------------------------------------------------\n"
     ]
    },
    {
     "name": "stderr",
     "output_type": "stream",
     "text": [
      " 61%|██████    | 243/400 [02:21<01:31,  1.71it/s]"
     ]
    },
    {
     "name": "stdout",
     "output_type": "stream",
     "text": [
      "---------------------------------------------------------------------------\n",
      "| end of epoch 243 | time:  0.56s | training loss 0.9274\n",
      "---------------------------------------------------------------------------\n"
     ]
    },
    {
     "name": "stderr",
     "output_type": "stream",
     "text": [
      " 61%|██████    | 244/400 [02:22<01:28,  1.76it/s]"
     ]
    },
    {
     "name": "stdout",
     "output_type": "stream",
     "text": [
      "---------------------------------------------------------------------------\n",
      "| end of epoch 244 | time:  0.49s | training loss 1.1217\n",
      "---------------------------------------------------------------------------\n"
     ]
    },
    {
     "name": "stderr",
     "output_type": "stream",
     "text": [
      " 61%|██████▏   | 245/400 [02:22<01:28,  1.75it/s]"
     ]
    },
    {
     "name": "stdout",
     "output_type": "stream",
     "text": [
      "---------------------------------------------------------------------------\n",
      "| end of epoch 245 | time:  0.54s | training loss 0.9078\n",
      "---------------------------------------------------------------------------\n"
     ]
    },
    {
     "name": "stderr",
     "output_type": "stream",
     "text": [
      " 62%|██████▏   | 246/400 [02:23<01:25,  1.81it/s]"
     ]
    },
    {
     "name": "stdout",
     "output_type": "stream",
     "text": [
      "---------------------------------------------------------------------------\n",
      "| end of epoch 246 | time:  0.48s | training loss 1.0530\n",
      "---------------------------------------------------------------------------\n"
     ]
    },
    {
     "name": "stderr",
     "output_type": "stream",
     "text": [
      " 62%|██████▏   | 247/400 [02:23<01:25,  1.79it/s]"
     ]
    },
    {
     "name": "stdout",
     "output_type": "stream",
     "text": [
      "---------------------------------------------------------------------------\n",
      "| end of epoch 247 | time:  0.53s | training loss 1.0476\n",
      "---------------------------------------------------------------------------\n"
     ]
    },
    {
     "name": "stderr",
     "output_type": "stream",
     "text": [
      " 62%|██████▏   | 248/400 [02:24<01:24,  1.79it/s]"
     ]
    },
    {
     "name": "stdout",
     "output_type": "stream",
     "text": [
      "---------------------------------------------------------------------------\n",
      "| end of epoch 248 | time:  0.52s | training loss 0.8727\n",
      "---------------------------------------------------------------------------\n"
     ]
    },
    {
     "name": "stderr",
     "output_type": "stream",
     "text": [
      " 62%|██████▏   | 249/400 [02:24<01:21,  1.85it/s]"
     ]
    },
    {
     "name": "stdout",
     "output_type": "stream",
     "text": [
      "---------------------------------------------------------------------------\n",
      "| end of epoch 249 | time:  0.47s | training loss 1.0196\n",
      "---------------------------------------------------------------------------\n"
     ]
    },
    {
     "name": "stderr",
     "output_type": "stream",
     "text": [
      " 62%|██████▎   | 250/400 [02:25<01:22,  1.83it/s]"
     ]
    },
    {
     "name": "stdout",
     "output_type": "stream",
     "text": [
      "---------------------------------------------------------------------------\n",
      "| end of epoch 250 | time:  0.53s | training loss 1.0378\n",
      "---------------------------------------------------------------------------\n"
     ]
    },
    {
     "name": "stderr",
     "output_type": "stream",
     "text": [
      " 63%|██████▎   | 251/400 [02:26<01:21,  1.83it/s]"
     ]
    },
    {
     "name": "stdout",
     "output_type": "stream",
     "text": [
      "---------------------------------------------------------------------------\n",
      "| end of epoch 251 | time:  0.51s | training loss 0.9804\n",
      "---------------------------------------------------------------------------\n"
     ]
    },
    {
     "name": "stderr",
     "output_type": "stream",
     "text": [
      " 63%|██████▎   | 252/400 [02:26<01:21,  1.81it/s]"
     ]
    },
    {
     "name": "stdout",
     "output_type": "stream",
     "text": [
      "---------------------------------------------------------------------------\n",
      "| end of epoch 252 | time:  0.53s | training loss 1.0631\n",
      "---------------------------------------------------------------------------\n"
     ]
    },
    {
     "name": "stderr",
     "output_type": "stream",
     "text": [
      " 63%|██████▎   | 253/400 [02:27<01:21,  1.79it/s]"
     ]
    },
    {
     "name": "stdout",
     "output_type": "stream",
     "text": [
      "---------------------------------------------------------------------------\n",
      "| end of epoch 253 | time:  0.54s | training loss 0.8929\n",
      "---------------------------------------------------------------------------\n"
     ]
    },
    {
     "name": "stderr",
     "output_type": "stream",
     "text": [
      " 64%|██████▎   | 254/400 [02:27<01:22,  1.77it/s]"
     ]
    },
    {
     "name": "stdout",
     "output_type": "stream",
     "text": [
      "---------------------------------------------------------------------------\n",
      "| end of epoch 254 | time:  0.55s | training loss 1.1004\n",
      "---------------------------------------------------------------------------\n"
     ]
    },
    {
     "name": "stderr",
     "output_type": "stream",
     "text": [
      " 64%|██████▍   | 255/400 [02:28<01:23,  1.75it/s]"
     ]
    },
    {
     "name": "stdout",
     "output_type": "stream",
     "text": [
      "---------------------------------------------------------------------------\n",
      "| end of epoch 255 | time:  0.56s | training loss 1.0266\n",
      "---------------------------------------------------------------------------\n"
     ]
    },
    {
     "name": "stderr",
     "output_type": "stream",
     "text": [
      " 64%|██████▍   | 256/400 [02:28<01:21,  1.77it/s]"
     ]
    },
    {
     "name": "stdout",
     "output_type": "stream",
     "text": [
      "---------------------------------------------------------------------------\n",
      "| end of epoch 256 | time:  0.50s | training loss 0.9471\n",
      "---------------------------------------------------------------------------\n"
     ]
    },
    {
     "name": "stderr",
     "output_type": "stream",
     "text": [
      " 64%|██████▍   | 257/400 [02:29<01:17,  1.85it/s]"
     ]
    },
    {
     "name": "stdout",
     "output_type": "stream",
     "text": [
      "---------------------------------------------------------------------------\n",
      "| end of epoch 257 | time:  0.46s | training loss 0.9324\n",
      "---------------------------------------------------------------------------\n"
     ]
    },
    {
     "name": "stderr",
     "output_type": "stream",
     "text": [
      " 64%|██████▍   | 258/400 [02:30<01:21,  1.74it/s]"
     ]
    },
    {
     "name": "stdout",
     "output_type": "stream",
     "text": [
      "---------------------------------------------------------------------------\n",
      "| end of epoch 258 | time:  0.62s | training loss 1.0388\n",
      "---------------------------------------------------------------------------\n"
     ]
    },
    {
     "name": "stderr",
     "output_type": "stream",
     "text": [
      " 65%|██████▍   | 259/400 [02:30<01:22,  1.70it/s]"
     ]
    },
    {
     "name": "stdout",
     "output_type": "stream",
     "text": [
      "---------------------------------------------------------------------------\n",
      "| end of epoch 259 | time:  0.58s | training loss 1.0452\n",
      "---------------------------------------------------------------------------\n"
     ]
    },
    {
     "name": "stderr",
     "output_type": "stream",
     "text": [
      " 65%|██████▌   | 260/400 [02:31<01:20,  1.73it/s]"
     ]
    },
    {
     "name": "stdout",
     "output_type": "stream",
     "text": [
      "---------------------------------------------------------------------------\n",
      "| end of epoch 260 | time:  0.53s | training loss 1.0308\n",
      "---------------------------------------------------------------------------\n"
     ]
    },
    {
     "name": "stderr",
     "output_type": "stream",
     "text": [
      " 65%|██████▌   | 261/400 [02:31<01:17,  1.80it/s]"
     ]
    },
    {
     "name": "stdout",
     "output_type": "stream",
     "text": [
      "---------------------------------------------------------------------------\n",
      "| end of epoch 261 | time:  0.47s | training loss 1.0223\n",
      "---------------------------------------------------------------------------\n"
     ]
    },
    {
     "name": "stderr",
     "output_type": "stream",
     "text": [
      " 66%|██████▌   | 262/400 [02:32<01:15,  1.82it/s]"
     ]
    },
    {
     "name": "stdout",
     "output_type": "stream",
     "text": [
      "---------------------------------------------------------------------------\n",
      "| end of epoch 262 | time:  0.50s | training loss 1.0432\n",
      "---------------------------------------------------------------------------\n"
     ]
    },
    {
     "name": "stderr",
     "output_type": "stream",
     "text": [
      " 66%|██████▌   | 263/400 [02:32<01:17,  1.76it/s]"
     ]
    },
    {
     "name": "stdout",
     "output_type": "stream",
     "text": [
      "---------------------------------------------------------------------------\n",
      "| end of epoch 263 | time:  0.59s | training loss 0.9066\n",
      "---------------------------------------------------------------------------\n"
     ]
    },
    {
     "name": "stderr",
     "output_type": "stream",
     "text": [
      " 66%|██████▌   | 264/400 [02:33<01:23,  1.64it/s]"
     ]
    },
    {
     "name": "stdout",
     "output_type": "stream",
     "text": [
      "---------------------------------------------------------------------------\n",
      "| end of epoch 264 | time:  0.67s | training loss 1.2008\n",
      "---------------------------------------------------------------------------\n"
     ]
    },
    {
     "name": "stderr",
     "output_type": "stream",
     "text": [
      " 66%|██████▋   | 265/400 [02:34<01:20,  1.68it/s]"
     ]
    },
    {
     "name": "stdout",
     "output_type": "stream",
     "text": [
      "---------------------------------------------------------------------------\n",
      "| end of epoch 265 | time:  0.52s | training loss 1.0296\n",
      "---------------------------------------------------------------------------\n"
     ]
    },
    {
     "name": "stderr",
     "output_type": "stream",
     "text": [
      " 66%|██████▋   | 266/400 [02:34<01:22,  1.63it/s]"
     ]
    },
    {
     "name": "stdout",
     "output_type": "stream",
     "text": [
      "---------------------------------------------------------------------------\n",
      "| end of epoch 266 | time:  0.62s | training loss 0.9002\n",
      "---------------------------------------------------------------------------\n"
     ]
    },
    {
     "name": "stderr",
     "output_type": "stream",
     "text": [
      " 67%|██████▋   | 267/400 [02:35<01:21,  1.64it/s]"
     ]
    },
    {
     "name": "stdout",
     "output_type": "stream",
     "text": [
      "---------------------------------------------------------------------------\n",
      "| end of epoch 267 | time:  0.58s | training loss 1.0349\n",
      "---------------------------------------------------------------------------\n"
     ]
    },
    {
     "name": "stderr",
     "output_type": "stream",
     "text": [
      " 67%|██████▋   | 268/400 [02:36<01:19,  1.67it/s]"
     ]
    },
    {
     "name": "stdout",
     "output_type": "stream",
     "text": [
      "---------------------------------------------------------------------------\n",
      "| end of epoch 268 | time:  0.53s | training loss 0.9233\n",
      "---------------------------------------------------------------------------\n"
     ]
    },
    {
     "name": "stderr",
     "output_type": "stream",
     "text": [
      " 67%|██████▋   | 269/400 [02:36<01:14,  1.75it/s]"
     ]
    },
    {
     "name": "stdout",
     "output_type": "stream",
     "text": [
      "---------------------------------------------------------------------------\n",
      "| end of epoch 269 | time:  0.48s | training loss 0.9811\n",
      "---------------------------------------------------------------------------\n"
     ]
    },
    {
     "name": "stderr",
     "output_type": "stream",
     "text": [
      " 68%|██████▊   | 270/400 [02:37<01:15,  1.73it/s]"
     ]
    },
    {
     "name": "stdout",
     "output_type": "stream",
     "text": [
      "---------------------------------------------------------------------------\n",
      "| end of epoch 270 | time:  0.56s | training loss 1.1282\n",
      "---------------------------------------------------------------------------\n"
     ]
    },
    {
     "name": "stderr",
     "output_type": "stream",
     "text": [
      " 68%|██████▊   | 271/400 [02:37<01:12,  1.77it/s]"
     ]
    },
    {
     "name": "stdout",
     "output_type": "stream",
     "text": [
      "---------------------------------------------------------------------------\n",
      "| end of epoch 271 | time:  0.50s | training loss 1.0180\n",
      "---------------------------------------------------------------------------\n"
     ]
    },
    {
     "name": "stderr",
     "output_type": "stream",
     "text": [
      " 68%|██████▊   | 272/400 [02:38<01:14,  1.72it/s]"
     ]
    },
    {
     "name": "stdout",
     "output_type": "stream",
     "text": [
      "---------------------------------------------------------------------------\n",
      "| end of epoch 272 | time:  0.58s | training loss 0.9854\n",
      "---------------------------------------------------------------------------\n"
     ]
    },
    {
     "name": "stderr",
     "output_type": "stream",
     "text": [
      " 68%|██████▊   | 273/400 [02:38<01:11,  1.78it/s]"
     ]
    },
    {
     "name": "stdout",
     "output_type": "stream",
     "text": [
      "---------------------------------------------------------------------------\n",
      "| end of epoch 273 | time:  0.49s | training loss 1.0469\n",
      "---------------------------------------------------------------------------\n"
     ]
    },
    {
     "name": "stderr",
     "output_type": "stream",
     "text": [
      " 68%|██████▊   | 274/400 [02:39<01:08,  1.83it/s]"
     ]
    },
    {
     "name": "stdout",
     "output_type": "stream",
     "text": [
      "---------------------------------------------------------------------------\n",
      "| end of epoch 274 | time:  0.48s | training loss 1.1464\n",
      "---------------------------------------------------------------------------\n"
     ]
    },
    {
     "name": "stderr",
     "output_type": "stream",
     "text": [
      " 69%|██████▉   | 275/400 [02:39<01:11,  1.76it/s]"
     ]
    },
    {
     "name": "stdout",
     "output_type": "stream",
     "text": [
      "---------------------------------------------------------------------------\n",
      "| end of epoch 275 | time:  0.59s | training loss 0.9646\n",
      "---------------------------------------------------------------------------\n"
     ]
    },
    {
     "name": "stderr",
     "output_type": "stream",
     "text": [
      " 69%|██████▉   | 276/400 [02:40<01:12,  1.72it/s]"
     ]
    },
    {
     "name": "stdout",
     "output_type": "stream",
     "text": [
      "---------------------------------------------------------------------------\n",
      "| end of epoch 276 | time:  0.58s | training loss 0.7915\n",
      "---------------------------------------------------------------------------\n"
     ]
    },
    {
     "name": "stderr",
     "output_type": "stream",
     "text": [
      " 69%|██████▉   | 277/400 [02:41<01:10,  1.74it/s]"
     ]
    },
    {
     "name": "stdout",
     "output_type": "stream",
     "text": [
      "---------------------------------------------------------------------------\n",
      "| end of epoch 277 | time:  0.52s | training loss 0.9139\n",
      "---------------------------------------------------------------------------\n"
     ]
    },
    {
     "name": "stderr",
     "output_type": "stream",
     "text": [
      " 70%|██████▉   | 278/400 [02:41<01:11,  1.72it/s]"
     ]
    },
    {
     "name": "stdout",
     "output_type": "stream",
     "text": [
      "---------------------------------------------------------------------------\n",
      "| end of epoch 278 | time:  0.57s | training loss 0.8867\n",
      "---------------------------------------------------------------------------\n"
     ]
    },
    {
     "name": "stderr",
     "output_type": "stream",
     "text": [
      " 70%|██████▉   | 279/400 [02:42<01:09,  1.74it/s]"
     ]
    },
    {
     "name": "stdout",
     "output_type": "stream",
     "text": [
      "---------------------------------------------------------------------------\n",
      "| end of epoch 279 | time:  0.52s | training loss 1.0678\n",
      "---------------------------------------------------------------------------\n"
     ]
    },
    {
     "name": "stderr",
     "output_type": "stream",
     "text": [
      " 70%|███████   | 280/400 [02:42<01:06,  1.80it/s]"
     ]
    },
    {
     "name": "stdout",
     "output_type": "stream",
     "text": [
      "---------------------------------------------------------------------------\n",
      "| end of epoch 280 | time:  0.48s | training loss 0.8328\n",
      "---------------------------------------------------------------------------\n"
     ]
    },
    {
     "name": "stderr",
     "output_type": "stream",
     "text": [
      " 70%|███████   | 281/400 [02:43<01:03,  1.88it/s]"
     ]
    },
    {
     "name": "stdout",
     "output_type": "stream",
     "text": [
      "---------------------------------------------------------------------------\n",
      "| end of epoch 281 | time:  0.45s | training loss 1.0171\n",
      "---------------------------------------------------------------------------\n"
     ]
    },
    {
     "name": "stderr",
     "output_type": "stream",
     "text": [
      " 70%|███████   | 282/400 [02:43<01:01,  1.92it/s]"
     ]
    },
    {
     "name": "stdout",
     "output_type": "stream",
     "text": [
      "---------------------------------------------------------------------------\n",
      "| end of epoch 282 | time:  0.46s | training loss 0.8500\n",
      "---------------------------------------------------------------------------\n"
     ]
    },
    {
     "name": "stderr",
     "output_type": "stream",
     "text": [
      " 71%|███████   | 283/400 [02:44<01:01,  1.91it/s]"
     ]
    },
    {
     "name": "stdout",
     "output_type": "stream",
     "text": [
      "---------------------------------------------------------------------------\n",
      "| end of epoch 283 | time:  0.50s | training loss 1.0277\n",
      "---------------------------------------------------------------------------\n"
     ]
    },
    {
     "name": "stderr",
     "output_type": "stream",
     "text": [
      " 71%|███████   | 284/400 [02:44<01:02,  1.85it/s]"
     ]
    },
    {
     "name": "stdout",
     "output_type": "stream",
     "text": [
      "---------------------------------------------------------------------------\n",
      "| end of epoch 284 | time:  0.54s | training loss 0.9701\n",
      "---------------------------------------------------------------------------\n"
     ]
    },
    {
     "name": "stderr",
     "output_type": "stream",
     "text": [
      " 71%|███████▏  | 285/400 [02:45<01:03,  1.82it/s]"
     ]
    },
    {
     "name": "stdout",
     "output_type": "stream",
     "text": [
      "---------------------------------------------------------------------------\n",
      "| end of epoch 285 | time:  0.53s | training loss 0.9790\n",
      "---------------------------------------------------------------------------\n"
     ]
    },
    {
     "name": "stderr",
     "output_type": "stream",
     "text": [
      " 72%|███████▏  | 286/400 [02:46<01:05,  1.75it/s]"
     ]
    },
    {
     "name": "stdout",
     "output_type": "stream",
     "text": [
      "---------------------------------------------------------------------------\n",
      "| end of epoch 286 | time:  0.59s | training loss 1.0351\n",
      "---------------------------------------------------------------------------\n"
     ]
    },
    {
     "name": "stderr",
     "output_type": "stream",
     "text": [
      " 72%|███████▏  | 287/400 [02:46<01:05,  1.72it/s]"
     ]
    },
    {
     "name": "stdout",
     "output_type": "stream",
     "text": [
      "---------------------------------------------------------------------------\n",
      "| end of epoch 287 | time:  0.57s | training loss 0.8668\n",
      "---------------------------------------------------------------------------\n"
     ]
    },
    {
     "name": "stderr",
     "output_type": "stream",
     "text": [
      " 72%|███████▏  | 288/400 [02:47<01:06,  1.69it/s]"
     ]
    },
    {
     "name": "stdout",
     "output_type": "stream",
     "text": [
      "---------------------------------------------------------------------------\n",
      "| end of epoch 288 | time:  0.58s | training loss 1.0765\n",
      "---------------------------------------------------------------------------\n"
     ]
    },
    {
     "name": "stderr",
     "output_type": "stream",
     "text": [
      " 72%|███████▏  | 289/400 [02:47<01:06,  1.68it/s]"
     ]
    },
    {
     "name": "stdout",
     "output_type": "stream",
     "text": [
      "---------------------------------------------------------------------------\n",
      "| end of epoch 289 | time:  0.58s | training loss 0.9232\n",
      "---------------------------------------------------------------------------\n"
     ]
    },
    {
     "name": "stderr",
     "output_type": "stream",
     "text": [
      " 72%|███████▎  | 290/400 [02:48<01:05,  1.68it/s]"
     ]
    },
    {
     "name": "stdout",
     "output_type": "stream",
     "text": [
      "---------------------------------------------------------------------------\n",
      "| end of epoch 290 | time:  0.56s | training loss 0.8937\n",
      "---------------------------------------------------------------------------\n"
     ]
    },
    {
     "name": "stderr",
     "output_type": "stream",
     "text": [
      " 73%|███████▎  | 291/400 [02:49<01:05,  1.67it/s]"
     ]
    },
    {
     "name": "stdout",
     "output_type": "stream",
     "text": [
      "---------------------------------------------------------------------------\n",
      "| end of epoch 291 | time:  0.57s | training loss 1.1357\n",
      "---------------------------------------------------------------------------\n"
     ]
    },
    {
     "name": "stderr",
     "output_type": "stream",
     "text": [
      " 73%|███████▎  | 292/400 [02:49<01:03,  1.71it/s]"
     ]
    },
    {
     "name": "stdout",
     "output_type": "stream",
     "text": [
      "---------------------------------------------------------------------------\n",
      "| end of epoch 292 | time:  0.52s | training loss 0.8825\n",
      "---------------------------------------------------------------------------\n"
     ]
    },
    {
     "name": "stderr",
     "output_type": "stream",
     "text": [
      " 73%|███████▎  | 293/400 [02:50<01:02,  1.71it/s]"
     ]
    },
    {
     "name": "stdout",
     "output_type": "stream",
     "text": [
      "---------------------------------------------------------------------------\n",
      "| end of epoch 293 | time:  0.55s | training loss 1.1462\n",
      "---------------------------------------------------------------------------\n"
     ]
    },
    {
     "name": "stderr",
     "output_type": "stream",
     "text": [
      " 74%|███████▎  | 294/400 [02:50<01:01,  1.73it/s]"
     ]
    },
    {
     "name": "stdout",
     "output_type": "stream",
     "text": [
      "---------------------------------------------------------------------------\n",
      "| end of epoch 294 | time:  0.52s | training loss 0.8361\n",
      "---------------------------------------------------------------------------\n"
     ]
    },
    {
     "name": "stderr",
     "output_type": "stream",
     "text": [
      " 74%|███████▍  | 295/400 [02:51<00:59,  1.77it/s]"
     ]
    },
    {
     "name": "stdout",
     "output_type": "stream",
     "text": [
      "---------------------------------------------------------------------------\n",
      "| end of epoch 295 | time:  0.50s | training loss 0.9769\n",
      "---------------------------------------------------------------------------\n"
     ]
    },
    {
     "name": "stderr",
     "output_type": "stream",
     "text": [
      " 74%|███████▍  | 296/400 [02:51<00:57,  1.81it/s]"
     ]
    },
    {
     "name": "stdout",
     "output_type": "stream",
     "text": [
      "---------------------------------------------------------------------------\n",
      "| end of epoch 296 | time:  0.49s | training loss 0.8792\n",
      "---------------------------------------------------------------------------\n"
     ]
    },
    {
     "name": "stderr",
     "output_type": "stream",
     "text": [
      " 74%|███████▍  | 297/400 [02:52<00:55,  1.87it/s]"
     ]
    },
    {
     "name": "stdout",
     "output_type": "stream",
     "text": [
      "---------------------------------------------------------------------------\n",
      "| end of epoch 297 | time:  0.46s | training loss 0.9428\n",
      "---------------------------------------------------------------------------\n"
     ]
    },
    {
     "name": "stderr",
     "output_type": "stream",
     "text": [
      " 74%|███████▍  | 298/400 [02:52<00:54,  1.88it/s]"
     ]
    },
    {
     "name": "stdout",
     "output_type": "stream",
     "text": [
      "---------------------------------------------------------------------------\n",
      "| end of epoch 298 | time:  0.49s | training loss 1.2123\n",
      "---------------------------------------------------------------------------\n"
     ]
    },
    {
     "name": "stderr",
     "output_type": "stream",
     "text": [
      " 75%|███████▍  | 299/400 [02:53<00:54,  1.87it/s]"
     ]
    },
    {
     "name": "stdout",
     "output_type": "stream",
     "text": [
      "---------------------------------------------------------------------------\n",
      "| end of epoch 299 | time:  0.51s | training loss 0.9891\n",
      "---------------------------------------------------------------------------\n"
     ]
    },
    {
     "name": "stderr",
     "output_type": "stream",
     "text": [
      " 75%|███████▌  | 300/400 [02:54<00:57,  1.73it/s]"
     ]
    },
    {
     "name": "stdout",
     "output_type": "stream",
     "text": [
      "---------------------------------------------------------------------------\n",
      "| end of epoch 300 | time:  0.64s | training loss 1.1931\n",
      "---------------------------------------------------------------------------\n"
     ]
    },
    {
     "name": "stderr",
     "output_type": "stream",
     "text": [
      " 75%|███████▌  | 301/400 [02:54<00:57,  1.72it/s]"
     ]
    },
    {
     "name": "stdout",
     "output_type": "stream",
     "text": [
      "---------------------------------------------------------------------------\n",
      "| end of epoch 301 | time:  0.55s | training loss 1.1139\n",
      "---------------------------------------------------------------------------\n"
     ]
    },
    {
     "name": "stderr",
     "output_type": "stream",
     "text": [
      " 76%|███████▌  | 302/400 [02:55<00:56,  1.73it/s]"
     ]
    },
    {
     "name": "stdout",
     "output_type": "stream",
     "text": [
      "---------------------------------------------------------------------------\n",
      "| end of epoch 302 | time:  0.54s | training loss 0.9040\n",
      "---------------------------------------------------------------------------\n"
     ]
    },
    {
     "name": "stderr",
     "output_type": "stream",
     "text": [
      " 76%|███████▌  | 303/400 [02:55<00:53,  1.82it/s]"
     ]
    },
    {
     "name": "stdout",
     "output_type": "stream",
     "text": [
      "---------------------------------------------------------------------------\n",
      "| end of epoch 303 | time:  0.45s | training loss 0.9563\n",
      "---------------------------------------------------------------------------\n"
     ]
    },
    {
     "name": "stderr",
     "output_type": "stream",
     "text": [
      " 76%|███████▌  | 304/400 [02:56<00:51,  1.87it/s]"
     ]
    },
    {
     "name": "stdout",
     "output_type": "stream",
     "text": [
      "---------------------------------------------------------------------------\n",
      "| end of epoch 304 | time:  0.46s | training loss 1.0947\n",
      "---------------------------------------------------------------------------\n"
     ]
    },
    {
     "name": "stderr",
     "output_type": "stream",
     "text": [
      " 76%|███████▋  | 305/400 [02:56<00:50,  1.88it/s]"
     ]
    },
    {
     "name": "stdout",
     "output_type": "stream",
     "text": [
      "---------------------------------------------------------------------------\n",
      "| end of epoch 305 | time:  0.49s | training loss 0.9413\n",
      "---------------------------------------------------------------------------\n"
     ]
    },
    {
     "name": "stderr",
     "output_type": "stream",
     "text": [
      " 76%|███████▋  | 306/400 [02:57<00:50,  1.86it/s]"
     ]
    },
    {
     "name": "stdout",
     "output_type": "stream",
     "text": [
      "---------------------------------------------------------------------------\n",
      "| end of epoch 306 | time:  0.52s | training loss 1.0168\n",
      "---------------------------------------------------------------------------\n"
     ]
    },
    {
     "name": "stderr",
     "output_type": "stream",
     "text": [
      " 77%|███████▋  | 307/400 [02:57<00:49,  1.86it/s]"
     ]
    },
    {
     "name": "stdout",
     "output_type": "stream",
     "text": [
      "---------------------------------------------------------------------------\n",
      "| end of epoch 307 | time:  0.49s | training loss 1.0645\n",
      "---------------------------------------------------------------------------\n"
     ]
    },
    {
     "name": "stderr",
     "output_type": "stream",
     "text": [
      " 77%|███████▋  | 308/400 [02:58<00:48,  1.88it/s]"
     ]
    },
    {
     "name": "stdout",
     "output_type": "stream",
     "text": [
      "---------------------------------------------------------------------------\n",
      "| end of epoch 308 | time:  0.49s | training loss 0.9901\n",
      "---------------------------------------------------------------------------\n"
     ]
    },
    {
     "name": "stderr",
     "output_type": "stream",
     "text": [
      " 77%|███████▋  | 309/400 [02:58<00:47,  1.92it/s]"
     ]
    },
    {
     "name": "stdout",
     "output_type": "stream",
     "text": [
      "---------------------------------------------------------------------------\n",
      "| end of epoch 309 | time:  0.46s | training loss 0.9073\n",
      "---------------------------------------------------------------------------\n"
     ]
    },
    {
     "name": "stderr",
     "output_type": "stream",
     "text": [
      " 78%|███████▊  | 310/400 [02:59<00:48,  1.86it/s]"
     ]
    },
    {
     "name": "stdout",
     "output_type": "stream",
     "text": [
      "---------------------------------------------------------------------------\n",
      "| end of epoch 310 | time:  0.53s | training loss 0.8977\n",
      "---------------------------------------------------------------------------\n"
     ]
    },
    {
     "name": "stderr",
     "output_type": "stream",
     "text": [
      " 78%|███████▊  | 311/400 [02:59<00:48,  1.85it/s]"
     ]
    },
    {
     "name": "stdout",
     "output_type": "stream",
     "text": [
      "---------------------------------------------------------------------------\n",
      "| end of epoch 311 | time:  0.52s | training loss 1.1254\n",
      "---------------------------------------------------------------------------\n"
     ]
    },
    {
     "name": "stderr",
     "output_type": "stream",
     "text": [
      " 78%|███████▊  | 312/400 [03:00<00:49,  1.77it/s]"
     ]
    },
    {
     "name": "stdout",
     "output_type": "stream",
     "text": [
      "---------------------------------------------------------------------------\n",
      "| end of epoch 312 | time:  0.59s | training loss 0.9449\n",
      "---------------------------------------------------------------------------\n"
     ]
    },
    {
     "name": "stderr",
     "output_type": "stream",
     "text": [
      " 78%|███████▊  | 313/400 [03:01<00:51,  1.67it/s]"
     ]
    },
    {
     "name": "stdout",
     "output_type": "stream",
     "text": [
      "---------------------------------------------------------------------------\n",
      "| end of epoch 313 | time:  0.63s | training loss 1.0649\n",
      "---------------------------------------------------------------------------\n"
     ]
    },
    {
     "name": "stderr",
     "output_type": "stream",
     "text": [
      " 78%|███████▊  | 314/400 [03:01<00:52,  1.62it/s]"
     ]
    },
    {
     "name": "stdout",
     "output_type": "stream",
     "text": [
      "---------------------------------------------------------------------------\n",
      "| end of epoch 314 | time:  0.62s | training loss 1.0923\n",
      "---------------------------------------------------------------------------\n"
     ]
    },
    {
     "name": "stderr",
     "output_type": "stream",
     "text": [
      " 79%|███████▉  | 315/400 [03:02<00:51,  1.64it/s]"
     ]
    },
    {
     "name": "stdout",
     "output_type": "stream",
     "text": [
      "---------------------------------------------------------------------------\n",
      "| end of epoch 315 | time:  0.56s | training loss 1.0157\n",
      "---------------------------------------------------------------------------\n"
     ]
    },
    {
     "name": "stderr",
     "output_type": "stream",
     "text": [
      " 79%|███████▉  | 316/400 [03:03<00:48,  1.71it/s]"
     ]
    },
    {
     "name": "stdout",
     "output_type": "stream",
     "text": [
      "---------------------------------------------------------------------------\n",
      "| end of epoch 316 | time:  0.49s | training loss 0.9458\n",
      "---------------------------------------------------------------------------\n"
     ]
    },
    {
     "name": "stderr",
     "output_type": "stream",
     "text": [
      " 79%|███████▉  | 317/400 [03:03<00:46,  1.77it/s]"
     ]
    },
    {
     "name": "stdout",
     "output_type": "stream",
     "text": [
      "---------------------------------------------------------------------------\n",
      "| end of epoch 317 | time:  0.49s | training loss 1.0946\n",
      "---------------------------------------------------------------------------\n"
     ]
    },
    {
     "name": "stderr",
     "output_type": "stream",
     "text": [
      " 80%|███████▉  | 318/400 [03:04<00:45,  1.81it/s]"
     ]
    },
    {
     "name": "stdout",
     "output_type": "stream",
     "text": [
      "---------------------------------------------------------------------------\n",
      "| end of epoch 318 | time:  0.49s | training loss 0.9759\n",
      "---------------------------------------------------------------------------\n"
     ]
    },
    {
     "name": "stderr",
     "output_type": "stream",
     "text": [
      " 80%|███████▉  | 319/400 [03:04<00:45,  1.78it/s]"
     ]
    },
    {
     "name": "stdout",
     "output_type": "stream",
     "text": [
      "---------------------------------------------------------------------------\n",
      "| end of epoch 319 | time:  0.54s | training loss 0.9794\n",
      "---------------------------------------------------------------------------\n"
     ]
    },
    {
     "name": "stderr",
     "output_type": "stream",
     "text": [
      " 80%|████████  | 320/400 [03:05<00:46,  1.74it/s]"
     ]
    },
    {
     "name": "stdout",
     "output_type": "stream",
     "text": [
      "---------------------------------------------------------------------------\n",
      "| end of epoch 320 | time:  0.57s | training loss 0.9318\n",
      "---------------------------------------------------------------------------\n"
     ]
    },
    {
     "name": "stderr",
     "output_type": "stream",
     "text": [
      " 80%|████████  | 321/400 [03:05<00:47,  1.67it/s]"
     ]
    },
    {
     "name": "stdout",
     "output_type": "stream",
     "text": [
      "---------------------------------------------------------------------------\n",
      "| end of epoch 321 | time:  0.62s | training loss 1.2670\n",
      "---------------------------------------------------------------------------\n"
     ]
    },
    {
     "name": "stderr",
     "output_type": "stream",
     "text": [
      " 80%|████████  | 322/400 [03:06<00:45,  1.72it/s]"
     ]
    },
    {
     "name": "stdout",
     "output_type": "stream",
     "text": [
      "---------------------------------------------------------------------------\n",
      "| end of epoch 322 | time:  0.50s | training loss 0.9521\n",
      "---------------------------------------------------------------------------\n"
     ]
    },
    {
     "name": "stderr",
     "output_type": "stream",
     "text": [
      " 81%|████████  | 323/400 [03:06<00:43,  1.78it/s]"
     ]
    },
    {
     "name": "stdout",
     "output_type": "stream",
     "text": [
      "---------------------------------------------------------------------------\n",
      "| end of epoch 323 | time:  0.49s | training loss 1.0433\n",
      "---------------------------------------------------------------------------\n"
     ]
    },
    {
     "name": "stderr",
     "output_type": "stream",
     "text": [
      " 81%|████████  | 324/400 [03:07<00:41,  1.84it/s]"
     ]
    },
    {
     "name": "stdout",
     "output_type": "stream",
     "text": [
      "---------------------------------------------------------------------------\n",
      "| end of epoch 324 | time:  0.47s | training loss 0.8898\n",
      "---------------------------------------------------------------------------\n"
     ]
    },
    {
     "name": "stderr",
     "output_type": "stream",
     "text": [
      " 81%|████████▏ | 325/400 [03:07<00:40,  1.87it/s]"
     ]
    },
    {
     "name": "stdout",
     "output_type": "stream",
     "text": [
      "---------------------------------------------------------------------------\n",
      "| end of epoch 325 | time:  0.49s | training loss 0.9829\n",
      "---------------------------------------------------------------------------\n"
     ]
    },
    {
     "name": "stderr",
     "output_type": "stream",
     "text": [
      " 82%|████████▏ | 326/400 [03:08<00:41,  1.78it/s]"
     ]
    },
    {
     "name": "stdout",
     "output_type": "stream",
     "text": [
      "---------------------------------------------------------------------------\n",
      "| end of epoch 326 | time:  0.60s | training loss 0.9079\n",
      "---------------------------------------------------------------------------\n"
     ]
    },
    {
     "name": "stderr",
     "output_type": "stream",
     "text": [
      " 82%|████████▏ | 327/400 [03:09<00:40,  1.79it/s]"
     ]
    },
    {
     "name": "stdout",
     "output_type": "stream",
     "text": [
      "---------------------------------------------------------------------------\n",
      "| end of epoch 327 | time:  0.51s | training loss 1.0022\n",
      "---------------------------------------------------------------------------\n"
     ]
    },
    {
     "name": "stderr",
     "output_type": "stream",
     "text": [
      " 82%|████████▏ | 328/400 [03:09<00:41,  1.75it/s]"
     ]
    },
    {
     "name": "stdout",
     "output_type": "stream",
     "text": [
      "---------------------------------------------------------------------------\n",
      "| end of epoch 328 | time:  0.57s | training loss 0.8780\n",
      "---------------------------------------------------------------------------\n"
     ]
    },
    {
     "name": "stderr",
     "output_type": "stream",
     "text": [
      " 82%|████████▏ | 329/400 [03:10<00:39,  1.82it/s]"
     ]
    },
    {
     "name": "stdout",
     "output_type": "stream",
     "text": [
      "---------------------------------------------------------------------------\n",
      "| end of epoch 329 | time:  0.47s | training loss 1.0827\n",
      "---------------------------------------------------------------------------\n"
     ]
    },
    {
     "name": "stderr",
     "output_type": "stream",
     "text": [
      " 82%|████████▎ | 330/400 [03:10<00:38,  1.84it/s]"
     ]
    },
    {
     "name": "stdout",
     "output_type": "stream",
     "text": [
      "---------------------------------------------------------------------------\n",
      "| end of epoch 330 | time:  0.49s | training loss 0.9360\n",
      "---------------------------------------------------------------------------\n"
     ]
    },
    {
     "name": "stderr",
     "output_type": "stream",
     "text": [
      " 83%|████████▎ | 331/400 [03:11<00:41,  1.65it/s]"
     ]
    },
    {
     "name": "stdout",
     "output_type": "stream",
     "text": [
      "---------------------------------------------------------------------------\n",
      "| end of epoch 331 | time:  0.72s | training loss 1.0320\n",
      "---------------------------------------------------------------------------\n"
     ]
    },
    {
     "name": "stderr",
     "output_type": "stream",
     "text": [
      " 83%|████████▎ | 332/400 [03:12<00:40,  1.69it/s]"
     ]
    },
    {
     "name": "stdout",
     "output_type": "stream",
     "text": [
      "---------------------------------------------------------------------------\n",
      "| end of epoch 332 | time:  0.52s | training loss 0.9506\n",
      "---------------------------------------------------------------------------\n"
     ]
    },
    {
     "name": "stderr",
     "output_type": "stream",
     "text": [
      " 83%|████████▎ | 333/400 [03:12<00:38,  1.74it/s]"
     ]
    },
    {
     "name": "stdout",
     "output_type": "stream",
     "text": [
      "---------------------------------------------------------------------------\n",
      "| end of epoch 333 | time:  0.50s | training loss 0.9922\n",
      "---------------------------------------------------------------------------\n"
     ]
    },
    {
     "name": "stderr",
     "output_type": "stream",
     "text": [
      " 84%|████████▎ | 334/400 [03:13<00:39,  1.69it/s]"
     ]
    },
    {
     "name": "stdout",
     "output_type": "stream",
     "text": [
      "---------------------------------------------------------------------------\n",
      "| end of epoch 334 | time:  0.60s | training loss 0.9190\n",
      "---------------------------------------------------------------------------\n"
     ]
    },
    {
     "name": "stderr",
     "output_type": "stream",
     "text": [
      " 84%|████████▍ | 335/400 [03:13<00:37,  1.75it/s]"
     ]
    },
    {
     "name": "stdout",
     "output_type": "stream",
     "text": [
      "---------------------------------------------------------------------------\n",
      "| end of epoch 335 | time:  0.49s | training loss 1.0613\n",
      "---------------------------------------------------------------------------\n"
     ]
    },
    {
     "name": "stderr",
     "output_type": "stream",
     "text": [
      " 84%|████████▍ | 336/400 [03:14<00:35,  1.80it/s]"
     ]
    },
    {
     "name": "stdout",
     "output_type": "stream",
     "text": [
      "---------------------------------------------------------------------------\n",
      "| end of epoch 336 | time:  0.49s | training loss 1.0639\n",
      "---------------------------------------------------------------------------\n"
     ]
    },
    {
     "name": "stderr",
     "output_type": "stream",
     "text": [
      " 84%|████████▍ | 337/400 [03:14<00:34,  1.80it/s]"
     ]
    },
    {
     "name": "stdout",
     "output_type": "stream",
     "text": [
      "---------------------------------------------------------------------------\n",
      "| end of epoch 337 | time:  0.52s | training loss 0.9851\n",
      "---------------------------------------------------------------------------\n"
     ]
    },
    {
     "name": "stderr",
     "output_type": "stream",
     "text": [
      " 84%|████████▍ | 338/400 [03:15<00:34,  1.81it/s]"
     ]
    },
    {
     "name": "stdout",
     "output_type": "stream",
     "text": [
      "---------------------------------------------------------------------------\n",
      "| end of epoch 338 | time:  0.52s | training loss 1.1610\n",
      "---------------------------------------------------------------------------\n"
     ]
    },
    {
     "name": "stderr",
     "output_type": "stream",
     "text": [
      " 85%|████████▍ | 339/400 [03:16<00:34,  1.75it/s]"
     ]
    },
    {
     "name": "stdout",
     "output_type": "stream",
     "text": [
      "---------------------------------------------------------------------------\n",
      "| end of epoch 339 | time:  0.58s | training loss 1.0516\n",
      "---------------------------------------------------------------------------\n"
     ]
    },
    {
     "name": "stderr",
     "output_type": "stream",
     "text": [
      " 85%|████████▌ | 340/400 [03:16<00:34,  1.72it/s]"
     ]
    },
    {
     "name": "stdout",
     "output_type": "stream",
     "text": [
      "---------------------------------------------------------------------------\n",
      "| end of epoch 340 | time:  0.57s | training loss 1.0407\n",
      "---------------------------------------------------------------------------\n"
     ]
    },
    {
     "name": "stderr",
     "output_type": "stream",
     "text": [
      " 85%|████████▌ | 341/400 [03:17<00:33,  1.76it/s]"
     ]
    },
    {
     "name": "stdout",
     "output_type": "stream",
     "text": [
      "---------------------------------------------------------------------------\n",
      "| end of epoch 341 | time:  0.51s | training loss 0.9422\n",
      "---------------------------------------------------------------------------\n"
     ]
    },
    {
     "name": "stderr",
     "output_type": "stream",
     "text": [
      " 86%|████████▌ | 342/400 [03:17<00:32,  1.78it/s]"
     ]
    },
    {
     "name": "stdout",
     "output_type": "stream",
     "text": [
      "---------------------------------------------------------------------------\n",
      "| end of epoch 342 | time:  0.51s | training loss 0.9399\n",
      "---------------------------------------------------------------------------\n"
     ]
    },
    {
     "name": "stderr",
     "output_type": "stream",
     "text": [
      " 86%|████████▌ | 343/400 [03:18<00:31,  1.82it/s]"
     ]
    },
    {
     "name": "stdout",
     "output_type": "stream",
     "text": [
      "---------------------------------------------------------------------------\n",
      "| end of epoch 343 | time:  0.49s | training loss 0.9977\n",
      "---------------------------------------------------------------------------\n"
     ]
    },
    {
     "name": "stderr",
     "output_type": "stream",
     "text": [
      " 86%|████████▌ | 344/400 [03:18<00:30,  1.86it/s]"
     ]
    },
    {
     "name": "stdout",
     "output_type": "stream",
     "text": [
      "---------------------------------------------------------------------------\n",
      "| end of epoch 344 | time:  0.48s | training loss 0.9364\n",
      "---------------------------------------------------------------------------\n"
     ]
    },
    {
     "name": "stderr",
     "output_type": "stream",
     "text": [
      " 86%|████████▋ | 345/400 [03:19<00:30,  1.83it/s]"
     ]
    },
    {
     "name": "stdout",
     "output_type": "stream",
     "text": [
      "---------------------------------------------------------------------------\n",
      "| end of epoch 345 | time:  0.54s | training loss 0.8189\n",
      "---------------------------------------------------------------------------\n"
     ]
    },
    {
     "name": "stderr",
     "output_type": "stream",
     "text": [
      " 86%|████████▋ | 346/400 [03:19<00:30,  1.78it/s]"
     ]
    },
    {
     "name": "stdout",
     "output_type": "stream",
     "text": [
      "---------------------------------------------------------------------------\n",
      "| end of epoch 346 | time:  0.56s | training loss 1.1145\n",
      "---------------------------------------------------------------------------\n"
     ]
    },
    {
     "name": "stderr",
     "output_type": "stream",
     "text": [
      " 87%|████████▋ | 347/400 [03:20<00:29,  1.82it/s]"
     ]
    },
    {
     "name": "stdout",
     "output_type": "stream",
     "text": [
      "---------------------------------------------------------------------------\n",
      "| end of epoch 347 | time:  0.49s | training loss 1.2737\n",
      "---------------------------------------------------------------------------\n"
     ]
    },
    {
     "name": "stderr",
     "output_type": "stream",
     "text": [
      " 87%|████████▋ | 348/400 [03:21<00:30,  1.72it/s]"
     ]
    },
    {
     "name": "stdout",
     "output_type": "stream",
     "text": [
      "---------------------------------------------------------------------------\n",
      "| end of epoch 348 | time:  0.62s | training loss 1.1006\n",
      "---------------------------------------------------------------------------\n"
     ]
    },
    {
     "name": "stderr",
     "output_type": "stream",
     "text": [
      " 87%|████████▋ | 349/400 [03:21<00:29,  1.76it/s]"
     ]
    },
    {
     "name": "stdout",
     "output_type": "stream",
     "text": [
      "---------------------------------------------------------------------------\n",
      "| end of epoch 349 | time:  0.50s | training loss 0.9579\n",
      "---------------------------------------------------------------------------\n"
     ]
    },
    {
     "name": "stderr",
     "output_type": "stream",
     "text": [
      " 88%|████████▊ | 350/400 [03:22<00:28,  1.74it/s]"
     ]
    },
    {
     "name": "stdout",
     "output_type": "stream",
     "text": [
      "---------------------------------------------------------------------------\n",
      "| end of epoch 350 | time:  0.55s | training loss 0.8967\n",
      "---------------------------------------------------------------------------\n"
     ]
    },
    {
     "name": "stderr",
     "output_type": "stream",
     "text": [
      " 88%|████████▊ | 351/400 [03:22<00:30,  1.63it/s]"
     ]
    },
    {
     "name": "stdout",
     "output_type": "stream",
     "text": [
      "---------------------------------------------------------------------------\n",
      "| end of epoch 351 | time:  0.66s | training loss 1.0243\n",
      "---------------------------------------------------------------------------\n"
     ]
    },
    {
     "name": "stderr",
     "output_type": "stream",
     "text": [
      " 88%|████████▊ | 352/400 [03:23<00:30,  1.59it/s]"
     ]
    },
    {
     "name": "stdout",
     "output_type": "stream",
     "text": [
      "---------------------------------------------------------------------------\n",
      "| end of epoch 352 | time:  0.63s | training loss 0.8672\n",
      "---------------------------------------------------------------------------\n"
     ]
    },
    {
     "name": "stderr",
     "output_type": "stream",
     "text": [
      " 88%|████████▊ | 353/400 [03:24<00:28,  1.64it/s]"
     ]
    },
    {
     "name": "stdout",
     "output_type": "stream",
     "text": [
      "---------------------------------------------------------------------------\n",
      "| end of epoch 353 | time:  0.53s | training loss 0.9760\n",
      "---------------------------------------------------------------------------\n"
     ]
    },
    {
     "name": "stderr",
     "output_type": "stream",
     "text": [
      " 88%|████████▊ | 354/400 [03:24<00:27,  1.70it/s]"
     ]
    },
    {
     "name": "stdout",
     "output_type": "stream",
     "text": [
      "---------------------------------------------------------------------------\n",
      "| end of epoch 354 | time:  0.51s | training loss 0.8920\n",
      "---------------------------------------------------------------------------\n"
     ]
    },
    {
     "name": "stderr",
     "output_type": "stream",
     "text": [
      " 89%|████████▉ | 355/400 [03:25<00:25,  1.75it/s]"
     ]
    },
    {
     "name": "stdout",
     "output_type": "stream",
     "text": [
      "---------------------------------------------------------------------------\n",
      "| end of epoch 355 | time:  0.50s | training loss 1.0887\n",
      "---------------------------------------------------------------------------\n"
     ]
    },
    {
     "name": "stderr",
     "output_type": "stream",
     "text": [
      " 89%|████████▉ | 356/400 [03:25<00:24,  1.81it/s]"
     ]
    },
    {
     "name": "stdout",
     "output_type": "stream",
     "text": [
      "---------------------------------------------------------------------------\n",
      "| end of epoch 356 | time:  0.47s | training loss 1.0013\n",
      "---------------------------------------------------------------------------\n"
     ]
    },
    {
     "name": "stderr",
     "output_type": "stream",
     "text": [
      " 89%|████████▉ | 357/400 [03:26<00:23,  1.84it/s]"
     ]
    },
    {
     "name": "stdout",
     "output_type": "stream",
     "text": [
      "---------------------------------------------------------------------------\n",
      "| end of epoch 357 | time:  0.49s | training loss 1.0917\n",
      "---------------------------------------------------------------------------\n"
     ]
    },
    {
     "name": "stderr",
     "output_type": "stream",
     "text": [
      " 90%|████████▉ | 358/400 [03:26<00:23,  1.80it/s]"
     ]
    },
    {
     "name": "stdout",
     "output_type": "stream",
     "text": [
      "---------------------------------------------------------------------------\n",
      "| end of epoch 358 | time:  0.55s | training loss 1.1981\n",
      "---------------------------------------------------------------------------\n"
     ]
    },
    {
     "name": "stderr",
     "output_type": "stream",
     "text": [
      " 90%|████████▉ | 359/400 [03:27<00:22,  1.82it/s]"
     ]
    },
    {
     "name": "stdout",
     "output_type": "stream",
     "text": [
      "---------------------------------------------------------------------------\n",
      "| end of epoch 359 | time:  0.50s | training loss 0.7789\n",
      "---------------------------------------------------------------------------\n"
     ]
    },
    {
     "name": "stderr",
     "output_type": "stream",
     "text": [
      " 90%|█████████ | 360/400 [03:27<00:22,  1.80it/s]"
     ]
    },
    {
     "name": "stdout",
     "output_type": "stream",
     "text": [
      "---------------------------------------------------------------------------\n",
      "| end of epoch 360 | time:  0.54s | training loss 0.9404\n",
      "---------------------------------------------------------------------------\n"
     ]
    },
    {
     "name": "stderr",
     "output_type": "stream",
     "text": [
      " 90%|█████████ | 361/400 [03:28<00:21,  1.82it/s]"
     ]
    },
    {
     "name": "stdout",
     "output_type": "stream",
     "text": [
      "---------------------------------------------------------------------------\n",
      "| end of epoch 361 | time:  0.50s | training loss 1.1251\n",
      "---------------------------------------------------------------------------\n"
     ]
    },
    {
     "name": "stderr",
     "output_type": "stream",
     "text": [
      " 90%|█████████ | 362/400 [03:29<00:21,  1.80it/s]"
     ]
    },
    {
     "name": "stdout",
     "output_type": "stream",
     "text": [
      "---------------------------------------------------------------------------\n",
      "| end of epoch 362 | time:  0.54s | training loss 0.9286\n",
      "---------------------------------------------------------------------------\n"
     ]
    },
    {
     "name": "stderr",
     "output_type": "stream",
     "text": [
      " 91%|█████████ | 363/400 [03:29<00:21,  1.71it/s]"
     ]
    },
    {
     "name": "stdout",
     "output_type": "stream",
     "text": [
      "---------------------------------------------------------------------------\n",
      "| end of epoch 363 | time:  0.60s | training loss 0.8840\n",
      "---------------------------------------------------------------------------\n"
     ]
    },
    {
     "name": "stderr",
     "output_type": "stream",
     "text": [
      " 91%|█████████ | 364/400 [03:30<00:21,  1.71it/s]"
     ]
    },
    {
     "name": "stdout",
     "output_type": "stream",
     "text": [
      "---------------------------------------------------------------------------\n",
      "| end of epoch 364 | time:  0.56s | training loss 0.9350\n",
      "---------------------------------------------------------------------------\n"
     ]
    },
    {
     "name": "stderr",
     "output_type": "stream",
     "text": [
      " 91%|█████████▏| 365/400 [03:30<00:21,  1.63it/s]"
     ]
    },
    {
     "name": "stdout",
     "output_type": "stream",
     "text": [
      "---------------------------------------------------------------------------\n",
      "| end of epoch 365 | time:  0.63s | training loss 0.8529\n",
      "---------------------------------------------------------------------------\n"
     ]
    },
    {
     "name": "stderr",
     "output_type": "stream",
     "text": [
      " 92%|█████████▏| 366/400 [03:31<00:19,  1.70it/s]"
     ]
    },
    {
     "name": "stdout",
     "output_type": "stream",
     "text": [
      "---------------------------------------------------------------------------\n",
      "| end of epoch 366 | time:  0.50s | training loss 1.1506\n",
      "---------------------------------------------------------------------------\n"
     ]
    },
    {
     "name": "stderr",
     "output_type": "stream",
     "text": [
      " 92%|█████████▏| 367/400 [03:32<00:19,  1.73it/s]"
     ]
    },
    {
     "name": "stdout",
     "output_type": "stream",
     "text": [
      "---------------------------------------------------------------------------\n",
      "| end of epoch 367 | time:  0.52s | training loss 0.9054\n",
      "---------------------------------------------------------------------------\n"
     ]
    },
    {
     "name": "stderr",
     "output_type": "stream",
     "text": [
      " 92%|█████████▏| 368/400 [03:32<00:17,  1.80it/s]"
     ]
    },
    {
     "name": "stdout",
     "output_type": "stream",
     "text": [
      "---------------------------------------------------------------------------\n",
      "| end of epoch 368 | time:  0.47s | training loss 0.8979\n",
      "---------------------------------------------------------------------------\n"
     ]
    },
    {
     "name": "stderr",
     "output_type": "stream",
     "text": [
      " 92%|█████████▏| 369/400 [03:33<00:17,  1.81it/s]"
     ]
    },
    {
     "name": "stdout",
     "output_type": "stream",
     "text": [
      "---------------------------------------------------------------------------\n",
      "| end of epoch 369 | time:  0.51s | training loss 0.8718\n",
      "---------------------------------------------------------------------------\n"
     ]
    },
    {
     "name": "stderr",
     "output_type": "stream",
     "text": [
      " 92%|█████████▎| 370/400 [03:33<00:16,  1.83it/s]"
     ]
    },
    {
     "name": "stdout",
     "output_type": "stream",
     "text": [
      "---------------------------------------------------------------------------\n",
      "| end of epoch 370 | time:  0.50s | training loss 1.0165\n",
      "---------------------------------------------------------------------------\n"
     ]
    },
    {
     "name": "stderr",
     "output_type": "stream",
     "text": [
      " 93%|█████████▎| 371/400 [03:34<00:15,  1.83it/s]"
     ]
    },
    {
     "name": "stdout",
     "output_type": "stream",
     "text": [
      "---------------------------------------------------------------------------\n",
      "| end of epoch 371 | time:  0.51s | training loss 0.9349\n",
      "---------------------------------------------------------------------------\n"
     ]
    },
    {
     "name": "stderr",
     "output_type": "stream",
     "text": [
      " 93%|█████████▎| 372/400 [03:34<00:17,  1.63it/s]"
     ]
    },
    {
     "name": "stdout",
     "output_type": "stream",
     "text": [
      "---------------------------------------------------------------------------\n",
      "| end of epoch 372 | time:  0.73s | training loss 0.7576\n",
      "---------------------------------------------------------------------------\n"
     ]
    },
    {
     "name": "stderr",
     "output_type": "stream",
     "text": [
      " 93%|█████████▎| 373/400 [03:35<00:16,  1.68it/s]"
     ]
    },
    {
     "name": "stdout",
     "output_type": "stream",
     "text": [
      "---------------------------------------------------------------------------\n",
      "| end of epoch 373 | time:  0.52s | training loss 0.9889\n",
      "---------------------------------------------------------------------------\n"
     ]
    },
    {
     "name": "stderr",
     "output_type": "stream",
     "text": [
      " 94%|█████████▎| 374/400 [03:35<00:14,  1.78it/s]"
     ]
    },
    {
     "name": "stdout",
     "output_type": "stream",
     "text": [
      "---------------------------------------------------------------------------\n",
      "| end of epoch 374 | time:  0.45s | training loss 1.1056\n",
      "---------------------------------------------------------------------------\n"
     ]
    },
    {
     "name": "stderr",
     "output_type": "stream",
     "text": [
      " 94%|█████████▍| 375/400 [03:36<00:14,  1.75it/s]"
     ]
    },
    {
     "name": "stdout",
     "output_type": "stream",
     "text": [
      "---------------------------------------------------------------------------\n",
      "| end of epoch 375 | time:  0.56s | training loss 1.1066\n",
      "---------------------------------------------------------------------------\n"
     ]
    },
    {
     "name": "stderr",
     "output_type": "stream",
     "text": [
      " 94%|█████████▍| 376/400 [03:37<00:14,  1.63it/s]"
     ]
    },
    {
     "name": "stdout",
     "output_type": "stream",
     "text": [
      "---------------------------------------------------------------------------\n",
      "| end of epoch 376 | time:  0.68s | training loss 0.7466\n",
      "---------------------------------------------------------------------------\n"
     ]
    },
    {
     "name": "stderr",
     "output_type": "stream",
     "text": [
      " 94%|█████████▍| 377/400 [03:37<00:13,  1.68it/s]"
     ]
    },
    {
     "name": "stdout",
     "output_type": "stream",
     "text": [
      "---------------------------------------------------------------------------\n",
      "| end of epoch 377 | time:  0.52s | training loss 0.9440\n",
      "---------------------------------------------------------------------------\n"
     ]
    },
    {
     "name": "stderr",
     "output_type": "stream",
     "text": [
      " 94%|█████████▍| 378/400 [03:38<00:12,  1.75it/s]"
     ]
    },
    {
     "name": "stdout",
     "output_type": "stream",
     "text": [
      "---------------------------------------------------------------------------\n",
      "| end of epoch 378 | time:  0.48s | training loss 0.9385\n",
      "---------------------------------------------------------------------------\n"
     ]
    },
    {
     "name": "stderr",
     "output_type": "stream",
     "text": [
      " 95%|█████████▍| 379/400 [03:38<00:11,  1.81it/s]"
     ]
    },
    {
     "name": "stdout",
     "output_type": "stream",
     "text": [
      "---------------------------------------------------------------------------\n",
      "| end of epoch 379 | time:  0.48s | training loss 0.9252\n",
      "---------------------------------------------------------------------------\n"
     ]
    },
    {
     "name": "stderr",
     "output_type": "stream",
     "text": [
      " 95%|█████████▌| 380/400 [03:39<00:10,  1.90it/s]"
     ]
    },
    {
     "name": "stdout",
     "output_type": "stream",
     "text": [
      "---------------------------------------------------------------------------\n",
      "| end of epoch 380 | time:  0.44s | training loss 0.9080\n",
      "---------------------------------------------------------------------------\n"
     ]
    },
    {
     "name": "stderr",
     "output_type": "stream",
     "text": [
      " 95%|█████████▌| 381/400 [03:39<00:10,  1.89it/s]"
     ]
    },
    {
     "name": "stdout",
     "output_type": "stream",
     "text": [
      "---------------------------------------------------------------------------\n",
      "| end of epoch 381 | time:  0.50s | training loss 0.9111\n",
      "---------------------------------------------------------------------------\n"
     ]
    },
    {
     "name": "stderr",
     "output_type": "stream",
     "text": [
      " 96%|█████████▌| 382/400 [03:40<00:10,  1.68it/s]"
     ]
    },
    {
     "name": "stdout",
     "output_type": "stream",
     "text": [
      "---------------------------------------------------------------------------\n",
      "| end of epoch 382 | time:  0.71s | training loss 0.9743\n",
      "---------------------------------------------------------------------------\n"
     ]
    },
    {
     "name": "stderr",
     "output_type": "stream",
     "text": [
      " 96%|█████████▌| 383/400 [03:41<00:09,  1.73it/s]"
     ]
    },
    {
     "name": "stdout",
     "output_type": "stream",
     "text": [
      "---------------------------------------------------------------------------\n",
      "| end of epoch 383 | time:  0.50s | training loss 0.8631\n",
      "---------------------------------------------------------------------------\n"
     ]
    },
    {
     "name": "stderr",
     "output_type": "stream",
     "text": [
      " 96%|█████████▌| 384/400 [03:41<00:09,  1.63it/s]"
     ]
    },
    {
     "name": "stdout",
     "output_type": "stream",
     "text": [
      "---------------------------------------------------------------------------\n",
      "| end of epoch 384 | time:  0.66s | training loss 0.9593\n",
      "---------------------------------------------------------------------------\n"
     ]
    },
    {
     "name": "stderr",
     "output_type": "stream",
     "text": [
      " 96%|█████████▋| 385/400 [03:42<00:08,  1.69it/s]"
     ]
    },
    {
     "name": "stdout",
     "output_type": "stream",
     "text": [
      "---------------------------------------------------------------------------\n",
      "| end of epoch 385 | time:  0.51s | training loss 0.9550\n",
      "---------------------------------------------------------------------------\n"
     ]
    },
    {
     "name": "stderr",
     "output_type": "stream",
     "text": [
      " 96%|█████████▋| 386/400 [03:42<00:07,  1.79it/s]"
     ]
    },
    {
     "name": "stdout",
     "output_type": "stream",
     "text": [
      "---------------------------------------------------------------------------\n",
      "| end of epoch 386 | time:  0.46s | training loss 1.0409\n",
      "---------------------------------------------------------------------------\n"
     ]
    },
    {
     "name": "stderr",
     "output_type": "stream",
     "text": [
      " 97%|█████████▋| 387/400 [03:43<00:07,  1.78it/s]"
     ]
    },
    {
     "name": "stdout",
     "output_type": "stream",
     "text": [
      "---------------------------------------------------------------------------\n",
      "| end of epoch 387 | time:  0.54s | training loss 1.0612\n",
      "---------------------------------------------------------------------------\n"
     ]
    },
    {
     "name": "stderr",
     "output_type": "stream",
     "text": [
      " 97%|█████████▋| 388/400 [03:43<00:06,  1.78it/s]"
     ]
    },
    {
     "name": "stdout",
     "output_type": "stream",
     "text": [
      "---------------------------------------------------------------------------\n",
      "| end of epoch 388 | time:  0.53s | training loss 1.1245\n",
      "---------------------------------------------------------------------------\n"
     ]
    },
    {
     "name": "stderr",
     "output_type": "stream",
     "text": [
      " 97%|█████████▋| 389/400 [03:44<00:06,  1.73it/s]"
     ]
    },
    {
     "name": "stdout",
     "output_type": "stream",
     "text": [
      "---------------------------------------------------------------------------\n",
      "| end of epoch 389 | time:  0.59s | training loss 1.0700\n",
      "---------------------------------------------------------------------------\n"
     ]
    },
    {
     "name": "stderr",
     "output_type": "stream",
     "text": [
      " 98%|█████████▊| 390/400 [03:45<00:05,  1.80it/s]"
     ]
    },
    {
     "name": "stdout",
     "output_type": "stream",
     "text": [
      "---------------------------------------------------------------------------\n",
      "| end of epoch 390 | time:  0.47s | training loss 0.9637\n",
      "---------------------------------------------------------------------------\n"
     ]
    },
    {
     "name": "stderr",
     "output_type": "stream",
     "text": [
      " 98%|█████████▊| 391/400 [03:45<00:04,  1.87it/s]"
     ]
    },
    {
     "name": "stdout",
     "output_type": "stream",
     "text": [
      "---------------------------------------------------------------------------\n",
      "| end of epoch 391 | time:  0.46s | training loss 1.0471\n",
      "---------------------------------------------------------------------------\n"
     ]
    },
    {
     "name": "stderr",
     "output_type": "stream",
     "text": [
      " 98%|█████████▊| 392/400 [03:46<00:04,  1.87it/s]"
     ]
    },
    {
     "name": "stdout",
     "output_type": "stream",
     "text": [
      "---------------------------------------------------------------------------\n",
      "| end of epoch 392 | time:  0.50s | training loss 1.1155\n",
      "---------------------------------------------------------------------------\n"
     ]
    },
    {
     "name": "stderr",
     "output_type": "stream",
     "text": [
      " 98%|█████████▊| 393/400 [03:46<00:03,  1.85it/s]"
     ]
    },
    {
     "name": "stdout",
     "output_type": "stream",
     "text": [
      "---------------------------------------------------------------------------\n",
      "| end of epoch 393 | time:  0.52s | training loss 1.2287\n",
      "---------------------------------------------------------------------------\n"
     ]
    },
    {
     "name": "stderr",
     "output_type": "stream",
     "text": [
      " 98%|█████████▊| 394/400 [03:47<00:03,  1.83it/s]"
     ]
    },
    {
     "name": "stdout",
     "output_type": "stream",
     "text": [
      "---------------------------------------------------------------------------\n",
      "| end of epoch 394 | time:  0.52s | training loss 1.1185\n",
      "---------------------------------------------------------------------------\n"
     ]
    },
    {
     "name": "stderr",
     "output_type": "stream",
     "text": [
      " 99%|█████████▉| 395/400 [03:47<00:02,  1.87it/s]"
     ]
    },
    {
     "name": "stdout",
     "output_type": "stream",
     "text": [
      "---------------------------------------------------------------------------\n",
      "| end of epoch 395 | time:  0.48s | training loss 1.0056\n",
      "---------------------------------------------------------------------------\n"
     ]
    },
    {
     "name": "stderr",
     "output_type": "stream",
     "text": [
      " 99%|█████████▉| 396/400 [03:48<00:02,  1.90it/s]"
     ]
    },
    {
     "name": "stdout",
     "output_type": "stream",
     "text": [
      "---------------------------------------------------------------------------\n",
      "| end of epoch 396 | time:  0.47s | training loss 1.0084\n",
      "---------------------------------------------------------------------------\n"
     ]
    },
    {
     "name": "stderr",
     "output_type": "stream",
     "text": [
      " 99%|█████████▉| 397/400 [03:48<00:01,  1.93it/s]"
     ]
    },
    {
     "name": "stdout",
     "output_type": "stream",
     "text": [
      "---------------------------------------------------------------------------\n",
      "| end of epoch 397 | time:  0.47s | training loss 1.1649\n",
      "---------------------------------------------------------------------------\n"
     ]
    },
    {
     "name": "stderr",
     "output_type": "stream",
     "text": [
      "100%|█████████▉| 398/400 [03:49<00:01,  1.81it/s]"
     ]
    },
    {
     "name": "stdout",
     "output_type": "stream",
     "text": [
      "---------------------------------------------------------------------------\n",
      "| end of epoch 398 | time:  0.60s | training loss 0.9934\n",
      "---------------------------------------------------------------------------\n"
     ]
    },
    {
     "name": "stderr",
     "output_type": "stream",
     "text": [
      "100%|█████████▉| 399/400 [03:50<00:00,  1.76it/s]"
     ]
    },
    {
     "name": "stdout",
     "output_type": "stream",
     "text": [
      "---------------------------------------------------------------------------\n",
      "| end of epoch 399 | time:  0.57s | training loss 1.0305\n",
      "---------------------------------------------------------------------------\n"
     ]
    },
    {
     "name": "stderr",
     "output_type": "stream",
     "text": [
      "100%|██████████| 400/400 [03:50<00:00,  1.73it/s]"
     ]
    },
    {
     "name": "stdout",
     "output_type": "stream",
     "text": [
      "---------------------------------------------------------------------------\n",
      "| end of epoch 400 | time:  0.76s | training loss 1.1079\n",
      "---------------------------------------------------------------------------\n"
     ]
    },
    {
     "name": "stderr",
     "output_type": "stream",
     "text": [
      "\n"
     ]
    }
   ],
   "source": [
    "from tqdm import tqdm \n",
    "epochs = 400\n",
    "for epoch in tqdm(range(1, epochs+1)):\n",
    "    epoch_start_time = time.time()\n",
    "\n",
    "    train_loss = train(model, 1, train_loader, optimizer, device, dtype, criterion, verbose=False)\n",
    "    \n",
    "    dist_map = get_dist_map(label_name_dict, esm_emb, device, dtype,model=model)\n",
    "    train_loader = get_dataloader(dist_map, label_name_dict, name_label_dict, knn=8, params={\"batch_size\": 4, \"shuffle\": True, \"num_workers\": 4})\n",
    "\n",
    "    elapsed = time.time() - epoch_start_time\n",
    "    if epoch % 1 == 0:\n",
    "        print('-' * 75)\n",
    "        print(f'| end of epoch {epoch:3d} | time: {elapsed:5.2f}s | '\n",
    "                f'training loss {train_loss:6.4f}')\n",
    "        print('-' * 75)\n",
    "        # break \n",
    "        torch.save(model.state_dict(), '../data/model/' + f\"{epoch}\" + '.pth')"
   ]
  },
  {
   "cell_type": "code",
   "execution_count": 56,
   "metadata": {},
   "outputs": [
    {
     "data": {
      "text/plain": [
       "<All keys matched successfully>"
      ]
     },
     "execution_count": 56,
     "metadata": {},
     "output_type": "execute_result"
    }
   ],
   "source": [
    "model.load_state_dict(torch.load(\"../data/model/81.pth\"))"
   ]
  },
  {
   "cell_type": "code",
   "execution_count": 57,
   "metadata": {},
   "outputs": [
    {
     "data": {
      "text/plain": [
       "tensor([[ 0.0425,  0.0593, -0.1136,  ...,  0.3929, -0.2906, -0.4261],\n",
       "        [ 0.1287,  0.3302,  0.0448,  ...,  0.0779, -0.1494, -0.4946],\n",
       "        [-0.1041,  0.4079,  0.0068,  ...,  0.1275, -0.2652, -0.4042],\n",
       "        ...,\n",
       "        [ 0.0176,  0.3918, -0.0099,  ...,  0.3242, -0.0170, -0.0649],\n",
       "        [-0.0488,  0.1574, -0.0039,  ..., -0.1155, -0.1680, -0.0609],\n",
       "        [-0.2871,  0.1899, -0.1679,  ...,  0.1277, -0.3718, -0.4124]],\n",
       "       device='cuda:0', grad_fn=<AddmmBackward0>)"
      ]
     },
     "execution_count": 57,
     "metadata": {},
     "output_type": "execute_result"
    }
   ],
   "source": [
    "model(esm_emb)"
   ]
  },
  {
   "cell_type": "code",
   "execution_count": 58,
   "metadata": {},
   "outputs": [],
   "source": [
    "import numpy as np\n",
    "from scipy.cluster.hierarchy import dendrogram, linkage\n",
    "import matplotlib.pyplot as plt\n",
    "\n",
    "def plot_dendrogram(esm_emb, name_label_dict, ax=None):\n",
    "    if ax is None:\n",
    "        fig,ax = plt.subplots(figsize=(8, 15))\n",
    "\n",
    "    # 用Ward方法进行层次聚类\n",
    "    Z = linkage(esm_emb.detach().cpu().numpy(), 'ward')\n",
    "\n",
    "    # 绘制层次聚类树状图\n",
    "    dn = dendrogram(Z,ax = ax,  orientation='left')\n",
    "    # list(name_label_dict.keys())[int(label.get_text())]\n",
    "    name_list = list(name_label_dict.keys())\n",
    "\n",
    "    new_yticklabels = []\n",
    "    for yticklabel in ax.get_yticklabels():\n",
    "        current_name = name_list[int(yticklabel.get_text())]\n",
    "        current_name_label = name_label_dict[current_name][0]\n",
    "        new_yticklabels.append(f\"{current_name_label}:{current_name}\")\n",
    "\n",
    "    ax.set_yticklabels(new_yticklabels, rotation=0)\n"
   ]
  },
  {
   "cell_type": "code",
   "execution_count": 59,
   "metadata": {},
   "outputs": [
    {
     "data": {
      "image/png": "[encoded data removed]",
      "image/svg+xml": [
       "<?xml version=\"1.0\" encoding=\"utf-8\" standalone=\"no\"?>\n",
       "<!DOCTYPE svg PUBLIC \"-//W3C//DTD SVG 1.1//EN\"\n",
       "  \"http://www.w3.org/Graphics/SVG/1.1/DTD/svg11.dtd\">\n",
       "<svg xmlns:xlink=\"http://www.w3.org/1999/xlink\" width=\"1145.26375pt\" height=\"567.59625pt\" viewBox=\"0 0 1145.26375 567.59625\" xmlns=\"http://www.w3.org/2000/svg\" version=\"1.1\">\n",
       " <metadata>\n",
       "  <rdf:RDF xmlns:dc=\"http://purl.org/dc/elements/1.1/\" xmlns:cc=\"http://creativecommons.org/ns#\" xmlns:rdf=\"http://www.w3.org/1999/02/22-rdf-syntax-ns#\">\n",
       "   <cc:Work>\n",
       "    <dc:type rdf:resource=\"http://purl.org/dc/dcmitype/StillImage\"/>\n",
       "    <dc:date>2023-04-15T22:28:06.610739</dc:date>\n",
       "    <dc:format>image/svg+xml</dc:format>\n",
       "    <dc:creator>\n",
       "     <cc:Agent>\n",
       "      <dc:title>Matplotlib v3.5.2, https://matplotlib.org/</dc:title>\n",
       "     </cc:Agent>\n",
       "    </dc:creator>\n",
       "   </cc:Work>\n",
       "  </rdf:RDF>\n",
       " </metadata>\n",
       " <defs>\n",
       "  <style type=\"text/css\">*{stroke-linejoin: round; stroke-linecap: butt}</style>\n",
       " </defs>\n",
       " <g id=\"figure_1\">\n",
       "  <g id=\"patch_1\">\n",
       "   <path d=\"M 0 567.59625 \n",
       "L 1145.26375 567.59625 \n",
       "L 1145.26375 0 \n",
       "L 0 0 \n",
       "L 0 567.59625 \n",
       "z\n",
       "\" style=\"fill: none\"/>\n",
       "  </g>\n",
       "  <g id=\"axes_1\">\n",
       "   <g id=\"patch_2\">\n",
       "    <path d=\"M 7.2 543.718125 \n",
       "L 467.625 543.718125 \n",
       "L 467.625 22.318125 \n",
       "L 7.2 22.318125 \n",
       "z\n",
       "\" style=\"fill: #ffffff\"/>\n",
       "   </g>\n",
       "   <g id=\"matplotlib.axis_1\">\n",
       "    <g id=\"xtick_1\">\n",
       "     <g id=\"line2d_1\">\n",
       "      <defs>\n",
       "       <path id=\"m2cdc9179a2\" d=\"M 0 0 \n",
       "L 0 3.5 \n",
       "\" style=\"stroke: #000000; stroke-width: 0.8\"/>\n",
       "      </defs>\n",
       "      <g>\n",
       "       <use xlink:href=\"#m2cdc9179a2\" x=\"467.625\" y=\"543.718125\" style=\"stroke: #000000; stroke-width: 0.8\"/>\n",
       "      </g>\n",
       "     </g>\n",
       "     <g id=\"text_1\">\n",
       "      <!-- 0 -->\n",
       "      <g transform=\"translate(464.44375 558.316562)scale(0.1 -0.1)\">\n",
       "       <defs>\n",
       "        <path id=\"DejaVuSans-30\" d=\"M 2034 4250 \n",
       "Q 1547 4250 1301 3770 \n",
       "Q 1056 3291 1056 2328 \n",
       "Q 1056 1369 1301 889 \n",
       "Q 1547 409 2034 409 \n",
       "Q 2525 409 2770 889 \n",
       "Q 3016 1369 3016 2328 \n",
       "Q 3016 3291 2770 3770 \n",
       "Q 2525 4250 2034 4250 \n",
       "z\n",
       "M 2034 4750 \n",
       "Q 2819 4750 3233 4129 \n",
       "Q 3647 3509 3647 2328 \n",
       "Q 3647 1150 3233 529 \n",
       "Q 2819 -91 2034 -91 \n",
       "Q 1250 -91 836 529 \n",
       "Q 422 1150 422 2328 \n",
       "Q 422 3509 836 4129 \n",
       "Q 1250 4750 2034 4750 \n",
       "z\n",
       "\" transform=\"scale(0.015625)\"/>\n",
       "       </defs>\n",
       "       <use xlink:href=\"#DejaVuSans-30\"/>\n",
       "      </g>\n",
       "     </g>\n",
       "    </g>\n",
       "    <g id=\"xtick_2\">\n",
       "     <g id=\"line2d_2\">\n",
       "      <g>\n",
       "       <use xlink:href=\"#m2cdc9179a2\" x=\"394.452975\" y=\"543.718125\" style=\"stroke: #000000; stroke-width: 0.8\"/>\n",
       "      </g>\n",
       "     </g>\n",
       "     <g id=\"text_2\">\n",
       "      <!-- 1 -->\n",
       "      <g transform=\"translate(391.271725 558.316562)scale(0.1 -0.1)\">\n",
       "       <defs>\n",
       "        <path id=\"DejaVuSans-31\" d=\"M 794 531 \n",
       "L 1825 531 \n",
       "L 1825 4091 \n",
       "L 703 3866 \n",
       "L 703 4441 \n",
       "L 1819 4666 \n",
       "L 2450 4666 \n",
       "L 2450 531 \n",
       "L 3481 531 \n",
       "L 3481 0 \n",
       "L 794 0 \n",
       "L 794 531 \n",
       "z\n",
       "\" transform=\"scale(0.015625)\"/>\n",
       "       </defs>\n",
       "       <use xlink:href=\"#DejaVuSans-31\"/>\n",
       "      </g>\n",
       "     </g>\n",
       "    </g>\n",
       "    <g id=\"xtick_3\">\n",
       "     <g id=\"line2d_3\">\n",
       "      <g>\n",
       "       <use xlink:href=\"#m2cdc9179a2\" x=\"321.28095\" y=\"543.718125\" style=\"stroke: #000000; stroke-width: 0.8\"/>\n",
       "      </g>\n",
       "     </g>\n",
       "     <g id=\"text_3\">\n",
       "      <!-- 2 -->\n",
       "      <g transform=\"translate(318.0997 558.316562)scale(0.1 -0.1)\">\n",
       "       <defs>\n",
       "        <path id=\"DejaVuSans-32\" d=\"M 1228 531 \n",
       "L 3431 531 \n",
       "L 3431 0 \n",
       "L 469 0 \n",
       "L 469 531 \n",
       "Q 828 903 1448 1529 \n",
       "Q 2069 2156 2228 2338 \n",
       "Q 2531 2678 2651 2914 \n",
       "Q 2772 3150 2772 3378 \n",
       "Q 2772 3750 2511 3984 \n",
       "Q 2250 4219 1831 4219 \n",
       "Q 1534 4219 1204 4116 \n",
       "Q 875 4013 500 3803 \n",
       "L 500 4441 \n",
       "Q 881 4594 1212 4672 \n",
       "Q 1544 4750 1819 4750 \n",
       "Q 2544 4750 2975 4387 \n",
       "Q 3406 4025 3406 3419 \n",
       "Q 3406 3131 3298 2873 \n",
       "Q 3191 2616 2906 2266 \n",
       "Q 2828 2175 2409 1742 \n",
       "Q 1991 1309 1228 531 \n",
       "z\n",
       "\" transform=\"scale(0.015625)\"/>\n",
       "       </defs>\n",
       "       <use xlink:href=\"#DejaVuSans-32\"/>\n",
       "      </g>\n",
       "     </g>\n",
       "    </g>\n",
       "    <g id=\"xtick_4\">\n",
       "     <g id=\"line2d_4\">\n",
       "      <g>\n",
       "       <use xlink:href=\"#m2cdc9179a2\" x=\"248.108925\" y=\"543.718125\" style=\"stroke: #000000; stroke-width: 0.8\"/>\n",
       "      </g>\n",
       "     </g>\n",
       "     <g id=\"text_4\">\n",
       "      <!-- 3 -->\n",
       "      <g transform=\"translate(244.927675 558.316562)scale(0.1 -0.1)\">\n",
       "       <defs>\n",
       "        <path id=\"DejaVuSans-33\" d=\"M 2597 2516 \n",
       "Q 3050 2419 3304 2112 \n",
       "Q 3559 1806 3559 1356 \n",
       "Q 3559 666 3084 287 \n",
       "Q 2609 -91 1734 -91 \n",
       "Q 1441 -91 1130 -33 \n",
       "Q 819 25 488 141 \n",
       "L 488 750 \n",
       "Q 750 597 1062 519 \n",
       "Q 1375 441 1716 441 \n",
       "Q 2309 441 2620 675 \n",
       "Q 2931 909 2931 1356 \n",
       "Q 2931 1769 2642 2001 \n",
       "Q 2353 2234 1838 2234 \n",
       "L 1294 2234 \n",
       "L 1294 2753 \n",
       "L 1863 2753 \n",
       "Q 2328 2753 2575 2939 \n",
       "Q 2822 3125 2822 3475 \n",
       "Q 2822 3834 2567 4026 \n",
       "Q 2313 4219 1838 4219 \n",
       "Q 1578 4219 1281 4162 \n",
       "Q 984 4106 628 3988 \n",
       "L 628 4550 \n",
       "Q 988 4650 1302 4700 \n",
       "Q 1616 4750 1894 4750 \n",
       "Q 2613 4750 3031 4423 \n",
       "Q 3450 4097 3450 3541 \n",
       "Q 3450 3153 3228 2886 \n",
       "Q 3006 2619 2597 2516 \n",
       "z\n",
       "\" transform=\"scale(0.015625)\"/>\n",
       "       </defs>\n",
       "       <use xlink:href=\"#DejaVuSans-33\"/>\n",
       "      </g>\n",
       "     </g>\n",
       "    </g>\n",
       "    <g id=\"xtick_5\">\n",
       "     <g id=\"line2d_5\">\n",
       "      <g>\n",
       "       <use xlink:href=\"#m2cdc9179a2\" x=\"174.9369\" y=\"543.718125\" style=\"stroke: #000000; stroke-width: 0.8\"/>\n",
       "      </g>\n",
       "     </g>\n",
       "     <g id=\"text_5\">\n",
       "      <!-- 4 -->\n",
       "      <g transform=\"translate(171.75565 558.316562)scale(0.1 -0.1)\">\n",
       "       <defs>\n",
       "        <path id=\"DejaVuSans-34\" d=\"M 2419 4116 \n",
       "L 825 1625 \n",
       "L 2419 1625 \n",
       "L 2419 4116 \n",
       "z\n",
       "M 2253 4666 \n",
       "L 3047 4666 \n",
       "L 3047 1625 \n",
       "L 3713 1625 \n",
       "L 3713 1100 \n",
       "L 3047 1100 \n",
       "L 3047 0 \n",
       "L 2419 0 \n",
       "L 2419 1100 \n",
       "L 313 1100 \n",
       "L 313 1709 \n",
       "L 2253 4666 \n",
       "z\n",
       "\" transform=\"scale(0.015625)\"/>\n",
       "       </defs>\n",
       "       <use xlink:href=\"#DejaVuSans-34\"/>\n",
       "      </g>\n",
       "     </g>\n",
       "    </g>\n",
       "    <g id=\"xtick_6\">\n",
       "     <g id=\"line2d_6\">\n",
       "      <g>\n",
       "       <use xlink:href=\"#m2cdc9179a2\" x=\"101.764875\" y=\"543.718125\" style=\"stroke: #000000; stroke-width: 0.8\"/>\n",
       "      </g>\n",
       "     </g>\n",
       "     <g id=\"text_6\">\n",
       "      <!-- 5 -->\n",
       "      <g transform=\"translate(98.583625 558.316562)scale(0.1 -0.1)\">\n",
       "       <defs>\n",
       "        <path id=\"DejaVuSans-35\" d=\"M 691 4666 \n",
       "L 3169 4666 \n",
       "L 3169 4134 \n",
       "L 1269 4134 \n",
       "L 1269 2991 \n",
       "Q 1406 3038 1543 3061 \n",
       "Q 1681 3084 1819 3084 \n",
       "Q 2600 3084 3056 2656 \n",
       "Q 3513 2228 3513 1497 \n",
       "Q 3513 744 3044 326 \n",
       "Q 2575 -91 1722 -91 \n",
       "Q 1428 -91 1123 -41 \n",
       "Q 819 9 494 109 \n",
       "L 494 744 \n",
       "Q 775 591 1075 516 \n",
       "Q 1375 441 1709 441 \n",
       "Q 2250 441 2565 725 \n",
       "Q 2881 1009 2881 1497 \n",
       "Q 2881 1984 2565 2268 \n",
       "Q 2250 2553 1709 2553 \n",
       "Q 1456 2553 1204 2497 \n",
       "Q 953 2441 691 2322 \n",
       "L 691 4666 \n",
       "z\n",
       "\" transform=\"scale(0.015625)\"/>\n",
       "       </defs>\n",
       "       <use xlink:href=\"#DejaVuSans-35\"/>\n",
       "      </g>\n",
       "     </g>\n",
       "    </g>\n",
       "    <g id=\"xtick_7\">\n",
       "     <g id=\"line2d_7\">\n",
       "      <g>\n",
       "       <use xlink:href=\"#m2cdc9179a2\" x=\"28.59285\" y=\"543.718125\" style=\"stroke: #000000; stroke-width: 0.8\"/>\n",
       "      </g>\n",
       "     </g>\n",
       "     <g id=\"text_7\">\n",
       "      <!-- 6 -->\n",
       "      <g transform=\"translate(25.4116 558.316562)scale(0.1 -0.1)\">\n",
       "       <defs>\n",
       "        <path id=\"DejaVuSans-36\" d=\"M 2113 2584 \n",
       "Q 1688 2584 1439 2293 \n",
       "Q 1191 2003 1191 1497 \n",
       "Q 1191 994 1439 701 \n",
       "Q 1688 409 2113 409 \n",
       "Q 2538 409 2786 701 \n",
       "Q 3034 994 3034 1497 \n",
       "Q 3034 2003 2786 2293 \n",
       "Q 2538 2584 2113 2584 \n",
       "z\n",
       "M 3366 4563 \n",
       "L 3366 3988 \n",
       "Q 3128 4100 2886 4159 \n",
       "Q 2644 4219 2406 4219 \n",
       "Q 1781 4219 1451 3797 \n",
       "Q 1122 3375 1075 2522 \n",
       "Q 1259 2794 1537 2939 \n",
       "Q 1816 3084 2150 3084 \n",
       "Q 2853 3084 3261 2657 \n",
       "Q 3669 2231 3669 1497 \n",
       "Q 3669 778 3244 343 \n",
       "Q 2819 -91 2113 -91 \n",
       "Q 1303 -91 875 529 \n",
       "Q 447 1150 447 2328 \n",
       "Q 447 3434 972 4092 \n",
       "Q 1497 4750 2381 4750 \n",
       "Q 2619 4750 2861 4703 \n",
       "Q 3103 4656 3366 4563 \n",
       "z\n",
       "\" transform=\"scale(0.015625)\"/>\n",
       "       </defs>\n",
       "       <use xlink:href=\"#DejaVuSans-36\"/>\n",
       "      </g>\n",
       "     </g>\n",
       "    </g>\n",
       "   </g>\n",
       "   <g id=\"matplotlib.axis_2\">\n",
       "    <g id=\"ytick_1\">\n",
       "     <g id=\"text_8\">\n",
       "      <!-- 0:S11-SLF2_S7-RNase -->\n",
       "      <g transform=\"translate(474.625 539.640929)scale(0.08 -0.08)\">\n",
       "       <defs>\n",
       "        <path id=\"DejaVuSans-3a\" d=\"M 750 794 \n",
       "L 1409 794 \n",
       "L 1409 0 \n",
       "L 750 0 \n",
       "L 750 794 \n",
       "z\n",
       "M 750 3309 \n",
       "L 1409 3309 \n",
       "L 1409 2516 \n",
       "L 750 2516 \n",
       "L 750 3309 \n",
       "z\n",
       "\" transform=\"scale(0.015625)\"/>\n",
       "        <path id=\"DejaVuSans-53\" d=\"M 3425 4513 \n",
       "L 3425 3897 \n",
       "Q 3066 4069 2747 4153 \n",
       "Q 2428 4238 2131 4238 \n",
       "Q 1616 4238 1336 4038 \n",
       "Q 1056 3838 1056 3469 \n",
       "Q 1056 3159 1242 3001 \n",
       "Q 1428 2844 1947 2747 \n",
       "L 2328 2669 \n",
       "Q 3034 2534 3370 2195 \n",
       "Q 3706 1856 3706 1288 \n",
       "Q 3706 609 3251 259 \n",
       "Q 2797 -91 1919 -91 \n",
       "Q 1588 -91 1214 -16 \n",
       "Q 841 59 441 206 \n",
       "L 441 856 \n",
       "Q 825 641 1194 531 \n",
       "Q 1563 422 1919 422 \n",
       "Q 2459 422 2753 634 \n",
       "Q 3047 847 3047 1241 \n",
       "Q 3047 1584 2836 1778 \n",
       "Q 2625 1972 2144 2069 \n",
       "L 1759 2144 \n",
       "Q 1053 2284 737 2584 \n",
       "Q 422 2884 422 3419 \n",
       "Q 422 4038 858 4394 \n",
       "Q 1294 4750 2059 4750 \n",
       "Q 2388 4750 2728 4690 \n",
       "Q 3069 4631 3425 4513 \n",
       "z\n",
       "\" transform=\"scale(0.015625)\"/>\n",
       "        <path id=\"DejaVuSans-2d\" d=\"M 313 2009 \n",
       "L 1997 2009 \n",
       "L 1997 1497 \n",
       "L 313 1497 \n",
       "L 313 2009 \n",
       "z\n",
       "\" transform=\"scale(0.015625)\"/>\n",
       "        <path id=\"DejaVuSans-4c\" d=\"M 628 4666 \n",
       "L 1259 4666 \n",
       "L 1259 531 \n",
       "L 3531 531 \n",
       "L 3531 0 \n",
       "L 628 0 \n",
       "L 628 4666 \n",
       "z\n",
       "\" transform=\"scale(0.015625)\"/>\n",
       "        <path id=\"DejaVuSans-46\" d=\"M 628 4666 \n",
       "L 3309 4666 \n",
       "L 3309 4134 \n",
       "L 1259 4134 \n",
       "L 1259 2759 \n",
       "L 3109 2759 \n",
       "L 3109 2228 \n",
       "L 1259 2228 \n",
       "L 1259 0 \n",
       "L 628 0 \n",
       "L 628 4666 \n",
       "z\n",
       "\" transform=\"scale(0.015625)\"/>\n",
       "        <path id=\"DejaVuSans-5f\" d=\"M 3263 -1063 \n",
       "L 3263 -1509 \n",
       "L -63 -1509 \n",
       "L -63 -1063 \n",
       "L 3263 -1063 \n",
       "z\n",
       "\" transform=\"scale(0.015625)\"/>\n",
       "        <path id=\"DejaVuSans-37\" d=\"M 525 4666 \n",
       "L 3525 4666 \n",
       "L 3525 4397 \n",
       "L 1831 0 \n",
       "L 1172 0 \n",
       "L 2766 4134 \n",
       "L 525 4134 \n",
       "L 525 4666 \n",
       "z\n",
       "\" transform=\"scale(0.015625)\"/>\n",
       "        <path id=\"DejaVuSans-52\" d=\"M 2841 2188 \n",
       "Q 3044 2119 3236 1894 \n",
       "Q 3428 1669 3622 1275 \n",
       "L 4263 0 \n",
       "L 3584 0 \n",
       "L 2988 1197 \n",
       "Q 2756 1666 2539 1819 \n",
       "Q 2322 1972 1947 1972 \n",
       "L 1259 1972 \n",
       "L 1259 0 \n",
       "L 628 0 \n",
       "L 628 4666 \n",
       "L 2053 4666 \n",
       "Q 2853 4666 3247 4331 \n",
       "Q 3641 3997 3641 3322 \n",
       "Q 3641 2881 3436 2590 \n",
       "Q 3231 2300 2841 2188 \n",
       "z\n",
       "M 1259 4147 \n",
       "L 1259 2491 \n",
       "L 2053 2491 \n",
       "Q 2509 2491 2742 2702 \n",
       "Q 2975 2913 2975 3322 \n",
       "Q 2975 3731 2742 3939 \n",
       "Q 2509 4147 2053 4147 \n",
       "L 1259 4147 \n",
       "z\n",
       "\" transform=\"scale(0.015625)\"/>\n",
       "        <path id=\"DejaVuSans-4e\" d=\"M 628 4666 \n",
       "L 1478 4666 \n",
       "L 3547 763 \n",
       "L 3547 4666 \n",
       "L 4159 4666 \n",
       "L 4159 0 \n",
       "L 3309 0 \n",
       "L 1241 3903 \n",
       "L 1241 0 \n",
       "L 628 0 \n",
       "L 628 4666 \n",
       "z\n",
       "\" transform=\"scale(0.015625)\"/>\n",
       "        <path id=\"DejaVuSans-61\" d=\"M 2194 1759 \n",
       "Q 1497 1759 1228 1600 \n",
       "Q 959 1441 959 1056 \n",
       "Q 959 750 1161 570 \n",
       "Q 1363 391 1709 391 \n",
       "Q 2188 391 2477 730 \n",
       "Q 2766 1069 2766 1631 \n",
       "L 2766 1759 \n",
       "L 2194 1759 \n",
       "z\n",
       "M 3341 1997 \n",
       "L 3341 0 \n",
       "L 2766 0 \n",
       "L 2766 531 \n",
       "Q 2569 213 2275 61 \n",
       "Q 1981 -91 1556 -91 \n",
       "Q 1019 -91 701 211 \n",
       "Q 384 513 384 1019 \n",
       "Q 384 1609 779 1909 \n",
       "Q 1175 2209 1959 2209 \n",
       "L 2766 2209 \n",
       "L 2766 2266 \n",
       "Q 2766 2663 2505 2880 \n",
       "Q 2244 3097 1772 3097 \n",
       "Q 1472 3097 1187 3025 \n",
       "Q 903 2953 641 2809 \n",
       "L 641 3341 \n",
       "Q 956 3463 1253 3523 \n",
       "Q 1550 3584 1831 3584 \n",
       "Q 2591 3584 2966 3190 \n",
       "Q 3341 2797 3341 1997 \n",
       "z\n",
       "\" transform=\"scale(0.015625)\"/>\n",
       "        <path id=\"DejaVuSans-73\" d=\"M 2834 3397 \n",
       "L 2834 2853 \n",
       "Q 2591 2978 2328 3040 \n",
       "Q 2066 3103 1784 3103 \n",
       "Q 1356 3103 1142 2972 \n",
       "Q 928 2841 928 2578 \n",
       "Q 928 2378 1081 2264 \n",
       "Q 1234 2150 1697 2047 \n",
       "L 1894 2003 \n",
       "Q 2506 1872 2764 1633 \n",
       "Q 3022 1394 3022 966 \n",
       "Q 3022 478 2636 193 \n",
       "Q 2250 -91 1575 -91 \n",
       "Q 1294 -91 989 -36 \n",
       "Q 684 19 347 128 \n",
       "L 347 722 \n",
       "Q 666 556 975 473 \n",
       "Q 1284 391 1588 391 \n",
       "Q 1994 391 2212 530 \n",
       "Q 2431 669 2431 922 \n",
       "Q 2431 1156 2273 1281 \n",
       "Q 2116 1406 1581 1522 \n",
       "L 1381 1569 \n",
       "Q 847 1681 609 1914 \n",
       "Q 372 2147 372 2553 \n",
       "Q 372 3047 722 3315 \n",
       "Q 1072 3584 1716 3584 \n",
       "Q 2034 3584 2315 3537 \n",
       "Q 2597 3491 2834 3397 \n",
       "z\n",
       "\" transform=\"scale(0.015625)\"/>\n",
       "        <path id=\"DejaVuSans-65\" d=\"M 3597 1894 \n",
       "L 3597 1613 \n",
       "L 953 1613 \n",
       "Q 991 1019 1311 708 \n",
       "Q 1631 397 2203 397 \n",
       "Q 2534 397 2845 478 \n",
       "Q 3156 559 3463 722 \n",
       "L 3463 178 \n",
       "Q 3153 47 2828 -22 \n",
       "Q 2503 -91 2169 -91 \n",
       "Q 1331 -91 842 396 \n",
       "Q 353 884 353 1716 \n",
       "Q 353 2575 817 3079 \n",
       "Q 1281 3584 2069 3584 \n",
       "Q 2775 3584 3186 3129 \n",
       "Q 3597 2675 3597 1894 \n",
       "z\n",
       "M 3022 2063 \n",
       "Q 3016 2534 2758 2815 \n",
       "Q 2500 3097 2075 3097 \n",
       "Q 1594 3097 1305 2825 \n",
       "Q 1016 2553 972 2059 \n",
       "L 3022 2063 \n",
       "z\n",
       "\" transform=\"scale(0.015625)\"/>\n",
       "       </defs>\n",
       "       <use xlink:href=\"#DejaVuSans-30\"/>\n",
       "       <use xlink:href=\"#DejaVuSans-3a\" x=\"63.623047\"/>\n",
       "       <use xlink:href=\"#DejaVuSans-53\" x=\"97.314453\"/>\n",
       "       <use xlink:href=\"#DejaVuSans-31\" x=\"160.791016\"/>\n",
       "       <use xlink:href=\"#DejaVuSans-31\" x=\"224.414062\"/>\n",
       "       <use xlink:href=\"#DejaVuSans-2d\" x=\"288.037109\"/>\n",
       "       <use xlink:href=\"#DejaVuSans-53\" x=\"324.121094\"/>\n",
       "       <use xlink:href=\"#DejaVuSans-4c\" x=\"387.597656\"/>\n",
       "       <use xlink:href=\"#DejaVuSans-46\" x=\"443.310547\"/>\n",
       "       <use xlink:href=\"#DejaVuSans-32\" x=\"500.830078\"/>\n",
       "       <use xlink:href=\"#DejaVuSans-5f\" x=\"564.453125\"/>\n",
       "       <use xlink:href=\"#DejaVuSans-53\" x=\"614.453125\"/>\n",
       "       <use xlink:href=\"#DejaVuSans-37\" x=\"677.929688\"/>\n",
       "       <use xlink:href=\"#DejaVuSans-2d\" x=\"741.552734\"/>\n",
       "       <use xlink:href=\"#DejaVuSans-52\" x=\"777.636719\"/>\n",
       "       <use xlink:href=\"#DejaVuSans-4e\" x=\"847.119141\"/>\n",
       "       <use xlink:href=\"#DejaVuSans-61\" x=\"921.923828\"/>\n",
       "       <use xlink:href=\"#DejaVuSans-73\" x=\"983.203125\"/>\n",
       "       <use xlink:href=\"#DejaVuSans-65\" x=\"1035.302734\"/>\n",
       "      </g>\n",
       "     </g>\n",
       "    </g>\n",
       "    <g id=\"ytick_2\">\n",
       "     <g id=\"text_9\">\n",
       "      <!-- 0:S11-SLF3_S17-RNase -->\n",
       "      <g transform=\"translate(474.625 525.549037)scale(0.08 -0.08)\">\n",
       "       <use xlink:href=\"#DejaVuSans-30\"/>\n",
       "       <use xlink:href=\"#DejaVuSans-3a\" x=\"63.623047\"/>\n",
       "       <use xlink:href=\"#DejaVuSans-53\" x=\"97.314453\"/>\n",
       "       <use xlink:href=\"#DejaVuSans-31\" x=\"160.791016\"/>\n",
       "       <use xlink:href=\"#DejaVuSans-31\" x=\"224.414062\"/>\n",
       "       <use xlink:href=\"#DejaVuSans-2d\" x=\"288.037109\"/>\n",
       "       <use xlink:href=\"#DejaVuSans-53\" x=\"324.121094\"/>\n",
       "       <use xlink:href=\"#DejaVuSans-4c\" x=\"387.597656\"/>\n",
       "       <use xlink:href=\"#DejaVuSans-46\" x=\"443.310547\"/>\n",
       "       <use xlink:href=\"#DejaVuSans-33\" x=\"500.830078\"/>\n",
       "       <use xlink:href=\"#DejaVuSans-5f\" x=\"564.453125\"/>\n",
       "       <use xlink:href=\"#DejaVuSans-53\" x=\"614.453125\"/>\n",
       "       <use xlink:href=\"#DejaVuSans-31\" x=\"677.929688\"/>\n",
       "       <use xlink:href=\"#DejaVuSans-37\" x=\"741.552734\"/>\n",
       "       <use xlink:href=\"#DejaVuSans-2d\" x=\"805.175781\"/>\n",
       "       <use xlink:href=\"#DejaVuSans-52\" x=\"841.259766\"/>\n",
       "       <use xlink:href=\"#DejaVuSans-4e\" x=\"910.742188\"/>\n",
       "       <use xlink:href=\"#DejaVuSans-61\" x=\"985.546875\"/>\n",
       "       <use xlink:href=\"#DejaVuSans-73\" x=\"1046.826172\"/>\n",
       "       <use xlink:href=\"#DejaVuSans-65\" x=\"1098.925781\"/>\n",
       "      </g>\n",
       "     </g>\n",
       "    </g>\n",
       "    <g id=\"ytick_3\">\n",
       "     <g id=\"text_10\">\n",
       "      <!-- 0:S9-SLF1_S11-RNase -->\n",
       "      <g transform=\"translate(474.625 511.457145)scale(0.08 -0.08)\">\n",
       "       <defs>\n",
       "        <path id=\"DejaVuSans-39\" d=\"M 703 97 \n",
       "L 703 672 \n",
       "Q 941 559 1184 500 \n",
       "Q 1428 441 1663 441 \n",
       "Q 2288 441 2617 861 \n",
       "Q 2947 1281 2994 2138 \n",
       "Q 2813 1869 2534 1725 \n",
       "Q 2256 1581 1919 1581 \n",
       "Q 1219 1581 811 2004 \n",
       "Q 403 2428 403 3163 \n",
       "Q 403 3881 828 4315 \n",
       "Q 1253 4750 1959 4750 \n",
       "Q 2769 4750 3195 4129 \n",
       "Q 3622 3509 3622 2328 \n",
       "Q 3622 1225 3098 567 \n",
       "Q 2575 -91 1691 -91 \n",
       "Q 1453 -91 1209 -44 \n",
       "Q 966 3 703 97 \n",
       "z\n",
       "M 1959 2075 \n",
       "Q 2384 2075 2632 2365 \n",
       "Q 2881 2656 2881 3163 \n",
       "Q 2881 3666 2632 3958 \n",
       "Q 2384 4250 1959 4250 \n",
       "Q 1534 4250 1286 3958 \n",
       "Q 1038 3666 1038 3163 \n",
       "Q 1038 2656 1286 2365 \n",
       "Q 1534 2075 1959 2075 \n",
       "z\n",
       "\" transform=\"scale(0.015625)\"/>\n",
       "       </defs>\n",
       "       <use xlink:href=\"#DejaVuSans-30\"/>\n",
       "       <use xlink:href=\"#DejaVuSans-3a\" x=\"63.623047\"/>\n",
       "       <use xlink:href=\"#DejaVuSans-53\" x=\"97.314453\"/>\n",
       "       <use xlink:href=\"#DejaVuSans-39\" x=\"160.791016\"/>\n",
       "       <use xlink:href=\"#DejaVuSans-2d\" x=\"224.414062\"/>\n",
       "       <use xlink:href=\"#DejaVuSans-53\" x=\"260.498047\"/>\n",
       "       <use xlink:href=\"#DejaVuSans-4c\" x=\"323.974609\"/>\n",
       "       <use xlink:href=\"#DejaVuSans-46\" x=\"379.6875\"/>\n",
       "       <use xlink:href=\"#DejaVuSans-31\" x=\"437.207031\"/>\n",
       "       <use xlink:href=\"#DejaVuSans-5f\" x=\"500.830078\"/>\n",
       "       <use xlink:href=\"#DejaVuSans-53\" x=\"550.830078\"/>\n",
       "       <use xlink:href=\"#DejaVuSans-31\" x=\"614.306641\"/>\n",
       "       <use xlink:href=\"#DejaVuSans-31\" x=\"677.929688\"/>\n",
       "       <use xlink:href=\"#DejaVuSans-2d\" x=\"741.552734\"/>\n",
       "       <use xlink:href=\"#DejaVuSans-52\" x=\"777.636719\"/>\n",
       "       <use xlink:href=\"#DejaVuSans-4e\" x=\"847.119141\"/>\n",
       "       <use xlink:href=\"#DejaVuSans-61\" x=\"921.923828\"/>\n",
       "       <use xlink:href=\"#DejaVuSans-73\" x=\"983.203125\"/>\n",
       "       <use xlink:href=\"#DejaVuSans-65\" x=\"1035.302734\"/>\n",
       "      </g>\n",
       "     </g>\n",
       "    </g>\n",
       "    <g id=\"ytick_4\">\n",
       "     <g id=\"text_11\">\n",
       "      <!-- 1:S5-SLF1_S9-RNase -->\n",
       "      <g transform=\"translate(474.625 497.365253)scale(0.08 -0.08)\">\n",
       "       <use xlink:href=\"#DejaVuSans-31\"/>\n",
       "       <use xlink:href=\"#DejaVuSans-3a\" x=\"63.623047\"/>\n",
       "       <use xlink:href=\"#DejaVuSans-53\" x=\"97.314453\"/>\n",
       "       <use xlink:href=\"#DejaVuSans-35\" x=\"160.791016\"/>\n",
       "       <use xlink:href=\"#DejaVuSans-2d\" x=\"224.414062\"/>\n",
       "       <use xlink:href=\"#DejaVuSans-53\" x=\"260.498047\"/>\n",
       "       <use xlink:href=\"#DejaVuSans-4c\" x=\"323.974609\"/>\n",
       "       <use xlink:href=\"#DejaVuSans-46\" x=\"379.6875\"/>\n",
       "       <use xlink:href=\"#DejaVuSans-31\" x=\"437.207031\"/>\n",
       "       <use xlink:href=\"#DejaVuSans-5f\" x=\"500.830078\"/>\n",
       "       <use xlink:href=\"#DejaVuSans-53\" x=\"550.830078\"/>\n",
       "       <use xlink:href=\"#DejaVuSans-39\" x=\"614.306641\"/>\n",
       "       <use xlink:href=\"#DejaVuSans-2d\" x=\"677.929688\"/>\n",
       "       <use xlink:href=\"#DejaVuSans-52\" x=\"714.013672\"/>\n",
       "       <use xlink:href=\"#DejaVuSans-4e\" x=\"783.496094\"/>\n",
       "       <use xlink:href=\"#DejaVuSans-61\" x=\"858.300781\"/>\n",
       "       <use xlink:href=\"#DejaVuSans-73\" x=\"919.580078\"/>\n",
       "       <use xlink:href=\"#DejaVuSans-65\" x=\"971.679688\"/>\n",
       "      </g>\n",
       "     </g>\n",
       "    </g>\n",
       "    <g id=\"ytick_5\">\n",
       "     <g id=\"text_12\">\n",
       "      <!-- 0:S7-SLF1_S11-RNase -->\n",
       "      <g transform=\"translate(474.625 483.273361)scale(0.08 -0.08)\">\n",
       "       <use xlink:href=\"#DejaVuSans-30\"/>\n",
       "       <use xlink:href=\"#DejaVuSans-3a\" x=\"63.623047\"/>\n",
       "       <use xlink:href=\"#DejaVuSans-53\" x=\"97.314453\"/>\n",
       "       <use xlink:href=\"#DejaVuSans-37\" x=\"160.791016\"/>\n",
       "       <use xlink:href=\"#DejaVuSans-2d\" x=\"224.414062\"/>\n",
       "       <use xlink:href=\"#DejaVuSans-53\" x=\"260.498047\"/>\n",
       "       <use xlink:href=\"#DejaVuSans-4c\" x=\"323.974609\"/>\n",
       "       <use xlink:href=\"#DejaVuSans-46\" x=\"379.6875\"/>\n",
       "       <use xlink:href=\"#DejaVuSans-31\" x=\"437.207031\"/>\n",
       "       <use xlink:href=\"#DejaVuSans-5f\" x=\"500.830078\"/>\n",
       "       <use xlink:href=\"#DejaVuSans-53\" x=\"550.830078\"/>\n",
       "       <use xlink:href=\"#DejaVuSans-31\" x=\"614.306641\"/>\n",
       "       <use xlink:href=\"#DejaVuSans-31\" x=\"677.929688\"/>\n",
       "       <use xlink:href=\"#DejaVuSans-2d\" x=\"741.552734\"/>\n",
       "       <use xlink:href=\"#DejaVuSans-52\" x=\"777.636719\"/>\n",
       "       <use xlink:href=\"#DejaVuSans-4e\" x=\"847.119141\"/>\n",
       "       <use xlink:href=\"#DejaVuSans-61\" x=\"921.923828\"/>\n",
       "       <use xlink:href=\"#DejaVuSans-73\" x=\"983.203125\"/>\n",
       "       <use xlink:href=\"#DejaVuSans-65\" x=\"1035.302734\"/>\n",
       "      </g>\n",
       "     </g>\n",
       "    </g>\n",
       "    <g id=\"ytick_6\">\n",
       "     <g id=\"text_13\">\n",
       "      <!-- 1:S7-SLF1_S17-RNase -->\n",
       "      <g transform=\"translate(474.625 469.18147)scale(0.08 -0.08)\">\n",
       "       <use xlink:href=\"#DejaVuSans-31\"/>\n",
       "       <use xlink:href=\"#DejaVuSans-3a\" x=\"63.623047\"/>\n",
       "       <use xlink:href=\"#DejaVuSans-53\" x=\"97.314453\"/>\n",
       "       <use xlink:href=\"#DejaVuSans-37\" x=\"160.791016\"/>\n",
       "       <use xlink:href=\"#DejaVuSans-2d\" x=\"224.414062\"/>\n",
       "       <use xlink:href=\"#DejaVuSans-53\" x=\"260.498047\"/>\n",
       "       <use xlink:href=\"#DejaVuSans-4c\" x=\"323.974609\"/>\n",
       "       <use xlink:href=\"#DejaVuSans-46\" x=\"379.6875\"/>\n",
       "       <use xlink:href=\"#DejaVuSans-31\" x=\"437.207031\"/>\n",
       "       <use xlink:href=\"#DejaVuSans-5f\" x=\"500.830078\"/>\n",
       "       <use xlink:href=\"#DejaVuSans-53\" x=\"550.830078\"/>\n",
       "       <use xlink:href=\"#DejaVuSans-31\" x=\"614.306641\"/>\n",
       "       <use xlink:href=\"#DejaVuSans-37\" x=\"677.929688\"/>\n",
       "       <use xlink:href=\"#DejaVuSans-2d\" x=\"741.552734\"/>\n",
       "       <use xlink:href=\"#DejaVuSans-52\" x=\"777.636719\"/>\n",
       "       <use xlink:href=\"#DejaVuSans-4e\" x=\"847.119141\"/>\n",
       "       <use xlink:href=\"#DejaVuSans-61\" x=\"921.923828\"/>\n",
       "       <use xlink:href=\"#DejaVuSans-73\" x=\"983.203125\"/>\n",
       "       <use xlink:href=\"#DejaVuSans-65\" x=\"1035.302734\"/>\n",
       "      </g>\n",
       "     </g>\n",
       "    </g>\n",
       "    <g id=\"ytick_7\">\n",
       "     <g id=\"text_14\">\n",
       "      <!-- 0:S7-SLF2_S5-RNase -->\n",
       "      <g transform=\"translate(474.625 455.089578)scale(0.08 -0.08)\">\n",
       "       <use xlink:href=\"#DejaVuSans-30\"/>\n",
       "       <use xlink:href=\"#DejaVuSans-3a\" x=\"63.623047\"/>\n",
       "       <use xlink:href=\"#DejaVuSans-53\" x=\"97.314453\"/>\n",
       "       <use xlink:href=\"#DejaVuSans-37\" x=\"160.791016\"/>\n",
       "       <use xlink:href=\"#DejaVuSans-2d\" x=\"224.414062\"/>\n",
       "       <use xlink:href=\"#DejaVuSans-53\" x=\"260.498047\"/>\n",
       "       <use xlink:href=\"#DejaVuSans-4c\" x=\"323.974609\"/>\n",
       "       <use xlink:href=\"#DejaVuSans-46\" x=\"379.6875\"/>\n",
       "       <use xlink:href=\"#DejaVuSans-32\" x=\"437.207031\"/>\n",
       "       <use xlink:href=\"#DejaVuSans-5f\" x=\"500.830078\"/>\n",
       "       <use xlink:href=\"#DejaVuSans-53\" x=\"550.830078\"/>\n",
       "       <use xlink:href=\"#DejaVuSans-35\" x=\"614.306641\"/>\n",
       "       <use xlink:href=\"#DejaVuSans-2d\" x=\"677.929688\"/>\n",
       "       <use xlink:href=\"#DejaVuSans-52\" x=\"714.013672\"/>\n",
       "       <use xlink:href=\"#DejaVuSans-4e\" x=\"783.496094\"/>\n",
       "       <use xlink:href=\"#DejaVuSans-61\" x=\"858.300781\"/>\n",
       "       <use xlink:href=\"#DejaVuSans-73\" x=\"919.580078\"/>\n",
       "       <use xlink:href=\"#DejaVuSans-65\" x=\"971.679688\"/>\n",
       "      </g>\n",
       "     </g>\n",
       "    </g>\n",
       "    <g id=\"ytick_8\">\n",
       "     <g id=\"text_15\">\n",
       "      <!-- 0:S5-SLF1_S11-RNase -->\n",
       "      <g transform=\"translate(474.625 440.997686)scale(0.08 -0.08)\">\n",
       "       <use xlink:href=\"#DejaVuSans-30\"/>\n",
       "       <use xlink:href=\"#DejaVuSans-3a\" x=\"63.623047\"/>\n",
       "       <use xlink:href=\"#DejaVuSans-53\" x=\"97.314453\"/>\n",
       "       <use xlink:href=\"#DejaVuSans-35\" x=\"160.791016\"/>\n",
       "       <use xlink:href=\"#DejaVuSans-2d\" x=\"224.414062\"/>\n",
       "       <use xlink:href=\"#DejaVuSans-53\" x=\"260.498047\"/>\n",
       "       <use xlink:href=\"#DejaVuSans-4c\" x=\"323.974609\"/>\n",
       "       <use xlink:href=\"#DejaVuSans-46\" x=\"379.6875\"/>\n",
       "       <use xlink:href=\"#DejaVuSans-31\" x=\"437.207031\"/>\n",
       "       <use xlink:href=\"#DejaVuSans-5f\" x=\"500.830078\"/>\n",
       "       <use xlink:href=\"#DejaVuSans-53\" x=\"550.830078\"/>\n",
       "       <use xlink:href=\"#DejaVuSans-31\" x=\"614.306641\"/>\n",
       "       <use xlink:href=\"#DejaVuSans-31\" x=\"677.929688\"/>\n",
       "       <use xlink:href=\"#DejaVuSans-2d\" x=\"741.552734\"/>\n",
       "       <use xlink:href=\"#DejaVuSans-52\" x=\"777.636719\"/>\n",
       "       <use xlink:href=\"#DejaVuSans-4e\" x=\"847.119141\"/>\n",
       "       <use xlink:href=\"#DejaVuSans-61\" x=\"921.923828\"/>\n",
       "       <use xlink:href=\"#DejaVuSans-73\" x=\"983.203125\"/>\n",
       "       <use xlink:href=\"#DejaVuSans-65\" x=\"1035.302734\"/>\n",
       "      </g>\n",
       "     </g>\n",
       "    </g>\n",
       "    <g id=\"ytick_9\">\n",
       "     <g id=\"text_16\">\n",
       "      <!-- 1:S7-SLF2_S9-RNase -->\n",
       "      <g transform=\"translate(474.625 426.905794)scale(0.08 -0.08)\">\n",
       "       <use xlink:href=\"#DejaVuSans-31\"/>\n",
       "       <use xlink:href=\"#DejaVuSans-3a\" x=\"63.623047\"/>\n",
       "       <use xlink:href=\"#DejaVuSans-53\" x=\"97.314453\"/>\n",
       "       <use xlink:href=\"#DejaVuSans-37\" x=\"160.791016\"/>\n",
       "       <use xlink:href=\"#DejaVuSans-2d\" x=\"224.414062\"/>\n",
       "       <use xlink:href=\"#DejaVuSans-53\" x=\"260.498047\"/>\n",
       "       <use xlink:href=\"#DejaVuSans-4c\" x=\"323.974609\"/>\n",
       "       <use xlink:href=\"#DejaVuSans-46\" x=\"379.6875\"/>\n",
       "       <use xlink:href=\"#DejaVuSans-32\" x=\"437.207031\"/>\n",
       "       <use xlink:href=\"#DejaVuSans-5f\" x=\"500.830078\"/>\n",
       "       <use xlink:href=\"#DejaVuSans-53\" x=\"550.830078\"/>\n",
       "       <use xlink:href=\"#DejaVuSans-39\" x=\"614.306641\"/>\n",
       "       <use xlink:href=\"#DejaVuSans-2d\" x=\"677.929688\"/>\n",
       "       <use xlink:href=\"#DejaVuSans-52\" x=\"714.013672\"/>\n",
       "       <use xlink:href=\"#DejaVuSans-4e\" x=\"783.496094\"/>\n",
       "       <use xlink:href=\"#DejaVuSans-61\" x=\"858.300781\"/>\n",
       "       <use xlink:href=\"#DejaVuSans-73\" x=\"919.580078\"/>\n",
       "       <use xlink:href=\"#DejaVuSans-65\" x=\"971.679688\"/>\n",
       "      </g>\n",
       "     </g>\n",
       "    </g>\n",
       "    <g id=\"ytick_10\">\n",
       "     <g id=\"text_17\">\n",
       "      <!-- 0:S5-SLF2_S7-RNase -->\n",
       "      <g transform=\"translate(474.625 412.813902)scale(0.08 -0.08)\">\n",
       "       <use xlink:href=\"#DejaVuSans-30\"/>\n",
       "       <use xlink:href=\"#DejaVuSans-3a\" x=\"63.623047\"/>\n",
       "       <use xlink:href=\"#DejaVuSans-53\" x=\"97.314453\"/>\n",
       "       <use xlink:href=\"#DejaVuSans-35\" x=\"160.791016\"/>\n",
       "       <use xlink:href=\"#DejaVuSans-2d\" x=\"224.414062\"/>\n",
       "       <use xlink:href=\"#DejaVuSans-53\" x=\"260.498047\"/>\n",
       "       <use xlink:href=\"#DejaVuSans-4c\" x=\"323.974609\"/>\n",
       "       <use xlink:href=\"#DejaVuSans-46\" x=\"379.6875\"/>\n",
       "       <use xlink:href=\"#DejaVuSans-32\" x=\"437.207031\"/>\n",
       "       <use xlink:href=\"#DejaVuSans-5f\" x=\"500.830078\"/>\n",
       "       <use xlink:href=\"#DejaVuSans-53\" x=\"550.830078\"/>\n",
       "       <use xlink:href=\"#DejaVuSans-37\" x=\"614.306641\"/>\n",
       "       <use xlink:href=\"#DejaVuSans-2d\" x=\"677.929688\"/>\n",
       "       <use xlink:href=\"#DejaVuSans-52\" x=\"714.013672\"/>\n",
       "       <use xlink:href=\"#DejaVuSans-4e\" x=\"783.496094\"/>\n",
       "       <use xlink:href=\"#DejaVuSans-61\" x=\"858.300781\"/>\n",
       "       <use xlink:href=\"#DejaVuSans-73\" x=\"919.580078\"/>\n",
       "       <use xlink:href=\"#DejaVuSans-65\" x=\"971.679688\"/>\n",
       "      </g>\n",
       "     </g>\n",
       "    </g>\n",
       "    <g id=\"ytick_11\">\n",
       "     <g id=\"text_18\">\n",
       "      <!-- 0:S5-SLF1_S7-RNase -->\n",
       "      <g transform=\"translate(474.625 398.72201)scale(0.08 -0.08)\">\n",
       "       <use xlink:href=\"#DejaVuSans-30\"/>\n",
       "       <use xlink:href=\"#DejaVuSans-3a\" x=\"63.623047\"/>\n",
       "       <use xlink:href=\"#DejaVuSans-53\" x=\"97.314453\"/>\n",
       "       <use xlink:href=\"#DejaVuSans-35\" x=\"160.791016\"/>\n",
       "       <use xlink:href=\"#DejaVuSans-2d\" x=\"224.414062\"/>\n",
       "       <use xlink:href=\"#DejaVuSans-53\" x=\"260.498047\"/>\n",
       "       <use xlink:href=\"#DejaVuSans-4c\" x=\"323.974609\"/>\n",
       "       <use xlink:href=\"#DejaVuSans-46\" x=\"379.6875\"/>\n",
       "       <use xlink:href=\"#DejaVuSans-31\" x=\"437.207031\"/>\n",
       "       <use xlink:href=\"#DejaVuSans-5f\" x=\"500.830078\"/>\n",
       "       <use xlink:href=\"#DejaVuSans-53\" x=\"550.830078\"/>\n",
       "       <use xlink:href=\"#DejaVuSans-37\" x=\"614.306641\"/>\n",
       "       <use xlink:href=\"#DejaVuSans-2d\" x=\"677.929688\"/>\n",
       "       <use xlink:href=\"#DejaVuSans-52\" x=\"714.013672\"/>\n",
       "       <use xlink:href=\"#DejaVuSans-4e\" x=\"783.496094\"/>\n",
       "       <use xlink:href=\"#DejaVuSans-61\" x=\"858.300781\"/>\n",
       "       <use xlink:href=\"#DejaVuSans-73\" x=\"919.580078\"/>\n",
       "       <use xlink:href=\"#DejaVuSans-65\" x=\"971.679688\"/>\n",
       "      </g>\n",
       "     </g>\n",
       "    </g>\n",
       "    <g id=\"ytick_12\">\n",
       "     <g id=\"text_19\">\n",
       "      <!-- 0:S11-SLF3_S9-RNase -->\n",
       "      <g transform=\"translate(474.625 384.630118)scale(0.08 -0.08)\">\n",
       "       <use xlink:href=\"#DejaVuSans-30\"/>\n",
       "       <use xlink:href=\"#DejaVuSans-3a\" x=\"63.623047\"/>\n",
       "       <use xlink:href=\"#DejaVuSans-53\" x=\"97.314453\"/>\n",
       "       <use xlink:href=\"#DejaVuSans-31\" x=\"160.791016\"/>\n",
       "       <use xlink:href=\"#DejaVuSans-31\" x=\"224.414062\"/>\n",
       "       <use xlink:href=\"#DejaVuSans-2d\" x=\"288.037109\"/>\n",
       "       <use xlink:href=\"#DejaVuSans-53\" x=\"324.121094\"/>\n",
       "       <use xlink:href=\"#DejaVuSans-4c\" x=\"387.597656\"/>\n",
       "       <use xlink:href=\"#DejaVuSans-46\" x=\"443.310547\"/>\n",
       "       <use xlink:href=\"#DejaVuSans-33\" x=\"500.830078\"/>\n",
       "       <use xlink:href=\"#DejaVuSans-5f\" x=\"564.453125\"/>\n",
       "       <use xlink:href=\"#DejaVuSans-53\" x=\"614.453125\"/>\n",
       "       <use xlink:href=\"#DejaVuSans-39\" x=\"677.929688\"/>\n",
       "       <use xlink:href=\"#DejaVuSans-2d\" x=\"741.552734\"/>\n",
       "       <use xlink:href=\"#DejaVuSans-52\" x=\"777.636719\"/>\n",
       "       <use xlink:href=\"#DejaVuSans-4e\" x=\"847.119141\"/>\n",
       "       <use xlink:href=\"#DejaVuSans-61\" x=\"921.923828\"/>\n",
       "       <use xlink:href=\"#DejaVuSans-73\" x=\"983.203125\"/>\n",
       "       <use xlink:href=\"#DejaVuSans-65\" x=\"1035.302734\"/>\n",
       "      </g>\n",
       "     </g>\n",
       "    </g>\n",
       "    <g id=\"ytick_13\">\n",
       "     <g id=\"text_20\">\n",
       "      <!-- 0:S7-SLF3_S5-RNase -->\n",
       "      <g transform=\"translate(474.625 370.538226)scale(0.08 -0.08)\">\n",
       "       <use xlink:href=\"#DejaVuSans-30\"/>\n",
       "       <use xlink:href=\"#DejaVuSans-3a\" x=\"63.623047\"/>\n",
       "       <use xlink:href=\"#DejaVuSans-53\" x=\"97.314453\"/>\n",
       "       <use xlink:href=\"#DejaVuSans-37\" x=\"160.791016\"/>\n",
       "       <use xlink:href=\"#DejaVuSans-2d\" x=\"224.414062\"/>\n",
       "       <use xlink:href=\"#DejaVuSans-53\" x=\"260.498047\"/>\n",
       "       <use xlink:href=\"#DejaVuSans-4c\" x=\"323.974609\"/>\n",
       "       <use xlink:href=\"#DejaVuSans-46\" x=\"379.6875\"/>\n",
       "       <use xlink:href=\"#DejaVuSans-33\" x=\"437.207031\"/>\n",
       "       <use xlink:href=\"#DejaVuSans-5f\" x=\"500.830078\"/>\n",
       "       <use xlink:href=\"#DejaVuSans-53\" x=\"550.830078\"/>\n",
       "       <use xlink:href=\"#DejaVuSans-35\" x=\"614.306641\"/>\n",
       "       <use xlink:href=\"#DejaVuSans-2d\" x=\"677.929688\"/>\n",
       "       <use xlink:href=\"#DejaVuSans-52\" x=\"714.013672\"/>\n",
       "       <use xlink:href=\"#DejaVuSans-4e\" x=\"783.496094\"/>\n",
       "       <use xlink:href=\"#DejaVuSans-61\" x=\"858.300781\"/>\n",
       "       <use xlink:href=\"#DejaVuSans-73\" x=\"919.580078\"/>\n",
       "       <use xlink:href=\"#DejaVuSans-65\" x=\"971.679688\"/>\n",
       "      </g>\n",
       "     </g>\n",
       "    </g>\n",
       "    <g id=\"ytick_14\">\n",
       "     <g id=\"text_21\">\n",
       "      <!-- 1:S5-SLF2_S9-RNase -->\n",
       "      <g transform=\"translate(474.625 356.446334)scale(0.08 -0.08)\">\n",
       "       <use xlink:href=\"#DejaVuSans-31\"/>\n",
       "       <use xlink:href=\"#DejaVuSans-3a\" x=\"63.623047\"/>\n",
       "       <use xlink:href=\"#DejaVuSans-53\" x=\"97.314453\"/>\n",
       "       <use xlink:href=\"#DejaVuSans-35\" x=\"160.791016\"/>\n",
       "       <use xlink:href=\"#DejaVuSans-2d\" x=\"224.414062\"/>\n",
       "       <use xlink:href=\"#DejaVuSans-53\" x=\"260.498047\"/>\n",
       "       <use xlink:href=\"#DejaVuSans-4c\" x=\"323.974609\"/>\n",
       "       <use xlink:href=\"#DejaVuSans-46\" x=\"379.6875\"/>\n",
       "       <use xlink:href=\"#DejaVuSans-32\" x=\"437.207031\"/>\n",
       "       <use xlink:href=\"#DejaVuSans-5f\" x=\"500.830078\"/>\n",
       "       <use xlink:href=\"#DejaVuSans-53\" x=\"550.830078\"/>\n",
       "       <use xlink:href=\"#DejaVuSans-39\" x=\"614.306641\"/>\n",
       "       <use xlink:href=\"#DejaVuSans-2d\" x=\"677.929688\"/>\n",
       "       <use xlink:href=\"#DejaVuSans-52\" x=\"714.013672\"/>\n",
       "       <use xlink:href=\"#DejaVuSans-4e\" x=\"783.496094\"/>\n",
       "       <use xlink:href=\"#DejaVuSans-61\" x=\"858.300781\"/>\n",
       "       <use xlink:href=\"#DejaVuSans-73\" x=\"919.580078\"/>\n",
       "       <use xlink:href=\"#DejaVuSans-65\" x=\"971.679688\"/>\n",
       "      </g>\n",
       "     </g>\n",
       "    </g>\n",
       "    <g id=\"ytick_15\">\n",
       "     <g id=\"text_22\">\n",
       "      <!-- 0:S11-SLF1_S5-RNase -->\n",
       "      <g transform=\"translate(474.625 342.354443)scale(0.08 -0.08)\">\n",
       "       <use xlink:href=\"#DejaVuSans-30\"/>\n",
       "       <use xlink:href=\"#DejaVuSans-3a\" x=\"63.623047\"/>\n",
       "       <use xlink:href=\"#DejaVuSans-53\" x=\"97.314453\"/>\n",
       "       <use xlink:href=\"#DejaVuSans-31\" x=\"160.791016\"/>\n",
       "       <use xlink:href=\"#DejaVuSans-31\" x=\"224.414062\"/>\n",
       "       <use xlink:href=\"#DejaVuSans-2d\" x=\"288.037109\"/>\n",
       "       <use xlink:href=\"#DejaVuSans-53\" x=\"324.121094\"/>\n",
       "       <use xlink:href=\"#DejaVuSans-4c\" x=\"387.597656\"/>\n",
       "       <use xlink:href=\"#DejaVuSans-46\" x=\"443.310547\"/>\n",
       "       <use xlink:href=\"#DejaVuSans-31\" x=\"500.830078\"/>\n",
       "       <use xlink:href=\"#DejaVuSans-5f\" x=\"564.453125\"/>\n",
       "       <use xlink:href=\"#DejaVuSans-53\" x=\"614.453125\"/>\n",
       "       <use xlink:href=\"#DejaVuSans-35\" x=\"677.929688\"/>\n",
       "       <use xlink:href=\"#DejaVuSans-2d\" x=\"741.552734\"/>\n",
       "       <use xlink:href=\"#DejaVuSans-52\" x=\"777.636719\"/>\n",
       "       <use xlink:href=\"#DejaVuSans-4e\" x=\"847.119141\"/>\n",
       "       <use xlink:href=\"#DejaVuSans-61\" x=\"921.923828\"/>\n",
       "       <use xlink:href=\"#DejaVuSans-73\" x=\"983.203125\"/>\n",
       "       <use xlink:href=\"#DejaVuSans-65\" x=\"1035.302734\"/>\n",
       "      </g>\n",
       "     </g>\n",
       "    </g>\n",
       "    <g id=\"ytick_16\">\n",
       "     <g id=\"text_23\">\n",
       "      <!-- 0:S9-SLF1_S7-RNase -->\n",
       "      <g transform=\"translate(474.625 328.262551)scale(0.08 -0.08)\">\n",
       "       <use xlink:href=\"#DejaVuSans-30\"/>\n",
       "       <use xlink:href=\"#DejaVuSans-3a\" x=\"63.623047\"/>\n",
       "       <use xlink:href=\"#DejaVuSans-53\" x=\"97.314453\"/>\n",
       "       <use xlink:href=\"#DejaVuSans-39\" x=\"160.791016\"/>\n",
       "       <use xlink:href=\"#DejaVuSans-2d\" x=\"224.414062\"/>\n",
       "       <use xlink:href=\"#DejaVuSans-53\" x=\"260.498047\"/>\n",
       "       <use xlink:href=\"#DejaVuSans-4c\" x=\"323.974609\"/>\n",
       "       <use xlink:href=\"#DejaVuSans-46\" x=\"379.6875\"/>\n",
       "       <use xlink:href=\"#DejaVuSans-31\" x=\"437.207031\"/>\n",
       "       <use xlink:href=\"#DejaVuSans-5f\" x=\"500.830078\"/>\n",
       "       <use xlink:href=\"#DejaVuSans-53\" x=\"550.830078\"/>\n",
       "       <use xlink:href=\"#DejaVuSans-37\" x=\"614.306641\"/>\n",
       "       <use xlink:href=\"#DejaVuSans-2d\" x=\"677.929688\"/>\n",
       "       <use xlink:href=\"#DejaVuSans-52\" x=\"714.013672\"/>\n",
       "       <use xlink:href=\"#DejaVuSans-4e\" x=\"783.496094\"/>\n",
       "       <use xlink:href=\"#DejaVuSans-61\" x=\"858.300781\"/>\n",
       "       <use xlink:href=\"#DejaVuSans-73\" x=\"919.580078\"/>\n",
       "       <use xlink:href=\"#DejaVuSans-65\" x=\"971.679688\"/>\n",
       "      </g>\n",
       "     </g>\n",
       "    </g>\n",
       "    <g id=\"ytick_17\">\n",
       "     <g id=\"text_24\">\n",
       "      <!-- 0:S11-SLF1_S7-RNase -->\n",
       "      <g transform=\"translate(474.625 314.170659)scale(0.08 -0.08)\">\n",
       "       <use xlink:href=\"#DejaVuSans-30\"/>\n",
       "       <use xlink:href=\"#DejaVuSans-3a\" x=\"63.623047\"/>\n",
       "       <use xlink:href=\"#DejaVuSans-53\" x=\"97.314453\"/>\n",
       "       <use xlink:href=\"#DejaVuSans-31\" x=\"160.791016\"/>\n",
       "       <use xlink:href=\"#DejaVuSans-31\" x=\"224.414062\"/>\n",
       "       <use xlink:href=\"#DejaVuSans-2d\" x=\"288.037109\"/>\n",
       "       <use xlink:href=\"#DejaVuSans-53\" x=\"324.121094\"/>\n",
       "       <use xlink:href=\"#DejaVuSans-4c\" x=\"387.597656\"/>\n",
       "       <use xlink:href=\"#DejaVuSans-46\" x=\"443.310547\"/>\n",
       "       <use xlink:href=\"#DejaVuSans-31\" x=\"500.830078\"/>\n",
       "       <use xlink:href=\"#DejaVuSans-5f\" x=\"564.453125\"/>\n",
       "       <use xlink:href=\"#DejaVuSans-53\" x=\"614.453125\"/>\n",
       "       <use xlink:href=\"#DejaVuSans-37\" x=\"677.929688\"/>\n",
       "       <use xlink:href=\"#DejaVuSans-2d\" x=\"741.552734\"/>\n",
       "       <use xlink:href=\"#DejaVuSans-52\" x=\"777.636719\"/>\n",
       "       <use xlink:href=\"#DejaVuSans-4e\" x=\"847.119141\"/>\n",
       "       <use xlink:href=\"#DejaVuSans-61\" x=\"921.923828\"/>\n",
       "       <use xlink:href=\"#DejaVuSans-73\" x=\"983.203125\"/>\n",
       "       <use xlink:href=\"#DejaVuSans-65\" x=\"1035.302734\"/>\n",
       "      </g>\n",
       "     </g>\n",
       "    </g>\n",
       "    <g id=\"ytick_18\">\n",
       "     <g id=\"text_25\">\n",
       "      <!-- 0:S9-SLF1_S5-RNase -->\n",
       "      <g transform=\"translate(474.625 300.078767)scale(0.08 -0.08)\">\n",
       "       <use xlink:href=\"#DejaVuSans-30\"/>\n",
       "       <use xlink:href=\"#DejaVuSans-3a\" x=\"63.623047\"/>\n",
       "       <use xlink:href=\"#DejaVuSans-53\" x=\"97.314453\"/>\n",
       "       <use xlink:href=\"#DejaVuSans-39\" x=\"160.791016\"/>\n",
       "       <use xlink:href=\"#DejaVuSans-2d\" x=\"224.414062\"/>\n",
       "       <use xlink:href=\"#DejaVuSans-53\" x=\"260.498047\"/>\n",
       "       <use xlink:href=\"#DejaVuSans-4c\" x=\"323.974609\"/>\n",
       "       <use xlink:href=\"#DejaVuSans-46\" x=\"379.6875\"/>\n",
       "       <use xlink:href=\"#DejaVuSans-31\" x=\"437.207031\"/>\n",
       "       <use xlink:href=\"#DejaVuSans-5f\" x=\"500.830078\"/>\n",
       "       <use xlink:href=\"#DejaVuSans-53\" x=\"550.830078\"/>\n",
       "       <use xlink:href=\"#DejaVuSans-35\" x=\"614.306641\"/>\n",
       "       <use xlink:href=\"#DejaVuSans-2d\" x=\"677.929688\"/>\n",
       "       <use xlink:href=\"#DejaVuSans-52\" x=\"714.013672\"/>\n",
       "       <use xlink:href=\"#DejaVuSans-4e\" x=\"783.496094\"/>\n",
       "       <use xlink:href=\"#DejaVuSans-61\" x=\"858.300781\"/>\n",
       "       <use xlink:href=\"#DejaVuSans-73\" x=\"919.580078\"/>\n",
       "       <use xlink:href=\"#DejaVuSans-65\" x=\"971.679688\"/>\n",
       "      </g>\n",
       "     </g>\n",
       "    </g>\n",
       "    <g id=\"ytick_19\">\n",
       "     <g id=\"text_26\">\n",
       "      <!-- 1:S5-SLF2_S11-RNase -->\n",
       "      <g transform=\"translate(474.625 285.986875)scale(0.08 -0.08)\">\n",
       "       <use xlink:href=\"#DejaVuSans-31\"/>\n",
       "       <use xlink:href=\"#DejaVuSans-3a\" x=\"63.623047\"/>\n",
       "       <use xlink:href=\"#DejaVuSans-53\" x=\"97.314453\"/>\n",
       "       <use xlink:href=\"#DejaVuSans-35\" x=\"160.791016\"/>\n",
       "       <use xlink:href=\"#DejaVuSans-2d\" x=\"224.414062\"/>\n",
       "       <use xlink:href=\"#DejaVuSans-53\" x=\"260.498047\"/>\n",
       "       <use xlink:href=\"#DejaVuSans-4c\" x=\"323.974609\"/>\n",
       "       <use xlink:href=\"#DejaVuSans-46\" x=\"379.6875\"/>\n",
       "       <use xlink:href=\"#DejaVuSans-32\" x=\"437.207031\"/>\n",
       "       <use xlink:href=\"#DejaVuSans-5f\" x=\"500.830078\"/>\n",
       "       <use xlink:href=\"#DejaVuSans-53\" x=\"550.830078\"/>\n",
       "       <use xlink:href=\"#DejaVuSans-31\" x=\"614.306641\"/>\n",
       "       <use xlink:href=\"#DejaVuSans-31\" x=\"677.929688\"/>\n",
       "       <use xlink:href=\"#DejaVuSans-2d\" x=\"741.552734\"/>\n",
       "       <use xlink:href=\"#DejaVuSans-52\" x=\"777.636719\"/>\n",
       "       <use xlink:href=\"#DejaVuSans-4e\" x=\"847.119141\"/>\n",
       "       <use xlink:href=\"#DejaVuSans-61\" x=\"921.923828\"/>\n",
       "       <use xlink:href=\"#DejaVuSans-73\" x=\"983.203125\"/>\n",
       "       <use xlink:href=\"#DejaVuSans-65\" x=\"1035.302734\"/>\n",
       "      </g>\n",
       "     </g>\n",
       "    </g>\n",
       "    <g id=\"ytick_20\">\n",
       "     <g id=\"text_27\">\n",
       "      <!-- 0:S7-SLF3_S11-RNase -->\n",
       "      <g transform=\"translate(474.625 271.894983)scale(0.08 -0.08)\">\n",
       "       <use xlink:href=\"#DejaVuSans-30\"/>\n",
       "       <use xlink:href=\"#DejaVuSans-3a\" x=\"63.623047\"/>\n",
       "       <use xlink:href=\"#DejaVuSans-53\" x=\"97.314453\"/>\n",
       "       <use xlink:href=\"#DejaVuSans-37\" x=\"160.791016\"/>\n",
       "       <use xlink:href=\"#DejaVuSans-2d\" x=\"224.414062\"/>\n",
       "       <use xlink:href=\"#DejaVuSans-53\" x=\"260.498047\"/>\n",
       "       <use xlink:href=\"#DejaVuSans-4c\" x=\"323.974609\"/>\n",
       "       <use xlink:href=\"#DejaVuSans-46\" x=\"379.6875\"/>\n",
       "       <use xlink:href=\"#DejaVuSans-33\" x=\"437.207031\"/>\n",
       "       <use xlink:href=\"#DejaVuSans-5f\" x=\"500.830078\"/>\n",
       "       <use xlink:href=\"#DejaVuSans-53\" x=\"550.830078\"/>\n",
       "       <use xlink:href=\"#DejaVuSans-31\" x=\"614.306641\"/>\n",
       "       <use xlink:href=\"#DejaVuSans-31\" x=\"677.929688\"/>\n",
       "       <use xlink:href=\"#DejaVuSans-2d\" x=\"741.552734\"/>\n",
       "       <use xlink:href=\"#DejaVuSans-52\" x=\"777.636719\"/>\n",
       "       <use xlink:href=\"#DejaVuSans-4e\" x=\"847.119141\"/>\n",
       "       <use xlink:href=\"#DejaVuSans-61\" x=\"921.923828\"/>\n",
       "       <use xlink:href=\"#DejaVuSans-73\" x=\"983.203125\"/>\n",
       "       <use xlink:href=\"#DejaVuSans-65\" x=\"1035.302734\"/>\n",
       "      </g>\n",
       "     </g>\n",
       "    </g>\n",
       "    <g id=\"ytick_21\">\n",
       "     <g id=\"text_28\">\n",
       "      <!-- 0:S7-SLF2_S17-RNase -->\n",
       "      <g transform=\"translate(474.625 257.803091)scale(0.08 -0.08)\">\n",
       "       <use xlink:href=\"#DejaVuSans-30\"/>\n",
       "       <use xlink:href=\"#DejaVuSans-3a\" x=\"63.623047\"/>\n",
       "       <use xlink:href=\"#DejaVuSans-53\" x=\"97.314453\"/>\n",
       "       <use xlink:href=\"#DejaVuSans-37\" x=\"160.791016\"/>\n",
       "       <use xlink:href=\"#DejaVuSans-2d\" x=\"224.414062\"/>\n",
       "       <use xlink:href=\"#DejaVuSans-53\" x=\"260.498047\"/>\n",
       "       <use xlink:href=\"#DejaVuSans-4c\" x=\"323.974609\"/>\n",
       "       <use xlink:href=\"#DejaVuSans-46\" x=\"379.6875\"/>\n",
       "       <use xlink:href=\"#DejaVuSans-32\" x=\"437.207031\"/>\n",
       "       <use xlink:href=\"#DejaVuSans-5f\" x=\"500.830078\"/>\n",
       "       <use xlink:href=\"#DejaVuSans-53\" x=\"550.830078\"/>\n",
       "       <use xlink:href=\"#DejaVuSans-31\" x=\"614.306641\"/>\n",
       "       <use xlink:href=\"#DejaVuSans-37\" x=\"677.929688\"/>\n",
       "       <use xlink:href=\"#DejaVuSans-2d\" x=\"741.552734\"/>\n",
       "       <use xlink:href=\"#DejaVuSans-52\" x=\"777.636719\"/>\n",
       "       <use xlink:href=\"#DejaVuSans-4e\" x=\"847.119141\"/>\n",
       "       <use xlink:href=\"#DejaVuSans-61\" x=\"921.923828\"/>\n",
       "       <use xlink:href=\"#DejaVuSans-73\" x=\"983.203125\"/>\n",
       "       <use xlink:href=\"#DejaVuSans-65\" x=\"1035.302734\"/>\n",
       "      </g>\n",
       "     </g>\n",
       "    </g>\n",
       "    <g id=\"ytick_22\">\n",
       "     <g id=\"text_29\">\n",
       "      <!-- 1:S7-SLF2_S11-RNase -->\n",
       "      <g transform=\"translate(474.625 243.711199)scale(0.08 -0.08)\">\n",
       "       <use xlink:href=\"#DejaVuSans-31\"/>\n",
       "       <use xlink:href=\"#DejaVuSans-3a\" x=\"63.623047\"/>\n",
       "       <use xlink:href=\"#DejaVuSans-53\" x=\"97.314453\"/>\n",
       "       <use xlink:href=\"#DejaVuSans-37\" x=\"160.791016\"/>\n",
       "       <use xlink:href=\"#DejaVuSans-2d\" x=\"224.414062\"/>\n",
       "       <use xlink:href=\"#DejaVuSans-53\" x=\"260.498047\"/>\n",
       "       <use xlink:href=\"#DejaVuSans-4c\" x=\"323.974609\"/>\n",
       "       <use xlink:href=\"#DejaVuSans-46\" x=\"379.6875\"/>\n",
       "       <use xlink:href=\"#DejaVuSans-32\" x=\"437.207031\"/>\n",
       "       <use xlink:href=\"#DejaVuSans-5f\" x=\"500.830078\"/>\n",
       "       <use xlink:href=\"#DejaVuSans-53\" x=\"550.830078\"/>\n",
       "       <use xlink:href=\"#DejaVuSans-31\" x=\"614.306641\"/>\n",
       "       <use xlink:href=\"#DejaVuSans-31\" x=\"677.929688\"/>\n",
       "       <use xlink:href=\"#DejaVuSans-2d\" x=\"741.552734\"/>\n",
       "       <use xlink:href=\"#DejaVuSans-52\" x=\"777.636719\"/>\n",
       "       <use xlink:href=\"#DejaVuSans-4e\" x=\"847.119141\"/>\n",
       "       <use xlink:href=\"#DejaVuSans-61\" x=\"921.923828\"/>\n",
       "       <use xlink:href=\"#DejaVuSans-73\" x=\"983.203125\"/>\n",
       "       <use xlink:href=\"#DejaVuSans-65\" x=\"1035.302734\"/>\n",
       "      </g>\n",
       "     </g>\n",
       "    </g>\n",
       "    <g id=\"ytick_23\">\n",
       "     <g id=\"text_30\">\n",
       "      <!-- 0:S7-SLF3_S9-RNase -->\n",
       "      <g transform=\"translate(474.625 229.619307)scale(0.08 -0.08)\">\n",
       "       <use xlink:href=\"#DejaVuSans-30\"/>\n",
       "       <use xlink:href=\"#DejaVuSans-3a\" x=\"63.623047\"/>\n",
       "       <use xlink:href=\"#DejaVuSans-53\" x=\"97.314453\"/>\n",
       "       <use xlink:href=\"#DejaVuSans-37\" x=\"160.791016\"/>\n",
       "       <use xlink:href=\"#DejaVuSans-2d\" x=\"224.414062\"/>\n",
       "       <use xlink:href=\"#DejaVuSans-53\" x=\"260.498047\"/>\n",
       "       <use xlink:href=\"#DejaVuSans-4c\" x=\"323.974609\"/>\n",
       "       <use xlink:href=\"#DejaVuSans-46\" x=\"379.6875\"/>\n",
       "       <use xlink:href=\"#DejaVuSans-33\" x=\"437.207031\"/>\n",
       "       <use xlink:href=\"#DejaVuSans-5f\" x=\"500.830078\"/>\n",
       "       <use xlink:href=\"#DejaVuSans-53\" x=\"550.830078\"/>\n",
       "       <use xlink:href=\"#DejaVuSans-39\" x=\"614.306641\"/>\n",
       "       <use xlink:href=\"#DejaVuSans-2d\" x=\"677.929688\"/>\n",
       "       <use xlink:href=\"#DejaVuSans-52\" x=\"714.013672\"/>\n",
       "       <use xlink:href=\"#DejaVuSans-4e\" x=\"783.496094\"/>\n",
       "       <use xlink:href=\"#DejaVuSans-61\" x=\"858.300781\"/>\n",
       "       <use xlink:href=\"#DejaVuSans-73\" x=\"919.580078\"/>\n",
       "       <use xlink:href=\"#DejaVuSans-65\" x=\"971.679688\"/>\n",
       "      </g>\n",
       "     </g>\n",
       "    </g>\n",
       "    <g id=\"ytick_24\">\n",
       "     <g id=\"text_31\">\n",
       "      <!-- 1:S11-SLF1_S17-RNase -->\n",
       "      <g transform=\"translate(474.625 215.527416)scale(0.08 -0.08)\">\n",
       "       <use xlink:href=\"#DejaVuSans-31\"/>\n",
       "       <use xlink:href=\"#DejaVuSans-3a\" x=\"63.623047\"/>\n",
       "       <use xlink:href=\"#DejaVuSans-53\" x=\"97.314453\"/>\n",
       "       <use xlink:href=\"#DejaVuSans-31\" x=\"160.791016\"/>\n",
       "       <use xlink:href=\"#DejaVuSans-31\" x=\"224.414062\"/>\n",
       "       <use xlink:href=\"#DejaVuSans-2d\" x=\"288.037109\"/>\n",
       "       <use xlink:href=\"#DejaVuSans-53\" x=\"324.121094\"/>\n",
       "       <use xlink:href=\"#DejaVuSans-4c\" x=\"387.597656\"/>\n",
       "       <use xlink:href=\"#DejaVuSans-46\" x=\"443.310547\"/>\n",
       "       <use xlink:href=\"#DejaVuSans-31\" x=\"500.830078\"/>\n",
       "       <use xlink:href=\"#DejaVuSans-5f\" x=\"564.453125\"/>\n",
       "       <use xlink:href=\"#DejaVuSans-53\" x=\"614.453125\"/>\n",
       "       <use xlink:href=\"#DejaVuSans-31\" x=\"677.929688\"/>\n",
       "       <use xlink:href=\"#DejaVuSans-37\" x=\"741.552734\"/>\n",
       "       <use xlink:href=\"#DejaVuSans-2d\" x=\"805.175781\"/>\n",
       "       <use xlink:href=\"#DejaVuSans-52\" x=\"841.259766\"/>\n",
       "       <use xlink:href=\"#DejaVuSans-4e\" x=\"910.742188\"/>\n",
       "       <use xlink:href=\"#DejaVuSans-61\" x=\"985.546875\"/>\n",
       "       <use xlink:href=\"#DejaVuSans-73\" x=\"1046.826172\"/>\n",
       "       <use xlink:href=\"#DejaVuSans-65\" x=\"1098.925781\"/>\n",
       "      </g>\n",
       "     </g>\n",
       "    </g>\n",
       "    <g id=\"ytick_25\">\n",
       "     <g id=\"text_32\">\n",
       "      <!-- 1:S9-SLF1_S3-RNase -->\n",
       "      <g transform=\"translate(474.625 201.435524)scale(0.08 -0.08)\">\n",
       "       <use xlink:href=\"#DejaVuSans-31\"/>\n",
       "       <use xlink:href=\"#DejaVuSans-3a\" x=\"63.623047\"/>\n",
       "       <use xlink:href=\"#DejaVuSans-53\" x=\"97.314453\"/>\n",
       "       <use xlink:href=\"#DejaVuSans-39\" x=\"160.791016\"/>\n",
       "       <use xlink:href=\"#DejaVuSans-2d\" x=\"224.414062\"/>\n",
       "       <use xlink:href=\"#DejaVuSans-53\" x=\"260.498047\"/>\n",
       "       <use xlink:href=\"#DejaVuSans-4c\" x=\"323.974609\"/>\n",
       "       <use xlink:href=\"#DejaVuSans-46\" x=\"379.6875\"/>\n",
       "       <use xlink:href=\"#DejaVuSans-31\" x=\"437.207031\"/>\n",
       "       <use xlink:href=\"#DejaVuSans-5f\" x=\"500.830078\"/>\n",
       "       <use xlink:href=\"#DejaVuSans-53\" x=\"550.830078\"/>\n",
       "       <use xlink:href=\"#DejaVuSans-33\" x=\"614.306641\"/>\n",
       "       <use xlink:href=\"#DejaVuSans-2d\" x=\"677.929688\"/>\n",
       "       <use xlink:href=\"#DejaVuSans-52\" x=\"714.013672\"/>\n",
       "       <use xlink:href=\"#DejaVuSans-4e\" x=\"783.496094\"/>\n",
       "       <use xlink:href=\"#DejaVuSans-61\" x=\"858.300781\"/>\n",
       "       <use xlink:href=\"#DejaVuSans-73\" x=\"919.580078\"/>\n",
       "       <use xlink:href=\"#DejaVuSans-65\" x=\"971.679688\"/>\n",
       "      </g>\n",
       "     </g>\n",
       "    </g>\n",
       "    <g id=\"ytick_26\">\n",
       "     <g id=\"text_33\">\n",
       "      <!-- 0:S7-SLF1_S5-RNase -->\n",
       "      <g transform=\"translate(474.625 187.343632)scale(0.08 -0.08)\">\n",
       "       <use xlink:href=\"#DejaVuSans-30\"/>\n",
       "       <use xlink:href=\"#DejaVuSans-3a\" x=\"63.623047\"/>\n",
       "       <use xlink:href=\"#DejaVuSans-53\" x=\"97.314453\"/>\n",
       "       <use xlink:href=\"#DejaVuSans-37\" x=\"160.791016\"/>\n",
       "       <use xlink:href=\"#DejaVuSans-2d\" x=\"224.414062\"/>\n",
       "       <use xlink:href=\"#DejaVuSans-53\" x=\"260.498047\"/>\n",
       "       <use xlink:href=\"#DejaVuSans-4c\" x=\"323.974609\"/>\n",
       "       <use xlink:href=\"#DejaVuSans-46\" x=\"379.6875\"/>\n",
       "       <use xlink:href=\"#DejaVuSans-31\" x=\"437.207031\"/>\n",
       "       <use xlink:href=\"#DejaVuSans-5f\" x=\"500.830078\"/>\n",
       "       <use xlink:href=\"#DejaVuSans-53\" x=\"550.830078\"/>\n",
       "       <use xlink:href=\"#DejaVuSans-35\" x=\"614.306641\"/>\n",
       "       <use xlink:href=\"#DejaVuSans-2d\" x=\"677.929688\"/>\n",
       "       <use xlink:href=\"#DejaVuSans-52\" x=\"714.013672\"/>\n",
       "       <use xlink:href=\"#DejaVuSans-4e\" x=\"783.496094\"/>\n",
       "       <use xlink:href=\"#DejaVuSans-61\" x=\"858.300781\"/>\n",
       "       <use xlink:href=\"#DejaVuSans-73\" x=\"919.580078\"/>\n",
       "       <use xlink:href=\"#DejaVuSans-65\" x=\"971.679688\"/>\n",
       "      </g>\n",
       "     </g>\n",
       "    </g>\n",
       "    <g id=\"ytick_27\">\n",
       "     <g id=\"text_34\">\n",
       "      <!-- 1:S9-SLF1_S17-RNase -->\n",
       "      <g transform=\"translate(474.625 173.25174)scale(0.08 -0.08)\">\n",
       "       <use xlink:href=\"#DejaVuSans-31\"/>\n",
       "       <use xlink:href=\"#DejaVuSans-3a\" x=\"63.623047\"/>\n",
       "       <use xlink:href=\"#DejaVuSans-53\" x=\"97.314453\"/>\n",
       "       <use xlink:href=\"#DejaVuSans-39\" x=\"160.791016\"/>\n",
       "       <use xlink:href=\"#DejaVuSans-2d\" x=\"224.414062\"/>\n",
       "       <use xlink:href=\"#DejaVuSans-53\" x=\"260.498047\"/>\n",
       "       <use xlink:href=\"#DejaVuSans-4c\" x=\"323.974609\"/>\n",
       "       <use xlink:href=\"#DejaVuSans-46\" x=\"379.6875\"/>\n",
       "       <use xlink:href=\"#DejaVuSans-31\" x=\"437.207031\"/>\n",
       "       <use xlink:href=\"#DejaVuSans-5f\" x=\"500.830078\"/>\n",
       "       <use xlink:href=\"#DejaVuSans-53\" x=\"550.830078\"/>\n",
       "       <use xlink:href=\"#DejaVuSans-31\" x=\"614.306641\"/>\n",
       "       <use xlink:href=\"#DejaVuSans-37\" x=\"677.929688\"/>\n",
       "       <use xlink:href=\"#DejaVuSans-2d\" x=\"741.552734\"/>\n",
       "       <use xlink:href=\"#DejaVuSans-52\" x=\"777.636719\"/>\n",
       "       <use xlink:href=\"#DejaVuSans-4e\" x=\"847.119141\"/>\n",
       "       <use xlink:href=\"#DejaVuSans-61\" x=\"921.923828\"/>\n",
       "       <use xlink:href=\"#DejaVuSans-73\" x=\"983.203125\"/>\n",
       "       <use xlink:href=\"#DejaVuSans-65\" x=\"1035.302734\"/>\n",
       "      </g>\n",
       "     </g>\n",
       "    </g>\n",
       "    <g id=\"ytick_28\">\n",
       "     <g id=\"text_35\">\n",
       "      <!-- 0:S11-SLF2_S17-RNase -->\n",
       "      <g transform=\"translate(474.625 159.159848)scale(0.08 -0.08)\">\n",
       "       <use xlink:href=\"#DejaVuSans-30\"/>\n",
       "       <use xlink:href=\"#DejaVuSans-3a\" x=\"63.623047\"/>\n",
       "       <use xlink:href=\"#DejaVuSans-53\" x=\"97.314453\"/>\n",
       "       <use xlink:href=\"#DejaVuSans-31\" x=\"160.791016\"/>\n",
       "       <use xlink:href=\"#DejaVuSans-31\" x=\"224.414062\"/>\n",
       "       <use xlink:href=\"#DejaVuSans-2d\" x=\"288.037109\"/>\n",
       "       <use xlink:href=\"#DejaVuSans-53\" x=\"324.121094\"/>\n",
       "       <use xlink:href=\"#DejaVuSans-4c\" x=\"387.597656\"/>\n",
       "       <use xlink:href=\"#DejaVuSans-46\" x=\"443.310547\"/>\n",
       "       <use xlink:href=\"#DejaVuSans-32\" x=\"500.830078\"/>\n",
       "       <use xlink:href=\"#DejaVuSans-5f\" x=\"564.453125\"/>\n",
       "       <use xlink:href=\"#DejaVuSans-53\" x=\"614.453125\"/>\n",
       "       <use xlink:href=\"#DejaVuSans-31\" x=\"677.929688\"/>\n",
       "       <use xlink:href=\"#DejaVuSans-37\" x=\"741.552734\"/>\n",
       "       <use xlink:href=\"#DejaVuSans-2d\" x=\"805.175781\"/>\n",
       "       <use xlink:href=\"#DejaVuSans-52\" x=\"841.259766\"/>\n",
       "       <use xlink:href=\"#DejaVuSans-4e\" x=\"910.742188\"/>\n",
       "       <use xlink:href=\"#DejaVuSans-61\" x=\"985.546875\"/>\n",
       "       <use xlink:href=\"#DejaVuSans-73\" x=\"1046.826172\"/>\n",
       "       <use xlink:href=\"#DejaVuSans-65\" x=\"1098.925781\"/>\n",
       "      </g>\n",
       "     </g>\n",
       "    </g>\n",
       "    <g id=\"ytick_29\">\n",
       "     <g id=\"text_36\">\n",
       "      <!-- 1:S11-SLF3_S7-RNase -->\n",
       "      <g transform=\"translate(474.625 145.067956)scale(0.08 -0.08)\">\n",
       "       <use xlink:href=\"#DejaVuSans-31\"/>\n",
       "       <use xlink:href=\"#DejaVuSans-3a\" x=\"63.623047\"/>\n",
       "       <use xlink:href=\"#DejaVuSans-53\" x=\"97.314453\"/>\n",
       "       <use xlink:href=\"#DejaVuSans-31\" x=\"160.791016\"/>\n",
       "       <use xlink:href=\"#DejaVuSans-31\" x=\"224.414062\"/>\n",
       "       <use xlink:href=\"#DejaVuSans-2d\" x=\"288.037109\"/>\n",
       "       <use xlink:href=\"#DejaVuSans-53\" x=\"324.121094\"/>\n",
       "       <use xlink:href=\"#DejaVuSans-4c\" x=\"387.597656\"/>\n",
       "       <use xlink:href=\"#DejaVuSans-46\" x=\"443.310547\"/>\n",
       "       <use xlink:href=\"#DejaVuSans-33\" x=\"500.830078\"/>\n",
       "       <use xlink:href=\"#DejaVuSans-5f\" x=\"564.453125\"/>\n",
       "       <use xlink:href=\"#DejaVuSans-53\" x=\"614.453125\"/>\n",
       "       <use xlink:href=\"#DejaVuSans-37\" x=\"677.929688\"/>\n",
       "       <use xlink:href=\"#DejaVuSans-2d\" x=\"741.552734\"/>\n",
       "       <use xlink:href=\"#DejaVuSans-52\" x=\"777.636719\"/>\n",
       "       <use xlink:href=\"#DejaVuSans-4e\" x=\"847.119141\"/>\n",
       "       <use xlink:href=\"#DejaVuSans-61\" x=\"921.923828\"/>\n",
       "       <use xlink:href=\"#DejaVuSans-73\" x=\"983.203125\"/>\n",
       "       <use xlink:href=\"#DejaVuSans-65\" x=\"1035.302734\"/>\n",
       "      </g>\n",
       "     </g>\n",
       "    </g>\n",
       "    <g id=\"ytick_30\">\n",
       "     <g id=\"text_37\">\n",
       "      <!-- 0:S11-SLF2_S5-RNase -->\n",
       "      <g transform=\"translate(474.625 130.976064)scale(0.08 -0.08)\">\n",
       "       <use xlink:href=\"#DejaVuSans-30\"/>\n",
       "       <use xlink:href=\"#DejaVuSans-3a\" x=\"63.623047\"/>\n",
       "       <use xlink:href=\"#DejaVuSans-53\" x=\"97.314453\"/>\n",
       "       <use xlink:href=\"#DejaVuSans-31\" x=\"160.791016\"/>\n",
       "       <use xlink:href=\"#DejaVuSans-31\" x=\"224.414062\"/>\n",
       "       <use xlink:href=\"#DejaVuSans-2d\" x=\"288.037109\"/>\n",
       "       <use xlink:href=\"#DejaVuSans-53\" x=\"324.121094\"/>\n",
       "       <use xlink:href=\"#DejaVuSans-4c\" x=\"387.597656\"/>\n",
       "       <use xlink:href=\"#DejaVuSans-46\" x=\"443.310547\"/>\n",
       "       <use xlink:href=\"#DejaVuSans-32\" x=\"500.830078\"/>\n",
       "       <use xlink:href=\"#DejaVuSans-5f\" x=\"564.453125\"/>\n",
       "       <use xlink:href=\"#DejaVuSans-53\" x=\"614.453125\"/>\n",
       "       <use xlink:href=\"#DejaVuSans-35\" x=\"677.929688\"/>\n",
       "       <use xlink:href=\"#DejaVuSans-2d\" x=\"741.552734\"/>\n",
       "       <use xlink:href=\"#DejaVuSans-52\" x=\"777.636719\"/>\n",
       "       <use xlink:href=\"#DejaVuSans-4e\" x=\"847.119141\"/>\n",
       "       <use xlink:href=\"#DejaVuSans-61\" x=\"921.923828\"/>\n",
       "       <use xlink:href=\"#DejaVuSans-73\" x=\"983.203125\"/>\n",
       "       <use xlink:href=\"#DejaVuSans-65\" x=\"1035.302734\"/>\n",
       "      </g>\n",
       "     </g>\n",
       "    </g>\n",
       "    <g id=\"ytick_31\">\n",
       "     <g id=\"text_38\">\n",
       "      <!-- 0:S7-SLF3_S17-RNase -->\n",
       "      <g transform=\"translate(474.625 116.884172)scale(0.08 -0.08)\">\n",
       "       <use xlink:href=\"#DejaVuSans-30\"/>\n",
       "       <use xlink:href=\"#DejaVuSans-3a\" x=\"63.623047\"/>\n",
       "       <use xlink:href=\"#DejaVuSans-53\" x=\"97.314453\"/>\n",
       "       <use xlink:href=\"#DejaVuSans-37\" x=\"160.791016\"/>\n",
       "       <use xlink:href=\"#DejaVuSans-2d\" x=\"224.414062\"/>\n",
       "       <use xlink:href=\"#DejaVuSans-53\" x=\"260.498047\"/>\n",
       "       <use xlink:href=\"#DejaVuSans-4c\" x=\"323.974609\"/>\n",
       "       <use xlink:href=\"#DejaVuSans-46\" x=\"379.6875\"/>\n",
       "       <use xlink:href=\"#DejaVuSans-33\" x=\"437.207031\"/>\n",
       "       <use xlink:href=\"#DejaVuSans-5f\" x=\"500.830078\"/>\n",
       "       <use xlink:href=\"#DejaVuSans-53\" x=\"550.830078\"/>\n",
       "       <use xlink:href=\"#DejaVuSans-31\" x=\"614.306641\"/>\n",
       "       <use xlink:href=\"#DejaVuSans-37\" x=\"677.929688\"/>\n",
       "       <use xlink:href=\"#DejaVuSans-2d\" x=\"741.552734\"/>\n",
       "       <use xlink:href=\"#DejaVuSans-52\" x=\"777.636719\"/>\n",
       "       <use xlink:href=\"#DejaVuSans-4e\" x=\"847.119141\"/>\n",
       "       <use xlink:href=\"#DejaVuSans-61\" x=\"921.923828\"/>\n",
       "       <use xlink:href=\"#DejaVuSans-73\" x=\"983.203125\"/>\n",
       "       <use xlink:href=\"#DejaVuSans-65\" x=\"1035.302734\"/>\n",
       "      </g>\n",
       "     </g>\n",
       "    </g>\n",
       "    <g id=\"ytick_32\">\n",
       "     <g id=\"text_39\">\n",
       "      <!-- 1:S7-SLF1_S9-RNase -->\n",
       "      <g transform=\"translate(474.625 102.79228)scale(0.08 -0.08)\">\n",
       "       <use xlink:href=\"#DejaVuSans-31\"/>\n",
       "       <use xlink:href=\"#DejaVuSans-3a\" x=\"63.623047\"/>\n",
       "       <use xlink:href=\"#DejaVuSans-53\" x=\"97.314453\"/>\n",
       "       <use xlink:href=\"#DejaVuSans-37\" x=\"160.791016\"/>\n",
       "       <use xlink:href=\"#DejaVuSans-2d\" x=\"224.414062\"/>\n",
       "       <use xlink:href=\"#DejaVuSans-53\" x=\"260.498047\"/>\n",
       "       <use xlink:href=\"#DejaVuSans-4c\" x=\"323.974609\"/>\n",
       "       <use xlink:href=\"#DejaVuSans-46\" x=\"379.6875\"/>\n",
       "       <use xlink:href=\"#DejaVuSans-31\" x=\"437.207031\"/>\n",
       "       <use xlink:href=\"#DejaVuSans-5f\" x=\"500.830078\"/>\n",
       "       <use xlink:href=\"#DejaVuSans-53\" x=\"550.830078\"/>\n",
       "       <use xlink:href=\"#DejaVuSans-39\" x=\"614.306641\"/>\n",
       "       <use xlink:href=\"#DejaVuSans-2d\" x=\"677.929688\"/>\n",
       "       <use xlink:href=\"#DejaVuSans-52\" x=\"714.013672\"/>\n",
       "       <use xlink:href=\"#DejaVuSans-4e\" x=\"783.496094\"/>\n",
       "       <use xlink:href=\"#DejaVuSans-61\" x=\"858.300781\"/>\n",
       "       <use xlink:href=\"#DejaVuSans-73\" x=\"919.580078\"/>\n",
       "       <use xlink:href=\"#DejaVuSans-65\" x=\"971.679688\"/>\n",
       "      </g>\n",
       "     </g>\n",
       "    </g>\n",
       "    <g id=\"ytick_33\">\n",
       "     <g id=\"text_40\">\n",
       "      <!-- 0:S5-SLF2_S17-RNase -->\n",
       "      <g transform=\"translate(474.625 88.700389)scale(0.08 -0.08)\">\n",
       "       <use xlink:href=\"#DejaVuSans-30\"/>\n",
       "       <use xlink:href=\"#DejaVuSans-3a\" x=\"63.623047\"/>\n",
       "       <use xlink:href=\"#DejaVuSans-53\" x=\"97.314453\"/>\n",
       "       <use xlink:href=\"#DejaVuSans-35\" x=\"160.791016\"/>\n",
       "       <use xlink:href=\"#DejaVuSans-2d\" x=\"224.414062\"/>\n",
       "       <use xlink:href=\"#DejaVuSans-53\" x=\"260.498047\"/>\n",
       "       <use xlink:href=\"#DejaVuSans-4c\" x=\"323.974609\"/>\n",
       "       <use xlink:href=\"#DejaVuSans-46\" x=\"379.6875\"/>\n",
       "       <use xlink:href=\"#DejaVuSans-32\" x=\"437.207031\"/>\n",
       "       <use xlink:href=\"#DejaVuSans-5f\" x=\"500.830078\"/>\n",
       "       <use xlink:href=\"#DejaVuSans-53\" x=\"550.830078\"/>\n",
       "       <use xlink:href=\"#DejaVuSans-31\" x=\"614.306641\"/>\n",
       "       <use xlink:href=\"#DejaVuSans-37\" x=\"677.929688\"/>\n",
       "       <use xlink:href=\"#DejaVuSans-2d\" x=\"741.552734\"/>\n",
       "       <use xlink:href=\"#DejaVuSans-52\" x=\"777.636719\"/>\n",
       "       <use xlink:href=\"#DejaVuSans-4e\" x=\"847.119141\"/>\n",
       "       <use xlink:href=\"#DejaVuSans-61\" x=\"921.923828\"/>\n",
       "       <use xlink:href=\"#DejaVuSans-73\" x=\"983.203125\"/>\n",
       "       <use xlink:href=\"#DejaVuSans-65\" x=\"1035.302734\"/>\n",
       "      </g>\n",
       "     </g>\n",
       "    </g>\n",
       "    <g id=\"ytick_34\">\n",
       "     <g id=\"text_41\">\n",
       "      <!-- 1:S11-SLF2_S9-RNase -->\n",
       "      <g transform=\"translate(474.625 74.608497)scale(0.08 -0.08)\">\n",
       "       <use xlink:href=\"#DejaVuSans-31\"/>\n",
       "       <use xlink:href=\"#DejaVuSans-3a\" x=\"63.623047\"/>\n",
       "       <use xlink:href=\"#DejaVuSans-53\" x=\"97.314453\"/>\n",
       "       <use xlink:href=\"#DejaVuSans-31\" x=\"160.791016\"/>\n",
       "       <use xlink:href=\"#DejaVuSans-31\" x=\"224.414062\"/>\n",
       "       <use xlink:href=\"#DejaVuSans-2d\" x=\"288.037109\"/>\n",
       "       <use xlink:href=\"#DejaVuSans-53\" x=\"324.121094\"/>\n",
       "       <use xlink:href=\"#DejaVuSans-4c\" x=\"387.597656\"/>\n",
       "       <use xlink:href=\"#DejaVuSans-46\" x=\"443.310547\"/>\n",
       "       <use xlink:href=\"#DejaVuSans-32\" x=\"500.830078\"/>\n",
       "       <use xlink:href=\"#DejaVuSans-5f\" x=\"564.453125\"/>\n",
       "       <use xlink:href=\"#DejaVuSans-53\" x=\"614.453125\"/>\n",
       "       <use xlink:href=\"#DejaVuSans-39\" x=\"677.929688\"/>\n",
       "       <use xlink:href=\"#DejaVuSans-2d\" x=\"741.552734\"/>\n",
       "       <use xlink:href=\"#DejaVuSans-52\" x=\"777.636719\"/>\n",
       "       <use xlink:href=\"#DejaVuSans-4e\" x=\"847.119141\"/>\n",
       "       <use xlink:href=\"#DejaVuSans-61\" x=\"921.923828\"/>\n",
       "       <use xlink:href=\"#DejaVuSans-73\" x=\"983.203125\"/>\n",
       "       <use xlink:href=\"#DejaVuSans-65\" x=\"1035.302734\"/>\n",
       "      </g>\n",
       "     </g>\n",
       "    </g>\n",
       "    <g id=\"ytick_35\">\n",
       "     <g id=\"text_42\">\n",
       "      <!-- 0:S11-SLF1_S9-RNase -->\n",
       "      <g transform=\"translate(474.625 60.516605)scale(0.08 -0.08)\">\n",
       "       <use xlink:href=\"#DejaVuSans-30\"/>\n",
       "       <use xlink:href=\"#DejaVuSans-3a\" x=\"63.623047\"/>\n",
       "       <use xlink:href=\"#DejaVuSans-53\" x=\"97.314453\"/>\n",
       "       <use xlink:href=\"#DejaVuSans-31\" x=\"160.791016\"/>\n",
       "       <use xlink:href=\"#DejaVuSans-31\" x=\"224.414062\"/>\n",
       "       <use xlink:href=\"#DejaVuSans-2d\" x=\"288.037109\"/>\n",
       "       <use xlink:href=\"#DejaVuSans-53\" x=\"324.121094\"/>\n",
       "       <use xlink:href=\"#DejaVuSans-4c\" x=\"387.597656\"/>\n",
       "       <use xlink:href=\"#DejaVuSans-46\" x=\"443.310547\"/>\n",
       "       <use xlink:href=\"#DejaVuSans-31\" x=\"500.830078\"/>\n",
       "       <use xlink:href=\"#DejaVuSans-5f\" x=\"564.453125\"/>\n",
       "       <use xlink:href=\"#DejaVuSans-53\" x=\"614.453125\"/>\n",
       "       <use xlink:href=\"#DejaVuSans-39\" x=\"677.929688\"/>\n",
       "       <use xlink:href=\"#DejaVuSans-2d\" x=\"741.552734\"/>\n",
       "       <use xlink:href=\"#DejaVuSans-52\" x=\"777.636719\"/>\n",
       "       <use xlink:href=\"#DejaVuSans-4e\" x=\"847.119141\"/>\n",
       "       <use xlink:href=\"#DejaVuSans-61\" x=\"921.923828\"/>\n",
       "       <use xlink:href=\"#DejaVuSans-73\" x=\"983.203125\"/>\n",
       "       <use xlink:href=\"#DejaVuSans-65\" x=\"1035.302734\"/>\n",
       "      </g>\n",
       "     </g>\n",
       "    </g>\n",
       "    <g id=\"ytick_36\">\n",
       "     <g id=\"text_43\">\n",
       "      <!-- 0:S11-SLF3_S5-RNase -->\n",
       "      <g transform=\"translate(474.625 46.424713)scale(0.08 -0.08)\">\n",
       "       <use xlink:href=\"#DejaVuSans-30\"/>\n",
       "       <use xlink:href=\"#DejaVuSans-3a\" x=\"63.623047\"/>\n",
       "       <use xlink:href=\"#DejaVuSans-53\" x=\"97.314453\"/>\n",
       "       <use xlink:href=\"#DejaVuSans-31\" x=\"160.791016\"/>\n",
       "       <use xlink:href=\"#DejaVuSans-31\" x=\"224.414062\"/>\n",
       "       <use xlink:href=\"#DejaVuSans-2d\" x=\"288.037109\"/>\n",
       "       <use xlink:href=\"#DejaVuSans-53\" x=\"324.121094\"/>\n",
       "       <use xlink:href=\"#DejaVuSans-4c\" x=\"387.597656\"/>\n",
       "       <use xlink:href=\"#DejaVuSans-46\" x=\"443.310547\"/>\n",
       "       <use xlink:href=\"#DejaVuSans-33\" x=\"500.830078\"/>\n",
       "       <use xlink:href=\"#DejaVuSans-5f\" x=\"564.453125\"/>\n",
       "       <use xlink:href=\"#DejaVuSans-53\" x=\"614.453125\"/>\n",
       "       <use xlink:href=\"#DejaVuSans-35\" x=\"677.929688\"/>\n",
       "       <use xlink:href=\"#DejaVuSans-2d\" x=\"741.552734\"/>\n",
       "       <use xlink:href=\"#DejaVuSans-52\" x=\"777.636719\"/>\n",
       "       <use xlink:href=\"#DejaVuSans-4e\" x=\"847.119141\"/>\n",
       "       <use xlink:href=\"#DejaVuSans-61\" x=\"921.923828\"/>\n",
       "       <use xlink:href=\"#DejaVuSans-73\" x=\"983.203125\"/>\n",
       "       <use xlink:href=\"#DejaVuSans-65\" x=\"1035.302734\"/>\n",
       "      </g>\n",
       "     </g>\n",
       "    </g>\n",
       "    <g id=\"ytick_37\">\n",
       "     <g id=\"text_44\">\n",
       "      <!-- 1:S5-SLF1_S17-RNase -->\n",
       "      <g transform=\"translate(474.625 32.332821)scale(0.08 -0.08)\">\n",
       "       <use xlink:href=\"#DejaVuSans-31\"/>\n",
       "       <use xlink:href=\"#DejaVuSans-3a\" x=\"63.623047\"/>\n",
       "       <use xlink:href=\"#DejaVuSans-53\" x=\"97.314453\"/>\n",
       "       <use xlink:href=\"#DejaVuSans-35\" x=\"160.791016\"/>\n",
       "       <use xlink:href=\"#DejaVuSans-2d\" x=\"224.414062\"/>\n",
       "       <use xlink:href=\"#DejaVuSans-53\" x=\"260.498047\"/>\n",
       "       <use xlink:href=\"#DejaVuSans-4c\" x=\"323.974609\"/>\n",
       "       <use xlink:href=\"#DejaVuSans-46\" x=\"379.6875\"/>\n",
       "       <use xlink:href=\"#DejaVuSans-31\" x=\"437.207031\"/>\n",
       "       <use xlink:href=\"#DejaVuSans-5f\" x=\"500.830078\"/>\n",
       "       <use xlink:href=\"#DejaVuSans-53\" x=\"550.830078\"/>\n",
       "       <use xlink:href=\"#DejaVuSans-31\" x=\"614.306641\"/>\n",
       "       <use xlink:href=\"#DejaVuSans-37\" x=\"677.929688\"/>\n",
       "       <use xlink:href=\"#DejaVuSans-2d\" x=\"741.552734\"/>\n",
       "       <use xlink:href=\"#DejaVuSans-52\" x=\"777.636719\"/>\n",
       "       <use xlink:href=\"#DejaVuSans-4e\" x=\"847.119141\"/>\n",
       "       <use xlink:href=\"#DejaVuSans-61\" x=\"921.923828\"/>\n",
       "       <use xlink:href=\"#DejaVuSans-73\" x=\"983.203125\"/>\n",
       "       <use xlink:href=\"#DejaVuSans-65\" x=\"1035.302734\"/>\n",
       "      </g>\n",
       "     </g>\n",
       "    </g>\n",
       "   </g>\n",
       "   <g id=\"LineCollection_1\">\n",
       "    <path d=\"M 467.625 536.672179 \n",
       "L 326.115349 536.672179 \n",
       "L 326.115349 522.580287 \n",
       "L 467.625 522.580287 \n",
       "\" clip-path=\"url(#pbb4a409726)\" style=\"fill: none; stroke: #ff7f0e; stroke-width: 1.5\"/>\n",
       "    <path d=\"M 467.625 508.488395 \n",
       "L 292.618561 508.488395 \n",
       "L 292.618561 494.396503 \n",
       "L 467.625 494.396503 \n",
       "\" clip-path=\"url(#pbb4a409726)\" style=\"fill: none; stroke: #ff7f0e; stroke-width: 1.5\"/>\n",
       "    <path d=\"M 326.115349 529.626233 \n",
       "L 280.929352 529.626233 \n",
       "L 280.929352 501.442449 \n",
       "L 292.618561 501.442449 \n",
       "\" clip-path=\"url(#pbb4a409726)\" style=\"fill: none; stroke: #ff7f0e; stroke-width: 1.5\"/>\n",
       "    <path d=\"M 467.625 480.304611 \n",
       "L 254.804096 480.304611 \n",
       "L 254.804096 466.21272 \n",
       "L 467.625 466.21272 \n",
       "\" clip-path=\"url(#pbb4a409726)\" style=\"fill: none; stroke: #ff7f0e; stroke-width: 1.5\"/>\n",
       "    <path d=\"M 280.929352 515.534341 \n",
       "L 221.967537 515.534341 \n",
       "L 221.967537 473.258666 \n",
       "L 254.804096 473.258666 \n",
       "\" clip-path=\"url(#pbb4a409726)\" style=\"fill: none; stroke: #ff7f0e; stroke-width: 1.5\"/>\n",
       "   </g>\n",
       "   <g id=\"LineCollection_2\">\n",
       "    <path d=\"M 467.625 438.028936 \n",
       "L 295.36562 438.028936 \n",
       "L 295.36562 423.937044 \n",
       "L 467.625 423.937044 \n",
       "\" clip-path=\"url(#pbb4a409726)\" style=\"fill: none; stroke: #2ca02c; stroke-width: 1.5\"/>\n",
       "    <path d=\"M 467.625 452.120828 \n",
       "L 260.678134 452.120828 \n",
       "L 260.678134 430.98299 \n",
       "L 295.36562 430.98299 \n",
       "\" clip-path=\"url(#pbb4a409726)\" style=\"fill: none; stroke: #2ca02c; stroke-width: 1.5\"/>\n",
       "    <path d=\"M 467.625 395.75326 \n",
       "L 305.63861 395.75326 \n",
       "L 305.63861 381.661368 \n",
       "L 467.625 381.661368 \n",
       "\" clip-path=\"url(#pbb4a409726)\" style=\"fill: none; stroke: #2ca02c; stroke-width: 1.5\"/>\n",
       "    <path d=\"M 467.625 409.845152 \n",
       "L 250.813533 409.845152 \n",
       "L 250.813533 388.707314 \n",
       "L 305.63861 388.707314 \n",
       "\" clip-path=\"url(#pbb4a409726)\" style=\"fill: none; stroke: #2ca02c; stroke-width: 1.5\"/>\n",
       "    <path d=\"M 260.678134 441.551909 \n",
       "L 198.809373 441.551909 \n",
       "L 198.809373 399.276233 \n",
       "L 250.813533 399.276233 \n",
       "\" clip-path=\"url(#pbb4a409726)\" style=\"fill: none; stroke: #2ca02c; stroke-width: 1.5\"/>\n",
       "   </g>\n",
       "   <g id=\"LineCollection_3\">\n",
       "    <path d=\"M 467.625 339.385693 \n",
       "L 334.689451 339.385693 \n",
       "L 334.689451 325.293801 \n",
       "L 467.625 325.293801 \n",
       "\" clip-path=\"url(#pbb4a409726)\" style=\"fill: none; stroke: #d62728; stroke-width: 1.5\"/>\n",
       "    <path d=\"M 467.625 353.477584 \n",
       "L 311.102235 353.477584 \n",
       "L 311.102235 332.339747 \n",
       "L 334.689451 332.339747 \n",
       "\" clip-path=\"url(#pbb4a409726)\" style=\"fill: none; stroke: #d62728; stroke-width: 1.5\"/>\n",
       "    <path d=\"M 467.625 367.569476 \n",
       "L 286.37374 367.569476 \n",
       "L 286.37374 342.908666 \n",
       "L 311.102235 342.908666 \n",
       "\" clip-path=\"url(#pbb4a409726)\" style=\"fill: none; stroke: #d62728; stroke-width: 1.5\"/>\n",
       "   </g>\n",
       "   <g id=\"LineCollection_4\">\n",
       "    <path d=\"M 467.625 268.926233 \n",
       "L 320.012588 268.926233 \n",
       "L 320.012588 254.834341 \n",
       "L 467.625 254.834341 \n",
       "\" clip-path=\"url(#pbb4a409726)\" style=\"fill: none; stroke: #9467bd; stroke-width: 1.5\"/>\n",
       "    <path d=\"M 467.625 283.018125 \n",
       "L 308.97694 283.018125 \n",
       "L 308.97694 261.880287 \n",
       "L 320.012588 261.880287 \n",
       "\" clip-path=\"url(#pbb4a409726)\" style=\"fill: none; stroke: #9467bd; stroke-width: 1.5\"/>\n",
       "    <path d=\"M 467.625 297.110017 \n",
       "L 273.75431 297.110017 \n",
       "L 273.75431 272.449206 \n",
       "L 308.97694 272.449206 \n",
       "\" clip-path=\"url(#pbb4a409726)\" style=\"fill: none; stroke: #9467bd; stroke-width: 1.5\"/>\n",
       "    <path d=\"M 467.625 311.201909 \n",
       "L 270.529585 311.201909 \n",
       "L 270.529585 284.779611 \n",
       "L 273.75431 284.779611 \n",
       "\" clip-path=\"url(#pbb4a409726)\" style=\"fill: none; stroke: #9467bd; stroke-width: 1.5\"/>\n",
       "    <path d=\"M 467.625 226.650557 \n",
       "L 340.532336 226.650557 \n",
       "L 340.532336 212.558666 \n",
       "L 467.625 212.558666 \n",
       "\" clip-path=\"url(#pbb4a409726)\" style=\"fill: none; stroke: #9467bd; stroke-width: 1.5\"/>\n",
       "    <path d=\"M 467.625 240.742449 \n",
       "L 324.728407 240.742449 \n",
       "L 324.728407 219.604611 \n",
       "L 340.532336 219.604611 \n",
       "\" clip-path=\"url(#pbb4a409726)\" style=\"fill: none; stroke: #9467bd; stroke-width: 1.5\"/>\n",
       "    <path d=\"M 467.625 184.374882 \n",
       "L 323.099681 184.374882 \n",
       "L 323.099681 170.28299 \n",
       "L 467.625 170.28299 \n",
       "\" clip-path=\"url(#pbb4a409726)\" style=\"fill: none; stroke: #9467bd; stroke-width: 1.5\"/>\n",
       "    <path d=\"M 467.625 198.466774 \n",
       "L 295.337029 198.466774 \n",
       "L 295.337029 177.328936 \n",
       "L 323.099681 177.328936 \n",
       "\" clip-path=\"url(#pbb4a409726)\" style=\"fill: none; stroke: #9467bd; stroke-width: 1.5\"/>\n",
       "    <path d=\"M 324.728407 230.17353 \n",
       "L 254.550536 230.17353 \n",
       "L 254.550536 187.897855 \n",
       "L 295.337029 187.897855 \n",
       "\" clip-path=\"url(#pbb4a409726)\" style=\"fill: none; stroke: #9467bd; stroke-width: 1.5\"/>\n",
       "    <path d=\"M 270.529585 297.99076 \n",
       "L 233.275595 297.99076 \n",
       "L 233.275595 209.035693 \n",
       "L 254.550536 209.035693 \n",
       "\" clip-path=\"url(#pbb4a409726)\" style=\"fill: none; stroke: #9467bd; stroke-width: 1.5\"/>\n",
       "   </g>\n",
       "   <g id=\"LineCollection_5\">\n",
       "    <path d=\"M 467.625 156.191098 \n",
       "L 310.421894 156.191098 \n",
       "L 310.421894 142.099206 \n",
       "L 467.625 142.099206 \n",
       "\" clip-path=\"url(#pbb4a409726)\" style=\"fill: none; stroke: #8c564b; stroke-width: 1.5\"/>\n",
       "    <path d=\"M 467.625 113.915422 \n",
       "L 334.503777 113.915422 \n",
       "L 334.503777 99.82353 \n",
       "L 467.625 99.82353 \n",
       "\" clip-path=\"url(#pbb4a409726)\" style=\"fill: none; stroke: #8c564b; stroke-width: 1.5\"/>\n",
       "    <path d=\"M 467.625 128.007314 \n",
       "L 297.586885 128.007314 \n",
       "L 297.586885 106.869476 \n",
       "L 334.503777 106.869476 \n",
       "\" clip-path=\"url(#pbb4a409726)\" style=\"fill: none; stroke: #8c564b; stroke-width: 1.5\"/>\n",
       "    <path d=\"M 310.421894 149.145152 \n",
       "L 272.243881 149.145152 \n",
       "L 272.243881 117.438395 \n",
       "L 297.586885 117.438395 \n",
       "\" clip-path=\"url(#pbb4a409726)\" style=\"fill: none; stroke: #8c564b; stroke-width: 1.5\"/>\n",
       "    <path d=\"M 467.625 85.731639 \n",
       "L 314.225381 85.731639 \n",
       "L 314.225381 71.639747 \n",
       "L 467.625 71.639747 \n",
       "\" clip-path=\"url(#pbb4a409726)\" style=\"fill: none; stroke: #8c564b; stroke-width: 1.5\"/>\n",
       "    <path d=\"M 467.625 43.455963 \n",
       "L 317.443083 43.455963 \n",
       "L 317.443083 29.364071 \n",
       "L 467.625 29.364071 \n",
       "\" clip-path=\"url(#pbb4a409726)\" style=\"fill: none; stroke: #8c564b; stroke-width: 1.5\"/>\n",
       "    <path d=\"M 467.625 57.547855 \n",
       "L 285.911008 57.547855 \n",
       "L 285.911008 36.410017 \n",
       "L 317.443083 36.410017 \n",
       "\" clip-path=\"url(#pbb4a409726)\" style=\"fill: none; stroke: #8c564b; stroke-width: 1.5\"/>\n",
       "    <path d=\"M 314.225381 78.685693 \n",
       "L 255.950198 78.685693 \n",
       "L 255.950198 46.978936 \n",
       "L 285.911008 46.978936 \n",
       "\" clip-path=\"url(#pbb4a409726)\" style=\"fill: none; stroke: #8c564b; stroke-width: 1.5\"/>\n",
       "    <path d=\"M 272.243881 133.291774 \n",
       "L 202.27303 133.291774 \n",
       "L 202.27303 62.832314 \n",
       "L 255.950198 62.832314 \n",
       "\" clip-path=\"url(#pbb4a409726)\" style=\"fill: none; stroke: #8c564b; stroke-width: 1.5\"/>\n",
       "   </g>\n",
       "   <g id=\"LineCollection_6\">\n",
       "    <path d=\"M 233.275595 253.513226 \n",
       "L 160.414685 253.513226 \n",
       "L 160.414685 98.062044 \n",
       "L 202.27303 98.062044 \n",
       "\" clip-path=\"url(#pbb4a409726)\" style=\"fill: none; stroke: #1f77b4; stroke-width: 1.5\"/>\n",
       "    <path d=\"M 286.37374 355.239071 \n",
       "L 154.115911 355.239071 \n",
       "L 154.115911 175.787635 \n",
       "L 160.414685 175.787635 \n",
       "\" clip-path=\"url(#pbb4a409726)\" style=\"fill: none; stroke: #1f77b4; stroke-width: 1.5\"/>\n",
       "    <path d=\"M 198.809373 420.414071 \n",
       "L 115.592378 420.414071 \n",
       "L 115.592378 265.513353 \n",
       "L 154.115911 265.513353 \n",
       "\" clip-path=\"url(#pbb4a409726)\" style=\"fill: none; stroke: #1f77b4; stroke-width: 1.5\"/>\n",
       "    <path d=\"M 221.967537 494.396503 \n",
       "L 29.125 494.396503 \n",
       "L 29.125 342.963712 \n",
       "L 115.592378 342.963712 \n",
       "\" clip-path=\"url(#pbb4a409726)\" style=\"fill: none; stroke: #1f77b4; stroke-width: 1.5\"/>\n",
       "   </g>\n",
       "   <g id=\"patch_3\">\n",
       "    <path d=\"M 7.2 543.718125 \n",
       "L 7.2 22.318125 \n",
       "\" style=\"fill: none; stroke: #000000; stroke-width: 0.8; stroke-linejoin: miter; stroke-linecap: square\"/>\n",
       "   </g>\n",
       "   <g id=\"patch_4\">\n",
       "    <path d=\"M 467.625 543.718125 \n",
       "L 467.625 22.318125 \n",
       "\" style=\"fill: none; stroke: #000000; stroke-width: 0.8; stroke-linejoin: miter; stroke-linecap: square\"/>\n",
       "   </g>\n",
       "   <g id=\"patch_5\">\n",
       "    <path d=\"M 7.2 543.718125 \n",
       "L 467.625 543.718125 \n",
       "\" style=\"fill: none; stroke: #000000; stroke-width: 0.8; stroke-linejoin: miter; stroke-linecap: square\"/>\n",
       "   </g>\n",
       "   <g id=\"patch_6\">\n",
       "    <path d=\"M 7.2 22.318125 \n",
       "L 467.625 22.318125 \n",
       "\" style=\"fill: none; stroke: #000000; stroke-width: 0.8; stroke-linejoin: miter; stroke-linecap: square\"/>\n",
       "   </g>\n",
       "   <g id=\"text_45\">\n",
       "    <!-- after -->\n",
       "    <g transform=\"translate(223.217813 16.318125)scale(0.12 -0.12)\">\n",
       "     <defs>\n",
       "      <path id=\"DejaVuSans-66\" d=\"M 2375 4863 \n",
       "L 2375 4384 \n",
       "L 1825 4384 \n",
       "Q 1516 4384 1395 4259 \n",
       "Q 1275 4134 1275 3809 \n",
       "L 1275 3500 \n",
       "L 2222 3500 \n",
       "L 2222 3053 \n",
       "L 1275 3053 \n",
       "L 1275 0 \n",
       "L 697 0 \n",
       "L 697 3053 \n",
       "L 147 3053 \n",
       "L 147 3500 \n",
       "L 697 3500 \n",
       "L 697 3744 \n",
       "Q 697 4328 969 4595 \n",
       "Q 1241 4863 1831 4863 \n",
       "L 2375 4863 \n",
       "z\n",
       "\" transform=\"scale(0.015625)\"/>\n",
       "      <path id=\"DejaVuSans-74\" d=\"M 1172 4494 \n",
       "L 1172 3500 \n",
       "L 2356 3500 \n",
       "L 2356 3053 \n",
       "L 1172 3053 \n",
       "L 1172 1153 \n",
       "Q 1172 725 1289 603 \n",
       "Q 1406 481 1766 481 \n",
       "L 2356 481 \n",
       "L 2356 0 \n",
       "L 1766 0 \n",
       "Q 1100 0 847 248 \n",
       "Q 594 497 594 1153 \n",
       "L 594 3053 \n",
       "L 172 3053 \n",
       "L 172 3500 \n",
       "L 594 3500 \n",
       "L 594 4494 \n",
       "L 1172 4494 \n",
       "z\n",
       "\" transform=\"scale(0.015625)\"/>\n",
       "      <path id=\"DejaVuSans-72\" d=\"M 2631 2963 \n",
       "Q 2534 3019 2420 3045 \n",
       "Q 2306 3072 2169 3072 \n",
       "Q 1681 3072 1420 2755 \n",
       "Q 1159 2438 1159 1844 \n",
       "L 1159 0 \n",
       "L 581 0 \n",
       "L 581 3500 \n",
       "L 1159 3500 \n",
       "L 1159 2956 \n",
       "Q 1341 3275 1631 3429 \n",
       "Q 1922 3584 2338 3584 \n",
       "Q 2397 3584 2469 3576 \n",
       "Q 2541 3569 2628 3553 \n",
       "L 2631 2963 \n",
       "z\n",
       "\" transform=\"scale(0.015625)\"/>\n",
       "     </defs>\n",
       "     <use xlink:href=\"#DejaVuSans-61\"/>\n",
       "     <use xlink:href=\"#DejaVuSans-66\" x=\"61.279297\"/>\n",
       "     <use xlink:href=\"#DejaVuSans-74\" x=\"94.734375\"/>\n",
       "     <use xlink:href=\"#DejaVuSans-65\" x=\"133.943359\"/>\n",
       "     <use xlink:href=\"#DejaVuSans-72\" x=\"195.466797\"/>\n",
       "    </g>\n",
       "   </g>\n",
       "  </g>\n",
       "  <g id=\"axes_2\">\n",
       "   <g id=\"patch_7\">\n",
       "    <path d=\"M 577.8 543.718125 \n",
       "L 1038.225 543.718125 \n",
       "L 1038.225 22.318125 \n",
       "L 577.8 22.318125 \n",
       "z\n",
       "\" style=\"fill: #ffffff\"/>\n",
       "   </g>\n",
       "   <g id=\"matplotlib.axis_3\">\n",
       "    <g id=\"xtick_8\">\n",
       "     <g id=\"line2d_8\">\n",
       "      <g>\n",
       "       <use xlink:href=\"#m2cdc9179a2\" x=\"1038.225\" y=\"543.718125\" style=\"stroke: #000000; stroke-width: 0.8\"/>\n",
       "      </g>\n",
       "     </g>\n",
       "     <g id=\"text_46\">\n",
       "      <!-- 0.0 -->\n",
       "      <g transform=\"translate(1030.273438 558.316562)scale(0.1 -0.1)\">\n",
       "       <defs>\n",
       "        <path id=\"DejaVuSans-2e\" d=\"M 684 794 \n",
       "L 1344 794 \n",
       "L 1344 0 \n",
       "L 684 0 \n",
       "L 684 794 \n",
       "z\n",
       "\" transform=\"scale(0.015625)\"/>\n",
       "       </defs>\n",
       "       <use xlink:href=\"#DejaVuSans-30\"/>\n",
       "       <use xlink:href=\"#DejaVuSans-2e\" x=\"63.623047\"/>\n",
       "       <use xlink:href=\"#DejaVuSans-30\" x=\"95.410156\"/>\n",
       "      </g>\n",
       "     </g>\n",
       "    </g>\n",
       "    <g id=\"xtick_9\">\n",
       "     <g id=\"line2d_9\">\n",
       "      <g>\n",
       "       <use xlink:href=\"#m2cdc9179a2\" x=\"969.337926\" y=\"543.718125\" style=\"stroke: #000000; stroke-width: 0.8\"/>\n",
       "      </g>\n",
       "     </g>\n",
       "     <g id=\"text_47\">\n",
       "      <!-- 0.2 -->\n",
       "      <g transform=\"translate(961.386364 558.316562)scale(0.1 -0.1)\">\n",
       "       <use xlink:href=\"#DejaVuSans-30\"/>\n",
       "       <use xlink:href=\"#DejaVuSans-2e\" x=\"63.623047\"/>\n",
       "       <use xlink:href=\"#DejaVuSans-32\" x=\"95.410156\"/>\n",
       "      </g>\n",
       "     </g>\n",
       "    </g>\n",
       "    <g id=\"xtick_10\">\n",
       "     <g id=\"line2d_10\">\n",
       "      <g>\n",
       "       <use xlink:href=\"#m2cdc9179a2\" x=\"900.450853\" y=\"543.718125\" style=\"stroke: #000000; stroke-width: 0.8\"/>\n",
       "      </g>\n",
       "     </g>\n",
       "     <g id=\"text_48\">\n",
       "      <!-- 0.4 -->\n",
       "      <g transform=\"translate(892.49929 558.316562)scale(0.1 -0.1)\">\n",
       "       <use xlink:href=\"#DejaVuSans-30\"/>\n",
       "       <use xlink:href=\"#DejaVuSans-2e\" x=\"63.623047\"/>\n",
       "       <use xlink:href=\"#DejaVuSans-34\" x=\"95.410156\"/>\n",
       "      </g>\n",
       "     </g>\n",
       "    </g>\n",
       "    <g id=\"xtick_11\">\n",
       "     <g id=\"line2d_11\">\n",
       "      <g>\n",
       "       <use xlink:href=\"#m2cdc9179a2\" x=\"831.563779\" y=\"543.718125\" style=\"stroke: #000000; stroke-width: 0.8\"/>\n",
       "      </g>\n",
       "     </g>\n",
       "     <g id=\"text_49\">\n",
       "      <!-- 0.6 -->\n",
       "      <g transform=\"translate(823.612217 558.316562)scale(0.1 -0.1)\">\n",
       "       <use xlink:href=\"#DejaVuSans-30\"/>\n",
       "       <use xlink:href=\"#DejaVuSans-2e\" x=\"63.623047\"/>\n",
       "       <use xlink:href=\"#DejaVuSans-36\" x=\"95.410156\"/>\n",
       "      </g>\n",
       "     </g>\n",
       "    </g>\n",
       "    <g id=\"xtick_12\">\n",
       "     <g id=\"line2d_12\">\n",
       "      <g>\n",
       "       <use xlink:href=\"#m2cdc9179a2\" x=\"762.676706\" y=\"543.718125\" style=\"stroke: #000000; stroke-width: 0.8\"/>\n",
       "      </g>\n",
       "     </g>\n",
       "     <g id=\"text_50\">\n",
       "      <!-- 0.8 -->\n",
       "      <g transform=\"translate(754.725143 558.316562)scale(0.1 -0.1)\">\n",
       "       <defs>\n",
       "        <path id=\"DejaVuSans-38\" d=\"M 2034 2216 \n",
       "Q 1584 2216 1326 1975 \n",
       "Q 1069 1734 1069 1313 \n",
       "Q 1069 891 1326 650 \n",
       "Q 1584 409 2034 409 \n",
       "Q 2484 409 2743 651 \n",
       "Q 3003 894 3003 1313 \n",
       "Q 3003 1734 2745 1975 \n",
       "Q 2488 2216 2034 2216 \n",
       "z\n",
       "M 1403 2484 \n",
       "Q 997 2584 770 2862 \n",
       "Q 544 3141 544 3541 \n",
       "Q 544 4100 942 4425 \n",
       "Q 1341 4750 2034 4750 \n",
       "Q 2731 4750 3128 4425 \n",
       "Q 3525 4100 3525 3541 \n",
       "Q 3525 3141 3298 2862 \n",
       "Q 3072 2584 2669 2484 \n",
       "Q 3125 2378 3379 2068 \n",
       "Q 3634 1759 3634 1313 \n",
       "Q 3634 634 3220 271 \n",
       "Q 2806 -91 2034 -91 \n",
       "Q 1263 -91 848 271 \n",
       "Q 434 634 434 1313 \n",
       "Q 434 1759 690 2068 \n",
       "Q 947 2378 1403 2484 \n",
       "z\n",
       "M 1172 3481 \n",
       "Q 1172 3119 1398 2916 \n",
       "Q 1625 2713 2034 2713 \n",
       "Q 2441 2713 2670 2916 \n",
       "Q 2900 3119 2900 3481 \n",
       "Q 2900 3844 2670 4047 \n",
       "Q 2441 4250 2034 4250 \n",
       "Q 1625 4250 1398 4047 \n",
       "Q 1172 3844 1172 3481 \n",
       "z\n",
       "\" transform=\"scale(0.015625)\"/>\n",
       "       </defs>\n",
       "       <use xlink:href=\"#DejaVuSans-30\"/>\n",
       "       <use xlink:href=\"#DejaVuSans-2e\" x=\"63.623047\"/>\n",
       "       <use xlink:href=\"#DejaVuSans-38\" x=\"95.410156\"/>\n",
       "      </g>\n",
       "     </g>\n",
       "    </g>\n",
       "    <g id=\"xtick_13\">\n",
       "     <g id=\"line2d_13\">\n",
       "      <g>\n",
       "       <use xlink:href=\"#m2cdc9179a2\" x=\"693.789632\" y=\"543.718125\" style=\"stroke: #000000; stroke-width: 0.8\"/>\n",
       "      </g>\n",
       "     </g>\n",
       "     <g id=\"text_51\">\n",
       "      <!-- 1.0 -->\n",
       "      <g transform=\"translate(685.83807 558.316562)scale(0.1 -0.1)\">\n",
       "       <use xlink:href=\"#DejaVuSans-31\"/>\n",
       "       <use xlink:href=\"#DejaVuSans-2e\" x=\"63.623047\"/>\n",
       "       <use xlink:href=\"#DejaVuSans-30\" x=\"95.410156\"/>\n",
       "      </g>\n",
       "     </g>\n",
       "    </g>\n",
       "    <g id=\"xtick_14\">\n",
       "     <g id=\"line2d_14\">\n",
       "      <g>\n",
       "       <use xlink:href=\"#m2cdc9179a2\" x=\"624.902559\" y=\"543.718125\" style=\"stroke: #000000; stroke-width: 0.8\"/>\n",
       "      </g>\n",
       "     </g>\n",
       "     <g id=\"text_52\">\n",
       "      <!-- 1.2 -->\n",
       "      <g transform=\"translate(616.950996 558.316562)scale(0.1 -0.1)\">\n",
       "       <use xlink:href=\"#DejaVuSans-31\"/>\n",
       "       <use xlink:href=\"#DejaVuSans-2e\" x=\"63.623047\"/>\n",
       "       <use xlink:href=\"#DejaVuSans-32\" x=\"95.410156\"/>\n",
       "      </g>\n",
       "     </g>\n",
       "    </g>\n",
       "   </g>\n",
       "   <g id=\"matplotlib.axis_4\">\n",
       "    <g id=\"ytick_38\">\n",
       "     <g id=\"text_53\">\n",
       "      <!-- 0:S7-SLF3_S11-RNase -->\n",
       "      <g transform=\"translate(1045.225 539.640929)scale(0.08 -0.08)\">\n",
       "       <use xlink:href=\"#DejaVuSans-30\"/>\n",
       "       <use xlink:href=\"#DejaVuSans-3a\" x=\"63.623047\"/>\n",
       "       <use xlink:href=\"#DejaVuSans-53\" x=\"97.314453\"/>\n",
       "       <use xlink:href=\"#DejaVuSans-37\" x=\"160.791016\"/>\n",
       "       <use xlink:href=\"#DejaVuSans-2d\" x=\"224.414062\"/>\n",
       "       <use xlink:href=\"#DejaVuSans-53\" x=\"260.498047\"/>\n",
       "       <use xlink:href=\"#DejaVuSans-4c\" x=\"323.974609\"/>\n",
       "       <use xlink:href=\"#DejaVuSans-46\" x=\"379.6875\"/>\n",
       "       <use xlink:href=\"#DejaVuSans-33\" x=\"437.207031\"/>\n",
       "       <use xlink:href=\"#DejaVuSans-5f\" x=\"500.830078\"/>\n",
       "       <use xlink:href=\"#DejaVuSans-53\" x=\"550.830078\"/>\n",
       "       <use xlink:href=\"#DejaVuSans-31\" x=\"614.306641\"/>\n",
       "       <use xlink:href=\"#DejaVuSans-31\" x=\"677.929688\"/>\n",
       "       <use xlink:href=\"#DejaVuSans-2d\" x=\"741.552734\"/>\n",
       "       <use xlink:href=\"#DejaVuSans-52\" x=\"777.636719\"/>\n",
       "       <use xlink:href=\"#DejaVuSans-4e\" x=\"847.119141\"/>\n",
       "       <use xlink:href=\"#DejaVuSans-61\" x=\"921.923828\"/>\n",
       "       <use xlink:href=\"#DejaVuSans-73\" x=\"983.203125\"/>\n",
       "       <use xlink:href=\"#DejaVuSans-65\" x=\"1035.302734\"/>\n",
       "      </g>\n",
       "     </g>\n",
       "    </g>\n",
       "    <g id=\"ytick_39\">\n",
       "     <g id=\"text_54\">\n",
       "      <!-- 0:S9-SLF1_S11-RNase -->\n",
       "      <g transform=\"translate(1045.225 525.549037)scale(0.08 -0.08)\">\n",
       "       <use xlink:href=\"#DejaVuSans-30\"/>\n",
       "       <use xlink:href=\"#DejaVuSans-3a\" x=\"63.623047\"/>\n",
       "       <use xlink:href=\"#DejaVuSans-53\" x=\"97.314453\"/>\n",
       "       <use xlink:href=\"#DejaVuSans-39\" x=\"160.791016\"/>\n",
       "       <use xlink:href=\"#DejaVuSans-2d\" x=\"224.414062\"/>\n",
       "       <use xlink:href=\"#DejaVuSans-53\" x=\"260.498047\"/>\n",
       "       <use xlink:href=\"#DejaVuSans-4c\" x=\"323.974609\"/>\n",
       "       <use xlink:href=\"#DejaVuSans-46\" x=\"379.6875\"/>\n",
       "       <use xlink:href=\"#DejaVuSans-31\" x=\"437.207031\"/>\n",
       "       <use xlink:href=\"#DejaVuSans-5f\" x=\"500.830078\"/>\n",
       "       <use xlink:href=\"#DejaVuSans-53\" x=\"550.830078\"/>\n",
       "       <use xlink:href=\"#DejaVuSans-31\" x=\"614.306641\"/>\n",
       "       <use xlink:href=\"#DejaVuSans-31\" x=\"677.929688\"/>\n",
       "       <use xlink:href=\"#DejaVuSans-2d\" x=\"741.552734\"/>\n",
       "       <use xlink:href=\"#DejaVuSans-52\" x=\"777.636719\"/>\n",
       "       <use xlink:href=\"#DejaVuSans-4e\" x=\"847.119141\"/>\n",
       "       <use xlink:href=\"#DejaVuSans-61\" x=\"921.923828\"/>\n",
       "       <use xlink:href=\"#DejaVuSans-73\" x=\"983.203125\"/>\n",
       "       <use xlink:href=\"#DejaVuSans-65\" x=\"1035.302734\"/>\n",
       "      </g>\n",
       "     </g>\n",
       "    </g>\n",
       "    <g id=\"ytick_40\">\n",
       "     <g id=\"text_55\">\n",
       "      <!-- 0:S7-SLF1_S11-RNase -->\n",
       "      <g transform=\"translate(1045.225 511.457145)scale(0.08 -0.08)\">\n",
       "       <use xlink:href=\"#DejaVuSans-30\"/>\n",
       "       <use xlink:href=\"#DejaVuSans-3a\" x=\"63.623047\"/>\n",
       "       <use xlink:href=\"#DejaVuSans-53\" x=\"97.314453\"/>\n",
       "       <use xlink:href=\"#DejaVuSans-37\" x=\"160.791016\"/>\n",
       "       <use xlink:href=\"#DejaVuSans-2d\" x=\"224.414062\"/>\n",
       "       <use xlink:href=\"#DejaVuSans-53\" x=\"260.498047\"/>\n",
       "       <use xlink:href=\"#DejaVuSans-4c\" x=\"323.974609\"/>\n",
       "       <use xlink:href=\"#DejaVuSans-46\" x=\"379.6875\"/>\n",
       "       <use xlink:href=\"#DejaVuSans-31\" x=\"437.207031\"/>\n",
       "       <use xlink:href=\"#DejaVuSans-5f\" x=\"500.830078\"/>\n",
       "       <use xlink:href=\"#DejaVuSans-53\" x=\"550.830078\"/>\n",
       "       <use xlink:href=\"#DejaVuSans-31\" x=\"614.306641\"/>\n",
       "       <use xlink:href=\"#DejaVuSans-31\" x=\"677.929688\"/>\n",
       "       <use xlink:href=\"#DejaVuSans-2d\" x=\"741.552734\"/>\n",
       "       <use xlink:href=\"#DejaVuSans-52\" x=\"777.636719\"/>\n",
       "       <use xlink:href=\"#DejaVuSans-4e\" x=\"847.119141\"/>\n",
       "       <use xlink:href=\"#DejaVuSans-61\" x=\"921.923828\"/>\n",
       "       <use xlink:href=\"#DejaVuSans-73\" x=\"983.203125\"/>\n",
       "       <use xlink:href=\"#DejaVuSans-65\" x=\"1035.302734\"/>\n",
       "      </g>\n",
       "     </g>\n",
       "    </g>\n",
       "    <g id=\"ytick_41\">\n",
       "     <g id=\"text_56\">\n",
       "      <!-- 0:S5-SLF1_S11-RNase -->\n",
       "      <g transform=\"translate(1045.225 497.365253)scale(0.08 -0.08)\">\n",
       "       <use xlink:href=\"#DejaVuSans-30\"/>\n",
       "       <use xlink:href=\"#DejaVuSans-3a\" x=\"63.623047\"/>\n",
       "       <use xlink:href=\"#DejaVuSans-53\" x=\"97.314453\"/>\n",
       "       <use xlink:href=\"#DejaVuSans-35\" x=\"160.791016\"/>\n",
       "       <use xlink:href=\"#DejaVuSans-2d\" x=\"224.414062\"/>\n",
       "       <use xlink:href=\"#DejaVuSans-53\" x=\"260.498047\"/>\n",
       "       <use xlink:href=\"#DejaVuSans-4c\" x=\"323.974609\"/>\n",
       "       <use xlink:href=\"#DejaVuSans-46\" x=\"379.6875\"/>\n",
       "       <use xlink:href=\"#DejaVuSans-31\" x=\"437.207031\"/>\n",
       "       <use xlink:href=\"#DejaVuSans-5f\" x=\"500.830078\"/>\n",
       "       <use xlink:href=\"#DejaVuSans-53\" x=\"550.830078\"/>\n",
       "       <use xlink:href=\"#DejaVuSans-31\" x=\"614.306641\"/>\n",
       "       <use xlink:href=\"#DejaVuSans-31\" x=\"677.929688\"/>\n",
       "       <use xlink:href=\"#DejaVuSans-2d\" x=\"741.552734\"/>\n",
       "       <use xlink:href=\"#DejaVuSans-52\" x=\"777.636719\"/>\n",
       "       <use xlink:href=\"#DejaVuSans-4e\" x=\"847.119141\"/>\n",
       "       <use xlink:href=\"#DejaVuSans-61\" x=\"921.923828\"/>\n",
       "       <use xlink:href=\"#DejaVuSans-73\" x=\"983.203125\"/>\n",
       "       <use xlink:href=\"#DejaVuSans-65\" x=\"1035.302734\"/>\n",
       "      </g>\n",
       "     </g>\n",
       "    </g>\n",
       "    <g id=\"ytick_42\">\n",
       "     <g id=\"text_57\">\n",
       "      <!-- 1:S5-SLF2_S11-RNase -->\n",
       "      <g transform=\"translate(1045.225 483.273361)scale(0.08 -0.08)\">\n",
       "       <use xlink:href=\"#DejaVuSans-31\"/>\n",
       "       <use xlink:href=\"#DejaVuSans-3a\" x=\"63.623047\"/>\n",
       "       <use xlink:href=\"#DejaVuSans-53\" x=\"97.314453\"/>\n",
       "       <use xlink:href=\"#DejaVuSans-35\" x=\"160.791016\"/>\n",
       "       <use xlink:href=\"#DejaVuSans-2d\" x=\"224.414062\"/>\n",
       "       <use xlink:href=\"#DejaVuSans-53\" x=\"260.498047\"/>\n",
       "       <use xlink:href=\"#DejaVuSans-4c\" x=\"323.974609\"/>\n",
       "       <use xlink:href=\"#DejaVuSans-46\" x=\"379.6875\"/>\n",
       "       <use xlink:href=\"#DejaVuSans-32\" x=\"437.207031\"/>\n",
       "       <use xlink:href=\"#DejaVuSans-5f\" x=\"500.830078\"/>\n",
       "       <use xlink:href=\"#DejaVuSans-53\" x=\"550.830078\"/>\n",
       "       <use xlink:href=\"#DejaVuSans-31\" x=\"614.306641\"/>\n",
       "       <use xlink:href=\"#DejaVuSans-31\" x=\"677.929688\"/>\n",
       "       <use xlink:href=\"#DejaVuSans-2d\" x=\"741.552734\"/>\n",
       "       <use xlink:href=\"#DejaVuSans-52\" x=\"777.636719\"/>\n",
       "       <use xlink:href=\"#DejaVuSans-4e\" x=\"847.119141\"/>\n",
       "       <use xlink:href=\"#DejaVuSans-61\" x=\"921.923828\"/>\n",
       "       <use xlink:href=\"#DejaVuSans-73\" x=\"983.203125\"/>\n",
       "       <use xlink:href=\"#DejaVuSans-65\" x=\"1035.302734\"/>\n",
       "      </g>\n",
       "     </g>\n",
       "    </g>\n",
       "    <g id=\"ytick_43\">\n",
       "     <g id=\"text_58\">\n",
       "      <!-- 1:S7-SLF2_S11-RNase -->\n",
       "      <g transform=\"translate(1045.225 469.18147)scale(0.08 -0.08)\">\n",
       "       <use xlink:href=\"#DejaVuSans-31\"/>\n",
       "       <use xlink:href=\"#DejaVuSans-3a\" x=\"63.623047\"/>\n",
       "       <use xlink:href=\"#DejaVuSans-53\" x=\"97.314453\"/>\n",
       "       <use xlink:href=\"#DejaVuSans-37\" x=\"160.791016\"/>\n",
       "       <use xlink:href=\"#DejaVuSans-2d\" x=\"224.414062\"/>\n",
       "       <use xlink:href=\"#DejaVuSans-53\" x=\"260.498047\"/>\n",
       "       <use xlink:href=\"#DejaVuSans-4c\" x=\"323.974609\"/>\n",
       "       <use xlink:href=\"#DejaVuSans-46\" x=\"379.6875\"/>\n",
       "       <use xlink:href=\"#DejaVuSans-32\" x=\"437.207031\"/>\n",
       "       <use xlink:href=\"#DejaVuSans-5f\" x=\"500.830078\"/>\n",
       "       <use xlink:href=\"#DejaVuSans-53\" x=\"550.830078\"/>\n",
       "       <use xlink:href=\"#DejaVuSans-31\" x=\"614.306641\"/>\n",
       "       <use xlink:href=\"#DejaVuSans-31\" x=\"677.929688\"/>\n",
       "       <use xlink:href=\"#DejaVuSans-2d\" x=\"741.552734\"/>\n",
       "       <use xlink:href=\"#DejaVuSans-52\" x=\"777.636719\"/>\n",
       "       <use xlink:href=\"#DejaVuSans-4e\" x=\"847.119141\"/>\n",
       "       <use xlink:href=\"#DejaVuSans-61\" x=\"921.923828\"/>\n",
       "       <use xlink:href=\"#DejaVuSans-73\" x=\"983.203125\"/>\n",
       "       <use xlink:href=\"#DejaVuSans-65\" x=\"1035.302734\"/>\n",
       "      </g>\n",
       "     </g>\n",
       "    </g>\n",
       "    <g id=\"ytick_44\">\n",
       "     <g id=\"text_59\">\n",
       "      <!-- 1:S11-SLF3_S7-RNase -->\n",
       "      <g transform=\"translate(1045.225 455.089578)scale(0.08 -0.08)\">\n",
       "       <use xlink:href=\"#DejaVuSans-31\"/>\n",
       "       <use xlink:href=\"#DejaVuSans-3a\" x=\"63.623047\"/>\n",
       "       <use xlink:href=\"#DejaVuSans-53\" x=\"97.314453\"/>\n",
       "       <use xlink:href=\"#DejaVuSans-31\" x=\"160.791016\"/>\n",
       "       <use xlink:href=\"#DejaVuSans-31\" x=\"224.414062\"/>\n",
       "       <use xlink:href=\"#DejaVuSans-2d\" x=\"288.037109\"/>\n",
       "       <use xlink:href=\"#DejaVuSans-53\" x=\"324.121094\"/>\n",
       "       <use xlink:href=\"#DejaVuSans-4c\" x=\"387.597656\"/>\n",
       "       <use xlink:href=\"#DejaVuSans-46\" x=\"443.310547\"/>\n",
       "       <use xlink:href=\"#DejaVuSans-33\" x=\"500.830078\"/>\n",
       "       <use xlink:href=\"#DejaVuSans-5f\" x=\"564.453125\"/>\n",
       "       <use xlink:href=\"#DejaVuSans-53\" x=\"614.453125\"/>\n",
       "       <use xlink:href=\"#DejaVuSans-37\" x=\"677.929688\"/>\n",
       "       <use xlink:href=\"#DejaVuSans-2d\" x=\"741.552734\"/>\n",
       "       <use xlink:href=\"#DejaVuSans-52\" x=\"777.636719\"/>\n",
       "       <use xlink:href=\"#DejaVuSans-4e\" x=\"847.119141\"/>\n",
       "       <use xlink:href=\"#DejaVuSans-61\" x=\"921.923828\"/>\n",
       "       <use xlink:href=\"#DejaVuSans-73\" x=\"983.203125\"/>\n",
       "       <use xlink:href=\"#DejaVuSans-65\" x=\"1035.302734\"/>\n",
       "      </g>\n",
       "     </g>\n",
       "    </g>\n",
       "    <g id=\"ytick_45\">\n",
       "     <g id=\"text_60\">\n",
       "      <!-- 0:S11-SLF3_S5-RNase -->\n",
       "      <g transform=\"translate(1045.225 440.997686)scale(0.08 -0.08)\">\n",
       "       <use xlink:href=\"#DejaVuSans-30\"/>\n",
       "       <use xlink:href=\"#DejaVuSans-3a\" x=\"63.623047\"/>\n",
       "       <use xlink:href=\"#DejaVuSans-53\" x=\"97.314453\"/>\n",
       "       <use xlink:href=\"#DejaVuSans-31\" x=\"160.791016\"/>\n",
       "       <use xlink:href=\"#DejaVuSans-31\" x=\"224.414062\"/>\n",
       "       <use xlink:href=\"#DejaVuSans-2d\" x=\"288.037109\"/>\n",
       "       <use xlink:href=\"#DejaVuSans-53\" x=\"324.121094\"/>\n",
       "       <use xlink:href=\"#DejaVuSans-4c\" x=\"387.597656\"/>\n",
       "       <use xlink:href=\"#DejaVuSans-46\" x=\"443.310547\"/>\n",
       "       <use xlink:href=\"#DejaVuSans-33\" x=\"500.830078\"/>\n",
       "       <use xlink:href=\"#DejaVuSans-5f\" x=\"564.453125\"/>\n",
       "       <use xlink:href=\"#DejaVuSans-53\" x=\"614.453125\"/>\n",
       "       <use xlink:href=\"#DejaVuSans-35\" x=\"677.929688\"/>\n",
       "       <use xlink:href=\"#DejaVuSans-2d\" x=\"741.552734\"/>\n",
       "       <use xlink:href=\"#DejaVuSans-52\" x=\"777.636719\"/>\n",
       "       <use xlink:href=\"#DejaVuSans-4e\" x=\"847.119141\"/>\n",
       "       <use xlink:href=\"#DejaVuSans-61\" x=\"921.923828\"/>\n",
       "       <use xlink:href=\"#DejaVuSans-73\" x=\"983.203125\"/>\n",
       "       <use xlink:href=\"#DejaVuSans-65\" x=\"1035.302734\"/>\n",
       "      </g>\n",
       "     </g>\n",
       "    </g>\n",
       "    <g id=\"ytick_46\">\n",
       "     <g id=\"text_61\">\n",
       "      <!-- 0:S7-SLF3_S5-RNase -->\n",
       "      <g transform=\"translate(1045.225 426.905794)scale(0.08 -0.08)\">\n",
       "       <use xlink:href=\"#DejaVuSans-30\"/>\n",
       "       <use xlink:href=\"#DejaVuSans-3a\" x=\"63.623047\"/>\n",
       "       <use xlink:href=\"#DejaVuSans-53\" x=\"97.314453\"/>\n",
       "       <use xlink:href=\"#DejaVuSans-37\" x=\"160.791016\"/>\n",
       "       <use xlink:href=\"#DejaVuSans-2d\" x=\"224.414062\"/>\n",
       "       <use xlink:href=\"#DejaVuSans-53\" x=\"260.498047\"/>\n",
       "       <use xlink:href=\"#DejaVuSans-4c\" x=\"323.974609\"/>\n",
       "       <use xlink:href=\"#DejaVuSans-46\" x=\"379.6875\"/>\n",
       "       <use xlink:href=\"#DejaVuSans-33\" x=\"437.207031\"/>\n",
       "       <use xlink:href=\"#DejaVuSans-5f\" x=\"500.830078\"/>\n",
       "       <use xlink:href=\"#DejaVuSans-53\" x=\"550.830078\"/>\n",
       "       <use xlink:href=\"#DejaVuSans-35\" x=\"614.306641\"/>\n",
       "       <use xlink:href=\"#DejaVuSans-2d\" x=\"677.929688\"/>\n",
       "       <use xlink:href=\"#DejaVuSans-52\" x=\"714.013672\"/>\n",
       "       <use xlink:href=\"#DejaVuSans-4e\" x=\"783.496094\"/>\n",
       "       <use xlink:href=\"#DejaVuSans-61\" x=\"858.300781\"/>\n",
       "       <use xlink:href=\"#DejaVuSans-73\" x=\"919.580078\"/>\n",
       "       <use xlink:href=\"#DejaVuSans-65\" x=\"971.679688\"/>\n",
       "      </g>\n",
       "     </g>\n",
       "    </g>\n",
       "    <g id=\"ytick_47\">\n",
       "     <g id=\"text_62\">\n",
       "      <!-- 0:S7-SLF3_S9-RNase -->\n",
       "      <g transform=\"translate(1045.225 412.813902)scale(0.08 -0.08)\">\n",
       "       <use xlink:href=\"#DejaVuSans-30\"/>\n",
       "       <use xlink:href=\"#DejaVuSans-3a\" x=\"63.623047\"/>\n",
       "       <use xlink:href=\"#DejaVuSans-53\" x=\"97.314453\"/>\n",
       "       <use xlink:href=\"#DejaVuSans-37\" x=\"160.791016\"/>\n",
       "       <use xlink:href=\"#DejaVuSans-2d\" x=\"224.414062\"/>\n",
       "       <use xlink:href=\"#DejaVuSans-53\" x=\"260.498047\"/>\n",
       "       <use xlink:href=\"#DejaVuSans-4c\" x=\"323.974609\"/>\n",
       "       <use xlink:href=\"#DejaVuSans-46\" x=\"379.6875\"/>\n",
       "       <use xlink:href=\"#DejaVuSans-33\" x=\"437.207031\"/>\n",
       "       <use xlink:href=\"#DejaVuSans-5f\" x=\"500.830078\"/>\n",
       "       <use xlink:href=\"#DejaVuSans-53\" x=\"550.830078\"/>\n",
       "       <use xlink:href=\"#DejaVuSans-39\" x=\"614.306641\"/>\n",
       "       <use xlink:href=\"#DejaVuSans-2d\" x=\"677.929688\"/>\n",
       "       <use xlink:href=\"#DejaVuSans-52\" x=\"714.013672\"/>\n",
       "       <use xlink:href=\"#DejaVuSans-4e\" x=\"783.496094\"/>\n",
       "       <use xlink:href=\"#DejaVuSans-61\" x=\"858.300781\"/>\n",
       "       <use xlink:href=\"#DejaVuSans-73\" x=\"919.580078\"/>\n",
       "       <use xlink:href=\"#DejaVuSans-65\" x=\"971.679688\"/>\n",
       "      </g>\n",
       "     </g>\n",
       "    </g>\n",
       "    <g id=\"ytick_48\">\n",
       "     <g id=\"text_63\">\n",
       "      <!-- 0:S11-SLF3_S9-RNase -->\n",
       "      <g transform=\"translate(1045.225 398.72201)scale(0.08 -0.08)\">\n",
       "       <use xlink:href=\"#DejaVuSans-30\"/>\n",
       "       <use xlink:href=\"#DejaVuSans-3a\" x=\"63.623047\"/>\n",
       "       <use xlink:href=\"#DejaVuSans-53\" x=\"97.314453\"/>\n",
       "       <use xlink:href=\"#DejaVuSans-31\" x=\"160.791016\"/>\n",
       "       <use xlink:href=\"#DejaVuSans-31\" x=\"224.414062\"/>\n",
       "       <use xlink:href=\"#DejaVuSans-2d\" x=\"288.037109\"/>\n",
       "       <use xlink:href=\"#DejaVuSans-53\" x=\"324.121094\"/>\n",
       "       <use xlink:href=\"#DejaVuSans-4c\" x=\"387.597656\"/>\n",
       "       <use xlink:href=\"#DejaVuSans-46\" x=\"443.310547\"/>\n",
       "       <use xlink:href=\"#DejaVuSans-33\" x=\"500.830078\"/>\n",
       "       <use xlink:href=\"#DejaVuSans-5f\" x=\"564.453125\"/>\n",
       "       <use xlink:href=\"#DejaVuSans-53\" x=\"614.453125\"/>\n",
       "       <use xlink:href=\"#DejaVuSans-39\" x=\"677.929688\"/>\n",
       "       <use xlink:href=\"#DejaVuSans-2d\" x=\"741.552734\"/>\n",
       "       <use xlink:href=\"#DejaVuSans-52\" x=\"777.636719\"/>\n",
       "       <use xlink:href=\"#DejaVuSans-4e\" x=\"847.119141\"/>\n",
       "       <use xlink:href=\"#DejaVuSans-61\" x=\"921.923828\"/>\n",
       "       <use xlink:href=\"#DejaVuSans-73\" x=\"983.203125\"/>\n",
       "       <use xlink:href=\"#DejaVuSans-65\" x=\"1035.302734\"/>\n",
       "      </g>\n",
       "     </g>\n",
       "    </g>\n",
       "    <g id=\"ytick_49\">\n",
       "     <g id=\"text_64\">\n",
       "      <!-- 0:S11-SLF3_S17-RNase -->\n",
       "      <g transform=\"translate(1045.225 384.630118)scale(0.08 -0.08)\">\n",
       "       <use xlink:href=\"#DejaVuSans-30\"/>\n",
       "       <use xlink:href=\"#DejaVuSans-3a\" x=\"63.623047\"/>\n",
       "       <use xlink:href=\"#DejaVuSans-53\" x=\"97.314453\"/>\n",
       "       <use xlink:href=\"#DejaVuSans-31\" x=\"160.791016\"/>\n",
       "       <use xlink:href=\"#DejaVuSans-31\" x=\"224.414062\"/>\n",
       "       <use xlink:href=\"#DejaVuSans-2d\" x=\"288.037109\"/>\n",
       "       <use xlink:href=\"#DejaVuSans-53\" x=\"324.121094\"/>\n",
       "       <use xlink:href=\"#DejaVuSans-4c\" x=\"387.597656\"/>\n",
       "       <use xlink:href=\"#DejaVuSans-46\" x=\"443.310547\"/>\n",
       "       <use xlink:href=\"#DejaVuSans-33\" x=\"500.830078\"/>\n",
       "       <use xlink:href=\"#DejaVuSans-5f\" x=\"564.453125\"/>\n",
       "       <use xlink:href=\"#DejaVuSans-53\" x=\"614.453125\"/>\n",
       "       <use xlink:href=\"#DejaVuSans-31\" x=\"677.929688\"/>\n",
       "       <use xlink:href=\"#DejaVuSans-37\" x=\"741.552734\"/>\n",
       "       <use xlink:href=\"#DejaVuSans-2d\" x=\"805.175781\"/>\n",
       "       <use xlink:href=\"#DejaVuSans-52\" x=\"841.259766\"/>\n",
       "       <use xlink:href=\"#DejaVuSans-4e\" x=\"910.742188\"/>\n",
       "       <use xlink:href=\"#DejaVuSans-61\" x=\"985.546875\"/>\n",
       "       <use xlink:href=\"#DejaVuSans-73\" x=\"1046.826172\"/>\n",
       "       <use xlink:href=\"#DejaVuSans-65\" x=\"1098.925781\"/>\n",
       "      </g>\n",
       "     </g>\n",
       "    </g>\n",
       "    <g id=\"ytick_50\">\n",
       "     <g id=\"text_65\">\n",
       "      <!-- 0:S7-SLF3_S17-RNase -->\n",
       "      <g transform=\"translate(1045.225 370.538226)scale(0.08 -0.08)\">\n",
       "       <use xlink:href=\"#DejaVuSans-30\"/>\n",
       "       <use xlink:href=\"#DejaVuSans-3a\" x=\"63.623047\"/>\n",
       "       <use xlink:href=\"#DejaVuSans-53\" x=\"97.314453\"/>\n",
       "       <use xlink:href=\"#DejaVuSans-37\" x=\"160.791016\"/>\n",
       "       <use xlink:href=\"#DejaVuSans-2d\" x=\"224.414062\"/>\n",
       "       <use xlink:href=\"#DejaVuSans-53\" x=\"260.498047\"/>\n",
       "       <use xlink:href=\"#DejaVuSans-4c\" x=\"323.974609\"/>\n",
       "       <use xlink:href=\"#DejaVuSans-46\" x=\"379.6875\"/>\n",
       "       <use xlink:href=\"#DejaVuSans-33\" x=\"437.207031\"/>\n",
       "       <use xlink:href=\"#DejaVuSans-5f\" x=\"500.830078\"/>\n",
       "       <use xlink:href=\"#DejaVuSans-53\" x=\"550.830078\"/>\n",
       "       <use xlink:href=\"#DejaVuSans-31\" x=\"614.306641\"/>\n",
       "       <use xlink:href=\"#DejaVuSans-37\" x=\"677.929688\"/>\n",
       "       <use xlink:href=\"#DejaVuSans-2d\" x=\"741.552734\"/>\n",
       "       <use xlink:href=\"#DejaVuSans-52\" x=\"777.636719\"/>\n",
       "       <use xlink:href=\"#DejaVuSans-4e\" x=\"847.119141\"/>\n",
       "       <use xlink:href=\"#DejaVuSans-61\" x=\"921.923828\"/>\n",
       "       <use xlink:href=\"#DejaVuSans-73\" x=\"983.203125\"/>\n",
       "       <use xlink:href=\"#DejaVuSans-65\" x=\"1035.302734\"/>\n",
       "      </g>\n",
       "     </g>\n",
       "    </g>\n",
       "    <g id=\"ytick_51\">\n",
       "     <g id=\"text_66\">\n",
       "      <!-- 1:S9-SLF1_S17-RNase -->\n",
       "      <g transform=\"translate(1045.225 356.446334)scale(0.08 -0.08)\">\n",
       "       <use xlink:href=\"#DejaVuSans-31\"/>\n",
       "       <use xlink:href=\"#DejaVuSans-3a\" x=\"63.623047\"/>\n",
       "       <use xlink:href=\"#DejaVuSans-53\" x=\"97.314453\"/>\n",
       "       <use xlink:href=\"#DejaVuSans-39\" x=\"160.791016\"/>\n",
       "       <use xlink:href=\"#DejaVuSans-2d\" x=\"224.414062\"/>\n",
       "       <use xlink:href=\"#DejaVuSans-53\" x=\"260.498047\"/>\n",
       "       <use xlink:href=\"#DejaVuSans-4c\" x=\"323.974609\"/>\n",
       "       <use xlink:href=\"#DejaVuSans-46\" x=\"379.6875\"/>\n",
       "       <use xlink:href=\"#DejaVuSans-31\" x=\"437.207031\"/>\n",
       "       <use xlink:href=\"#DejaVuSans-5f\" x=\"500.830078\"/>\n",
       "       <use xlink:href=\"#DejaVuSans-53\" x=\"550.830078\"/>\n",
       "       <use xlink:href=\"#DejaVuSans-31\" x=\"614.306641\"/>\n",
       "       <use xlink:href=\"#DejaVuSans-37\" x=\"677.929688\"/>\n",
       "       <use xlink:href=\"#DejaVuSans-2d\" x=\"741.552734\"/>\n",
       "       <use xlink:href=\"#DejaVuSans-52\" x=\"777.636719\"/>\n",
       "       <use xlink:href=\"#DejaVuSans-4e\" x=\"847.119141\"/>\n",
       "       <use xlink:href=\"#DejaVuSans-61\" x=\"921.923828\"/>\n",
       "       <use xlink:href=\"#DejaVuSans-73\" x=\"983.203125\"/>\n",
       "       <use xlink:href=\"#DejaVuSans-65\" x=\"1035.302734\"/>\n",
       "      </g>\n",
       "     </g>\n",
       "    </g>\n",
       "    <g id=\"ytick_52\">\n",
       "     <g id=\"text_67\">\n",
       "      <!-- 1:S11-SLF1_S17-RNase -->\n",
       "      <g transform=\"translate(1045.225 342.354443)scale(0.08 -0.08)\">\n",
       "       <use xlink:href=\"#DejaVuSans-31\"/>\n",
       "       <use xlink:href=\"#DejaVuSans-3a\" x=\"63.623047\"/>\n",
       "       <use xlink:href=\"#DejaVuSans-53\" x=\"97.314453\"/>\n",
       "       <use xlink:href=\"#DejaVuSans-31\" x=\"160.791016\"/>\n",
       "       <use xlink:href=\"#DejaVuSans-31\" x=\"224.414062\"/>\n",
       "       <use xlink:href=\"#DejaVuSans-2d\" x=\"288.037109\"/>\n",
       "       <use xlink:href=\"#DejaVuSans-53\" x=\"324.121094\"/>\n",
       "       <use xlink:href=\"#DejaVuSans-4c\" x=\"387.597656\"/>\n",
       "       <use xlink:href=\"#DejaVuSans-46\" x=\"443.310547\"/>\n",
       "       <use xlink:href=\"#DejaVuSans-31\" x=\"500.830078\"/>\n",
       "       <use xlink:href=\"#DejaVuSans-5f\" x=\"564.453125\"/>\n",
       "       <use xlink:href=\"#DejaVuSans-53\" x=\"614.453125\"/>\n",
       "       <use xlink:href=\"#DejaVuSans-31\" x=\"677.929688\"/>\n",
       "       <use xlink:href=\"#DejaVuSans-37\" x=\"741.552734\"/>\n",
       "       <use xlink:href=\"#DejaVuSans-2d\" x=\"805.175781\"/>\n",
       "       <use xlink:href=\"#DejaVuSans-52\" x=\"841.259766\"/>\n",
       "       <use xlink:href=\"#DejaVuSans-4e\" x=\"910.742188\"/>\n",
       "       <use xlink:href=\"#DejaVuSans-61\" x=\"985.546875\"/>\n",
       "       <use xlink:href=\"#DejaVuSans-73\" x=\"1046.826172\"/>\n",
       "       <use xlink:href=\"#DejaVuSans-65\" x=\"1098.925781\"/>\n",
       "      </g>\n",
       "     </g>\n",
       "    </g>\n",
       "    <g id=\"ytick_53\">\n",
       "     <g id=\"text_68\">\n",
       "      <!-- 1:S7-SLF1_S17-RNase -->\n",
       "      <g transform=\"translate(1045.225 328.262551)scale(0.08 -0.08)\">\n",
       "       <use xlink:href=\"#DejaVuSans-31\"/>\n",
       "       <use xlink:href=\"#DejaVuSans-3a\" x=\"63.623047\"/>\n",
       "       <use xlink:href=\"#DejaVuSans-53\" x=\"97.314453\"/>\n",
       "       <use xlink:href=\"#DejaVuSans-37\" x=\"160.791016\"/>\n",
       "       <use xlink:href=\"#DejaVuSans-2d\" x=\"224.414062\"/>\n",
       "       <use xlink:href=\"#DejaVuSans-53\" x=\"260.498047\"/>\n",
       "       <use xlink:href=\"#DejaVuSans-4c\" x=\"323.974609\"/>\n",
       "       <use xlink:href=\"#DejaVuSans-46\" x=\"379.6875\"/>\n",
       "       <use xlink:href=\"#DejaVuSans-31\" x=\"437.207031\"/>\n",
       "       <use xlink:href=\"#DejaVuSans-5f\" x=\"500.830078\"/>\n",
       "       <use xlink:href=\"#DejaVuSans-53\" x=\"550.830078\"/>\n",
       "       <use xlink:href=\"#DejaVuSans-31\" x=\"614.306641\"/>\n",
       "       <use xlink:href=\"#DejaVuSans-37\" x=\"677.929688\"/>\n",
       "       <use xlink:href=\"#DejaVuSans-2d\" x=\"741.552734\"/>\n",
       "       <use xlink:href=\"#DejaVuSans-52\" x=\"777.636719\"/>\n",
       "       <use xlink:href=\"#DejaVuSans-4e\" x=\"847.119141\"/>\n",
       "       <use xlink:href=\"#DejaVuSans-61\" x=\"921.923828\"/>\n",
       "       <use xlink:href=\"#DejaVuSans-73\" x=\"983.203125\"/>\n",
       "       <use xlink:href=\"#DejaVuSans-65\" x=\"1035.302734\"/>\n",
       "      </g>\n",
       "     </g>\n",
       "    </g>\n",
       "    <g id=\"ytick_54\">\n",
       "     <g id=\"text_69\">\n",
       "      <!-- 1:S5-SLF1_S17-RNase -->\n",
       "      <g transform=\"translate(1045.225 314.170659)scale(0.08 -0.08)\">\n",
       "       <use xlink:href=\"#DejaVuSans-31\"/>\n",
       "       <use xlink:href=\"#DejaVuSans-3a\" x=\"63.623047\"/>\n",
       "       <use xlink:href=\"#DejaVuSans-53\" x=\"97.314453\"/>\n",
       "       <use xlink:href=\"#DejaVuSans-35\" x=\"160.791016\"/>\n",
       "       <use xlink:href=\"#DejaVuSans-2d\" x=\"224.414062\"/>\n",
       "       <use xlink:href=\"#DejaVuSans-53\" x=\"260.498047\"/>\n",
       "       <use xlink:href=\"#DejaVuSans-4c\" x=\"323.974609\"/>\n",
       "       <use xlink:href=\"#DejaVuSans-46\" x=\"379.6875\"/>\n",
       "       <use xlink:href=\"#DejaVuSans-31\" x=\"437.207031\"/>\n",
       "       <use xlink:href=\"#DejaVuSans-5f\" x=\"500.830078\"/>\n",
       "       <use xlink:href=\"#DejaVuSans-53\" x=\"550.830078\"/>\n",
       "       <use xlink:href=\"#DejaVuSans-31\" x=\"614.306641\"/>\n",
       "       <use xlink:href=\"#DejaVuSans-37\" x=\"677.929688\"/>\n",
       "       <use xlink:href=\"#DejaVuSans-2d\" x=\"741.552734\"/>\n",
       "       <use xlink:href=\"#DejaVuSans-52\" x=\"777.636719\"/>\n",
       "       <use xlink:href=\"#DejaVuSans-4e\" x=\"847.119141\"/>\n",
       "       <use xlink:href=\"#DejaVuSans-61\" x=\"921.923828\"/>\n",
       "       <use xlink:href=\"#DejaVuSans-73\" x=\"983.203125\"/>\n",
       "       <use xlink:href=\"#DejaVuSans-65\" x=\"1035.302734\"/>\n",
       "      </g>\n",
       "     </g>\n",
       "    </g>\n",
       "    <g id=\"ytick_55\">\n",
       "     <g id=\"text_70\">\n",
       "      <!-- 0:S7-SLF2_S17-RNase -->\n",
       "      <g transform=\"translate(1045.225 300.078767)scale(0.08 -0.08)\">\n",
       "       <use xlink:href=\"#DejaVuSans-30\"/>\n",
       "       <use xlink:href=\"#DejaVuSans-3a\" x=\"63.623047\"/>\n",
       "       <use xlink:href=\"#DejaVuSans-53\" x=\"97.314453\"/>\n",
       "       <use xlink:href=\"#DejaVuSans-37\" x=\"160.791016\"/>\n",
       "       <use xlink:href=\"#DejaVuSans-2d\" x=\"224.414062\"/>\n",
       "       <use xlink:href=\"#DejaVuSans-53\" x=\"260.498047\"/>\n",
       "       <use xlink:href=\"#DejaVuSans-4c\" x=\"323.974609\"/>\n",
       "       <use xlink:href=\"#DejaVuSans-46\" x=\"379.6875\"/>\n",
       "       <use xlink:href=\"#DejaVuSans-32\" x=\"437.207031\"/>\n",
       "       <use xlink:href=\"#DejaVuSans-5f\" x=\"500.830078\"/>\n",
       "       <use xlink:href=\"#DejaVuSans-53\" x=\"550.830078\"/>\n",
       "       <use xlink:href=\"#DejaVuSans-31\" x=\"614.306641\"/>\n",
       "       <use xlink:href=\"#DejaVuSans-37\" x=\"677.929688\"/>\n",
       "       <use xlink:href=\"#DejaVuSans-2d\" x=\"741.552734\"/>\n",
       "       <use xlink:href=\"#DejaVuSans-52\" x=\"777.636719\"/>\n",
       "       <use xlink:href=\"#DejaVuSans-4e\" x=\"847.119141\"/>\n",
       "       <use xlink:href=\"#DejaVuSans-61\" x=\"921.923828\"/>\n",
       "       <use xlink:href=\"#DejaVuSans-73\" x=\"983.203125\"/>\n",
       "       <use xlink:href=\"#DejaVuSans-65\" x=\"1035.302734\"/>\n",
       "      </g>\n",
       "     </g>\n",
       "    </g>\n",
       "    <g id=\"ytick_56\">\n",
       "     <g id=\"text_71\">\n",
       "      <!-- 0:S11-SLF2_S17-RNase -->\n",
       "      <g transform=\"translate(1045.225 285.986875)scale(0.08 -0.08)\">\n",
       "       <use xlink:href=\"#DejaVuSans-30\"/>\n",
       "       <use xlink:href=\"#DejaVuSans-3a\" x=\"63.623047\"/>\n",
       "       <use xlink:href=\"#DejaVuSans-53\" x=\"97.314453\"/>\n",
       "       <use xlink:href=\"#DejaVuSans-31\" x=\"160.791016\"/>\n",
       "       <use xlink:href=\"#DejaVuSans-31\" x=\"224.414062\"/>\n",
       "       <use xlink:href=\"#DejaVuSans-2d\" x=\"288.037109\"/>\n",
       "       <use xlink:href=\"#DejaVuSans-53\" x=\"324.121094\"/>\n",
       "       <use xlink:href=\"#DejaVuSans-4c\" x=\"387.597656\"/>\n",
       "       <use xlink:href=\"#DejaVuSans-46\" x=\"443.310547\"/>\n",
       "       <use xlink:href=\"#DejaVuSans-32\" x=\"500.830078\"/>\n",
       "       <use xlink:href=\"#DejaVuSans-5f\" x=\"564.453125\"/>\n",
       "       <use xlink:href=\"#DejaVuSans-53\" x=\"614.453125\"/>\n",
       "       <use xlink:href=\"#DejaVuSans-31\" x=\"677.929688\"/>\n",
       "       <use xlink:href=\"#DejaVuSans-37\" x=\"741.552734\"/>\n",
       "       <use xlink:href=\"#DejaVuSans-2d\" x=\"805.175781\"/>\n",
       "       <use xlink:href=\"#DejaVuSans-52\" x=\"841.259766\"/>\n",
       "       <use xlink:href=\"#DejaVuSans-4e\" x=\"910.742188\"/>\n",
       "       <use xlink:href=\"#DejaVuSans-61\" x=\"985.546875\"/>\n",
       "       <use xlink:href=\"#DejaVuSans-73\" x=\"1046.826172\"/>\n",
       "       <use xlink:href=\"#DejaVuSans-65\" x=\"1098.925781\"/>\n",
       "      </g>\n",
       "     </g>\n",
       "    </g>\n",
       "    <g id=\"ytick_57\">\n",
       "     <g id=\"text_72\">\n",
       "      <!-- 0:S5-SLF2_S17-RNase -->\n",
       "      <g transform=\"translate(1045.225 271.894983)scale(0.08 -0.08)\">\n",
       "       <use xlink:href=\"#DejaVuSans-30\"/>\n",
       "       <use xlink:href=\"#DejaVuSans-3a\" x=\"63.623047\"/>\n",
       "       <use xlink:href=\"#DejaVuSans-53\" x=\"97.314453\"/>\n",
       "       <use xlink:href=\"#DejaVuSans-35\" x=\"160.791016\"/>\n",
       "       <use xlink:href=\"#DejaVuSans-2d\" x=\"224.414062\"/>\n",
       "       <use xlink:href=\"#DejaVuSans-53\" x=\"260.498047\"/>\n",
       "       <use xlink:href=\"#DejaVuSans-4c\" x=\"323.974609\"/>\n",
       "       <use xlink:href=\"#DejaVuSans-46\" x=\"379.6875\"/>\n",
       "       <use xlink:href=\"#DejaVuSans-32\" x=\"437.207031\"/>\n",
       "       <use xlink:href=\"#DejaVuSans-5f\" x=\"500.830078\"/>\n",
       "       <use xlink:href=\"#DejaVuSans-53\" x=\"550.830078\"/>\n",
       "       <use xlink:href=\"#DejaVuSans-31\" x=\"614.306641\"/>\n",
       "       <use xlink:href=\"#DejaVuSans-37\" x=\"677.929688\"/>\n",
       "       <use xlink:href=\"#DejaVuSans-2d\" x=\"741.552734\"/>\n",
       "       <use xlink:href=\"#DejaVuSans-52\" x=\"777.636719\"/>\n",
       "       <use xlink:href=\"#DejaVuSans-4e\" x=\"847.119141\"/>\n",
       "       <use xlink:href=\"#DejaVuSans-61\" x=\"921.923828\"/>\n",
       "       <use xlink:href=\"#DejaVuSans-73\" x=\"983.203125\"/>\n",
       "       <use xlink:href=\"#DejaVuSans-65\" x=\"1035.302734\"/>\n",
       "      </g>\n",
       "     </g>\n",
       "    </g>\n",
       "    <g id=\"ytick_58\">\n",
       "     <g id=\"text_73\">\n",
       "      <!-- 1:S9-SLF1_S3-RNase -->\n",
       "      <g transform=\"translate(1045.225 257.803091)scale(0.08 -0.08)\">\n",
       "       <use xlink:href=\"#DejaVuSans-31\"/>\n",
       "       <use xlink:href=\"#DejaVuSans-3a\" x=\"63.623047\"/>\n",
       "       <use xlink:href=\"#DejaVuSans-53\" x=\"97.314453\"/>\n",
       "       <use xlink:href=\"#DejaVuSans-39\" x=\"160.791016\"/>\n",
       "       <use xlink:href=\"#DejaVuSans-2d\" x=\"224.414062\"/>\n",
       "       <use xlink:href=\"#DejaVuSans-53\" x=\"260.498047\"/>\n",
       "       <use xlink:href=\"#DejaVuSans-4c\" x=\"323.974609\"/>\n",
       "       <use xlink:href=\"#DejaVuSans-46\" x=\"379.6875\"/>\n",
       "       <use xlink:href=\"#DejaVuSans-31\" x=\"437.207031\"/>\n",
       "       <use xlink:href=\"#DejaVuSans-5f\" x=\"500.830078\"/>\n",
       "       <use xlink:href=\"#DejaVuSans-53\" x=\"550.830078\"/>\n",
       "       <use xlink:href=\"#DejaVuSans-33\" x=\"614.306641\"/>\n",
       "       <use xlink:href=\"#DejaVuSans-2d\" x=\"677.929688\"/>\n",
       "       <use xlink:href=\"#DejaVuSans-52\" x=\"714.013672\"/>\n",
       "       <use xlink:href=\"#DejaVuSans-4e\" x=\"783.496094\"/>\n",
       "       <use xlink:href=\"#DejaVuSans-61\" x=\"858.300781\"/>\n",
       "       <use xlink:href=\"#DejaVuSans-73\" x=\"919.580078\"/>\n",
       "       <use xlink:href=\"#DejaVuSans-65\" x=\"971.679688\"/>\n",
       "      </g>\n",
       "     </g>\n",
       "    </g>\n",
       "    <g id=\"ytick_59\">\n",
       "     <g id=\"text_74\">\n",
       "      <!-- 0:S9-SLF1_S5-RNase -->\n",
       "      <g transform=\"translate(1045.225 243.711199)scale(0.08 -0.08)\">\n",
       "       <use xlink:href=\"#DejaVuSans-30\"/>\n",
       "       <use xlink:href=\"#DejaVuSans-3a\" x=\"63.623047\"/>\n",
       "       <use xlink:href=\"#DejaVuSans-53\" x=\"97.314453\"/>\n",
       "       <use xlink:href=\"#DejaVuSans-39\" x=\"160.791016\"/>\n",
       "       <use xlink:href=\"#DejaVuSans-2d\" x=\"224.414062\"/>\n",
       "       <use xlink:href=\"#DejaVuSans-53\" x=\"260.498047\"/>\n",
       "       <use xlink:href=\"#DejaVuSans-4c\" x=\"323.974609\"/>\n",
       "       <use xlink:href=\"#DejaVuSans-46\" x=\"379.6875\"/>\n",
       "       <use xlink:href=\"#DejaVuSans-31\" x=\"437.207031\"/>\n",
       "       <use xlink:href=\"#DejaVuSans-5f\" x=\"500.830078\"/>\n",
       "       <use xlink:href=\"#DejaVuSans-53\" x=\"550.830078\"/>\n",
       "       <use xlink:href=\"#DejaVuSans-35\" x=\"614.306641\"/>\n",
       "       <use xlink:href=\"#DejaVuSans-2d\" x=\"677.929688\"/>\n",
       "       <use xlink:href=\"#DejaVuSans-52\" x=\"714.013672\"/>\n",
       "       <use xlink:href=\"#DejaVuSans-4e\" x=\"783.496094\"/>\n",
       "       <use xlink:href=\"#DejaVuSans-61\" x=\"858.300781\"/>\n",
       "       <use xlink:href=\"#DejaVuSans-73\" x=\"919.580078\"/>\n",
       "       <use xlink:href=\"#DejaVuSans-65\" x=\"971.679688\"/>\n",
       "      </g>\n",
       "     </g>\n",
       "    </g>\n",
       "    <g id=\"ytick_60\">\n",
       "     <g id=\"text_75\">\n",
       "      <!-- 0:S11-SLF1_S5-RNase -->\n",
       "      <g transform=\"translate(1045.225 229.619307)scale(0.08 -0.08)\">\n",
       "       <use xlink:href=\"#DejaVuSans-30\"/>\n",
       "       <use xlink:href=\"#DejaVuSans-3a\" x=\"63.623047\"/>\n",
       "       <use xlink:href=\"#DejaVuSans-53\" x=\"97.314453\"/>\n",
       "       <use xlink:href=\"#DejaVuSans-31\" x=\"160.791016\"/>\n",
       "       <use xlink:href=\"#DejaVuSans-31\" x=\"224.414062\"/>\n",
       "       <use xlink:href=\"#DejaVuSans-2d\" x=\"288.037109\"/>\n",
       "       <use xlink:href=\"#DejaVuSans-53\" x=\"324.121094\"/>\n",
       "       <use xlink:href=\"#DejaVuSans-4c\" x=\"387.597656\"/>\n",
       "       <use xlink:href=\"#DejaVuSans-46\" x=\"443.310547\"/>\n",
       "       <use xlink:href=\"#DejaVuSans-31\" x=\"500.830078\"/>\n",
       "       <use xlink:href=\"#DejaVuSans-5f\" x=\"564.453125\"/>\n",
       "       <use xlink:href=\"#DejaVuSans-53\" x=\"614.453125\"/>\n",
       "       <use xlink:href=\"#DejaVuSans-35\" x=\"677.929688\"/>\n",
       "       <use xlink:href=\"#DejaVuSans-2d\" x=\"741.552734\"/>\n",
       "       <use xlink:href=\"#DejaVuSans-52\" x=\"777.636719\"/>\n",
       "       <use xlink:href=\"#DejaVuSans-4e\" x=\"847.119141\"/>\n",
       "       <use xlink:href=\"#DejaVuSans-61\" x=\"921.923828\"/>\n",
       "       <use xlink:href=\"#DejaVuSans-73\" x=\"983.203125\"/>\n",
       "       <use xlink:href=\"#DejaVuSans-65\" x=\"1035.302734\"/>\n",
       "      </g>\n",
       "     </g>\n",
       "    </g>\n",
       "    <g id=\"ytick_61\">\n",
       "     <g id=\"text_76\">\n",
       "      <!-- 0:S7-SLF1_S5-RNase -->\n",
       "      <g transform=\"translate(1045.225 215.527416)scale(0.08 -0.08)\">\n",
       "       <use xlink:href=\"#DejaVuSans-30\"/>\n",
       "       <use xlink:href=\"#DejaVuSans-3a\" x=\"63.623047\"/>\n",
       "       <use xlink:href=\"#DejaVuSans-53\" x=\"97.314453\"/>\n",
       "       <use xlink:href=\"#DejaVuSans-37\" x=\"160.791016\"/>\n",
       "       <use xlink:href=\"#DejaVuSans-2d\" x=\"224.414062\"/>\n",
       "       <use xlink:href=\"#DejaVuSans-53\" x=\"260.498047\"/>\n",
       "       <use xlink:href=\"#DejaVuSans-4c\" x=\"323.974609\"/>\n",
       "       <use xlink:href=\"#DejaVuSans-46\" x=\"379.6875\"/>\n",
       "       <use xlink:href=\"#DejaVuSans-31\" x=\"437.207031\"/>\n",
       "       <use xlink:href=\"#DejaVuSans-5f\" x=\"500.830078\"/>\n",
       "       <use xlink:href=\"#DejaVuSans-53\" x=\"550.830078\"/>\n",
       "       <use xlink:href=\"#DejaVuSans-35\" x=\"614.306641\"/>\n",
       "       <use xlink:href=\"#DejaVuSans-2d\" x=\"677.929688\"/>\n",
       "       <use xlink:href=\"#DejaVuSans-52\" x=\"714.013672\"/>\n",
       "       <use xlink:href=\"#DejaVuSans-4e\" x=\"783.496094\"/>\n",
       "       <use xlink:href=\"#DejaVuSans-61\" x=\"858.300781\"/>\n",
       "       <use xlink:href=\"#DejaVuSans-73\" x=\"919.580078\"/>\n",
       "       <use xlink:href=\"#DejaVuSans-65\" x=\"971.679688\"/>\n",
       "      </g>\n",
       "     </g>\n",
       "    </g>\n",
       "    <g id=\"ytick_62\">\n",
       "     <g id=\"text_77\">\n",
       "      <!-- 0:S11-SLF2_S5-RNase -->\n",
       "      <g transform=\"translate(1045.225 201.435524)scale(0.08 -0.08)\">\n",
       "       <use xlink:href=\"#DejaVuSans-30\"/>\n",
       "       <use xlink:href=\"#DejaVuSans-3a\" x=\"63.623047\"/>\n",
       "       <use xlink:href=\"#DejaVuSans-53\" x=\"97.314453\"/>\n",
       "       <use xlink:href=\"#DejaVuSans-31\" x=\"160.791016\"/>\n",
       "       <use xlink:href=\"#DejaVuSans-31\" x=\"224.414062\"/>\n",
       "       <use xlink:href=\"#DejaVuSans-2d\" x=\"288.037109\"/>\n",
       "       <use xlink:href=\"#DejaVuSans-53\" x=\"324.121094\"/>\n",
       "       <use xlink:href=\"#DejaVuSans-4c\" x=\"387.597656\"/>\n",
       "       <use xlink:href=\"#DejaVuSans-46\" x=\"443.310547\"/>\n",
       "       <use xlink:href=\"#DejaVuSans-32\" x=\"500.830078\"/>\n",
       "       <use xlink:href=\"#DejaVuSans-5f\" x=\"564.453125\"/>\n",
       "       <use xlink:href=\"#DejaVuSans-53\" x=\"614.453125\"/>\n",
       "       <use xlink:href=\"#DejaVuSans-35\" x=\"677.929688\"/>\n",
       "       <use xlink:href=\"#DejaVuSans-2d\" x=\"741.552734\"/>\n",
       "       <use xlink:href=\"#DejaVuSans-52\" x=\"777.636719\"/>\n",
       "       <use xlink:href=\"#DejaVuSans-4e\" x=\"847.119141\"/>\n",
       "       <use xlink:href=\"#DejaVuSans-61\" x=\"921.923828\"/>\n",
       "       <use xlink:href=\"#DejaVuSans-73\" x=\"983.203125\"/>\n",
       "       <use xlink:href=\"#DejaVuSans-65\" x=\"1035.302734\"/>\n",
       "      </g>\n",
       "     </g>\n",
       "    </g>\n",
       "    <g id=\"ytick_63\">\n",
       "     <g id=\"text_78\">\n",
       "      <!-- 0:S7-SLF2_S5-RNase -->\n",
       "      <g transform=\"translate(1045.225 187.343632)scale(0.08 -0.08)\">\n",
       "       <use xlink:href=\"#DejaVuSans-30\"/>\n",
       "       <use xlink:href=\"#DejaVuSans-3a\" x=\"63.623047\"/>\n",
       "       <use xlink:href=\"#DejaVuSans-53\" x=\"97.314453\"/>\n",
       "       <use xlink:href=\"#DejaVuSans-37\" x=\"160.791016\"/>\n",
       "       <use xlink:href=\"#DejaVuSans-2d\" x=\"224.414062\"/>\n",
       "       <use xlink:href=\"#DejaVuSans-53\" x=\"260.498047\"/>\n",
       "       <use xlink:href=\"#DejaVuSans-4c\" x=\"323.974609\"/>\n",
       "       <use xlink:href=\"#DejaVuSans-46\" x=\"379.6875\"/>\n",
       "       <use xlink:href=\"#DejaVuSans-32\" x=\"437.207031\"/>\n",
       "       <use xlink:href=\"#DejaVuSans-5f\" x=\"500.830078\"/>\n",
       "       <use xlink:href=\"#DejaVuSans-53\" x=\"550.830078\"/>\n",
       "       <use xlink:href=\"#DejaVuSans-35\" x=\"614.306641\"/>\n",
       "       <use xlink:href=\"#DejaVuSans-2d\" x=\"677.929688\"/>\n",
       "       <use xlink:href=\"#DejaVuSans-52\" x=\"714.013672\"/>\n",
       "       <use xlink:href=\"#DejaVuSans-4e\" x=\"783.496094\"/>\n",
       "       <use xlink:href=\"#DejaVuSans-61\" x=\"858.300781\"/>\n",
       "       <use xlink:href=\"#DejaVuSans-73\" x=\"919.580078\"/>\n",
       "       <use xlink:href=\"#DejaVuSans-65\" x=\"971.679688\"/>\n",
       "      </g>\n",
       "     </g>\n",
       "    </g>\n",
       "    <g id=\"ytick_64\">\n",
       "     <g id=\"text_79\">\n",
       "      <!-- 0:S11-SLF1_S7-RNase -->\n",
       "      <g transform=\"translate(1045.225 173.25174)scale(0.08 -0.08)\">\n",
       "       <use xlink:href=\"#DejaVuSans-30\"/>\n",
       "       <use xlink:href=\"#DejaVuSans-3a\" x=\"63.623047\"/>\n",
       "       <use xlink:href=\"#DejaVuSans-53\" x=\"97.314453\"/>\n",
       "       <use xlink:href=\"#DejaVuSans-31\" x=\"160.791016\"/>\n",
       "       <use xlink:href=\"#DejaVuSans-31\" x=\"224.414062\"/>\n",
       "       <use xlink:href=\"#DejaVuSans-2d\" x=\"288.037109\"/>\n",
       "       <use xlink:href=\"#DejaVuSans-53\" x=\"324.121094\"/>\n",
       "       <use xlink:href=\"#DejaVuSans-4c\" x=\"387.597656\"/>\n",
       "       <use xlink:href=\"#DejaVuSans-46\" x=\"443.310547\"/>\n",
       "       <use xlink:href=\"#DejaVuSans-31\" x=\"500.830078\"/>\n",
       "       <use xlink:href=\"#DejaVuSans-5f\" x=\"564.453125\"/>\n",
       "       <use xlink:href=\"#DejaVuSans-53\" x=\"614.453125\"/>\n",
       "       <use xlink:href=\"#DejaVuSans-37\" x=\"677.929688\"/>\n",
       "       <use xlink:href=\"#DejaVuSans-2d\" x=\"741.552734\"/>\n",
       "       <use xlink:href=\"#DejaVuSans-52\" x=\"777.636719\"/>\n",
       "       <use xlink:href=\"#DejaVuSans-4e\" x=\"847.119141\"/>\n",
       "       <use xlink:href=\"#DejaVuSans-61\" x=\"921.923828\"/>\n",
       "       <use xlink:href=\"#DejaVuSans-73\" x=\"983.203125\"/>\n",
       "       <use xlink:href=\"#DejaVuSans-65\" x=\"1035.302734\"/>\n",
       "      </g>\n",
       "     </g>\n",
       "    </g>\n",
       "    <g id=\"ytick_65\">\n",
       "     <g id=\"text_80\">\n",
       "      <!-- 0:S5-SLF1_S7-RNase -->\n",
       "      <g transform=\"translate(1045.225 159.159848)scale(0.08 -0.08)\">\n",
       "       <use xlink:href=\"#DejaVuSans-30\"/>\n",
       "       <use xlink:href=\"#DejaVuSans-3a\" x=\"63.623047\"/>\n",
       "       <use xlink:href=\"#DejaVuSans-53\" x=\"97.314453\"/>\n",
       "       <use xlink:href=\"#DejaVuSans-35\" x=\"160.791016\"/>\n",
       "       <use xlink:href=\"#DejaVuSans-2d\" x=\"224.414062\"/>\n",
       "       <use xlink:href=\"#DejaVuSans-53\" x=\"260.498047\"/>\n",
       "       <use xlink:href=\"#DejaVuSans-4c\" x=\"323.974609\"/>\n",
       "       <use xlink:href=\"#DejaVuSans-46\" x=\"379.6875\"/>\n",
       "       <use xlink:href=\"#DejaVuSans-31\" x=\"437.207031\"/>\n",
       "       <use xlink:href=\"#DejaVuSans-5f\" x=\"500.830078\"/>\n",
       "       <use xlink:href=\"#DejaVuSans-53\" x=\"550.830078\"/>\n",
       "       <use xlink:href=\"#DejaVuSans-37\" x=\"614.306641\"/>\n",
       "       <use xlink:href=\"#DejaVuSans-2d\" x=\"677.929688\"/>\n",
       "       <use xlink:href=\"#DejaVuSans-52\" x=\"714.013672\"/>\n",
       "       <use xlink:href=\"#DejaVuSans-4e\" x=\"783.496094\"/>\n",
       "       <use xlink:href=\"#DejaVuSans-61\" x=\"858.300781\"/>\n",
       "       <use xlink:href=\"#DejaVuSans-73\" x=\"919.580078\"/>\n",
       "       <use xlink:href=\"#DejaVuSans-65\" x=\"971.679688\"/>\n",
       "      </g>\n",
       "     </g>\n",
       "    </g>\n",
       "    <g id=\"ytick_66\">\n",
       "     <g id=\"text_81\">\n",
       "      <!-- 0:S9-SLF1_S7-RNase -->\n",
       "      <g transform=\"translate(1045.225 145.067956)scale(0.08 -0.08)\">\n",
       "       <use xlink:href=\"#DejaVuSans-30\"/>\n",
       "       <use xlink:href=\"#DejaVuSans-3a\" x=\"63.623047\"/>\n",
       "       <use xlink:href=\"#DejaVuSans-53\" x=\"97.314453\"/>\n",
       "       <use xlink:href=\"#DejaVuSans-39\" x=\"160.791016\"/>\n",
       "       <use xlink:href=\"#DejaVuSans-2d\" x=\"224.414062\"/>\n",
       "       <use xlink:href=\"#DejaVuSans-53\" x=\"260.498047\"/>\n",
       "       <use xlink:href=\"#DejaVuSans-4c\" x=\"323.974609\"/>\n",
       "       <use xlink:href=\"#DejaVuSans-46\" x=\"379.6875\"/>\n",
       "       <use xlink:href=\"#DejaVuSans-31\" x=\"437.207031\"/>\n",
       "       <use xlink:href=\"#DejaVuSans-5f\" x=\"500.830078\"/>\n",
       "       <use xlink:href=\"#DejaVuSans-53\" x=\"550.830078\"/>\n",
       "       <use xlink:href=\"#DejaVuSans-37\" x=\"614.306641\"/>\n",
       "       <use xlink:href=\"#DejaVuSans-2d\" x=\"677.929688\"/>\n",
       "       <use xlink:href=\"#DejaVuSans-52\" x=\"714.013672\"/>\n",
       "       <use xlink:href=\"#DejaVuSans-4e\" x=\"783.496094\"/>\n",
       "       <use xlink:href=\"#DejaVuSans-61\" x=\"858.300781\"/>\n",
       "       <use xlink:href=\"#DejaVuSans-73\" x=\"919.580078\"/>\n",
       "       <use xlink:href=\"#DejaVuSans-65\" x=\"971.679688\"/>\n",
       "      </g>\n",
       "     </g>\n",
       "    </g>\n",
       "    <g id=\"ytick_67\">\n",
       "     <g id=\"text_82\">\n",
       "      <!-- 0:S11-SLF2_S7-RNase -->\n",
       "      <g transform=\"translate(1045.225 130.976064)scale(0.08 -0.08)\">\n",
       "       <use xlink:href=\"#DejaVuSans-30\"/>\n",
       "       <use xlink:href=\"#DejaVuSans-3a\" x=\"63.623047\"/>\n",
       "       <use xlink:href=\"#DejaVuSans-53\" x=\"97.314453\"/>\n",
       "       <use xlink:href=\"#DejaVuSans-31\" x=\"160.791016\"/>\n",
       "       <use xlink:href=\"#DejaVuSans-31\" x=\"224.414062\"/>\n",
       "       <use xlink:href=\"#DejaVuSans-2d\" x=\"288.037109\"/>\n",
       "       <use xlink:href=\"#DejaVuSans-53\" x=\"324.121094\"/>\n",
       "       <use xlink:href=\"#DejaVuSans-4c\" x=\"387.597656\"/>\n",
       "       <use xlink:href=\"#DejaVuSans-46\" x=\"443.310547\"/>\n",
       "       <use xlink:href=\"#DejaVuSans-32\" x=\"500.830078\"/>\n",
       "       <use xlink:href=\"#DejaVuSans-5f\" x=\"564.453125\"/>\n",
       "       <use xlink:href=\"#DejaVuSans-53\" x=\"614.453125\"/>\n",
       "       <use xlink:href=\"#DejaVuSans-37\" x=\"677.929688\"/>\n",
       "       <use xlink:href=\"#DejaVuSans-2d\" x=\"741.552734\"/>\n",
       "       <use xlink:href=\"#DejaVuSans-52\" x=\"777.636719\"/>\n",
       "       <use xlink:href=\"#DejaVuSans-4e\" x=\"847.119141\"/>\n",
       "       <use xlink:href=\"#DejaVuSans-61\" x=\"921.923828\"/>\n",
       "       <use xlink:href=\"#DejaVuSans-73\" x=\"983.203125\"/>\n",
       "       <use xlink:href=\"#DejaVuSans-65\" x=\"1035.302734\"/>\n",
       "      </g>\n",
       "     </g>\n",
       "    </g>\n",
       "    <g id=\"ytick_68\">\n",
       "     <g id=\"text_83\">\n",
       "      <!-- 0:S5-SLF2_S7-RNase -->\n",
       "      <g transform=\"translate(1045.225 116.884172)scale(0.08 -0.08)\">\n",
       "       <use xlink:href=\"#DejaVuSans-30\"/>\n",
       "       <use xlink:href=\"#DejaVuSans-3a\" x=\"63.623047\"/>\n",
       "       <use xlink:href=\"#DejaVuSans-53\" x=\"97.314453\"/>\n",
       "       <use xlink:href=\"#DejaVuSans-35\" x=\"160.791016\"/>\n",
       "       <use xlink:href=\"#DejaVuSans-2d\" x=\"224.414062\"/>\n",
       "       <use xlink:href=\"#DejaVuSans-53\" x=\"260.498047\"/>\n",
       "       <use xlink:href=\"#DejaVuSans-4c\" x=\"323.974609\"/>\n",
       "       <use xlink:href=\"#DejaVuSans-46\" x=\"379.6875\"/>\n",
       "       <use xlink:href=\"#DejaVuSans-32\" x=\"437.207031\"/>\n",
       "       <use xlink:href=\"#DejaVuSans-5f\" x=\"500.830078\"/>\n",
       "       <use xlink:href=\"#DejaVuSans-53\" x=\"550.830078\"/>\n",
       "       <use xlink:href=\"#DejaVuSans-37\" x=\"614.306641\"/>\n",
       "       <use xlink:href=\"#DejaVuSans-2d\" x=\"677.929688\"/>\n",
       "       <use xlink:href=\"#DejaVuSans-52\" x=\"714.013672\"/>\n",
       "       <use xlink:href=\"#DejaVuSans-4e\" x=\"783.496094\"/>\n",
       "       <use xlink:href=\"#DejaVuSans-61\" x=\"858.300781\"/>\n",
       "       <use xlink:href=\"#DejaVuSans-73\" x=\"919.580078\"/>\n",
       "       <use xlink:href=\"#DejaVuSans-65\" x=\"971.679688\"/>\n",
       "      </g>\n",
       "     </g>\n",
       "    </g>\n",
       "    <g id=\"ytick_69\">\n",
       "     <g id=\"text_84\">\n",
       "      <!-- 0:S11-SLF1_S9-RNase -->\n",
       "      <g transform=\"translate(1045.225 102.79228)scale(0.08 -0.08)\">\n",
       "       <use xlink:href=\"#DejaVuSans-30\"/>\n",
       "       <use xlink:href=\"#DejaVuSans-3a\" x=\"63.623047\"/>\n",
       "       <use xlink:href=\"#DejaVuSans-53\" x=\"97.314453\"/>\n",
       "       <use xlink:href=\"#DejaVuSans-31\" x=\"160.791016\"/>\n",
       "       <use xlink:href=\"#DejaVuSans-31\" x=\"224.414062\"/>\n",
       "       <use xlink:href=\"#DejaVuSans-2d\" x=\"288.037109\"/>\n",
       "       <use xlink:href=\"#DejaVuSans-53\" x=\"324.121094\"/>\n",
       "       <use xlink:href=\"#DejaVuSans-4c\" x=\"387.597656\"/>\n",
       "       <use xlink:href=\"#DejaVuSans-46\" x=\"443.310547\"/>\n",
       "       <use xlink:href=\"#DejaVuSans-31\" x=\"500.830078\"/>\n",
       "       <use xlink:href=\"#DejaVuSans-5f\" x=\"564.453125\"/>\n",
       "       <use xlink:href=\"#DejaVuSans-53\" x=\"614.453125\"/>\n",
       "       <use xlink:href=\"#DejaVuSans-39\" x=\"677.929688\"/>\n",
       "       <use xlink:href=\"#DejaVuSans-2d\" x=\"741.552734\"/>\n",
       "       <use xlink:href=\"#DejaVuSans-52\" x=\"777.636719\"/>\n",
       "       <use xlink:href=\"#DejaVuSans-4e\" x=\"847.119141\"/>\n",
       "       <use xlink:href=\"#DejaVuSans-61\" x=\"921.923828\"/>\n",
       "       <use xlink:href=\"#DejaVuSans-73\" x=\"983.203125\"/>\n",
       "       <use xlink:href=\"#DejaVuSans-65\" x=\"1035.302734\"/>\n",
       "      </g>\n",
       "     </g>\n",
       "    </g>\n",
       "    <g id=\"ytick_70\">\n",
       "     <g id=\"text_85\">\n",
       "      <!-- 1:S5-SLF1_S9-RNase -->\n",
       "      <g transform=\"translate(1045.225 88.700389)scale(0.08 -0.08)\">\n",
       "       <use xlink:href=\"#DejaVuSans-31\"/>\n",
       "       <use xlink:href=\"#DejaVuSans-3a\" x=\"63.623047\"/>\n",
       "       <use xlink:href=\"#DejaVuSans-53\" x=\"97.314453\"/>\n",
       "       <use xlink:href=\"#DejaVuSans-35\" x=\"160.791016\"/>\n",
       "       <use xlink:href=\"#DejaVuSans-2d\" x=\"224.414062\"/>\n",
       "       <use xlink:href=\"#DejaVuSans-53\" x=\"260.498047\"/>\n",
       "       <use xlink:href=\"#DejaVuSans-4c\" x=\"323.974609\"/>\n",
       "       <use xlink:href=\"#DejaVuSans-46\" x=\"379.6875\"/>\n",
       "       <use xlink:href=\"#DejaVuSans-31\" x=\"437.207031\"/>\n",
       "       <use xlink:href=\"#DejaVuSans-5f\" x=\"500.830078\"/>\n",
       "       <use xlink:href=\"#DejaVuSans-53\" x=\"550.830078\"/>\n",
       "       <use xlink:href=\"#DejaVuSans-39\" x=\"614.306641\"/>\n",
       "       <use xlink:href=\"#DejaVuSans-2d\" x=\"677.929688\"/>\n",
       "       <use xlink:href=\"#DejaVuSans-52\" x=\"714.013672\"/>\n",
       "       <use xlink:href=\"#DejaVuSans-4e\" x=\"783.496094\"/>\n",
       "       <use xlink:href=\"#DejaVuSans-61\" x=\"858.300781\"/>\n",
       "       <use xlink:href=\"#DejaVuSans-73\" x=\"919.580078\"/>\n",
       "       <use xlink:href=\"#DejaVuSans-65\" x=\"971.679688\"/>\n",
       "      </g>\n",
       "     </g>\n",
       "    </g>\n",
       "    <g id=\"ytick_71\">\n",
       "     <g id=\"text_86\">\n",
       "      <!-- 1:S7-SLF1_S9-RNase -->\n",
       "      <g transform=\"translate(1045.225 74.608497)scale(0.08 -0.08)\">\n",
       "       <use xlink:href=\"#DejaVuSans-31\"/>\n",
       "       <use xlink:href=\"#DejaVuSans-3a\" x=\"63.623047\"/>\n",
       "       <use xlink:href=\"#DejaVuSans-53\" x=\"97.314453\"/>\n",
       "       <use xlink:href=\"#DejaVuSans-37\" x=\"160.791016\"/>\n",
       "       <use xlink:href=\"#DejaVuSans-2d\" x=\"224.414062\"/>\n",
       "       <use xlink:href=\"#DejaVuSans-53\" x=\"260.498047\"/>\n",
       "       <use xlink:href=\"#DejaVuSans-4c\" x=\"323.974609\"/>\n",
       "       <use xlink:href=\"#DejaVuSans-46\" x=\"379.6875\"/>\n",
       "       <use xlink:href=\"#DejaVuSans-31\" x=\"437.207031\"/>\n",
       "       <use xlink:href=\"#DejaVuSans-5f\" x=\"500.830078\"/>\n",
       "       <use xlink:href=\"#DejaVuSans-53\" x=\"550.830078\"/>\n",
       "       <use xlink:href=\"#DejaVuSans-39\" x=\"614.306641\"/>\n",
       "       <use xlink:href=\"#DejaVuSans-2d\" x=\"677.929688\"/>\n",
       "       <use xlink:href=\"#DejaVuSans-52\" x=\"714.013672\"/>\n",
       "       <use xlink:href=\"#DejaVuSans-4e\" x=\"783.496094\"/>\n",
       "       <use xlink:href=\"#DejaVuSans-61\" x=\"858.300781\"/>\n",
       "       <use xlink:href=\"#DejaVuSans-73\" x=\"919.580078\"/>\n",
       "       <use xlink:href=\"#DejaVuSans-65\" x=\"971.679688\"/>\n",
       "      </g>\n",
       "     </g>\n",
       "    </g>\n",
       "    <g id=\"ytick_72\">\n",
       "     <g id=\"text_87\">\n",
       "      <!-- 1:S7-SLF2_S9-RNase -->\n",
       "      <g transform=\"translate(1045.225 60.516605)scale(0.08 -0.08)\">\n",
       "       <use xlink:href=\"#DejaVuSans-31\"/>\n",
       "       <use xlink:href=\"#DejaVuSans-3a\" x=\"63.623047\"/>\n",
       "       <use xlink:href=\"#DejaVuSans-53\" x=\"97.314453\"/>\n",
       "       <use xlink:href=\"#DejaVuSans-37\" x=\"160.791016\"/>\n",
       "       <use xlink:href=\"#DejaVuSans-2d\" x=\"224.414062\"/>\n",
       "       <use xlink:href=\"#DejaVuSans-53\" x=\"260.498047\"/>\n",
       "       <use xlink:href=\"#DejaVuSans-4c\" x=\"323.974609\"/>\n",
       "       <use xlink:href=\"#DejaVuSans-46\" x=\"379.6875\"/>\n",
       "       <use xlink:href=\"#DejaVuSans-32\" x=\"437.207031\"/>\n",
       "       <use xlink:href=\"#DejaVuSans-5f\" x=\"500.830078\"/>\n",
       "       <use xlink:href=\"#DejaVuSans-53\" x=\"550.830078\"/>\n",
       "       <use xlink:href=\"#DejaVuSans-39\" x=\"614.306641\"/>\n",
       "       <use xlink:href=\"#DejaVuSans-2d\" x=\"677.929688\"/>\n",
       "       <use xlink:href=\"#DejaVuSans-52\" x=\"714.013672\"/>\n",
       "       <use xlink:href=\"#DejaVuSans-4e\" x=\"783.496094\"/>\n",
       "       <use xlink:href=\"#DejaVuSans-61\" x=\"858.300781\"/>\n",
       "       <use xlink:href=\"#DejaVuSans-73\" x=\"919.580078\"/>\n",
       "       <use xlink:href=\"#DejaVuSans-65\" x=\"971.679688\"/>\n",
       "      </g>\n",
       "     </g>\n",
       "    </g>\n",
       "    <g id=\"ytick_73\">\n",
       "     <g id=\"text_88\">\n",
       "      <!-- 1:S11-SLF2_S9-RNase -->\n",
       "      <g transform=\"translate(1045.225 46.424713)scale(0.08 -0.08)\">\n",
       "       <use xlink:href=\"#DejaVuSans-31\"/>\n",
       "       <use xlink:href=\"#DejaVuSans-3a\" x=\"63.623047\"/>\n",
       "       <use xlink:href=\"#DejaVuSans-53\" x=\"97.314453\"/>\n",
       "       <use xlink:href=\"#DejaVuSans-31\" x=\"160.791016\"/>\n",
       "       <use xlink:href=\"#DejaVuSans-31\" x=\"224.414062\"/>\n",
       "       <use xlink:href=\"#DejaVuSans-2d\" x=\"288.037109\"/>\n",
       "       <use xlink:href=\"#DejaVuSans-53\" x=\"324.121094\"/>\n",
       "       <use xlink:href=\"#DejaVuSans-4c\" x=\"387.597656\"/>\n",
       "       <use xlink:href=\"#DejaVuSans-46\" x=\"443.310547\"/>\n",
       "       <use xlink:href=\"#DejaVuSans-32\" x=\"500.830078\"/>\n",
       "       <use xlink:href=\"#DejaVuSans-5f\" x=\"564.453125\"/>\n",
       "       <use xlink:href=\"#DejaVuSans-53\" x=\"614.453125\"/>\n",
       "       <use xlink:href=\"#DejaVuSans-39\" x=\"677.929688\"/>\n",
       "       <use xlink:href=\"#DejaVuSans-2d\" x=\"741.552734\"/>\n",
       "       <use xlink:href=\"#DejaVuSans-52\" x=\"777.636719\"/>\n",
       "       <use xlink:href=\"#DejaVuSans-4e\" x=\"847.119141\"/>\n",
       "       <use xlink:href=\"#DejaVuSans-61\" x=\"921.923828\"/>\n",
       "       <use xlink:href=\"#DejaVuSans-73\" x=\"983.203125\"/>\n",
       "       <use xlink:href=\"#DejaVuSans-65\" x=\"1035.302734\"/>\n",
       "      </g>\n",
       "     </g>\n",
       "    </g>\n",
       "    <g id=\"ytick_74\">\n",
       "     <g id=\"text_89\">\n",
       "      <!-- 1:S5-SLF2_S9-RNase -->\n",
       "      <g transform=\"translate(1045.225 32.332821)scale(0.08 -0.08)\">\n",
       "       <use xlink:href=\"#DejaVuSans-31\"/>\n",
       "       <use xlink:href=\"#DejaVuSans-3a\" x=\"63.623047\"/>\n",
       "       <use xlink:href=\"#DejaVuSans-53\" x=\"97.314453\"/>\n",
       "       <use xlink:href=\"#DejaVuSans-35\" x=\"160.791016\"/>\n",
       "       <use xlink:href=\"#DejaVuSans-2d\" x=\"224.414062\"/>\n",
       "       <use xlink:href=\"#DejaVuSans-53\" x=\"260.498047\"/>\n",
       "       <use xlink:href=\"#DejaVuSans-4c\" x=\"323.974609\"/>\n",
       "       <use xlink:href=\"#DejaVuSans-46\" x=\"379.6875\"/>\n",
       "       <use xlink:href=\"#DejaVuSans-32\" x=\"437.207031\"/>\n",
       "       <use xlink:href=\"#DejaVuSans-5f\" x=\"500.830078\"/>\n",
       "       <use xlink:href=\"#DejaVuSans-53\" x=\"550.830078\"/>\n",
       "       <use xlink:href=\"#DejaVuSans-39\" x=\"614.306641\"/>\n",
       "       <use xlink:href=\"#DejaVuSans-2d\" x=\"677.929688\"/>\n",
       "       <use xlink:href=\"#DejaVuSans-52\" x=\"714.013672\"/>\n",
       "       <use xlink:href=\"#DejaVuSans-4e\" x=\"783.496094\"/>\n",
       "       <use xlink:href=\"#DejaVuSans-61\" x=\"858.300781\"/>\n",
       "       <use xlink:href=\"#DejaVuSans-73\" x=\"919.580078\"/>\n",
       "       <use xlink:href=\"#DejaVuSans-65\" x=\"971.679688\"/>\n",
       "      </g>\n",
       "     </g>\n",
       "    </g>\n",
       "   </g>\n",
       "   <g id=\"LineCollection_7\">\n",
       "    <path d=\"M 1038.225 508.488395 \n",
       "L 1015.634706 508.488395 \n",
       "L 1015.634706 494.396503 \n",
       "L 1038.225 494.396503 \n",
       "\" clip-path=\"url(#pde0cbefb71)\" style=\"fill: none; stroke: #ff7f0e; stroke-width: 1.5\"/>\n",
       "    <path d=\"M 1038.225 522.580287 \n",
       "L 995.908318 522.580287 \n",
       "L 995.908318 501.442449 \n",
       "L 1015.634706 501.442449 \n",
       "\" clip-path=\"url(#pde0cbefb71)\" style=\"fill: none; stroke: #ff7f0e; stroke-width: 1.5\"/>\n",
       "    <path d=\"M 1038.225 480.304611 \n",
       "L 955.381712 480.304611 \n",
       "L 955.381712 466.21272 \n",
       "L 1038.225 466.21272 \n",
       "\" clip-path=\"url(#pde0cbefb71)\" style=\"fill: none; stroke: #ff7f0e; stroke-width: 1.5\"/>\n",
       "    <path d=\"M 995.908318 512.011368 \n",
       "L 867.202152 512.011368 \n",
       "L 867.202152 473.258666 \n",
       "L 955.381712 473.258666 \n",
       "\" clip-path=\"url(#pde0cbefb71)\" style=\"fill: none; stroke: #ff7f0e; stroke-width: 1.5\"/>\n",
       "    <path d=\"M 1038.225 536.672179 \n",
       "L 855.520687 536.672179 \n",
       "L 855.520687 492.635017 \n",
       "L 867.202152 492.635017 \n",
       "\" clip-path=\"url(#pde0cbefb71)\" style=\"fill: none; stroke: #ff7f0e; stroke-width: 1.5\"/>\n",
       "   </g>\n",
       "   <g id=\"LineCollection_8\">\n",
       "    <path d=\"M 1038.225 438.028936 \n",
       "L 948.225035 438.028936 \n",
       "L 948.225035 423.937044 \n",
       "L 1038.225 423.937044 \n",
       "\" clip-path=\"url(#pde0cbefb71)\" style=\"fill: none; stroke: #2ca02c; stroke-width: 1.5\"/>\n",
       "    <path d=\"M 1038.225 452.120828 \n",
       "L 878.927252 452.120828 \n",
       "L 878.927252 430.98299 \n",
       "L 948.225035 430.98299 \n",
       "\" clip-path=\"url(#pde0cbefb71)\" style=\"fill: none; stroke: #2ca02c; stroke-width: 1.5\"/>\n",
       "    <path d=\"M 1038.225 409.845152 \n",
       "L 948.225035 409.845152 \n",
       "L 948.225035 395.75326 \n",
       "L 1038.225 395.75326 \n",
       "\" clip-path=\"url(#pde0cbefb71)\" style=\"fill: none; stroke: #2ca02c; stroke-width: 1.5\"/>\n",
       "    <path d=\"M 1038.225 381.661368 \n",
       "L 948.225035 381.661368 \n",
       "L 948.225035 367.569476 \n",
       "L 1038.225 367.569476 \n",
       "\" clip-path=\"url(#pde0cbefb71)\" style=\"fill: none; stroke: #2ca02c; stroke-width: 1.5\"/>\n",
       "    <path d=\"M 948.225035 402.799206 \n",
       "L 851.785686 402.799206 \n",
       "L 851.785686 374.615422 \n",
       "L 948.225035 374.615422 \n",
       "\" clip-path=\"url(#pde0cbefb71)\" style=\"fill: none; stroke: #2ca02c; stroke-width: 1.5\"/>\n",
       "    <path d=\"M 878.927252 441.551909 \n",
       "L 818.065044 441.551909 \n",
       "L 818.065044 388.707314 \n",
       "L 851.785686 388.707314 \n",
       "\" clip-path=\"url(#pde0cbefb71)\" style=\"fill: none; stroke: #2ca02c; stroke-width: 1.5\"/>\n",
       "   </g>\n",
       "   <g id=\"LineCollection_9\">\n",
       "    <path d=\"M 1038.225 325.293801 \n",
       "L 1015.634713 325.293801 \n",
       "L 1015.634713 311.201909 \n",
       "L 1038.225 311.201909 \n",
       "\" clip-path=\"url(#pde0cbefb71)\" style=\"fill: none; stroke: #d62728; stroke-width: 1.5\"/>\n",
       "    <path d=\"M 1038.225 339.385693 \n",
       "L 996.19101 339.385693 \n",
       "L 996.19101 318.247855 \n",
       "L 1015.634713 318.247855 \n",
       "\" clip-path=\"url(#pde0cbefb71)\" style=\"fill: none; stroke: #d62728; stroke-width: 1.5\"/>\n",
       "    <path d=\"M 1038.225 353.477584 \n",
       "L 993.340734 353.477584 \n",
       "L 993.340734 328.816774 \n",
       "L 996.19101 328.816774 \n",
       "\" clip-path=\"url(#pde0cbefb71)\" style=\"fill: none; stroke: #d62728; stroke-width: 1.5\"/>\n",
       "    <path d=\"M 1038.225 283.018125 \n",
       "L 964.405069 283.018125 \n",
       "L 964.405069 268.926233 \n",
       "L 1038.225 268.926233 \n",
       "\" clip-path=\"url(#pde0cbefb71)\" style=\"fill: none; stroke: #d62728; stroke-width: 1.5\"/>\n",
       "    <path d=\"M 1038.225 297.110017 \n",
       "L 942.074125 297.110017 \n",
       "L 942.074125 275.972179 \n",
       "L 964.405069 275.972179 \n",
       "\" clip-path=\"url(#pde0cbefb71)\" style=\"fill: none; stroke: #d62728; stroke-width: 1.5\"/>\n",
       "    <path d=\"M 993.340734 341.147179 \n",
       "L 836.703154 341.147179 \n",
       "L 836.703154 286.541098 \n",
       "L 942.074125 286.541098 \n",
       "\" clip-path=\"url(#pde0cbefb71)\" style=\"fill: none; stroke: #d62728; stroke-width: 1.5\"/>\n",
       "   </g>\n",
       "   <g id=\"LineCollection_10\">\n",
       "    <path d=\"M 1038.225 226.650557 \n",
       "L 1001.332973 226.650557 \n",
       "L 1001.332973 212.558666 \n",
       "L 1038.225 212.558666 \n",
       "\" clip-path=\"url(#pde0cbefb71)\" style=\"fill: none; stroke: #9467bd; stroke-width: 1.5\"/>\n",
       "    <path d=\"M 1038.225 240.742449 \n",
       "L 993.460905 240.742449 \n",
       "L 993.460905 219.604611 \n",
       "L 1001.332973 219.604611 \n",
       "\" clip-path=\"url(#pde0cbefb71)\" style=\"fill: none; stroke: #9467bd; stroke-width: 1.5\"/>\n",
       "    <path d=\"M 1038.225 198.466774 \n",
       "L 939.58849 198.466774 \n",
       "L 939.58849 184.374882 \n",
       "L 1038.225 184.374882 \n",
       "\" clip-path=\"url(#pde0cbefb71)\" style=\"fill: none; stroke: #9467bd; stroke-width: 1.5\"/>\n",
       "    <path d=\"M 993.460905 230.17353 \n",
       "L 861.866673 230.17353 \n",
       "L 861.866673 191.420828 \n",
       "L 939.58849 191.420828 \n",
       "\" clip-path=\"url(#pde0cbefb71)\" style=\"fill: none; stroke: #9467bd; stroke-width: 1.5\"/>\n",
       "    <path d=\"M 1038.225 254.834341 \n",
       "L 832.779743 254.834341 \n",
       "L 832.779743 210.797179 \n",
       "L 861.866673 210.797179 \n",
       "\" clip-path=\"url(#pde0cbefb71)\" style=\"fill: none; stroke: #9467bd; stroke-width: 1.5\"/>\n",
       "   </g>\n",
       "   <g id=\"LineCollection_11\">\n",
       "    <path d=\"M 1038.225 156.191098 \n",
       "L 999.73429 156.191098 \n",
       "L 999.73429 142.099206 \n",
       "L 1038.225 142.099206 \n",
       "\" clip-path=\"url(#pde0cbefb71)\" style=\"fill: none; stroke: #8c564b; stroke-width: 1.5\"/>\n",
       "    <path d=\"M 1038.225 170.28299 \n",
       "L 993.278923 170.28299 \n",
       "L 993.278923 149.145152 \n",
       "L 999.73429 149.145152 \n",
       "\" clip-path=\"url(#pde0cbefb71)\" style=\"fill: none; stroke: #8c564b; stroke-width: 1.5\"/>\n",
       "    <path d=\"M 1038.225 128.007314 \n",
       "L 964.405076 128.007314 \n",
       "L 964.405076 113.915422 \n",
       "L 1038.225 113.915422 \n",
       "\" clip-path=\"url(#pde0cbefb71)\" style=\"fill: none; stroke: #8c564b; stroke-width: 1.5\"/>\n",
       "    <path d=\"M 993.278923 159.714071 \n",
       "L 866.353194 159.714071 \n",
       "L 866.353194 120.961368 \n",
       "L 964.405076 120.961368 \n",
       "\" clip-path=\"url(#pde0cbefb71)\" style=\"fill: none; stroke: #8c564b; stroke-width: 1.5\"/>\n",
       "    <path d=\"M 1038.225 85.731639 \n",
       "L 1015.634709 85.731639 \n",
       "L 1015.634709 71.639747 \n",
       "L 1038.225 71.639747 \n",
       "\" clip-path=\"url(#pde0cbefb71)\" style=\"fill: none; stroke: #8c564b; stroke-width: 1.5\"/>\n",
       "    <path d=\"M 1038.225 99.82353 \n",
       "L 996.190919 99.82353 \n",
       "L 996.190919 78.685693 \n",
       "L 1015.634709 78.685693 \n",
       "\" clip-path=\"url(#pde0cbefb71)\" style=\"fill: none; stroke: #8c564b; stroke-width: 1.5\"/>\n",
       "    <path d=\"M 1038.225 43.455963 \n",
       "L 964.405075 43.455963 \n",
       "L 964.405075 29.364071 \n",
       "L 1038.225 29.364071 \n",
       "\" clip-path=\"url(#pde0cbefb71)\" style=\"fill: none; stroke: #8c564b; stroke-width: 1.5\"/>\n",
       "    <path d=\"M 1038.225 57.547855 \n",
       "L 942.074136 57.547855 \n",
       "L 942.074136 36.410017 \n",
       "L 964.405075 36.410017 \n",
       "\" clip-path=\"url(#pde0cbefb71)\" style=\"fill: none; stroke: #8c564b; stroke-width: 1.5\"/>\n",
       "    <path d=\"M 996.190919 89.254611 \n",
       "L 848.587143 89.254611 \n",
       "L 848.587143 46.978936 \n",
       "L 942.074136 46.978936 \n",
       "\" clip-path=\"url(#pde0cbefb71)\" style=\"fill: none; stroke: #8c564b; stroke-width: 1.5\"/>\n",
       "    <path d=\"M 866.353194 140.33772 \n",
       "L 740.151403 140.33772 \n",
       "L 740.151403 68.116774 \n",
       "L 848.587143 68.116774 \n",
       "\" clip-path=\"url(#pde0cbefb71)\" style=\"fill: none; stroke: #8c564b; stroke-width: 1.5\"/>\n",
       "   </g>\n",
       "   <g id=\"LineCollection_12\">\n",
       "    <path d=\"M 832.779743 232.81576 \n",
       "L 711.908794 232.81576 \n",
       "L 711.908794 104.227247 \n",
       "L 740.151403 104.227247 \n",
       "\" clip-path=\"url(#pde0cbefb71)\" style=\"fill: none; stroke: #1f77b4; stroke-width: 1.5\"/>\n",
       "    <path d=\"M 836.703154 313.844139 \n",
       "L 661.204301 313.844139 \n",
       "L 661.204301 168.521503 \n",
       "L 711.908794 168.521503 \n",
       "\" clip-path=\"url(#pde0cbefb71)\" style=\"fill: none; stroke: #1f77b4; stroke-width: 1.5\"/>\n",
       "    <path d=\"M 818.065044 415.129611 \n",
       "L 625.182709 415.129611 \n",
       "L 625.182709 241.182821 \n",
       "L 661.204301 241.182821 \n",
       "\" clip-path=\"url(#pde0cbefb71)\" style=\"fill: none; stroke: #1f77b4; stroke-width: 1.5\"/>\n",
       "    <path d=\"M 855.520687 514.653598 \n",
       "L 599.725 514.653598 \n",
       "L 599.725 328.156216 \n",
       "L 625.182709 328.156216 \n",
       "\" clip-path=\"url(#pde0cbefb71)\" style=\"fill: none; stroke: #1f77b4; stroke-width: 1.5\"/>\n",
       "   </g>\n",
       "   <g id=\"patch_8\">\n",
       "    <path d=\"M 577.8 543.718125 \n",
       "L 577.8 22.318125 \n",
       "\" style=\"fill: none; stroke: #000000; stroke-width: 0.8; stroke-linejoin: miter; stroke-linecap: square\"/>\n",
       "   </g>\n",
       "   <g id=\"patch_9\">\n",
       "    <path d=\"M 1038.225 543.718125 \n",
       "L 1038.225 22.318125 \n",
       "\" style=\"fill: none; stroke: #000000; stroke-width: 0.8; stroke-linejoin: miter; stroke-linecap: square\"/>\n",
       "   </g>\n",
       "   <g id=\"patch_10\">\n",
       "    <path d=\"M 577.8 543.718125 \n",
       "L 1038.225 543.718125 \n",
       "\" style=\"fill: none; stroke: #000000; stroke-width: 0.8; stroke-linejoin: miter; stroke-linecap: square\"/>\n",
       "   </g>\n",
       "   <g id=\"patch_11\">\n",
       "    <path d=\"M 577.8 22.318125 \n",
       "L 1038.225 22.318125 \n",
       "\" style=\"fill: none; stroke: #000000; stroke-width: 0.8; stroke-linejoin: miter; stroke-linecap: square\"/>\n",
       "   </g>\n",
       "   <g id=\"text_90\">\n",
       "    <!-- before -->\n",
       "    <g transform=\"translate(788.704687 16.318125)scale(0.12 -0.12)\">\n",
       "     <defs>\n",
       "      <path id=\"DejaVuSans-62\" d=\"M 3116 1747 \n",
       "Q 3116 2381 2855 2742 \n",
       "Q 2594 3103 2138 3103 \n",
       "Q 1681 3103 1420 2742 \n",
       "Q 1159 2381 1159 1747 \n",
       "Q 1159 1113 1420 752 \n",
       "Q 1681 391 2138 391 \n",
       "Q 2594 391 2855 752 \n",
       "Q 3116 1113 3116 1747 \n",
       "z\n",
       "M 1159 2969 \n",
       "Q 1341 3281 1617 3432 \n",
       "Q 1894 3584 2278 3584 \n",
       "Q 2916 3584 3314 3078 \n",
       "Q 3713 2572 3713 1747 \n",
       "Q 3713 922 3314 415 \n",
       "Q 2916 -91 2278 -91 \n",
       "Q 1894 -91 1617 61 \n",
       "Q 1341 213 1159 525 \n",
       "L 1159 0 \n",
       "L 581 0 \n",
       "L 581 4863 \n",
       "L 1159 4863 \n",
       "L 1159 2969 \n",
       "z\n",
       "\" transform=\"scale(0.015625)\"/>\n",
       "      <path id=\"DejaVuSans-6f\" d=\"M 1959 3097 \n",
       "Q 1497 3097 1228 2736 \n",
       "Q 959 2375 959 1747 \n",
       "Q 959 1119 1226 758 \n",
       "Q 1494 397 1959 397 \n",
       "Q 2419 397 2687 759 \n",
       "Q 2956 1122 2956 1747 \n",
       "Q 2956 2369 2687 2733 \n",
       "Q 2419 3097 1959 3097 \n",
       "z\n",
       "M 1959 3584 \n",
       "Q 2709 3584 3137 3096 \n",
       "Q 3566 2609 3566 1747 \n",
       "Q 3566 888 3137 398 \n",
       "Q 2709 -91 1959 -91 \n",
       "Q 1206 -91 779 398 \n",
       "Q 353 888 353 1747 \n",
       "Q 353 2609 779 3096 \n",
       "Q 1206 3584 1959 3584 \n",
       "z\n",
       "\" transform=\"scale(0.015625)\"/>\n",
       "     </defs>\n",
       "     <use xlink:href=\"#DejaVuSans-62\"/>\n",
       "     <use xlink:href=\"#DejaVuSans-65\" x=\"63.476562\"/>\n",
       "     <use xlink:href=\"#DejaVuSans-66\" x=\"125\"/>\n",
       "     <use xlink:href=\"#DejaVuSans-6f\" x=\"160.205078\"/>\n",
       "     <use xlink:href=\"#DejaVuSans-72\" x=\"221.386719\"/>\n",
       "     <use xlink:href=\"#DejaVuSans-65\" x=\"260.25\"/>\n",
       "    </g>\n",
       "   </g>\n",
       "  </g>\n",
       " </g>\n",
       " <defs>\n",
       "  <clipPath id=\"pbb4a409726\">\n",
       "   <rect x=\"7.2\" y=\"22.318125\" width=\"460.425\" height=\"521.4\"/>\n",
       "  </clipPath>\n",
       "  <clipPath id=\"pde0cbefb71\">\n",
       "   <rect x=\"577.8\" y=\"22.318125\" width=\"460.425\" height=\"521.4\"/>\n",
       "  </clipPath>\n",
       " </defs>\n",
       "</svg>\n"
      ],
      "text/plain": [
       "<Figure size 1152x576 with 2 Axes>"
      ]
     },
     "metadata": {
      "needs_background": "light"
     },
     "output_type": "display_data"
    }
   ],
   "source": [
    "fig, (ax1, ax2) = plt.subplots(1, 2, figsize=(16, 8))\n",
    "plot_dendrogram(model(esm_emb), name_label_dict,ax=ax1)\n",
    "ax1.set_title(\"after\")\n",
    "plot_dendrogram(esm_emb, name_label_dict,ax=ax2)\n",
    "ax2.set_title(\"before\")\n",
    "fig.tight_layout()"
   ]
  },
  {
   "cell_type": "code",
   "execution_count": 24,
   "metadata": {},
   "outputs": [
    {
     "data": {
      "image/png": "[encoded data removed]",
      "image/svg+xml": [
       "<?xml version=\"1.0\" encoding=\"utf-8\" standalone=\"no\"?>\n",
       "<!DOCTYPE svg PUBLIC \"-//W3C//DTD SVG 1.1//EN\"\n",
       "  \"http://www.w3.org/Graphics/SVG/1.1/DTD/svg11.dtd\">\n",
       "<svg xmlns:xlink=\"http://www.w3.org/1999/xlink\" width=\"560.63875pt\" height=\"846.478125pt\" viewBox=\"0 0 560.63875 846.478125\" xmlns=\"http://www.w3.org/2000/svg\" version=\"1.1\">\n",
       " <metadata>\n",
       "  <rdf:RDF xmlns:dc=\"http://purl.org/dc/elements/1.1/\" xmlns:cc=\"http://creativecommons.org/ns#\" xmlns:rdf=\"http://www.w3.org/1999/02/22-rdf-syntax-ns#\">\n",
       "   <cc:Work>\n",
       "    <dc:type rdf:resource=\"http://purl.org/dc/dcmitype/StillImage\"/>\n",
       "    <dc:date>2023-04-15T15:13:37.811522</dc:date>\n",
       "    <dc:format>image/svg+xml</dc:format>\n",
       "    <dc:creator>\n",
       "     <cc:Agent>\n",
       "      <dc:title>Matplotlib v3.5.2, https://matplotlib.org/</dc:title>\n",
       "     </cc:Agent>\n",
       "    </dc:creator>\n",
       "   </cc:Work>\n",
       "  </rdf:RDF>\n",
       " </metadata>\n",
       " <defs>\n",
       "  <style type=\"text/css\">*{stroke-linejoin: round; stroke-linecap: butt}</style>\n",
       " </defs>\n",
       " <g id=\"figure_1\">\n",
       "  <g id=\"patch_1\">\n",
       "   <path d=\"M 0 846.478125 \n",
       "L 560.63875 846.478125 \n",
       "L 560.63875 -0 \n",
       "L 0 -0 \n",
       "L 0 846.478125 \n",
       "z\n",
       "\" style=\"fill: none\"/>\n",
       "  </g>\n",
       "  <g id=\"axes_1\">\n",
       "   <g id=\"patch_2\">\n",
       "    <path d=\"M 7.2 822.6 \n",
       "L 453.6 822.6 \n",
       "L 453.6 7.2 \n",
       "L 7.2 7.2 \n",
       "z\n",
       "\" style=\"fill: #ffffff\"/>\n",
       "   </g>\n",
       "   <g id=\"matplotlib.axis_1\">\n",
       "    <g id=\"xtick_1\">\n",
       "     <g id=\"line2d_1\">\n",
       "      <defs>\n",
       "       <path id=\"m2b30cab662\" d=\"M 0 0 \n",
       "L 0 3.5 \n",
       "\" style=\"stroke: #000000; stroke-width: 0.8\"/>\n",
       "      </defs>\n",
       "      <g>\n",
       "       <use xlink:href=\"#m2b30cab662\" x=\"453.6\" y=\"822.6\" style=\"stroke: #000000; stroke-width: 0.8\"/>\n",
       "      </g>\n",
       "     </g>\n",
       "     <g id=\"text_1\">\n",
       "      <!-- 0.0 -->\n",
       "      <g transform=\"translate(445.648437 837.198437)scale(0.1 -0.1)\">\n",
       "       <defs>\n",
       "        <path id=\"DejaVuSans-30\" d=\"M 2034 4250 \n",
       "Q 1547 4250 1301 3770 \n",
       "Q 1056 3291 1056 2328 \n",
       "Q 1056 1369 1301 889 \n",
       "Q 1547 409 2034 409 \n",
       "Q 2525 409 2770 889 \n",
       "Q 3016 1369 3016 2328 \n",
       "Q 3016 3291 2770 3770 \n",
       "Q 2525 4250 2034 4250 \n",
       "z\n",
       "M 2034 4750 \n",
       "Q 2819 4750 3233 4129 \n",
       "Q 3647 3509 3647 2328 \n",
       "Q 3647 1150 3233 529 \n",
       "Q 2819 -91 2034 -91 \n",
       "Q 1250 -91 836 529 \n",
       "Q 422 1150 422 2328 \n",
       "Q 422 3509 836 4129 \n",
       "Q 1250 4750 2034 4750 \n",
       "z\n",
       "\" transform=\"scale(0.015625)\"/>\n",
       "        <path id=\"DejaVuSans-2e\" d=\"M 684 794 \n",
       "L 1344 794 \n",
       "L 1344 0 \n",
       "L 684 0 \n",
       "L 684 794 \n",
       "z\n",
       "\" transform=\"scale(0.015625)\"/>\n",
       "       </defs>\n",
       "       <use xlink:href=\"#DejaVuSans-30\"/>\n",
       "       <use xlink:href=\"#DejaVuSans-2e\" x=\"63.623047\"/>\n",
       "       <use xlink:href=\"#DejaVuSans-30\" x=\"95.410156\"/>\n",
       "      </g>\n",
       "     </g>\n",
       "    </g>\n",
       "    <g id=\"xtick_2\">\n",
       "     <g id=\"line2d_2\">\n",
       "      <g>\n",
       "       <use xlink:href=\"#m2b30cab662\" x=\"386.811295\" y=\"822.6\" style=\"stroke: #000000; stroke-width: 0.8\"/>\n",
       "      </g>\n",
       "     </g>\n",
       "     <g id=\"text_2\">\n",
       "      <!-- 0.2 -->\n",
       "      <g transform=\"translate(378.859732 837.198437)scale(0.1 -0.1)\">\n",
       "       <defs>\n",
       "        <path id=\"DejaVuSans-32\" d=\"M 1228 531 \n",
       "L 3431 531 \n",
       "L 3431 0 \n",
       "L 469 0 \n",
       "L 469 531 \n",
       "Q 828 903 1448 1529 \n",
       "Q 2069 2156 2228 2338 \n",
       "Q 2531 2678 2651 2914 \n",
       "Q 2772 3150 2772 3378 \n",
       "Q 2772 3750 2511 3984 \n",
       "Q 2250 4219 1831 4219 \n",
       "Q 1534 4219 1204 4116 \n",
       "Q 875 4013 500 3803 \n",
       "L 500 4441 \n",
       "Q 881 4594 1212 4672 \n",
       "Q 1544 4750 1819 4750 \n",
       "Q 2544 4750 2975 4387 \n",
       "Q 3406 4025 3406 3419 \n",
       "Q 3406 3131 3298 2873 \n",
       "Q 3191 2616 2906 2266 \n",
       "Q 2828 2175 2409 1742 \n",
       "Q 1991 1309 1228 531 \n",
       "z\n",
       "\" transform=\"scale(0.015625)\"/>\n",
       "       </defs>\n",
       "       <use xlink:href=\"#DejaVuSans-30\"/>\n",
       "       <use xlink:href=\"#DejaVuSans-2e\" x=\"63.623047\"/>\n",
       "       <use xlink:href=\"#DejaVuSans-32\" x=\"95.410156\"/>\n",
       "      </g>\n",
       "     </g>\n",
       "    </g>\n",
       "    <g id=\"xtick_3\">\n",
       "     <g id=\"line2d_3\">\n",
       "      <g>\n",
       "       <use xlink:href=\"#m2b30cab662\" x=\"320.022589\" y=\"822.6\" style=\"stroke: #000000; stroke-width: 0.8\"/>\n",
       "      </g>\n",
       "     </g>\n",
       "     <g id=\"text_3\">\n",
       "      <!-- 0.4 -->\n",
       "      <g transform=\"translate(312.071027 837.198437)scale(0.1 -0.1)\">\n",
       "       <defs>\n",
       "        <path id=\"DejaVuSans-34\" d=\"M 2419 4116 \n",
       "L 825 1625 \n",
       "L 2419 1625 \n",
       "L 2419 4116 \n",
       "z\n",
       "M 2253 4666 \n",
       "L 3047 4666 \n",
       "L 3047 1625 \n",
       "L 3713 1625 \n",
       "L 3713 1100 \n",
       "L 3047 1100 \n",
       "L 3047 0 \n",
       "L 2419 0 \n",
       "L 2419 1100 \n",
       "L 313 1100 \n",
       "L 313 1709 \n",
       "L 2253 4666 \n",
       "z\n",
       "\" transform=\"scale(0.015625)\"/>\n",
       "       </defs>\n",
       "       <use xlink:href=\"#DejaVuSans-30\"/>\n",
       "       <use xlink:href=\"#DejaVuSans-2e\" x=\"63.623047\"/>\n",
       "       <use xlink:href=\"#DejaVuSans-34\" x=\"95.410156\"/>\n",
       "      </g>\n",
       "     </g>\n",
       "    </g>\n",
       "    <g id=\"xtick_4\">\n",
       "     <g id=\"line2d_4\">\n",
       "      <g>\n",
       "       <use xlink:href=\"#m2b30cab662\" x=\"253.233884\" y=\"822.6\" style=\"stroke: #000000; stroke-width: 0.8\"/>\n",
       "      </g>\n",
       "     </g>\n",
       "     <g id=\"text_4\">\n",
       "      <!-- 0.6 -->\n",
       "      <g transform=\"translate(245.282322 837.198437)scale(0.1 -0.1)\">\n",
       "       <defs>\n",
       "        <path id=\"DejaVuSans-36\" d=\"M 2113 2584 \n",
       "Q 1688 2584 1439 2293 \n",
       "Q 1191 2003 1191 1497 \n",
       "Q 1191 994 1439 701 \n",
       "Q 1688 409 2113 409 \n",
       "Q 2538 409 2786 701 \n",
       "Q 3034 994 3034 1497 \n",
       "Q 3034 2003 2786 2293 \n",
       "Q 2538 2584 2113 2584 \n",
       "z\n",
       "M 3366 4563 \n",
       "L 3366 3988 \n",
       "Q 3128 4100 2886 4159 \n",
       "Q 2644 4219 2406 4219 \n",
       "Q 1781 4219 1451 3797 \n",
       "Q 1122 3375 1075 2522 \n",
       "Q 1259 2794 1537 2939 \n",
       "Q 1816 3084 2150 3084 \n",
       "Q 2853 3084 3261 2657 \n",
       "Q 3669 2231 3669 1497 \n",
       "Q 3669 778 3244 343 \n",
       "Q 2819 -91 2113 -91 \n",
       "Q 1303 -91 875 529 \n",
       "Q 447 1150 447 2328 \n",
       "Q 447 3434 972 4092 \n",
       "Q 1497 4750 2381 4750 \n",
       "Q 2619 4750 2861 4703 \n",
       "Q 3103 4656 3366 4563 \n",
       "z\n",
       "\" transform=\"scale(0.015625)\"/>\n",
       "       </defs>\n",
       "       <use xlink:href=\"#DejaVuSans-30\"/>\n",
       "       <use xlink:href=\"#DejaVuSans-2e\" x=\"63.623047\"/>\n",
       "       <use xlink:href=\"#DejaVuSans-36\" x=\"95.410156\"/>\n",
       "      </g>\n",
       "     </g>\n",
       "    </g>\n",
       "    <g id=\"xtick_5\">\n",
       "     <g id=\"line2d_5\">\n",
       "      <g>\n",
       "       <use xlink:href=\"#m2b30cab662\" x=\"186.445179\" y=\"822.6\" style=\"stroke: #000000; stroke-width: 0.8\"/>\n",
       "      </g>\n",
       "     </g>\n",
       "     <g id=\"text_5\">\n",
       "      <!-- 0.8 -->\n",
       "      <g transform=\"translate(178.493616 837.198437)scale(0.1 -0.1)\">\n",
       "       <defs>\n",
       "        <path id=\"DejaVuSans-38\" d=\"M 2034 2216 \n",
       "Q 1584 2216 1326 1975 \n",
       "Q 1069 1734 1069 1313 \n",
       "Q 1069 891 1326 650 \n",
       "Q 1584 409 2034 409 \n",
       "Q 2484 409 2743 651 \n",
       "Q 3003 894 3003 1313 \n",
       "Q 3003 1734 2745 1975 \n",
       "Q 2488 2216 2034 2216 \n",
       "z\n",
       "M 1403 2484 \n",
       "Q 997 2584 770 2862 \n",
       "Q 544 3141 544 3541 \n",
       "Q 544 4100 942 4425 \n",
       "Q 1341 4750 2034 4750 \n",
       "Q 2731 4750 3128 4425 \n",
       "Q 3525 4100 3525 3541 \n",
       "Q 3525 3141 3298 2862 \n",
       "Q 3072 2584 2669 2484 \n",
       "Q 3125 2378 3379 2068 \n",
       "Q 3634 1759 3634 1313 \n",
       "Q 3634 634 3220 271 \n",
       "Q 2806 -91 2034 -91 \n",
       "Q 1263 -91 848 271 \n",
       "Q 434 634 434 1313 \n",
       "Q 434 1759 690 2068 \n",
       "Q 947 2378 1403 2484 \n",
       "z\n",
       "M 1172 3481 \n",
       "Q 1172 3119 1398 2916 \n",
       "Q 1625 2713 2034 2713 \n",
       "Q 2441 2713 2670 2916 \n",
       "Q 2900 3119 2900 3481 \n",
       "Q 2900 3844 2670 4047 \n",
       "Q 2441 4250 2034 4250 \n",
       "Q 1625 4250 1398 4047 \n",
       "Q 1172 3844 1172 3481 \n",
       "z\n",
       "\" transform=\"scale(0.015625)\"/>\n",
       "       </defs>\n",
       "       <use xlink:href=\"#DejaVuSans-30\"/>\n",
       "       <use xlink:href=\"#DejaVuSans-2e\" x=\"63.623047\"/>\n",
       "       <use xlink:href=\"#DejaVuSans-38\" x=\"95.410156\"/>\n",
       "      </g>\n",
       "     </g>\n",
       "    </g>\n",
       "    <g id=\"xtick_6\">\n",
       "     <g id=\"line2d_6\">\n",
       "      <g>\n",
       "       <use xlink:href=\"#m2b30cab662\" x=\"119.656474\" y=\"822.6\" style=\"stroke: #000000; stroke-width: 0.8\"/>\n",
       "      </g>\n",
       "     </g>\n",
       "     <g id=\"text_6\">\n",
       "      <!-- 1.0 -->\n",
       "      <g transform=\"translate(111.704911 837.198437)scale(0.1 -0.1)\">\n",
       "       <defs>\n",
       "        <path id=\"DejaVuSans-31\" d=\"M 794 531 \n",
       "L 1825 531 \n",
       "L 1825 4091 \n",
       "L 703 3866 \n",
       "L 703 4441 \n",
       "L 1819 4666 \n",
       "L 2450 4666 \n",
       "L 2450 531 \n",
       "L 3481 531 \n",
       "L 3481 0 \n",
       "L 794 0 \n",
       "L 794 531 \n",
       "z\n",
       "\" transform=\"scale(0.015625)\"/>\n",
       "       </defs>\n",
       "       <use xlink:href=\"#DejaVuSans-31\"/>\n",
       "       <use xlink:href=\"#DejaVuSans-2e\" x=\"63.623047\"/>\n",
       "       <use xlink:href=\"#DejaVuSans-30\" x=\"95.410156\"/>\n",
       "      </g>\n",
       "     </g>\n",
       "    </g>\n",
       "    <g id=\"xtick_7\">\n",
       "     <g id=\"line2d_7\">\n",
       "      <g>\n",
       "       <use xlink:href=\"#m2b30cab662\" x=\"52.867768\" y=\"822.6\" style=\"stroke: #000000; stroke-width: 0.8\"/>\n",
       "      </g>\n",
       "     </g>\n",
       "     <g id=\"text_7\">\n",
       "      <!-- 1.2 -->\n",
       "      <g transform=\"translate(44.916206 837.198437)scale(0.1 -0.1)\">\n",
       "       <use xlink:href=\"#DejaVuSans-31\"/>\n",
       "       <use xlink:href=\"#DejaVuSans-2e\" x=\"63.623047\"/>\n",
       "       <use xlink:href=\"#DejaVuSans-32\" x=\"95.410156\"/>\n",
       "      </g>\n",
       "     </g>\n",
       "    </g>\n",
       "   </g>\n",
       "   <g id=\"matplotlib.axis_2\">\n",
       "    <g id=\"ytick_1\">\n",
       "     <g id=\"text_8\">\n",
       "      <!-- 0:S7-SLF3_S11-RNase -->\n",
       "      <g transform=\"translate(460.6 814.549831)scale(0.08 -0.08)\">\n",
       "       <defs>\n",
       "        <path id=\"DejaVuSans-3a\" d=\"M 750 794 \n",
       "L 1409 794 \n",
       "L 1409 0 \n",
       "L 750 0 \n",
       "L 750 794 \n",
       "z\n",
       "M 750 3309 \n",
       "L 1409 3309 \n",
       "L 1409 2516 \n",
       "L 750 2516 \n",
       "L 750 3309 \n",
       "z\n",
       "\" transform=\"scale(0.015625)\"/>\n",
       "        <path id=\"DejaVuSans-53\" d=\"M 3425 4513 \n",
       "L 3425 3897 \n",
       "Q 3066 4069 2747 4153 \n",
       "Q 2428 4238 2131 4238 \n",
       "Q 1616 4238 1336 4038 \n",
       "Q 1056 3838 1056 3469 \n",
       "Q 1056 3159 1242 3001 \n",
       "Q 1428 2844 1947 2747 \n",
       "L 2328 2669 \n",
       "Q 3034 2534 3370 2195 \n",
       "Q 3706 1856 3706 1288 \n",
       "Q 3706 609 3251 259 \n",
       "Q 2797 -91 1919 -91 \n",
       "Q 1588 -91 1214 -16 \n",
       "Q 841 59 441 206 \n",
       "L 441 856 \n",
       "Q 825 641 1194 531 \n",
       "Q 1563 422 1919 422 \n",
       "Q 2459 422 2753 634 \n",
       "Q 3047 847 3047 1241 \n",
       "Q 3047 1584 2836 1778 \n",
       "Q 2625 1972 2144 2069 \n",
       "L 1759 2144 \n",
       "Q 1053 2284 737 2584 \n",
       "Q 422 2884 422 3419 \n",
       "Q 422 4038 858 4394 \n",
       "Q 1294 4750 2059 4750 \n",
       "Q 2388 4750 2728 4690 \n",
       "Q 3069 4631 3425 4513 \n",
       "z\n",
       "\" transform=\"scale(0.015625)\"/>\n",
       "        <path id=\"DejaVuSans-37\" d=\"M 525 4666 \n",
       "L 3525 4666 \n",
       "L 3525 4397 \n",
       "L 1831 0 \n",
       "L 1172 0 \n",
       "L 2766 4134 \n",
       "L 525 4134 \n",
       "L 525 4666 \n",
       "z\n",
       "\" transform=\"scale(0.015625)\"/>\n",
       "        <path id=\"DejaVuSans-2d\" d=\"M 313 2009 \n",
       "L 1997 2009 \n",
       "L 1997 1497 \n",
       "L 313 1497 \n",
       "L 313 2009 \n",
       "z\n",
       "\" transform=\"scale(0.015625)\"/>\n",
       "        <path id=\"DejaVuSans-4c\" d=\"M 628 4666 \n",
       "L 1259 4666 \n",
       "L 1259 531 \n",
       "L 3531 531 \n",
       "L 3531 0 \n",
       "L 628 0 \n",
       "L 628 4666 \n",
       "z\n",
       "\" transform=\"scale(0.015625)\"/>\n",
       "        <path id=\"DejaVuSans-46\" d=\"M 628 4666 \n",
       "L 3309 4666 \n",
       "L 3309 4134 \n",
       "L 1259 4134 \n",
       "L 1259 2759 \n",
       "L 3109 2759 \n",
       "L 3109 2228 \n",
       "L 1259 2228 \n",
       "L 1259 0 \n",
       "L 628 0 \n",
       "L 628 4666 \n",
       "z\n",
       "\" transform=\"scale(0.015625)\"/>\n",
       "        <path id=\"DejaVuSans-33\" d=\"M 2597 2516 \n",
       "Q 3050 2419 3304 2112 \n",
       "Q 3559 1806 3559 1356 \n",
       "Q 3559 666 3084 287 \n",
       "Q 2609 -91 1734 -91 \n",
       "Q 1441 -91 1130 -33 \n",
       "Q 819 25 488 141 \n",
       "L 488 750 \n",
       "Q 750 597 1062 519 \n",
       "Q 1375 441 1716 441 \n",
       "Q 2309 441 2620 675 \n",
       "Q 2931 909 2931 1356 \n",
       "Q 2931 1769 2642 2001 \n",
       "Q 2353 2234 1838 2234 \n",
       "L 1294 2234 \n",
       "L 1294 2753 \n",
       "L 1863 2753 \n",
       "Q 2328 2753 2575 2939 \n",
       "Q 2822 3125 2822 3475 \n",
       "Q 2822 3834 2567 4026 \n",
       "Q 2313 4219 1838 4219 \n",
       "Q 1578 4219 1281 4162 \n",
       "Q 984 4106 628 3988 \n",
       "L 628 4550 \n",
       "Q 988 4650 1302 4700 \n",
       "Q 1616 4750 1894 4750 \n",
       "Q 2613 4750 3031 4423 \n",
       "Q 3450 4097 3450 3541 \n",
       "Q 3450 3153 3228 2886 \n",
       "Q 3006 2619 2597 2516 \n",
       "z\n",
       "\" transform=\"scale(0.015625)\"/>\n",
       "        <path id=\"DejaVuSans-5f\" d=\"M 3263 -1063 \n",
       "L 3263 -1509 \n",
       "L -63 -1509 \n",
       "L -63 -1063 \n",
       "L 3263 -1063 \n",
       "z\n",
       "\" transform=\"scale(0.015625)\"/>\n",
       "        <path id=\"DejaVuSans-52\" d=\"M 2841 2188 \n",
       "Q 3044 2119 3236 1894 \n",
       "Q 3428 1669 3622 1275 \n",
       "L 4263 0 \n",
       "L 3584 0 \n",
       "L 2988 1197 \n",
       "Q 2756 1666 2539 1819 \n",
       "Q 2322 1972 1947 1972 \n",
       "L 1259 1972 \n",
       "L 1259 0 \n",
       "L 628 0 \n",
       "L 628 4666 \n",
       "L 2053 4666 \n",
       "Q 2853 4666 3247 4331 \n",
       "Q 3641 3997 3641 3322 \n",
       "Q 3641 2881 3436 2590 \n",
       "Q 3231 2300 2841 2188 \n",
       "z\n",
       "M 1259 4147 \n",
       "L 1259 2491 \n",
       "L 2053 2491 \n",
       "Q 2509 2491 2742 2702 \n",
       "Q 2975 2913 2975 3322 \n",
       "Q 2975 3731 2742 3939 \n",
       "Q 2509 4147 2053 4147 \n",
       "L 1259 4147 \n",
       "z\n",
       "\" transform=\"scale(0.015625)\"/>\n",
       "        <path id=\"DejaVuSans-4e\" d=\"M 628 4666 \n",
       "L 1478 4666 \n",
       "L 3547 763 \n",
       "L 3547 4666 \n",
       "L 4159 4666 \n",
       "L 4159 0 \n",
       "L 3309 0 \n",
       "L 1241 3903 \n",
       "L 1241 0 \n",
       "L 628 0 \n",
       "L 628 4666 \n",
       "z\n",
       "\" transform=\"scale(0.015625)\"/>\n",
       "        <path id=\"DejaVuSans-61\" d=\"M 2194 1759 \n",
       "Q 1497 1759 1228 1600 \n",
       "Q 959 1441 959 1056 \n",
       "Q 959 750 1161 570 \n",
       "Q 1363 391 1709 391 \n",
       "Q 2188 391 2477 730 \n",
       "Q 2766 1069 2766 1631 \n",
       "L 2766 1759 \n",
       "L 2194 1759 \n",
       "z\n",
       "M 3341 1997 \n",
       "L 3341 0 \n",
       "L 2766 0 \n",
       "L 2766 531 \n",
       "Q 2569 213 2275 61 \n",
       "Q 1981 -91 1556 -91 \n",
       "Q 1019 -91 701 211 \n",
       "Q 384 513 384 1019 \n",
       "Q 384 1609 779 1909 \n",
       "Q 1175 2209 1959 2209 \n",
       "L 2766 2209 \n",
       "L 2766 2266 \n",
       "Q 2766 2663 2505 2880 \n",
       "Q 2244 3097 1772 3097 \n",
       "Q 1472 3097 1187 3025 \n",
       "Q 903 2953 641 2809 \n",
       "L 641 3341 \n",
       "Q 956 3463 1253 3523 \n",
       "Q 1550 3584 1831 3584 \n",
       "Q 2591 3584 2966 3190 \n",
       "Q 3341 2797 3341 1997 \n",
       "z\n",
       "\" transform=\"scale(0.015625)\"/>\n",
       "        <path id=\"DejaVuSans-73\" d=\"M 2834 3397 \n",
       "L 2834 2853 \n",
       "Q 2591 2978 2328 3040 \n",
       "Q 2066 3103 1784 3103 \n",
       "Q 1356 3103 1142 2972 \n",
       "Q 928 2841 928 2578 \n",
       "Q 928 2378 1081 2264 \n",
       "Q 1234 2150 1697 2047 \n",
       "L 1894 2003 \n",
       "Q 2506 1872 2764 1633 \n",
       "Q 3022 1394 3022 966 \n",
       "Q 3022 478 2636 193 \n",
       "Q 2250 -91 1575 -91 \n",
       "Q 1294 -91 989 -36 \n",
       "Q 684 19 347 128 \n",
       "L 347 722 \n",
       "Q 666 556 975 473 \n",
       "Q 1284 391 1588 391 \n",
       "Q 1994 391 2212 530 \n",
       "Q 2431 669 2431 922 \n",
       "Q 2431 1156 2273 1281 \n",
       "Q 2116 1406 1581 1522 \n",
       "L 1381 1569 \n",
       "Q 847 1681 609 1914 \n",
       "Q 372 2147 372 2553 \n",
       "Q 372 3047 722 3315 \n",
       "Q 1072 3584 1716 3584 \n",
       "Q 2034 3584 2315 3537 \n",
       "Q 2597 3491 2834 3397 \n",
       "z\n",
       "\" transform=\"scale(0.015625)\"/>\n",
       "        <path id=\"DejaVuSans-65\" d=\"M 3597 1894 \n",
       "L 3597 1613 \n",
       "L 953 1613 \n",
       "Q 991 1019 1311 708 \n",
       "Q 1631 397 2203 397 \n",
       "Q 2534 397 2845 478 \n",
       "Q 3156 559 3463 722 \n",
       "L 3463 178 \n",
       "Q 3153 47 2828 -22 \n",
       "Q 2503 -91 2169 -91 \n",
       "Q 1331 -91 842 396 \n",
       "Q 353 884 353 1716 \n",
       "Q 353 2575 817 3079 \n",
       "Q 1281 3584 2069 3584 \n",
       "Q 2775 3584 3186 3129 \n",
       "Q 3597 2675 3597 1894 \n",
       "z\n",
       "M 3022 2063 \n",
       "Q 3016 2534 2758 2815 \n",
       "Q 2500 3097 2075 3097 \n",
       "Q 1594 3097 1305 2825 \n",
       "Q 1016 2553 972 2059 \n",
       "L 3022 2063 \n",
       "z\n",
       "\" transform=\"scale(0.015625)\"/>\n",
       "       </defs>\n",
       "       <use xlink:href=\"#DejaVuSans-30\"/>\n",
       "       <use xlink:href=\"#DejaVuSans-3a\" x=\"63.623047\"/>\n",
       "       <use xlink:href=\"#DejaVuSans-53\" x=\"97.314453\"/>\n",
       "       <use xlink:href=\"#DejaVuSans-37\" x=\"160.791016\"/>\n",
       "       <use xlink:href=\"#DejaVuSans-2d\" x=\"224.414062\"/>\n",
       "       <use xlink:href=\"#DejaVuSans-53\" x=\"260.498047\"/>\n",
       "       <use xlink:href=\"#DejaVuSans-4c\" x=\"323.974609\"/>\n",
       "       <use xlink:href=\"#DejaVuSans-46\" x=\"379.6875\"/>\n",
       "       <use xlink:href=\"#DejaVuSans-33\" x=\"437.207031\"/>\n",
       "       <use xlink:href=\"#DejaVuSans-5f\" x=\"500.830078\"/>\n",
       "       <use xlink:href=\"#DejaVuSans-53\" x=\"550.830078\"/>\n",
       "       <use xlink:href=\"#DejaVuSans-31\" x=\"614.306641\"/>\n",
       "       <use xlink:href=\"#DejaVuSans-31\" x=\"677.929688\"/>\n",
       "       <use xlink:href=\"#DejaVuSans-2d\" x=\"741.552734\"/>\n",
       "       <use xlink:href=\"#DejaVuSans-52\" x=\"777.636719\"/>\n",
       "       <use xlink:href=\"#DejaVuSans-4e\" x=\"847.119141\"/>\n",
       "       <use xlink:href=\"#DejaVuSans-61\" x=\"921.923828\"/>\n",
       "       <use xlink:href=\"#DejaVuSans-73\" x=\"983.203125\"/>\n",
       "       <use xlink:href=\"#DejaVuSans-65\" x=\"1035.302734\"/>\n",
       "      </g>\n",
       "     </g>\n",
       "    </g>\n",
       "    <g id=\"ytick_2\">\n",
       "     <g id=\"text_9\">\n",
       "      <!-- 0:S9-SLF1_S11-RNase -->\n",
       "      <g transform=\"translate(460.6 792.511993)scale(0.08 -0.08)\">\n",
       "       <defs>\n",
       "        <path id=\"DejaVuSans-39\" d=\"M 703 97 \n",
       "L 703 672 \n",
       "Q 941 559 1184 500 \n",
       "Q 1428 441 1663 441 \n",
       "Q 2288 441 2617 861 \n",
       "Q 2947 1281 2994 2138 \n",
       "Q 2813 1869 2534 1725 \n",
       "Q 2256 1581 1919 1581 \n",
       "Q 1219 1581 811 2004 \n",
       "Q 403 2428 403 3163 \n",
       "Q 403 3881 828 4315 \n",
       "Q 1253 4750 1959 4750 \n",
       "Q 2769 4750 3195 4129 \n",
       "Q 3622 3509 3622 2328 \n",
       "Q 3622 1225 3098 567 \n",
       "Q 2575 -91 1691 -91 \n",
       "Q 1453 -91 1209 -44 \n",
       "Q 966 3 703 97 \n",
       "z\n",
       "M 1959 2075 \n",
       "Q 2384 2075 2632 2365 \n",
       "Q 2881 2656 2881 3163 \n",
       "Q 2881 3666 2632 3958 \n",
       "Q 2384 4250 1959 4250 \n",
       "Q 1534 4250 1286 3958 \n",
       "Q 1038 3666 1038 3163 \n",
       "Q 1038 2656 1286 2365 \n",
       "Q 1534 2075 1959 2075 \n",
       "z\n",
       "\" transform=\"scale(0.015625)\"/>\n",
       "       </defs>\n",
       "       <use xlink:href=\"#DejaVuSans-30\"/>\n",
       "       <use xlink:href=\"#DejaVuSans-3a\" x=\"63.623047\"/>\n",
       "       <use xlink:href=\"#DejaVuSans-53\" x=\"97.314453\"/>\n",
       "       <use xlink:href=\"#DejaVuSans-39\" x=\"160.791016\"/>\n",
       "       <use xlink:href=\"#DejaVuSans-2d\" x=\"224.414062\"/>\n",
       "       <use xlink:href=\"#DejaVuSans-53\" x=\"260.498047\"/>\n",
       "       <use xlink:href=\"#DejaVuSans-4c\" x=\"323.974609\"/>\n",
       "       <use xlink:href=\"#DejaVuSans-46\" x=\"379.6875\"/>\n",
       "       <use xlink:href=\"#DejaVuSans-31\" x=\"437.207031\"/>\n",
       "       <use xlink:href=\"#DejaVuSans-5f\" x=\"500.830078\"/>\n",
       "       <use xlink:href=\"#DejaVuSans-53\" x=\"550.830078\"/>\n",
       "       <use xlink:href=\"#DejaVuSans-31\" x=\"614.306641\"/>\n",
       "       <use xlink:href=\"#DejaVuSans-31\" x=\"677.929688\"/>\n",
       "       <use xlink:href=\"#DejaVuSans-2d\" x=\"741.552734\"/>\n",
       "       <use xlink:href=\"#DejaVuSans-52\" x=\"777.636719\"/>\n",
       "       <use xlink:href=\"#DejaVuSans-4e\" x=\"847.119141\"/>\n",
       "       <use xlink:href=\"#DejaVuSans-61\" x=\"921.923828\"/>\n",
       "       <use xlink:href=\"#DejaVuSans-73\" x=\"983.203125\"/>\n",
       "       <use xlink:href=\"#DejaVuSans-65\" x=\"1035.302734\"/>\n",
       "      </g>\n",
       "     </g>\n",
       "    </g>\n",
       "    <g id=\"ytick_3\">\n",
       "     <g id=\"text_10\">\n",
       "      <!-- 0:S7-SLF1_S11-RNase -->\n",
       "      <g transform=\"translate(460.6 770.474155)scale(0.08 -0.08)\">\n",
       "       <use xlink:href=\"#DejaVuSans-30\"/>\n",
       "       <use xlink:href=\"#DejaVuSans-3a\" x=\"63.623047\"/>\n",
       "       <use xlink:href=\"#DejaVuSans-53\" x=\"97.314453\"/>\n",
       "       <use xlink:href=\"#DejaVuSans-37\" x=\"160.791016\"/>\n",
       "       <use xlink:href=\"#DejaVuSans-2d\" x=\"224.414062\"/>\n",
       "       <use xlink:href=\"#DejaVuSans-53\" x=\"260.498047\"/>\n",
       "       <use xlink:href=\"#DejaVuSans-4c\" x=\"323.974609\"/>\n",
       "       <use xlink:href=\"#DejaVuSans-46\" x=\"379.6875\"/>\n",
       "       <use xlink:href=\"#DejaVuSans-31\" x=\"437.207031\"/>\n",
       "       <use xlink:href=\"#DejaVuSans-5f\" x=\"500.830078\"/>\n",
       "       <use xlink:href=\"#DejaVuSans-53\" x=\"550.830078\"/>\n",
       "       <use xlink:href=\"#DejaVuSans-31\" x=\"614.306641\"/>\n",
       "       <use xlink:href=\"#DejaVuSans-31\" x=\"677.929688\"/>\n",
       "       <use xlink:href=\"#DejaVuSans-2d\" x=\"741.552734\"/>\n",
       "       <use xlink:href=\"#DejaVuSans-52\" x=\"777.636719\"/>\n",
       "       <use xlink:href=\"#DejaVuSans-4e\" x=\"847.119141\"/>\n",
       "       <use xlink:href=\"#DejaVuSans-61\" x=\"921.923828\"/>\n",
       "       <use xlink:href=\"#DejaVuSans-73\" x=\"983.203125\"/>\n",
       "       <use xlink:href=\"#DejaVuSans-65\" x=\"1035.302734\"/>\n",
       "      </g>\n",
       "     </g>\n",
       "    </g>\n",
       "    <g id=\"ytick_4\">\n",
       "     <g id=\"text_11\">\n",
       "      <!-- 0:S5-SLF1_S11-RNase -->\n",
       "      <g transform=\"translate(460.6 748.436318)scale(0.08 -0.08)\">\n",
       "       <defs>\n",
       "        <path id=\"DejaVuSans-35\" d=\"M 691 4666 \n",
       "L 3169 4666 \n",
       "L 3169 4134 \n",
       "L 1269 4134 \n",
       "L 1269 2991 \n",
       "Q 1406 3038 1543 3061 \n",
       "Q 1681 3084 1819 3084 \n",
       "Q 2600 3084 3056 2656 \n",
       "Q 3513 2228 3513 1497 \n",
       "Q 3513 744 3044 326 \n",
       "Q 2575 -91 1722 -91 \n",
       "Q 1428 -91 1123 -41 \n",
       "Q 819 9 494 109 \n",
       "L 494 744 \n",
       "Q 775 591 1075 516 \n",
       "Q 1375 441 1709 441 \n",
       "Q 2250 441 2565 725 \n",
       "Q 2881 1009 2881 1497 \n",
       "Q 2881 1984 2565 2268 \n",
       "Q 2250 2553 1709 2553 \n",
       "Q 1456 2553 1204 2497 \n",
       "Q 953 2441 691 2322 \n",
       "L 691 4666 \n",
       "z\n",
       "\" transform=\"scale(0.015625)\"/>\n",
       "       </defs>\n",
       "       <use xlink:href=\"#DejaVuSans-30\"/>\n",
       "       <use xlink:href=\"#DejaVuSans-3a\" x=\"63.623047\"/>\n",
       "       <use xlink:href=\"#DejaVuSans-53\" x=\"97.314453\"/>\n",
       "       <use xlink:href=\"#DejaVuSans-35\" x=\"160.791016\"/>\n",
       "       <use xlink:href=\"#DejaVuSans-2d\" x=\"224.414062\"/>\n",
       "       <use xlink:href=\"#DejaVuSans-53\" x=\"260.498047\"/>\n",
       "       <use xlink:href=\"#DejaVuSans-4c\" x=\"323.974609\"/>\n",
       "       <use xlink:href=\"#DejaVuSans-46\" x=\"379.6875\"/>\n",
       "       <use xlink:href=\"#DejaVuSans-31\" x=\"437.207031\"/>\n",
       "       <use xlink:href=\"#DejaVuSans-5f\" x=\"500.830078\"/>\n",
       "       <use xlink:href=\"#DejaVuSans-53\" x=\"550.830078\"/>\n",
       "       <use xlink:href=\"#DejaVuSans-31\" x=\"614.306641\"/>\n",
       "       <use xlink:href=\"#DejaVuSans-31\" x=\"677.929688\"/>\n",
       "       <use xlink:href=\"#DejaVuSans-2d\" x=\"741.552734\"/>\n",
       "       <use xlink:href=\"#DejaVuSans-52\" x=\"777.636719\"/>\n",
       "       <use xlink:href=\"#DejaVuSans-4e\" x=\"847.119141\"/>\n",
       "       <use xlink:href=\"#DejaVuSans-61\" x=\"921.923828\"/>\n",
       "       <use xlink:href=\"#DejaVuSans-73\" x=\"983.203125\"/>\n",
       "       <use xlink:href=\"#DejaVuSans-65\" x=\"1035.302734\"/>\n",
       "      </g>\n",
       "     </g>\n",
       "    </g>\n",
       "    <g id=\"ytick_5\">\n",
       "     <g id=\"text_12\">\n",
       "      <!-- 1:S5-SLF2_S11-RNase -->\n",
       "      <g transform=\"translate(460.6 726.39848)scale(0.08 -0.08)\">\n",
       "       <use xlink:href=\"#DejaVuSans-31\"/>\n",
       "       <use xlink:href=\"#DejaVuSans-3a\" x=\"63.623047\"/>\n",
       "       <use xlink:href=\"#DejaVuSans-53\" x=\"97.314453\"/>\n",
       "       <use xlink:href=\"#DejaVuSans-35\" x=\"160.791016\"/>\n",
       "       <use xlink:href=\"#DejaVuSans-2d\" x=\"224.414062\"/>\n",
       "       <use xlink:href=\"#DejaVuSans-53\" x=\"260.498047\"/>\n",
       "       <use xlink:href=\"#DejaVuSans-4c\" x=\"323.974609\"/>\n",
       "       <use xlink:href=\"#DejaVuSans-46\" x=\"379.6875\"/>\n",
       "       <use xlink:href=\"#DejaVuSans-32\" x=\"437.207031\"/>\n",
       "       <use xlink:href=\"#DejaVuSans-5f\" x=\"500.830078\"/>\n",
       "       <use xlink:href=\"#DejaVuSans-53\" x=\"550.830078\"/>\n",
       "       <use xlink:href=\"#DejaVuSans-31\" x=\"614.306641\"/>\n",
       "       <use xlink:href=\"#DejaVuSans-31\" x=\"677.929688\"/>\n",
       "       <use xlink:href=\"#DejaVuSans-2d\" x=\"741.552734\"/>\n",
       "       <use xlink:href=\"#DejaVuSans-52\" x=\"777.636719\"/>\n",
       "       <use xlink:href=\"#DejaVuSans-4e\" x=\"847.119141\"/>\n",
       "       <use xlink:href=\"#DejaVuSans-61\" x=\"921.923828\"/>\n",
       "       <use xlink:href=\"#DejaVuSans-73\" x=\"983.203125\"/>\n",
       "       <use xlink:href=\"#DejaVuSans-65\" x=\"1035.302734\"/>\n",
       "      </g>\n",
       "     </g>\n",
       "    </g>\n",
       "    <g id=\"ytick_6\">\n",
       "     <g id=\"text_13\">\n",
       "      <!-- 1:S7-SLF2_S11-RNase -->\n",
       "      <g transform=\"translate(460.6 704.360642)scale(0.08 -0.08)\">\n",
       "       <use xlink:href=\"#DejaVuSans-31\"/>\n",
       "       <use xlink:href=\"#DejaVuSans-3a\" x=\"63.623047\"/>\n",
       "       <use xlink:href=\"#DejaVuSans-53\" x=\"97.314453\"/>\n",
       "       <use xlink:href=\"#DejaVuSans-37\" x=\"160.791016\"/>\n",
       "       <use xlink:href=\"#DejaVuSans-2d\" x=\"224.414062\"/>\n",
       "       <use xlink:href=\"#DejaVuSans-53\" x=\"260.498047\"/>\n",
       "       <use xlink:href=\"#DejaVuSans-4c\" x=\"323.974609\"/>\n",
       "       <use xlink:href=\"#DejaVuSans-46\" x=\"379.6875\"/>\n",
       "       <use xlink:href=\"#DejaVuSans-32\" x=\"437.207031\"/>\n",
       "       <use xlink:href=\"#DejaVuSans-5f\" x=\"500.830078\"/>\n",
       "       <use xlink:href=\"#DejaVuSans-53\" x=\"550.830078\"/>\n",
       "       <use xlink:href=\"#DejaVuSans-31\" x=\"614.306641\"/>\n",
       "       <use xlink:href=\"#DejaVuSans-31\" x=\"677.929688\"/>\n",
       "       <use xlink:href=\"#DejaVuSans-2d\" x=\"741.552734\"/>\n",
       "       <use xlink:href=\"#DejaVuSans-52\" x=\"777.636719\"/>\n",
       "       <use xlink:href=\"#DejaVuSans-4e\" x=\"847.119141\"/>\n",
       "       <use xlink:href=\"#DejaVuSans-61\" x=\"921.923828\"/>\n",
       "       <use xlink:href=\"#DejaVuSans-73\" x=\"983.203125\"/>\n",
       "       <use xlink:href=\"#DejaVuSans-65\" x=\"1035.302734\"/>\n",
       "      </g>\n",
       "     </g>\n",
       "    </g>\n",
       "    <g id=\"ytick_7\">\n",
       "     <g id=\"text_14\">\n",
       "      <!-- 1:S11-SLF3_S7-RNase -->\n",
       "      <g transform=\"translate(460.6 682.322804)scale(0.08 -0.08)\">\n",
       "       <use xlink:href=\"#DejaVuSans-31\"/>\n",
       "       <use xlink:href=\"#DejaVuSans-3a\" x=\"63.623047\"/>\n",
       "       <use xlink:href=\"#DejaVuSans-53\" x=\"97.314453\"/>\n",
       "       <use xlink:href=\"#DejaVuSans-31\" x=\"160.791016\"/>\n",
       "       <use xlink:href=\"#DejaVuSans-31\" x=\"224.414062\"/>\n",
       "       <use xlink:href=\"#DejaVuSans-2d\" x=\"288.037109\"/>\n",
       "       <use xlink:href=\"#DejaVuSans-53\" x=\"324.121094\"/>\n",
       "       <use xlink:href=\"#DejaVuSans-4c\" x=\"387.597656\"/>\n",
       "       <use xlink:href=\"#DejaVuSans-46\" x=\"443.310547\"/>\n",
       "       <use xlink:href=\"#DejaVuSans-33\" x=\"500.830078\"/>\n",
       "       <use xlink:href=\"#DejaVuSans-5f\" x=\"564.453125\"/>\n",
       "       <use xlink:href=\"#DejaVuSans-53\" x=\"614.453125\"/>\n",
       "       <use xlink:href=\"#DejaVuSans-37\" x=\"677.929688\"/>\n",
       "       <use xlink:href=\"#DejaVuSans-2d\" x=\"741.552734\"/>\n",
       "       <use xlink:href=\"#DejaVuSans-52\" x=\"777.636719\"/>\n",
       "       <use xlink:href=\"#DejaVuSans-4e\" x=\"847.119141\"/>\n",
       "       <use xlink:href=\"#DejaVuSans-61\" x=\"921.923828\"/>\n",
       "       <use xlink:href=\"#DejaVuSans-73\" x=\"983.203125\"/>\n",
       "       <use xlink:href=\"#DejaVuSans-65\" x=\"1035.302734\"/>\n",
       "      </g>\n",
       "     </g>\n",
       "    </g>\n",
       "    <g id=\"ytick_8\">\n",
       "     <g id=\"text_15\">\n",
       "      <!-- 0:S11-SLF3_S5-RNase -->\n",
       "      <g transform=\"translate(460.6 660.284966)scale(0.08 -0.08)\">\n",
       "       <use xlink:href=\"#DejaVuSans-30\"/>\n",
       "       <use xlink:href=\"#DejaVuSans-3a\" x=\"63.623047\"/>\n",
       "       <use xlink:href=\"#DejaVuSans-53\" x=\"97.314453\"/>\n",
       "       <use xlink:href=\"#DejaVuSans-31\" x=\"160.791016\"/>\n",
       "       <use xlink:href=\"#DejaVuSans-31\" x=\"224.414062\"/>\n",
       "       <use xlink:href=\"#DejaVuSans-2d\" x=\"288.037109\"/>\n",
       "       <use xlink:href=\"#DejaVuSans-53\" x=\"324.121094\"/>\n",
       "       <use xlink:href=\"#DejaVuSans-4c\" x=\"387.597656\"/>\n",
       "       <use xlink:href=\"#DejaVuSans-46\" x=\"443.310547\"/>\n",
       "       <use xlink:href=\"#DejaVuSans-33\" x=\"500.830078\"/>\n",
       "       <use xlink:href=\"#DejaVuSans-5f\" x=\"564.453125\"/>\n",
       "       <use xlink:href=\"#DejaVuSans-53\" x=\"614.453125\"/>\n",
       "       <use xlink:href=\"#DejaVuSans-35\" x=\"677.929688\"/>\n",
       "       <use xlink:href=\"#DejaVuSans-2d\" x=\"741.552734\"/>\n",
       "       <use xlink:href=\"#DejaVuSans-52\" x=\"777.636719\"/>\n",
       "       <use xlink:href=\"#DejaVuSans-4e\" x=\"847.119141\"/>\n",
       "       <use xlink:href=\"#DejaVuSans-61\" x=\"921.923828\"/>\n",
       "       <use xlink:href=\"#DejaVuSans-73\" x=\"983.203125\"/>\n",
       "       <use xlink:href=\"#DejaVuSans-65\" x=\"1035.302734\"/>\n",
       "      </g>\n",
       "     </g>\n",
       "    </g>\n",
       "    <g id=\"ytick_9\">\n",
       "     <g id=\"text_16\">\n",
       "      <!-- 0:S7-SLF3_S5-RNase -->\n",
       "      <g transform=\"translate(460.6 638.247128)scale(0.08 -0.08)\">\n",
       "       <use xlink:href=\"#DejaVuSans-30\"/>\n",
       "       <use xlink:href=\"#DejaVuSans-3a\" x=\"63.623047\"/>\n",
       "       <use xlink:href=\"#DejaVuSans-53\" x=\"97.314453\"/>\n",
       "       <use xlink:href=\"#DejaVuSans-37\" x=\"160.791016\"/>\n",
       "       <use xlink:href=\"#DejaVuSans-2d\" x=\"224.414062\"/>\n",
       "       <use xlink:href=\"#DejaVuSans-53\" x=\"260.498047\"/>\n",
       "       <use xlink:href=\"#DejaVuSans-4c\" x=\"323.974609\"/>\n",
       "       <use xlink:href=\"#DejaVuSans-46\" x=\"379.6875\"/>\n",
       "       <use xlink:href=\"#DejaVuSans-33\" x=\"437.207031\"/>\n",
       "       <use xlink:href=\"#DejaVuSans-5f\" x=\"500.830078\"/>\n",
       "       <use xlink:href=\"#DejaVuSans-53\" x=\"550.830078\"/>\n",
       "       <use xlink:href=\"#DejaVuSans-35\" x=\"614.306641\"/>\n",
       "       <use xlink:href=\"#DejaVuSans-2d\" x=\"677.929688\"/>\n",
       "       <use xlink:href=\"#DejaVuSans-52\" x=\"714.013672\"/>\n",
       "       <use xlink:href=\"#DejaVuSans-4e\" x=\"783.496094\"/>\n",
       "       <use xlink:href=\"#DejaVuSans-61\" x=\"858.300781\"/>\n",
       "       <use xlink:href=\"#DejaVuSans-73\" x=\"919.580078\"/>\n",
       "       <use xlink:href=\"#DejaVuSans-65\" x=\"971.679688\"/>\n",
       "      </g>\n",
       "     </g>\n",
       "    </g>\n",
       "    <g id=\"ytick_10\">\n",
       "     <g id=\"text_17\">\n",
       "      <!-- 0:S7-SLF3_S9-RNase -->\n",
       "      <g transform=\"translate(460.6 616.209291)scale(0.08 -0.08)\">\n",
       "       <use xlink:href=\"#DejaVuSans-30\"/>\n",
       "       <use xlink:href=\"#DejaVuSans-3a\" x=\"63.623047\"/>\n",
       "       <use xlink:href=\"#DejaVuSans-53\" x=\"97.314453\"/>\n",
       "       <use xlink:href=\"#DejaVuSans-37\" x=\"160.791016\"/>\n",
       "       <use xlink:href=\"#DejaVuSans-2d\" x=\"224.414062\"/>\n",
       "       <use xlink:href=\"#DejaVuSans-53\" x=\"260.498047\"/>\n",
       "       <use xlink:href=\"#DejaVuSans-4c\" x=\"323.974609\"/>\n",
       "       <use xlink:href=\"#DejaVuSans-46\" x=\"379.6875\"/>\n",
       "       <use xlink:href=\"#DejaVuSans-33\" x=\"437.207031\"/>\n",
       "       <use xlink:href=\"#DejaVuSans-5f\" x=\"500.830078\"/>\n",
       "       <use xlink:href=\"#DejaVuSans-53\" x=\"550.830078\"/>\n",
       "       <use xlink:href=\"#DejaVuSans-39\" x=\"614.306641\"/>\n",
       "       <use xlink:href=\"#DejaVuSans-2d\" x=\"677.929688\"/>\n",
       "       <use xlink:href=\"#DejaVuSans-52\" x=\"714.013672\"/>\n",
       "       <use xlink:href=\"#DejaVuSans-4e\" x=\"783.496094\"/>\n",
       "       <use xlink:href=\"#DejaVuSans-61\" x=\"858.300781\"/>\n",
       "       <use xlink:href=\"#DejaVuSans-73\" x=\"919.580078\"/>\n",
       "       <use xlink:href=\"#DejaVuSans-65\" x=\"971.679688\"/>\n",
       "      </g>\n",
       "     </g>\n",
       "    </g>\n",
       "    <g id=\"ytick_11\">\n",
       "     <g id=\"text_18\">\n",
       "      <!-- 0:S11-SLF3_S9-RNase -->\n",
       "      <g transform=\"translate(460.6 594.171453)scale(0.08 -0.08)\">\n",
       "       <use xlink:href=\"#DejaVuSans-30\"/>\n",
       "       <use xlink:href=\"#DejaVuSans-3a\" x=\"63.623047\"/>\n",
       "       <use xlink:href=\"#DejaVuSans-53\" x=\"97.314453\"/>\n",
       "       <use xlink:href=\"#DejaVuSans-31\" x=\"160.791016\"/>\n",
       "       <use xlink:href=\"#DejaVuSans-31\" x=\"224.414062\"/>\n",
       "       <use xlink:href=\"#DejaVuSans-2d\" x=\"288.037109\"/>\n",
       "       <use xlink:href=\"#DejaVuSans-53\" x=\"324.121094\"/>\n",
       "       <use xlink:href=\"#DejaVuSans-4c\" x=\"387.597656\"/>\n",
       "       <use xlink:href=\"#DejaVuSans-46\" x=\"443.310547\"/>\n",
       "       <use xlink:href=\"#DejaVuSans-33\" x=\"500.830078\"/>\n",
       "       <use xlink:href=\"#DejaVuSans-5f\" x=\"564.453125\"/>\n",
       "       <use xlink:href=\"#DejaVuSans-53\" x=\"614.453125\"/>\n",
       "       <use xlink:href=\"#DejaVuSans-39\" x=\"677.929688\"/>\n",
       "       <use xlink:href=\"#DejaVuSans-2d\" x=\"741.552734\"/>\n",
       "       <use xlink:href=\"#DejaVuSans-52\" x=\"777.636719\"/>\n",
       "       <use xlink:href=\"#DejaVuSans-4e\" x=\"847.119141\"/>\n",
       "       <use xlink:href=\"#DejaVuSans-61\" x=\"921.923828\"/>\n",
       "       <use xlink:href=\"#DejaVuSans-73\" x=\"983.203125\"/>\n",
       "       <use xlink:href=\"#DejaVuSans-65\" x=\"1035.302734\"/>\n",
       "      </g>\n",
       "     </g>\n",
       "    </g>\n",
       "    <g id=\"ytick_12\">\n",
       "     <g id=\"text_19\">\n",
       "      <!-- 0:S11-SLF3_S17-RNase -->\n",
       "      <g transform=\"translate(460.6 572.133615)scale(0.08 -0.08)\">\n",
       "       <use xlink:href=\"#DejaVuSans-30\"/>\n",
       "       <use xlink:href=\"#DejaVuSans-3a\" x=\"63.623047\"/>\n",
       "       <use xlink:href=\"#DejaVuSans-53\" x=\"97.314453\"/>\n",
       "       <use xlink:href=\"#DejaVuSans-31\" x=\"160.791016\"/>\n",
       "       <use xlink:href=\"#DejaVuSans-31\" x=\"224.414062\"/>\n",
       "       <use xlink:href=\"#DejaVuSans-2d\" x=\"288.037109\"/>\n",
       "       <use xlink:href=\"#DejaVuSans-53\" x=\"324.121094\"/>\n",
       "       <use xlink:href=\"#DejaVuSans-4c\" x=\"387.597656\"/>\n",
       "       <use xlink:href=\"#DejaVuSans-46\" x=\"443.310547\"/>\n",
       "       <use xlink:href=\"#DejaVuSans-33\" x=\"500.830078\"/>\n",
       "       <use xlink:href=\"#DejaVuSans-5f\" x=\"564.453125\"/>\n",
       "       <use xlink:href=\"#DejaVuSans-53\" x=\"614.453125\"/>\n",
       "       <use xlink:href=\"#DejaVuSans-31\" x=\"677.929688\"/>\n",
       "       <use xlink:href=\"#DejaVuSans-37\" x=\"741.552734\"/>\n",
       "       <use xlink:href=\"#DejaVuSans-2d\" x=\"805.175781\"/>\n",
       "       <use xlink:href=\"#DejaVuSans-52\" x=\"841.259766\"/>\n",
       "       <use xlink:href=\"#DejaVuSans-4e\" x=\"910.742188\"/>\n",
       "       <use xlink:href=\"#DejaVuSans-61\" x=\"985.546875\"/>\n",
       "       <use xlink:href=\"#DejaVuSans-73\" x=\"1046.826172\"/>\n",
       "       <use xlink:href=\"#DejaVuSans-65\" x=\"1098.925781\"/>\n",
       "      </g>\n",
       "     </g>\n",
       "    </g>\n",
       "    <g id=\"ytick_13\">\n",
       "     <g id=\"text_20\">\n",
       "      <!-- 0:S7-SLF3_S17-RNase -->\n",
       "      <g transform=\"translate(460.6 550.095777)scale(0.08 -0.08)\">\n",
       "       <use xlink:href=\"#DejaVuSans-30\"/>\n",
       "       <use xlink:href=\"#DejaVuSans-3a\" x=\"63.623047\"/>\n",
       "       <use xlink:href=\"#DejaVuSans-53\" x=\"97.314453\"/>\n",
       "       <use xlink:href=\"#DejaVuSans-37\" x=\"160.791016\"/>\n",
       "       <use xlink:href=\"#DejaVuSans-2d\" x=\"224.414062\"/>\n",
       "       <use xlink:href=\"#DejaVuSans-53\" x=\"260.498047\"/>\n",
       "       <use xlink:href=\"#DejaVuSans-4c\" x=\"323.974609\"/>\n",
       "       <use xlink:href=\"#DejaVuSans-46\" x=\"379.6875\"/>\n",
       "       <use xlink:href=\"#DejaVuSans-33\" x=\"437.207031\"/>\n",
       "       <use xlink:href=\"#DejaVuSans-5f\" x=\"500.830078\"/>\n",
       "       <use xlink:href=\"#DejaVuSans-53\" x=\"550.830078\"/>\n",
       "       <use xlink:href=\"#DejaVuSans-31\" x=\"614.306641\"/>\n",
       "       <use xlink:href=\"#DejaVuSans-37\" x=\"677.929688\"/>\n",
       "       <use xlink:href=\"#DejaVuSans-2d\" x=\"741.552734\"/>\n",
       "       <use xlink:href=\"#DejaVuSans-52\" x=\"777.636719\"/>\n",
       "       <use xlink:href=\"#DejaVuSans-4e\" x=\"847.119141\"/>\n",
       "       <use xlink:href=\"#DejaVuSans-61\" x=\"921.923828\"/>\n",
       "       <use xlink:href=\"#DejaVuSans-73\" x=\"983.203125\"/>\n",
       "       <use xlink:href=\"#DejaVuSans-65\" x=\"1035.302734\"/>\n",
       "      </g>\n",
       "     </g>\n",
       "    </g>\n",
       "    <g id=\"ytick_14\">\n",
       "     <g id=\"text_21\">\n",
       "      <!-- 1:S9-SLF1_S17-RNase -->\n",
       "      <g transform=\"translate(460.6 528.057939)scale(0.08 -0.08)\">\n",
       "       <use xlink:href=\"#DejaVuSans-31\"/>\n",
       "       <use xlink:href=\"#DejaVuSans-3a\" x=\"63.623047\"/>\n",
       "       <use xlink:href=\"#DejaVuSans-53\" x=\"97.314453\"/>\n",
       "       <use xlink:href=\"#DejaVuSans-39\" x=\"160.791016\"/>\n",
       "       <use xlink:href=\"#DejaVuSans-2d\" x=\"224.414062\"/>\n",
       "       <use xlink:href=\"#DejaVuSans-53\" x=\"260.498047\"/>\n",
       "       <use xlink:href=\"#DejaVuSans-4c\" x=\"323.974609\"/>\n",
       "       <use xlink:href=\"#DejaVuSans-46\" x=\"379.6875\"/>\n",
       "       <use xlink:href=\"#DejaVuSans-31\" x=\"437.207031\"/>\n",
       "       <use xlink:href=\"#DejaVuSans-5f\" x=\"500.830078\"/>\n",
       "       <use xlink:href=\"#DejaVuSans-53\" x=\"550.830078\"/>\n",
       "       <use xlink:href=\"#DejaVuSans-31\" x=\"614.306641\"/>\n",
       "       <use xlink:href=\"#DejaVuSans-37\" x=\"677.929688\"/>\n",
       "       <use xlink:href=\"#DejaVuSans-2d\" x=\"741.552734\"/>\n",
       "       <use xlink:href=\"#DejaVuSans-52\" x=\"777.636719\"/>\n",
       "       <use xlink:href=\"#DejaVuSans-4e\" x=\"847.119141\"/>\n",
       "       <use xlink:href=\"#DejaVuSans-61\" x=\"921.923828\"/>\n",
       "       <use xlink:href=\"#DejaVuSans-73\" x=\"983.203125\"/>\n",
       "       <use xlink:href=\"#DejaVuSans-65\" x=\"1035.302734\"/>\n",
       "      </g>\n",
       "     </g>\n",
       "    </g>\n",
       "    <g id=\"ytick_15\">\n",
       "     <g id=\"text_22\">\n",
       "      <!-- 1:S11-SLF1_S17-RNase -->\n",
       "      <g transform=\"translate(460.6 506.020101)scale(0.08 -0.08)\">\n",
       "       <use xlink:href=\"#DejaVuSans-31\"/>\n",
       "       <use xlink:href=\"#DejaVuSans-3a\" x=\"63.623047\"/>\n",
       "       <use xlink:href=\"#DejaVuSans-53\" x=\"97.314453\"/>\n",
       "       <use xlink:href=\"#DejaVuSans-31\" x=\"160.791016\"/>\n",
       "       <use xlink:href=\"#DejaVuSans-31\" x=\"224.414062\"/>\n",
       "       <use xlink:href=\"#DejaVuSans-2d\" x=\"288.037109\"/>\n",
       "       <use xlink:href=\"#DejaVuSans-53\" x=\"324.121094\"/>\n",
       "       <use xlink:href=\"#DejaVuSans-4c\" x=\"387.597656\"/>\n",
       "       <use xlink:href=\"#DejaVuSans-46\" x=\"443.310547\"/>\n",
       "       <use xlink:href=\"#DejaVuSans-31\" x=\"500.830078\"/>\n",
       "       <use xlink:href=\"#DejaVuSans-5f\" x=\"564.453125\"/>\n",
       "       <use xlink:href=\"#DejaVuSans-53\" x=\"614.453125\"/>\n",
       "       <use xlink:href=\"#DejaVuSans-31\" x=\"677.929688\"/>\n",
       "       <use xlink:href=\"#DejaVuSans-37\" x=\"741.552734\"/>\n",
       "       <use xlink:href=\"#DejaVuSans-2d\" x=\"805.175781\"/>\n",
       "       <use xlink:href=\"#DejaVuSans-52\" x=\"841.259766\"/>\n",
       "       <use xlink:href=\"#DejaVuSans-4e\" x=\"910.742188\"/>\n",
       "       <use xlink:href=\"#DejaVuSans-61\" x=\"985.546875\"/>\n",
       "       <use xlink:href=\"#DejaVuSans-73\" x=\"1046.826172\"/>\n",
       "       <use xlink:href=\"#DejaVuSans-65\" x=\"1098.925781\"/>\n",
       "      </g>\n",
       "     </g>\n",
       "    </g>\n",
       "    <g id=\"ytick_16\">\n",
       "     <g id=\"text_23\">\n",
       "      <!-- 1:S7-SLF1_S17-RNase -->\n",
       "      <g transform=\"translate(460.6 483.982264)scale(0.08 -0.08)\">\n",
       "       <use xlink:href=\"#DejaVuSans-31\"/>\n",
       "       <use xlink:href=\"#DejaVuSans-3a\" x=\"63.623047\"/>\n",
       "       <use xlink:href=\"#DejaVuSans-53\" x=\"97.314453\"/>\n",
       "       <use xlink:href=\"#DejaVuSans-37\" x=\"160.791016\"/>\n",
       "       <use xlink:href=\"#DejaVuSans-2d\" x=\"224.414062\"/>\n",
       "       <use xlink:href=\"#DejaVuSans-53\" x=\"260.498047\"/>\n",
       "       <use xlink:href=\"#DejaVuSans-4c\" x=\"323.974609\"/>\n",
       "       <use xlink:href=\"#DejaVuSans-46\" x=\"379.6875\"/>\n",
       "       <use xlink:href=\"#DejaVuSans-31\" x=\"437.207031\"/>\n",
       "       <use xlink:href=\"#DejaVuSans-5f\" x=\"500.830078\"/>\n",
       "       <use xlink:href=\"#DejaVuSans-53\" x=\"550.830078\"/>\n",
       "       <use xlink:href=\"#DejaVuSans-31\" x=\"614.306641\"/>\n",
       "       <use xlink:href=\"#DejaVuSans-37\" x=\"677.929688\"/>\n",
       "       <use xlink:href=\"#DejaVuSans-2d\" x=\"741.552734\"/>\n",
       "       <use xlink:href=\"#DejaVuSans-52\" x=\"777.636719\"/>\n",
       "       <use xlink:href=\"#DejaVuSans-4e\" x=\"847.119141\"/>\n",
       "       <use xlink:href=\"#DejaVuSans-61\" x=\"921.923828\"/>\n",
       "       <use xlink:href=\"#DejaVuSans-73\" x=\"983.203125\"/>\n",
       "       <use xlink:href=\"#DejaVuSans-65\" x=\"1035.302734\"/>\n",
       "      </g>\n",
       "     </g>\n",
       "    </g>\n",
       "    <g id=\"ytick_17\">\n",
       "     <g id=\"text_24\">\n",
       "      <!-- 1:S5-SLF1_S17-RNase -->\n",
       "      <g transform=\"translate(460.6 461.944426)scale(0.08 -0.08)\">\n",
       "       <use xlink:href=\"#DejaVuSans-31\"/>\n",
       "       <use xlink:href=\"#DejaVuSans-3a\" x=\"63.623047\"/>\n",
       "       <use xlink:href=\"#DejaVuSans-53\" x=\"97.314453\"/>\n",
       "       <use xlink:href=\"#DejaVuSans-35\" x=\"160.791016\"/>\n",
       "       <use xlink:href=\"#DejaVuSans-2d\" x=\"224.414062\"/>\n",
       "       <use xlink:href=\"#DejaVuSans-53\" x=\"260.498047\"/>\n",
       "       <use xlink:href=\"#DejaVuSans-4c\" x=\"323.974609\"/>\n",
       "       <use xlink:href=\"#DejaVuSans-46\" x=\"379.6875\"/>\n",
       "       <use xlink:href=\"#DejaVuSans-31\" x=\"437.207031\"/>\n",
       "       <use xlink:href=\"#DejaVuSans-5f\" x=\"500.830078\"/>\n",
       "       <use xlink:href=\"#DejaVuSans-53\" x=\"550.830078\"/>\n",
       "       <use xlink:href=\"#DejaVuSans-31\" x=\"614.306641\"/>\n",
       "       <use xlink:href=\"#DejaVuSans-37\" x=\"677.929688\"/>\n",
       "       <use xlink:href=\"#DejaVuSans-2d\" x=\"741.552734\"/>\n",
       "       <use xlink:href=\"#DejaVuSans-52\" x=\"777.636719\"/>\n",
       "       <use xlink:href=\"#DejaVuSans-4e\" x=\"847.119141\"/>\n",
       "       <use xlink:href=\"#DejaVuSans-61\" x=\"921.923828\"/>\n",
       "       <use xlink:href=\"#DejaVuSans-73\" x=\"983.203125\"/>\n",
       "       <use xlink:href=\"#DejaVuSans-65\" x=\"1035.302734\"/>\n",
       "      </g>\n",
       "     </g>\n",
       "    </g>\n",
       "    <g id=\"ytick_18\">\n",
       "     <g id=\"text_25\">\n",
       "      <!-- 0:S7-SLF2_S17-RNase -->\n",
       "      <g transform=\"translate(460.6 439.906588)scale(0.08 -0.08)\">\n",
       "       <use xlink:href=\"#DejaVuSans-30\"/>\n",
       "       <use xlink:href=\"#DejaVuSans-3a\" x=\"63.623047\"/>\n",
       "       <use xlink:href=\"#DejaVuSans-53\" x=\"97.314453\"/>\n",
       "       <use xlink:href=\"#DejaVuSans-37\" x=\"160.791016\"/>\n",
       "       <use xlink:href=\"#DejaVuSans-2d\" x=\"224.414062\"/>\n",
       "       <use xlink:href=\"#DejaVuSans-53\" x=\"260.498047\"/>\n",
       "       <use xlink:href=\"#DejaVuSans-4c\" x=\"323.974609\"/>\n",
       "       <use xlink:href=\"#DejaVuSans-46\" x=\"379.6875\"/>\n",
       "       <use xlink:href=\"#DejaVuSans-32\" x=\"437.207031\"/>\n",
       "       <use xlink:href=\"#DejaVuSans-5f\" x=\"500.830078\"/>\n",
       "       <use xlink:href=\"#DejaVuSans-53\" x=\"550.830078\"/>\n",
       "       <use xlink:href=\"#DejaVuSans-31\" x=\"614.306641\"/>\n",
       "       <use xlink:href=\"#DejaVuSans-37\" x=\"677.929688\"/>\n",
       "       <use xlink:href=\"#DejaVuSans-2d\" x=\"741.552734\"/>\n",
       "       <use xlink:href=\"#DejaVuSans-52\" x=\"777.636719\"/>\n",
       "       <use xlink:href=\"#DejaVuSans-4e\" x=\"847.119141\"/>\n",
       "       <use xlink:href=\"#DejaVuSans-61\" x=\"921.923828\"/>\n",
       "       <use xlink:href=\"#DejaVuSans-73\" x=\"983.203125\"/>\n",
       "       <use xlink:href=\"#DejaVuSans-65\" x=\"1035.302734\"/>\n",
       "      </g>\n",
       "     </g>\n",
       "    </g>\n",
       "    <g id=\"ytick_19\">\n",
       "     <g id=\"text_26\">\n",
       "      <!-- 0:S11-SLF2_S17-RNase -->\n",
       "      <g transform=\"translate(460.6 417.86875)scale(0.08 -0.08)\">\n",
       "       <use xlink:href=\"#DejaVuSans-30\"/>\n",
       "       <use xlink:href=\"#DejaVuSans-3a\" x=\"63.623047\"/>\n",
       "       <use xlink:href=\"#DejaVuSans-53\" x=\"97.314453\"/>\n",
       "       <use xlink:href=\"#DejaVuSans-31\" x=\"160.791016\"/>\n",
       "       <use xlink:href=\"#DejaVuSans-31\" x=\"224.414062\"/>\n",
       "       <use xlink:href=\"#DejaVuSans-2d\" x=\"288.037109\"/>\n",
       "       <use xlink:href=\"#DejaVuSans-53\" x=\"324.121094\"/>\n",
       "       <use xlink:href=\"#DejaVuSans-4c\" x=\"387.597656\"/>\n",
       "       <use xlink:href=\"#DejaVuSans-46\" x=\"443.310547\"/>\n",
       "       <use xlink:href=\"#DejaVuSans-32\" x=\"500.830078\"/>\n",
       "       <use xlink:href=\"#DejaVuSans-5f\" x=\"564.453125\"/>\n",
       "       <use xlink:href=\"#DejaVuSans-53\" x=\"614.453125\"/>\n",
       "       <use xlink:href=\"#DejaVuSans-31\" x=\"677.929688\"/>\n",
       "       <use xlink:href=\"#DejaVuSans-37\" x=\"741.552734\"/>\n",
       "       <use xlink:href=\"#DejaVuSans-2d\" x=\"805.175781\"/>\n",
       "       <use xlink:href=\"#DejaVuSans-52\" x=\"841.259766\"/>\n",
       "       <use xlink:href=\"#DejaVuSans-4e\" x=\"910.742188\"/>\n",
       "       <use xlink:href=\"#DejaVuSans-61\" x=\"985.546875\"/>\n",
       "       <use xlink:href=\"#DejaVuSans-73\" x=\"1046.826172\"/>\n",
       "       <use xlink:href=\"#DejaVuSans-65\" x=\"1098.925781\"/>\n",
       "      </g>\n",
       "     </g>\n",
       "    </g>\n",
       "    <g id=\"ytick_20\">\n",
       "     <g id=\"text_27\">\n",
       "      <!-- 0:S5-SLF2_S17-RNase -->\n",
       "      <g transform=\"translate(460.6 395.830912)scale(0.08 -0.08)\">\n",
       "       <use xlink:href=\"#DejaVuSans-30\"/>\n",
       "       <use xlink:href=\"#DejaVuSans-3a\" x=\"63.623047\"/>\n",
       "       <use xlink:href=\"#DejaVuSans-53\" x=\"97.314453\"/>\n",
       "       <use xlink:href=\"#DejaVuSans-35\" x=\"160.791016\"/>\n",
       "       <use xlink:href=\"#DejaVuSans-2d\" x=\"224.414062\"/>\n",
       "       <use xlink:href=\"#DejaVuSans-53\" x=\"260.498047\"/>\n",
       "       <use xlink:href=\"#DejaVuSans-4c\" x=\"323.974609\"/>\n",
       "       <use xlink:href=\"#DejaVuSans-46\" x=\"379.6875\"/>\n",
       "       <use xlink:href=\"#DejaVuSans-32\" x=\"437.207031\"/>\n",
       "       <use xlink:href=\"#DejaVuSans-5f\" x=\"500.830078\"/>\n",
       "       <use xlink:href=\"#DejaVuSans-53\" x=\"550.830078\"/>\n",
       "       <use xlink:href=\"#DejaVuSans-31\" x=\"614.306641\"/>\n",
       "       <use xlink:href=\"#DejaVuSans-37\" x=\"677.929688\"/>\n",
       "       <use xlink:href=\"#DejaVuSans-2d\" x=\"741.552734\"/>\n",
       "       <use xlink:href=\"#DejaVuSans-52\" x=\"777.636719\"/>\n",
       "       <use xlink:href=\"#DejaVuSans-4e\" x=\"847.119141\"/>\n",
       "       <use xlink:href=\"#DejaVuSans-61\" x=\"921.923828\"/>\n",
       "       <use xlink:href=\"#DejaVuSans-73\" x=\"983.203125\"/>\n",
       "       <use xlink:href=\"#DejaVuSans-65\" x=\"1035.302734\"/>\n",
       "      </g>\n",
       "     </g>\n",
       "    </g>\n",
       "    <g id=\"ytick_21\">\n",
       "     <g id=\"text_28\">\n",
       "      <!-- 1:S9-SLF1_S3-RNase -->\n",
       "      <g transform=\"translate(460.6 373.793074)scale(0.08 -0.08)\">\n",
       "       <use xlink:href=\"#DejaVuSans-31\"/>\n",
       "       <use xlink:href=\"#DejaVuSans-3a\" x=\"63.623047\"/>\n",
       "       <use xlink:href=\"#DejaVuSans-53\" x=\"97.314453\"/>\n",
       "       <use xlink:href=\"#DejaVuSans-39\" x=\"160.791016\"/>\n",
       "       <use xlink:href=\"#DejaVuSans-2d\" x=\"224.414062\"/>\n",
       "       <use xlink:href=\"#DejaVuSans-53\" x=\"260.498047\"/>\n",
       "       <use xlink:href=\"#DejaVuSans-4c\" x=\"323.974609\"/>\n",
       "       <use xlink:href=\"#DejaVuSans-46\" x=\"379.6875\"/>\n",
       "       <use xlink:href=\"#DejaVuSans-31\" x=\"437.207031\"/>\n",
       "       <use xlink:href=\"#DejaVuSans-5f\" x=\"500.830078\"/>\n",
       "       <use xlink:href=\"#DejaVuSans-53\" x=\"550.830078\"/>\n",
       "       <use xlink:href=\"#DejaVuSans-33\" x=\"614.306641\"/>\n",
       "       <use xlink:href=\"#DejaVuSans-2d\" x=\"677.929688\"/>\n",
       "       <use xlink:href=\"#DejaVuSans-52\" x=\"714.013672\"/>\n",
       "       <use xlink:href=\"#DejaVuSans-4e\" x=\"783.496094\"/>\n",
       "       <use xlink:href=\"#DejaVuSans-61\" x=\"858.300781\"/>\n",
       "       <use xlink:href=\"#DejaVuSans-73\" x=\"919.580078\"/>\n",
       "       <use xlink:href=\"#DejaVuSans-65\" x=\"971.679688\"/>\n",
       "      </g>\n",
       "     </g>\n",
       "    </g>\n",
       "    <g id=\"ytick_22\">\n",
       "     <g id=\"text_29\">\n",
       "      <!-- 0:S9-SLF1_S5-RNase -->\n",
       "      <g transform=\"translate(460.6 351.755236)scale(0.08 -0.08)\">\n",
       "       <use xlink:href=\"#DejaVuSans-30\"/>\n",
       "       <use xlink:href=\"#DejaVuSans-3a\" x=\"63.623047\"/>\n",
       "       <use xlink:href=\"#DejaVuSans-53\" x=\"97.314453\"/>\n",
       "       <use xlink:href=\"#DejaVuSans-39\" x=\"160.791016\"/>\n",
       "       <use xlink:href=\"#DejaVuSans-2d\" x=\"224.414062\"/>\n",
       "       <use xlink:href=\"#DejaVuSans-53\" x=\"260.498047\"/>\n",
       "       <use xlink:href=\"#DejaVuSans-4c\" x=\"323.974609\"/>\n",
       "       <use xlink:href=\"#DejaVuSans-46\" x=\"379.6875\"/>\n",
       "       <use xlink:href=\"#DejaVuSans-31\" x=\"437.207031\"/>\n",
       "       <use xlink:href=\"#DejaVuSans-5f\" x=\"500.830078\"/>\n",
       "       <use xlink:href=\"#DejaVuSans-53\" x=\"550.830078\"/>\n",
       "       <use xlink:href=\"#DejaVuSans-35\" x=\"614.306641\"/>\n",
       "       <use xlink:href=\"#DejaVuSans-2d\" x=\"677.929688\"/>\n",
       "       <use xlink:href=\"#DejaVuSans-52\" x=\"714.013672\"/>\n",
       "       <use xlink:href=\"#DejaVuSans-4e\" x=\"783.496094\"/>\n",
       "       <use xlink:href=\"#DejaVuSans-61\" x=\"858.300781\"/>\n",
       "       <use xlink:href=\"#DejaVuSans-73\" x=\"919.580078\"/>\n",
       "       <use xlink:href=\"#DejaVuSans-65\" x=\"971.679688\"/>\n",
       "      </g>\n",
       "     </g>\n",
       "    </g>\n",
       "    <g id=\"ytick_23\">\n",
       "     <g id=\"text_30\">\n",
       "      <!-- 0:S11-SLF1_S5-RNase -->\n",
       "      <g transform=\"translate(460.6 329.717399)scale(0.08 -0.08)\">\n",
       "       <use xlink:href=\"#DejaVuSans-30\"/>\n",
       "       <use xlink:href=\"#DejaVuSans-3a\" x=\"63.623047\"/>\n",
       "       <use xlink:href=\"#DejaVuSans-53\" x=\"97.314453\"/>\n",
       "       <use xlink:href=\"#DejaVuSans-31\" x=\"160.791016\"/>\n",
       "       <use xlink:href=\"#DejaVuSans-31\" x=\"224.414062\"/>\n",
       "       <use xlink:href=\"#DejaVuSans-2d\" x=\"288.037109\"/>\n",
       "       <use xlink:href=\"#DejaVuSans-53\" x=\"324.121094\"/>\n",
       "       <use xlink:href=\"#DejaVuSans-4c\" x=\"387.597656\"/>\n",
       "       <use xlink:href=\"#DejaVuSans-46\" x=\"443.310547\"/>\n",
       "       <use xlink:href=\"#DejaVuSans-31\" x=\"500.830078\"/>\n",
       "       <use xlink:href=\"#DejaVuSans-5f\" x=\"564.453125\"/>\n",
       "       <use xlink:href=\"#DejaVuSans-53\" x=\"614.453125\"/>\n",
       "       <use xlink:href=\"#DejaVuSans-35\" x=\"677.929688\"/>\n",
       "       <use xlink:href=\"#DejaVuSans-2d\" x=\"741.552734\"/>\n",
       "       <use xlink:href=\"#DejaVuSans-52\" x=\"777.636719\"/>\n",
       "       <use xlink:href=\"#DejaVuSans-4e\" x=\"847.119141\"/>\n",
       "       <use xlink:href=\"#DejaVuSans-61\" x=\"921.923828\"/>\n",
       "       <use xlink:href=\"#DejaVuSans-73\" x=\"983.203125\"/>\n",
       "       <use xlink:href=\"#DejaVuSans-65\" x=\"1035.302734\"/>\n",
       "      </g>\n",
       "     </g>\n",
       "    </g>\n",
       "    <g id=\"ytick_24\">\n",
       "     <g id=\"text_31\">\n",
       "      <!-- 0:S7-SLF1_S5-RNase -->\n",
       "      <g transform=\"translate(460.6 307.679561)scale(0.08 -0.08)\">\n",
       "       <use xlink:href=\"#DejaVuSans-30\"/>\n",
       "       <use xlink:href=\"#DejaVuSans-3a\" x=\"63.623047\"/>\n",
       "       <use xlink:href=\"#DejaVuSans-53\" x=\"97.314453\"/>\n",
       "       <use xlink:href=\"#DejaVuSans-37\" x=\"160.791016\"/>\n",
       "       <use xlink:href=\"#DejaVuSans-2d\" x=\"224.414062\"/>\n",
       "       <use xlink:href=\"#DejaVuSans-53\" x=\"260.498047\"/>\n",
       "       <use xlink:href=\"#DejaVuSans-4c\" x=\"323.974609\"/>\n",
       "       <use xlink:href=\"#DejaVuSans-46\" x=\"379.6875\"/>\n",
       "       <use xlink:href=\"#DejaVuSans-31\" x=\"437.207031\"/>\n",
       "       <use xlink:href=\"#DejaVuSans-5f\" x=\"500.830078\"/>\n",
       "       <use xlink:href=\"#DejaVuSans-53\" x=\"550.830078\"/>\n",
       "       <use xlink:href=\"#DejaVuSans-35\" x=\"614.306641\"/>\n",
       "       <use xlink:href=\"#DejaVuSans-2d\" x=\"677.929688\"/>\n",
       "       <use xlink:href=\"#DejaVuSans-52\" x=\"714.013672\"/>\n",
       "       <use xlink:href=\"#DejaVuSans-4e\" x=\"783.496094\"/>\n",
       "       <use xlink:href=\"#DejaVuSans-61\" x=\"858.300781\"/>\n",
       "       <use xlink:href=\"#DejaVuSans-73\" x=\"919.580078\"/>\n",
       "       <use xlink:href=\"#DejaVuSans-65\" x=\"971.679688\"/>\n",
       "      </g>\n",
       "     </g>\n",
       "    </g>\n",
       "    <g id=\"ytick_25\">\n",
       "     <g id=\"text_32\">\n",
       "      <!-- 0:S11-SLF2_S5-RNase -->\n",
       "      <g transform=\"translate(460.6 285.641723)scale(0.08 -0.08)\">\n",
       "       <use xlink:href=\"#DejaVuSans-30\"/>\n",
       "       <use xlink:href=\"#DejaVuSans-3a\" x=\"63.623047\"/>\n",
       "       <use xlink:href=\"#DejaVuSans-53\" x=\"97.314453\"/>\n",
       "       <use xlink:href=\"#DejaVuSans-31\" x=\"160.791016\"/>\n",
       "       <use xlink:href=\"#DejaVuSans-31\" x=\"224.414062\"/>\n",
       "       <use xlink:href=\"#DejaVuSans-2d\" x=\"288.037109\"/>\n",
       "       <use xlink:href=\"#DejaVuSans-53\" x=\"324.121094\"/>\n",
       "       <use xlink:href=\"#DejaVuSans-4c\" x=\"387.597656\"/>\n",
       "       <use xlink:href=\"#DejaVuSans-46\" x=\"443.310547\"/>\n",
       "       <use xlink:href=\"#DejaVuSans-32\" x=\"500.830078\"/>\n",
       "       <use xlink:href=\"#DejaVuSans-5f\" x=\"564.453125\"/>\n",
       "       <use xlink:href=\"#DejaVuSans-53\" x=\"614.453125\"/>\n",
       "       <use xlink:href=\"#DejaVuSans-35\" x=\"677.929688\"/>\n",
       "       <use xlink:href=\"#DejaVuSans-2d\" x=\"741.552734\"/>\n",
       "       <use xlink:href=\"#DejaVuSans-52\" x=\"777.636719\"/>\n",
       "       <use xlink:href=\"#DejaVuSans-4e\" x=\"847.119141\"/>\n",
       "       <use xlink:href=\"#DejaVuSans-61\" x=\"921.923828\"/>\n",
       "       <use xlink:href=\"#DejaVuSans-73\" x=\"983.203125\"/>\n",
       "       <use xlink:href=\"#DejaVuSans-65\" x=\"1035.302734\"/>\n",
       "      </g>\n",
       "     </g>\n",
       "    </g>\n",
       "    <g id=\"ytick_26\">\n",
       "     <g id=\"text_33\">\n",
       "      <!-- 0:S7-SLF2_S5-RNase -->\n",
       "      <g transform=\"translate(460.6 263.603885)scale(0.08 -0.08)\">\n",
       "       <use xlink:href=\"#DejaVuSans-30\"/>\n",
       "       <use xlink:href=\"#DejaVuSans-3a\" x=\"63.623047\"/>\n",
       "       <use xlink:href=\"#DejaVuSans-53\" x=\"97.314453\"/>\n",
       "       <use xlink:href=\"#DejaVuSans-37\" x=\"160.791016\"/>\n",
       "       <use xlink:href=\"#DejaVuSans-2d\" x=\"224.414062\"/>\n",
       "       <use xlink:href=\"#DejaVuSans-53\" x=\"260.498047\"/>\n",
       "       <use xlink:href=\"#DejaVuSans-4c\" x=\"323.974609\"/>\n",
       "       <use xlink:href=\"#DejaVuSans-46\" x=\"379.6875\"/>\n",
       "       <use xlink:href=\"#DejaVuSans-32\" x=\"437.207031\"/>\n",
       "       <use xlink:href=\"#DejaVuSans-5f\" x=\"500.830078\"/>\n",
       "       <use xlink:href=\"#DejaVuSans-53\" x=\"550.830078\"/>\n",
       "       <use xlink:href=\"#DejaVuSans-35\" x=\"614.306641\"/>\n",
       "       <use xlink:href=\"#DejaVuSans-2d\" x=\"677.929688\"/>\n",
       "       <use xlink:href=\"#DejaVuSans-52\" x=\"714.013672\"/>\n",
       "       <use xlink:href=\"#DejaVuSans-4e\" x=\"783.496094\"/>\n",
       "       <use xlink:href=\"#DejaVuSans-61\" x=\"858.300781\"/>\n",
       "       <use xlink:href=\"#DejaVuSans-73\" x=\"919.580078\"/>\n",
       "       <use xlink:href=\"#DejaVuSans-65\" x=\"971.679688\"/>\n",
       "      </g>\n",
       "     </g>\n",
       "    </g>\n",
       "    <g id=\"ytick_27\">\n",
       "     <g id=\"text_34\">\n",
       "      <!-- 0:S11-SLF1_S7-RNase -->\n",
       "      <g transform=\"translate(460.6 241.566047)scale(0.08 -0.08)\">\n",
       "       <use xlink:href=\"#DejaVuSans-30\"/>\n",
       "       <use xlink:href=\"#DejaVuSans-3a\" x=\"63.623047\"/>\n",
       "       <use xlink:href=\"#DejaVuSans-53\" x=\"97.314453\"/>\n",
       "       <use xlink:href=\"#DejaVuSans-31\" x=\"160.791016\"/>\n",
       "       <use xlink:href=\"#DejaVuSans-31\" x=\"224.414062\"/>\n",
       "       <use xlink:href=\"#DejaVuSans-2d\" x=\"288.037109\"/>\n",
       "       <use xlink:href=\"#DejaVuSans-53\" x=\"324.121094\"/>\n",
       "       <use xlink:href=\"#DejaVuSans-4c\" x=\"387.597656\"/>\n",
       "       <use xlink:href=\"#DejaVuSans-46\" x=\"443.310547\"/>\n",
       "       <use xlink:href=\"#DejaVuSans-31\" x=\"500.830078\"/>\n",
       "       <use xlink:href=\"#DejaVuSans-5f\" x=\"564.453125\"/>\n",
       "       <use xlink:href=\"#DejaVuSans-53\" x=\"614.453125\"/>\n",
       "       <use xlink:href=\"#DejaVuSans-37\" x=\"677.929688\"/>\n",
       "       <use xlink:href=\"#DejaVuSans-2d\" x=\"741.552734\"/>\n",
       "       <use xlink:href=\"#DejaVuSans-52\" x=\"777.636719\"/>\n",
       "       <use xlink:href=\"#DejaVuSans-4e\" x=\"847.119141\"/>\n",
       "       <use xlink:href=\"#DejaVuSans-61\" x=\"921.923828\"/>\n",
       "       <use xlink:href=\"#DejaVuSans-73\" x=\"983.203125\"/>\n",
       "       <use xlink:href=\"#DejaVuSans-65\" x=\"1035.302734\"/>\n",
       "      </g>\n",
       "     </g>\n",
       "    </g>\n",
       "    <g id=\"ytick_28\">\n",
       "     <g id=\"text_35\">\n",
       "      <!-- 0:S5-SLF1_S7-RNase -->\n",
       "      <g transform=\"translate(460.6 219.528209)scale(0.08 -0.08)\">\n",
       "       <use xlink:href=\"#DejaVuSans-30\"/>\n",
       "       <use xlink:href=\"#DejaVuSans-3a\" x=\"63.623047\"/>\n",
       "       <use xlink:href=\"#DejaVuSans-53\" x=\"97.314453\"/>\n",
       "       <use xlink:href=\"#DejaVuSans-35\" x=\"160.791016\"/>\n",
       "       <use xlink:href=\"#DejaVuSans-2d\" x=\"224.414062\"/>\n",
       "       <use xlink:href=\"#DejaVuSans-53\" x=\"260.498047\"/>\n",
       "       <use xlink:href=\"#DejaVuSans-4c\" x=\"323.974609\"/>\n",
       "       <use xlink:href=\"#DejaVuSans-46\" x=\"379.6875\"/>\n",
       "       <use xlink:href=\"#DejaVuSans-31\" x=\"437.207031\"/>\n",
       "       <use xlink:href=\"#DejaVuSans-5f\" x=\"500.830078\"/>\n",
       "       <use xlink:href=\"#DejaVuSans-53\" x=\"550.830078\"/>\n",
       "       <use xlink:href=\"#DejaVuSans-37\" x=\"614.306641\"/>\n",
       "       <use xlink:href=\"#DejaVuSans-2d\" x=\"677.929688\"/>\n",
       "       <use xlink:href=\"#DejaVuSans-52\" x=\"714.013672\"/>\n",
       "       <use xlink:href=\"#DejaVuSans-4e\" x=\"783.496094\"/>\n",
       "       <use xlink:href=\"#DejaVuSans-61\" x=\"858.300781\"/>\n",
       "       <use xlink:href=\"#DejaVuSans-73\" x=\"919.580078\"/>\n",
       "       <use xlink:href=\"#DejaVuSans-65\" x=\"971.679688\"/>\n",
       "      </g>\n",
       "     </g>\n",
       "    </g>\n",
       "    <g id=\"ytick_29\">\n",
       "     <g id=\"text_36\">\n",
       "      <!-- 0:S9-SLF1_S7-RNase -->\n",
       "      <g transform=\"translate(460.6 197.490372)scale(0.08 -0.08)\">\n",
       "       <use xlink:href=\"#DejaVuSans-30\"/>\n",
       "       <use xlink:href=\"#DejaVuSans-3a\" x=\"63.623047\"/>\n",
       "       <use xlink:href=\"#DejaVuSans-53\" x=\"97.314453\"/>\n",
       "       <use xlink:href=\"#DejaVuSans-39\" x=\"160.791016\"/>\n",
       "       <use xlink:href=\"#DejaVuSans-2d\" x=\"224.414062\"/>\n",
       "       <use xlink:href=\"#DejaVuSans-53\" x=\"260.498047\"/>\n",
       "       <use xlink:href=\"#DejaVuSans-4c\" x=\"323.974609\"/>\n",
       "       <use xlink:href=\"#DejaVuSans-46\" x=\"379.6875\"/>\n",
       "       <use xlink:href=\"#DejaVuSans-31\" x=\"437.207031\"/>\n",
       "       <use xlink:href=\"#DejaVuSans-5f\" x=\"500.830078\"/>\n",
       "       <use xlink:href=\"#DejaVuSans-53\" x=\"550.830078\"/>\n",
       "       <use xlink:href=\"#DejaVuSans-37\" x=\"614.306641\"/>\n",
       "       <use xlink:href=\"#DejaVuSans-2d\" x=\"677.929688\"/>\n",
       "       <use xlink:href=\"#DejaVuSans-52\" x=\"714.013672\"/>\n",
       "       <use xlink:href=\"#DejaVuSans-4e\" x=\"783.496094\"/>\n",
       "       <use xlink:href=\"#DejaVuSans-61\" x=\"858.300781\"/>\n",
       "       <use xlink:href=\"#DejaVuSans-73\" x=\"919.580078\"/>\n",
       "       <use xlink:href=\"#DejaVuSans-65\" x=\"971.679688\"/>\n",
       "      </g>\n",
       "     </g>\n",
       "    </g>\n",
       "    <g id=\"ytick_30\">\n",
       "     <g id=\"text_37\">\n",
       "      <!-- 0:S11-SLF2_S7-RNase -->\n",
       "      <g transform=\"translate(460.6 175.452534)scale(0.08 -0.08)\">\n",
       "       <use xlink:href=\"#DejaVuSans-30\"/>\n",
       "       <use xlink:href=\"#DejaVuSans-3a\" x=\"63.623047\"/>\n",
       "       <use xlink:href=\"#DejaVuSans-53\" x=\"97.314453\"/>\n",
       "       <use xlink:href=\"#DejaVuSans-31\" x=\"160.791016\"/>\n",
       "       <use xlink:href=\"#DejaVuSans-31\" x=\"224.414062\"/>\n",
       "       <use xlink:href=\"#DejaVuSans-2d\" x=\"288.037109\"/>\n",
       "       <use xlink:href=\"#DejaVuSans-53\" x=\"324.121094\"/>\n",
       "       <use xlink:href=\"#DejaVuSans-4c\" x=\"387.597656\"/>\n",
       "       <use xlink:href=\"#DejaVuSans-46\" x=\"443.310547\"/>\n",
       "       <use xlink:href=\"#DejaVuSans-32\" x=\"500.830078\"/>\n",
       "       <use xlink:href=\"#DejaVuSans-5f\" x=\"564.453125\"/>\n",
       "       <use xlink:href=\"#DejaVuSans-53\" x=\"614.453125\"/>\n",
       "       <use xlink:href=\"#DejaVuSans-37\" x=\"677.929688\"/>\n",
       "       <use xlink:href=\"#DejaVuSans-2d\" x=\"741.552734\"/>\n",
       "       <use xlink:href=\"#DejaVuSans-52\" x=\"777.636719\"/>\n",
       "       <use xlink:href=\"#DejaVuSans-4e\" x=\"847.119141\"/>\n",
       "       <use xlink:href=\"#DejaVuSans-61\" x=\"921.923828\"/>\n",
       "       <use xlink:href=\"#DejaVuSans-73\" x=\"983.203125\"/>\n",
       "       <use xlink:href=\"#DejaVuSans-65\" x=\"1035.302734\"/>\n",
       "      </g>\n",
       "     </g>\n",
       "    </g>\n",
       "    <g id=\"ytick_31\">\n",
       "     <g id=\"text_38\">\n",
       "      <!-- 0:S5-SLF2_S7-RNase -->\n",
       "      <g transform=\"translate(460.6 153.414696)scale(0.08 -0.08)\">\n",
       "       <use xlink:href=\"#DejaVuSans-30\"/>\n",
       "       <use xlink:href=\"#DejaVuSans-3a\" x=\"63.623047\"/>\n",
       "       <use xlink:href=\"#DejaVuSans-53\" x=\"97.314453\"/>\n",
       "       <use xlink:href=\"#DejaVuSans-35\" x=\"160.791016\"/>\n",
       "       <use xlink:href=\"#DejaVuSans-2d\" x=\"224.414062\"/>\n",
       "       <use xlink:href=\"#DejaVuSans-53\" x=\"260.498047\"/>\n",
       "       <use xlink:href=\"#DejaVuSans-4c\" x=\"323.974609\"/>\n",
       "       <use xlink:href=\"#DejaVuSans-46\" x=\"379.6875\"/>\n",
       "       <use xlink:href=\"#DejaVuSans-32\" x=\"437.207031\"/>\n",
       "       <use xlink:href=\"#DejaVuSans-5f\" x=\"500.830078\"/>\n",
       "       <use xlink:href=\"#DejaVuSans-53\" x=\"550.830078\"/>\n",
       "       <use xlink:href=\"#DejaVuSans-37\" x=\"614.306641\"/>\n",
       "       <use xlink:href=\"#DejaVuSans-2d\" x=\"677.929688\"/>\n",
       "       <use xlink:href=\"#DejaVuSans-52\" x=\"714.013672\"/>\n",
       "       <use xlink:href=\"#DejaVuSans-4e\" x=\"783.496094\"/>\n",
       "       <use xlink:href=\"#DejaVuSans-61\" x=\"858.300781\"/>\n",
       "       <use xlink:href=\"#DejaVuSans-73\" x=\"919.580078\"/>\n",
       "       <use xlink:href=\"#DejaVuSans-65\" x=\"971.679688\"/>\n",
       "      </g>\n",
       "     </g>\n",
       "    </g>\n",
       "    <g id=\"ytick_32\">\n",
       "     <g id=\"text_39\">\n",
       "      <!-- 0:S11-SLF1_S9-RNase -->\n",
       "      <g transform=\"translate(460.6 131.376858)scale(0.08 -0.08)\">\n",
       "       <use xlink:href=\"#DejaVuSans-30\"/>\n",
       "       <use xlink:href=\"#DejaVuSans-3a\" x=\"63.623047\"/>\n",
       "       <use xlink:href=\"#DejaVuSans-53\" x=\"97.314453\"/>\n",
       "       <use xlink:href=\"#DejaVuSans-31\" x=\"160.791016\"/>\n",
       "       <use xlink:href=\"#DejaVuSans-31\" x=\"224.414062\"/>\n",
       "       <use xlink:href=\"#DejaVuSans-2d\" x=\"288.037109\"/>\n",
       "       <use xlink:href=\"#DejaVuSans-53\" x=\"324.121094\"/>\n",
       "       <use xlink:href=\"#DejaVuSans-4c\" x=\"387.597656\"/>\n",
       "       <use xlink:href=\"#DejaVuSans-46\" x=\"443.310547\"/>\n",
       "       <use xlink:href=\"#DejaVuSans-31\" x=\"500.830078\"/>\n",
       "       <use xlink:href=\"#DejaVuSans-5f\" x=\"564.453125\"/>\n",
       "       <use xlink:href=\"#DejaVuSans-53\" x=\"614.453125\"/>\n",
       "       <use xlink:href=\"#DejaVuSans-39\" x=\"677.929688\"/>\n",
       "       <use xlink:href=\"#DejaVuSans-2d\" x=\"741.552734\"/>\n",
       "       <use xlink:href=\"#DejaVuSans-52\" x=\"777.636719\"/>\n",
       "       <use xlink:href=\"#DejaVuSans-4e\" x=\"847.119141\"/>\n",
       "       <use xlink:href=\"#DejaVuSans-61\" x=\"921.923828\"/>\n",
       "       <use xlink:href=\"#DejaVuSans-73\" x=\"983.203125\"/>\n",
       "       <use xlink:href=\"#DejaVuSans-65\" x=\"1035.302734\"/>\n",
       "      </g>\n",
       "     </g>\n",
       "    </g>\n",
       "    <g id=\"ytick_33\">\n",
       "     <g id=\"text_40\">\n",
       "      <!-- 1:S5-SLF1_S9-RNase -->\n",
       "      <g transform=\"translate(460.6 109.33902)scale(0.08 -0.08)\">\n",
       "       <use xlink:href=\"#DejaVuSans-31\"/>\n",
       "       <use xlink:href=\"#DejaVuSans-3a\" x=\"63.623047\"/>\n",
       "       <use xlink:href=\"#DejaVuSans-53\" x=\"97.314453\"/>\n",
       "       <use xlink:href=\"#DejaVuSans-35\" x=\"160.791016\"/>\n",
       "       <use xlink:href=\"#DejaVuSans-2d\" x=\"224.414062\"/>\n",
       "       <use xlink:href=\"#DejaVuSans-53\" x=\"260.498047\"/>\n",
       "       <use xlink:href=\"#DejaVuSans-4c\" x=\"323.974609\"/>\n",
       "       <use xlink:href=\"#DejaVuSans-46\" x=\"379.6875\"/>\n",
       "       <use xlink:href=\"#DejaVuSans-31\" x=\"437.207031\"/>\n",
       "       <use xlink:href=\"#DejaVuSans-5f\" x=\"500.830078\"/>\n",
       "       <use xlink:href=\"#DejaVuSans-53\" x=\"550.830078\"/>\n",
       "       <use xlink:href=\"#DejaVuSans-39\" x=\"614.306641\"/>\n",
       "       <use xlink:href=\"#DejaVuSans-2d\" x=\"677.929688\"/>\n",
       "       <use xlink:href=\"#DejaVuSans-52\" x=\"714.013672\"/>\n",
       "       <use xlink:href=\"#DejaVuSans-4e\" x=\"783.496094\"/>\n",
       "       <use xlink:href=\"#DejaVuSans-61\" x=\"858.300781\"/>\n",
       "       <use xlink:href=\"#DejaVuSans-73\" x=\"919.580078\"/>\n",
       "       <use xlink:href=\"#DejaVuSans-65\" x=\"971.679688\"/>\n",
       "      </g>\n",
       "     </g>\n",
       "    </g>\n",
       "    <g id=\"ytick_34\">\n",
       "     <g id=\"text_41\">\n",
       "      <!-- 1:S7-SLF1_S9-RNase -->\n",
       "      <g transform=\"translate(460.6 87.301182)scale(0.08 -0.08)\">\n",
       "       <use xlink:href=\"#DejaVuSans-31\"/>\n",
       "       <use xlink:href=\"#DejaVuSans-3a\" x=\"63.623047\"/>\n",
       "       <use xlink:href=\"#DejaVuSans-53\" x=\"97.314453\"/>\n",
       "       <use xlink:href=\"#DejaVuSans-37\" x=\"160.791016\"/>\n",
       "       <use xlink:href=\"#DejaVuSans-2d\" x=\"224.414062\"/>\n",
       "       <use xlink:href=\"#DejaVuSans-53\" x=\"260.498047\"/>\n",
       "       <use xlink:href=\"#DejaVuSans-4c\" x=\"323.974609\"/>\n",
       "       <use xlink:href=\"#DejaVuSans-46\" x=\"379.6875\"/>\n",
       "       <use xlink:href=\"#DejaVuSans-31\" x=\"437.207031\"/>\n",
       "       <use xlink:href=\"#DejaVuSans-5f\" x=\"500.830078\"/>\n",
       "       <use xlink:href=\"#DejaVuSans-53\" x=\"550.830078\"/>\n",
       "       <use xlink:href=\"#DejaVuSans-39\" x=\"614.306641\"/>\n",
       "       <use xlink:href=\"#DejaVuSans-2d\" x=\"677.929688\"/>\n",
       "       <use xlink:href=\"#DejaVuSans-52\" x=\"714.013672\"/>\n",
       "       <use xlink:href=\"#DejaVuSans-4e\" x=\"783.496094\"/>\n",
       "       <use xlink:href=\"#DejaVuSans-61\" x=\"858.300781\"/>\n",
       "       <use xlink:href=\"#DejaVuSans-73\" x=\"919.580078\"/>\n",
       "       <use xlink:href=\"#DejaVuSans-65\" x=\"971.679688\"/>\n",
       "      </g>\n",
       "     </g>\n",
       "    </g>\n",
       "    <g id=\"ytick_35\">\n",
       "     <g id=\"text_42\">\n",
       "      <!-- 1:S7-SLF2_S9-RNase -->\n",
       "      <g transform=\"translate(460.6 65.263345)scale(0.08 -0.08)\">\n",
       "       <use xlink:href=\"#DejaVuSans-31\"/>\n",
       "       <use xlink:href=\"#DejaVuSans-3a\" x=\"63.623047\"/>\n",
       "       <use xlink:href=\"#DejaVuSans-53\" x=\"97.314453\"/>\n",
       "       <use xlink:href=\"#DejaVuSans-37\" x=\"160.791016\"/>\n",
       "       <use xlink:href=\"#DejaVuSans-2d\" x=\"224.414062\"/>\n",
       "       <use xlink:href=\"#DejaVuSans-53\" x=\"260.498047\"/>\n",
       "       <use xlink:href=\"#DejaVuSans-4c\" x=\"323.974609\"/>\n",
       "       <use xlink:href=\"#DejaVuSans-46\" x=\"379.6875\"/>\n",
       "       <use xlink:href=\"#DejaVuSans-32\" x=\"437.207031\"/>\n",
       "       <use xlink:href=\"#DejaVuSans-5f\" x=\"500.830078\"/>\n",
       "       <use xlink:href=\"#DejaVuSans-53\" x=\"550.830078\"/>\n",
       "       <use xlink:href=\"#DejaVuSans-39\" x=\"614.306641\"/>\n",
       "       <use xlink:href=\"#DejaVuSans-2d\" x=\"677.929688\"/>\n",
       "       <use xlink:href=\"#DejaVuSans-52\" x=\"714.013672\"/>\n",
       "       <use xlink:href=\"#DejaVuSans-4e\" x=\"783.496094\"/>\n",
       "       <use xlink:href=\"#DejaVuSans-61\" x=\"858.300781\"/>\n",
       "       <use xlink:href=\"#DejaVuSans-73\" x=\"919.580078\"/>\n",
       "       <use xlink:href=\"#DejaVuSans-65\" x=\"971.679688\"/>\n",
       "      </g>\n",
       "     </g>\n",
       "    </g>\n",
       "    <g id=\"ytick_36\">\n",
       "     <g id=\"text_43\">\n",
       "      <!-- 1:S11-SLF2_S9-RNase -->\n",
       "      <g transform=\"translate(460.6 43.225507)scale(0.08 -0.08)\">\n",
       "       <use xlink:href=\"#DejaVuSans-31\"/>\n",
       "       <use xlink:href=\"#DejaVuSans-3a\" x=\"63.623047\"/>\n",
       "       <use xlink:href=\"#DejaVuSans-53\" x=\"97.314453\"/>\n",
       "       <use xlink:href=\"#DejaVuSans-31\" x=\"160.791016\"/>\n",
       "       <use xlink:href=\"#DejaVuSans-31\" x=\"224.414062\"/>\n",
       "       <use xlink:href=\"#DejaVuSans-2d\" x=\"288.037109\"/>\n",
       "       <use xlink:href=\"#DejaVuSans-53\" x=\"324.121094\"/>\n",
       "       <use xlink:href=\"#DejaVuSans-4c\" x=\"387.597656\"/>\n",
       "       <use xlink:href=\"#DejaVuSans-46\" x=\"443.310547\"/>\n",
       "       <use xlink:href=\"#DejaVuSans-32\" x=\"500.830078\"/>\n",
       "       <use xlink:href=\"#DejaVuSans-5f\" x=\"564.453125\"/>\n",
       "       <use xlink:href=\"#DejaVuSans-53\" x=\"614.453125\"/>\n",
       "       <use xlink:href=\"#DejaVuSans-39\" x=\"677.929688\"/>\n",
       "       <use xlink:href=\"#DejaVuSans-2d\" x=\"741.552734\"/>\n",
       "       <use xlink:href=\"#DejaVuSans-52\" x=\"777.636719\"/>\n",
       "       <use xlink:href=\"#DejaVuSans-4e\" x=\"847.119141\"/>\n",
       "       <use xlink:href=\"#DejaVuSans-61\" x=\"921.923828\"/>\n",
       "       <use xlink:href=\"#DejaVuSans-73\" x=\"983.203125\"/>\n",
       "       <use xlink:href=\"#DejaVuSans-65\" x=\"1035.302734\"/>\n",
       "      </g>\n",
       "     </g>\n",
       "    </g>\n",
       "    <g id=\"ytick_37\">\n",
       "     <g id=\"text_44\">\n",
       "      <!-- 1:S5-SLF2_S9-RNase -->\n",
       "      <g transform=\"translate(460.6 21.187669)scale(0.08 -0.08)\">\n",
       "       <use xlink:href=\"#DejaVuSans-31\"/>\n",
       "       <use xlink:href=\"#DejaVuSans-3a\" x=\"63.623047\"/>\n",
       "       <use xlink:href=\"#DejaVuSans-53\" x=\"97.314453\"/>\n",
       "       <use xlink:href=\"#DejaVuSans-35\" x=\"160.791016\"/>\n",
       "       <use xlink:href=\"#DejaVuSans-2d\" x=\"224.414062\"/>\n",
       "       <use xlink:href=\"#DejaVuSans-53\" x=\"260.498047\"/>\n",
       "       <use xlink:href=\"#DejaVuSans-4c\" x=\"323.974609\"/>\n",
       "       <use xlink:href=\"#DejaVuSans-46\" x=\"379.6875\"/>\n",
       "       <use xlink:href=\"#DejaVuSans-32\" x=\"437.207031\"/>\n",
       "       <use xlink:href=\"#DejaVuSans-5f\" x=\"500.830078\"/>\n",
       "       <use xlink:href=\"#DejaVuSans-53\" x=\"550.830078\"/>\n",
       "       <use xlink:href=\"#DejaVuSans-39\" x=\"614.306641\"/>\n",
       "       <use xlink:href=\"#DejaVuSans-2d\" x=\"677.929688\"/>\n",
       "       <use xlink:href=\"#DejaVuSans-52\" x=\"714.013672\"/>\n",
       "       <use xlink:href=\"#DejaVuSans-4e\" x=\"783.496094\"/>\n",
       "       <use xlink:href=\"#DejaVuSans-61\" x=\"858.300781\"/>\n",
       "       <use xlink:href=\"#DejaVuSans-73\" x=\"919.580078\"/>\n",
       "       <use xlink:href=\"#DejaVuSans-65\" x=\"971.679688\"/>\n",
       "      </g>\n",
       "     </g>\n",
       "    </g>\n",
       "   </g>\n",
       "   <g id=\"LineCollection_1\">\n",
       "    <path d=\"M 453.6 767.505405 \n",
       "L 431.697829 767.505405 \n",
       "L 431.697829 745.467568 \n",
       "L 453.6 745.467568 \n",
       "\" clip-path=\"url(#pad42dc4301)\" style=\"fill: none; stroke: #ff7f0e; stroke-width: 1.5\"/>\n",
       "    <path d=\"M 453.6 789.543243 \n",
       "L 412.572326 789.543243 \n",
       "L 412.572326 756.486486 \n",
       "L 431.697829 756.486486 \n",
       "\" clip-path=\"url(#pad42dc4301)\" style=\"fill: none; stroke: #ff7f0e; stroke-width: 1.5\"/>\n",
       "    <path d=\"M 453.6 723.42973 \n",
       "L 373.280201 723.42973 \n",
       "L 373.280201 701.391892 \n",
       "L 453.6 701.391892 \n",
       "\" clip-path=\"url(#pad42dc4301)\" style=\"fill: none; stroke: #ff7f0e; stroke-width: 1.5\"/>\n",
       "    <path d=\"M 412.572326 773.014865 \n",
       "L 287.786677 773.014865 \n",
       "L 287.786677 712.410811 \n",
       "L 373.280201 712.410811 \n",
       "\" clip-path=\"url(#pad42dc4301)\" style=\"fill: none; stroke: #ff7f0e; stroke-width: 1.5\"/>\n",
       "    <path d=\"M 453.6 811.581081 \n",
       "L 276.461041 811.581081 \n",
       "L 276.461041 742.712838 \n",
       "L 287.786677 742.712838 \n",
       "\" clip-path=\"url(#pad42dc4301)\" style=\"fill: none; stroke: #ff7f0e; stroke-width: 1.5\"/>\n",
       "   </g>\n",
       "   <g id=\"LineCollection_2\">\n",
       "    <path d=\"M 453.6 657.316216 \n",
       "L 366.341523 657.316216 \n",
       "L 366.341523 635.278378 \n",
       "L 453.6 635.278378 \n",
       "\" clip-path=\"url(#pad42dc4301)\" style=\"fill: none; stroke: #2ca02c; stroke-width: 1.5\"/>\n",
       "    <path d=\"M 453.6 679.354054 \n",
       "L 299.154619 679.354054 \n",
       "L 299.154619 646.297297 \n",
       "L 366.341523 646.297297 \n",
       "\" clip-path=\"url(#pad42dc4301)\" style=\"fill: none; stroke: #2ca02c; stroke-width: 1.5\"/>\n",
       "    <path d=\"M 453.6 613.240541 \n",
       "L 366.341523 613.240541 \n",
       "L 366.341523 591.202703 \n",
       "L 453.6 591.202703 \n",
       "\" clip-path=\"url(#pad42dc4301)\" style=\"fill: none; stroke: #2ca02c; stroke-width: 1.5\"/>\n",
       "    <path d=\"M 453.6 569.164865 \n",
       "L 366.341523 569.164865 \n",
       "L 366.341523 547.127027 \n",
       "L 453.6 547.127027 \n",
       "\" clip-path=\"url(#pad42dc4301)\" style=\"fill: none; stroke: #2ca02c; stroke-width: 1.5\"/>\n",
       "    <path d=\"M 366.341523 602.221622 \n",
       "L 272.839811 602.221622 \n",
       "L 272.839811 558.145946 \n",
       "L 366.341523 558.145946 \n",
       "\" clip-path=\"url(#pad42dc4301)\" style=\"fill: none; stroke: #2ca02c; stroke-width: 1.5\"/>\n",
       "    <path d=\"M 299.154619 662.825676 \n",
       "L 240.146333 662.825676 \n",
       "L 240.146333 580.183784 \n",
       "L 272.839811 580.183784 \n",
       "\" clip-path=\"url(#pad42dc4301)\" style=\"fill: none; stroke: #2ca02c; stroke-width: 1.5\"/>\n",
       "   </g>\n",
       "   <g id=\"LineCollection_3\">\n",
       "    <path d=\"M 453.6 481.013514 \n",
       "L 431.697836 481.013514 \n",
       "L 431.697836 458.975676 \n",
       "L 453.6 458.975676 \n",
       "\" clip-path=\"url(#pad42dc4301)\" style=\"fill: none; stroke: #d62728; stroke-width: 1.5\"/>\n",
       "    <path d=\"M 453.6 503.051351 \n",
       "L 412.846407 503.051351 \n",
       "L 412.846407 469.994595 \n",
       "L 431.697836 469.994595 \n",
       "\" clip-path=\"url(#pad42dc4301)\" style=\"fill: none; stroke: #d62728; stroke-width: 1.5\"/>\n",
       "    <path d=\"M 453.6 525.089189 \n",
       "L 410.082953 525.089189 \n",
       "L 410.082953 486.522973 \n",
       "L 412.846407 486.522973 \n",
       "\" clip-path=\"url(#pad42dc4301)\" style=\"fill: none; stroke: #d62728; stroke-width: 1.5\"/>\n",
       "    <path d=\"M 453.6 414.9 \n",
       "L 382.028697 414.9 \n",
       "L 382.028697 392.862162 \n",
       "L 453.6 392.862162 \n",
       "\" clip-path=\"url(#pad42dc4301)\" style=\"fill: none; stroke: #d62728; stroke-width: 1.5\"/>\n",
       "    <path d=\"M 453.6 436.937838 \n",
       "L 360.377975 436.937838 \n",
       "L 360.377975 403.881081 \n",
       "L 382.028697 403.881081 \n",
       "\" clip-path=\"url(#pad42dc4301)\" style=\"fill: none; stroke: #d62728; stroke-width: 1.5\"/>\n",
       "    <path d=\"M 410.082953 505.806081 \n",
       "L 258.216709 505.806081 \n",
       "L 258.216709 420.409459 \n",
       "L 360.377975 420.409459 \n",
       "\" clip-path=\"url(#pad42dc4301)\" style=\"fill: none; stroke: #d62728; stroke-width: 1.5\"/>\n",
       "   </g>\n",
       "   <g id=\"LineCollection_4\">\n",
       "    <path d=\"M 453.6 326.748649 \n",
       "L 417.831741 326.748649 \n",
       "L 417.831741 304.710811 \n",
       "L 453.6 304.710811 \n",
       "\" clip-path=\"url(#pad42dc4301)\" style=\"fill: none; stroke: #9467bd; stroke-width: 1.5\"/>\n",
       "    <path d=\"M 453.6 348.786486 \n",
       "L 410.199464 348.786486 \n",
       "L 410.199464 315.72973 \n",
       "L 417.831741 315.72973 \n",
       "\" clip-path=\"url(#pad42dc4301)\" style=\"fill: none; stroke: #9467bd; stroke-width: 1.5\"/>\n",
       "    <path d=\"M 453.6 282.672973 \n",
       "L 357.968055 282.672973 \n",
       "L 357.968055 260.635135 \n",
       "L 453.6 260.635135 \n",
       "\" clip-path=\"url(#pad42dc4301)\" style=\"fill: none; stroke: #9467bd; stroke-width: 1.5\"/>\n",
       "    <path d=\"M 410.199464 332.258108 \n",
       "L 282.613722 332.258108 \n",
       "L 282.613722 271.654054 \n",
       "L 357.968055 271.654054 \n",
       "\" clip-path=\"url(#pad42dc4301)\" style=\"fill: none; stroke: #9467bd; stroke-width: 1.5\"/>\n",
       "    <path d=\"M 453.6 370.824324 \n",
       "L 254.412809 370.824324 \n",
       "L 254.412809 301.956081 \n",
       "L 282.613722 301.956081 \n",
       "\" clip-path=\"url(#pad42dc4301)\" style=\"fill: none; stroke: #9467bd; stroke-width: 1.5\"/>\n",
       "   </g>\n",
       "   <g id=\"LineCollection_5\">\n",
       "    <path d=\"M 453.6 216.559459 \n",
       "L 416.281755 216.559459 \n",
       "L 416.281755 194.521622 \n",
       "L 453.6 194.521622 \n",
       "\" clip-path=\"url(#pad42dc4301)\" style=\"fill: none; stroke: #8c564b; stroke-width: 1.5\"/>\n",
       "    <path d=\"M 453.6 238.597297 \n",
       "L 410.023025 238.597297 \n",
       "L 410.023025 205.540541 \n",
       "L 416.281755 205.540541 \n",
       "\" clip-path=\"url(#pad42dc4301)\" style=\"fill: none; stroke: #8c564b; stroke-width: 1.5\"/>\n",
       "    <path d=\"M 453.6 172.483784 \n",
       "L 382.028704 172.483784 \n",
       "L 382.028704 150.445946 \n",
       "L 453.6 150.445946 \n",
       "\" clip-path=\"url(#pad42dc4301)\" style=\"fill: none; stroke: #8c564b; stroke-width: 1.5\"/>\n",
       "    <path d=\"M 410.023025 222.068919 \n",
       "L 286.963579 222.068919 \n",
       "L 286.963579 161.464865 \n",
       "L 382.028704 161.464865 \n",
       "\" clip-path=\"url(#pad42dc4301)\" style=\"fill: none; stroke: #8c564b; stroke-width: 1.5\"/>\n",
       "    <path d=\"M 453.6 106.37027 \n",
       "L 431.697832 106.37027 \n",
       "L 431.697832 84.332432 \n",
       "L 453.6 84.332432 \n",
       "\" clip-path=\"url(#pad42dc4301)\" style=\"fill: none; stroke: #8c564b; stroke-width: 1.5\"/>\n",
       "    <path d=\"M 453.6 128.408108 \n",
       "L 412.846318 128.408108 \n",
       "L 412.846318 95.351351 \n",
       "L 431.697832 95.351351 \n",
       "\" clip-path=\"url(#pad42dc4301)\" style=\"fill: none; stroke: #8c564b; stroke-width: 1.5\"/>\n",
       "    <path d=\"M 453.6 40.256757 \n",
       "L 382.028703 40.256757 \n",
       "L 382.028703 18.218919 \n",
       "L 453.6 18.218919 \n",
       "\" clip-path=\"url(#pad42dc4301)\" style=\"fill: none; stroke: #8c564b; stroke-width: 1.5\"/>\n",
       "    <path d=\"M 453.6 62.294595 \n",
       "L 360.377987 62.294595 \n",
       "L 360.377987 29.237838 \n",
       "L 382.028703 29.237838 \n",
       "\" clip-path=\"url(#pad42dc4301)\" style=\"fill: none; stroke: #8c564b; stroke-width: 1.5\"/>\n",
       "    <path d=\"M 412.846318 111.87973 \n",
       "L 269.738699 111.87973 \n",
       "L 269.738699 45.766216 \n",
       "L 360.377987 45.766216 \n",
       "\" clip-path=\"url(#pad42dc4301)\" style=\"fill: none; stroke: #8c564b; stroke-width: 1.5\"/>\n",
       "    <path d=\"M 286.963579 191.766892 \n",
       "L 164.606019 191.766892 \n",
       "L 164.606019 78.822973 \n",
       "L 269.738699 78.822973 \n",
       "\" clip-path=\"url(#pad42dc4301)\" style=\"fill: none; stroke: #8c564b; stroke-width: 1.5\"/>\n",
       "   </g>\n",
       "   <g id=\"LineCollection_6\">\n",
       "    <path d=\"M 254.412809 336.390203 \n",
       "L 137.223708 336.390203 \n",
       "L 137.223708 135.294932 \n",
       "L 164.606019 135.294932 \n",
       "\" clip-path=\"url(#pad42dc4301)\" style=\"fill: none; stroke: #1f77b4; stroke-width: 1.5\"/>\n",
       "    <path d=\"M 258.216709 463.10777 \n",
       "L 88.063724 463.10777 \n",
       "L 88.063724 235.842568 \n",
       "L 137.223708 235.842568 \n",
       "\" clip-path=\"url(#pad42dc4301)\" style=\"fill: none; stroke: #1f77b4; stroke-width: 1.5\"/>\n",
       "    <path d=\"M 240.146333 621.50473 \n",
       "L 53.139385 621.50473 \n",
       "L 53.139385 349.475169 \n",
       "L 88.063724 349.475169 \n",
       "\" clip-path=\"url(#pad42dc4301)\" style=\"fill: none; stroke: #1f77b4; stroke-width: 1.5\"/>\n",
       "    <path d=\"M 276.461041 777.146959 \n",
       "L 28.457143 777.146959 \n",
       "L 28.457143 485.489949 \n",
       "L 53.139385 485.489949 \n",
       "\" clip-path=\"url(#pad42dc4301)\" style=\"fill: none; stroke: #1f77b4; stroke-width: 1.5\"/>\n",
       "   </g>\n",
       "   <g id=\"patch_3\">\n",
       "    <path d=\"M 7.2 822.6 \n",
       "L 7.2 7.2 \n",
       "\" style=\"fill: none; stroke: #000000; stroke-width: 0.8; stroke-linejoin: miter; stroke-linecap: square\"/>\n",
       "   </g>\n",
       "   <g id=\"patch_4\">\n",
       "    <path d=\"M 453.6 822.6 \n",
       "L 453.6 7.2 \n",
       "\" style=\"fill: none; stroke: #000000; stroke-width: 0.8; stroke-linejoin: miter; stroke-linecap: square\"/>\n",
       "   </g>\n",
       "   <g id=\"patch_5\">\n",
       "    <path d=\"M 7.2 822.6 \n",
       "L 453.6 822.6 \n",
       "\" style=\"fill: none; stroke: #000000; stroke-width: 0.8; stroke-linejoin: miter; stroke-linecap: square\"/>\n",
       "   </g>\n",
       "   <g id=\"patch_6\">\n",
       "    <path d=\"M 7.2 7.2 \n",
       "L 453.6 7.2 \n",
       "\" style=\"fill: none; stroke: #000000; stroke-width: 0.8; stroke-linejoin: miter; stroke-linecap: square\"/>\n",
       "   </g>\n",
       "  </g>\n",
       " </g>\n",
       " <defs>\n",
       "  <clipPath id=\"pad42dc4301\">\n",
       "   <rect x=\"7.2\" y=\"7.2\" width=\"446.4\" height=\"815.4\"/>\n",
       "  </clipPath>\n",
       " </defs>\n",
       "</svg>\n"
      ],
      "text/plain": [
       "<Figure size 576x1080 with 1 Axes>"
      ]
     },
     "metadata": {
      "needs_background": "light"
     },
     "output_type": "display_data"
    }
   ],
   "source": [
    "plot_dendrogram(esm_emb, name_label_dict)"
   ]
  },
  {
   "cell_type": "code",
   "execution_count": 61,
   "metadata": {},
   "outputs": [],
   "source": [
    "dist_map = get_dist_map(label_name_dict, esm_emb, device, dtype,model=model)\n"
   ]
  },
  {
   "cell_type": "code",
   "execution_count": 62,
   "metadata": {},
   "outputs": [
    {
     "data": {
      "text/html": [
       "<div>\n",
       "<style scoped>\n",
       "    .dataframe tbody tr th:only-of-type {\n",
       "        vertical-align: middle;\n",
       "    }\n",
       "\n",
       "    .dataframe tbody tr th {\n",
       "        vertical-align: top;\n",
       "    }\n",
       "\n",
       "    .dataframe thead th {\n",
       "        text-align: right;\n",
       "    }\n",
       "</style>\n",
       "<table border=\"1\" class=\"dataframe\">\n",
       "  <thead>\n",
       "    <tr style=\"text-align: right;\">\n",
       "      <th></th>\n",
       "      <th>S11-SLF1_S7-RNase</th>\n",
       "      <th>S11-SLF2_S17-RNase</th>\n",
       "      <th>S9-SLF1_S5-RNase</th>\n",
       "      <th>S11-SLF2_S5-RNase</th>\n",
       "      <th>S11-SLF1_S5-RNase</th>\n",
       "      <th>S5-SLF1_S7-RNase</th>\n",
       "      <th>S9-SLF1_S7-RNase</th>\n",
       "      <th>S11-SLF1_S9-RNase</th>\n",
       "      <th>S11-SLF2_S7-RNase</th>\n",
       "      <th>S11-SLF3_S17-RNase</th>\n",
       "      <th>...</th>\n",
       "      <th>S5-SLF1_S9-RNase</th>\n",
       "      <th>S7-SLF1_S9-RNase</th>\n",
       "      <th>S11-SLF3_S7-RNase</th>\n",
       "      <th>S7-SLF1_S17-RNase</th>\n",
       "      <th>S5-SLF2_S11-RNase</th>\n",
       "      <th>S7-SLF2_S9-RNase</th>\n",
       "      <th>S9-SLF1_S17-RNase</th>\n",
       "      <th>S5-SLF2_S9-RNase</th>\n",
       "      <th>S7-SLF2_S11-RNase</th>\n",
       "      <th>S5-SLF1_S17-RNase</th>\n",
       "    </tr>\n",
       "  </thead>\n",
       "  <tbody>\n",
       "    <tr>\n",
       "      <th>S11-SLF1_S7-RNase</th>\n",
       "      <td>0.000000</td>\n",
       "      <td>2.514045</td>\n",
       "      <td>2.193159</td>\n",
       "      <td>2.437975</td>\n",
       "      <td>2.345008</td>\n",
       "      <td>2.605151</td>\n",
       "      <td>2.071667</td>\n",
       "      <td>1.883292</td>\n",
       "      <td>2.566492</td>\n",
       "      <td>2.832028</td>\n",
       "      <td>...</td>\n",
       "      <td>2.558566</td>\n",
       "      <td>2.640115</td>\n",
       "      <td>2.142949</td>\n",
       "      <td>2.331975</td>\n",
       "      <td>2.741490</td>\n",
       "      <td>2.807001</td>\n",
       "      <td>2.172114</td>\n",
       "      <td>3.086341</td>\n",
       "      <td>2.000402</td>\n",
       "      <td>2.151220</td>\n",
       "    </tr>\n",
       "    <tr>\n",
       "      <th>S11-SLF2_S17-RNase</th>\n",
       "      <td>2.514045</td>\n",
       "      <td>0.000000</td>\n",
       "      <td>2.681086</td>\n",
       "      <td>3.163424</td>\n",
       "      <td>2.545883</td>\n",
       "      <td>2.845985</td>\n",
       "      <td>2.753005</td>\n",
       "      <td>2.766277</td>\n",
       "      <td>3.047834</td>\n",
       "      <td>3.067775</td>\n",
       "      <td>...</td>\n",
       "      <td>2.992631</td>\n",
       "      <td>2.676751</td>\n",
       "      <td>2.718498</td>\n",
       "      <td>3.256184</td>\n",
       "      <td>2.696799</td>\n",
       "      <td>3.259462</td>\n",
       "      <td>3.351339</td>\n",
       "      <td>3.552437</td>\n",
       "      <td>2.811065</td>\n",
       "      <td>2.437747</td>\n",
       "    </tr>\n",
       "    <tr>\n",
       "      <th>S9-SLF1_S5-RNase</th>\n",
       "      <td>2.193159</td>\n",
       "      <td>2.681086</td>\n",
       "      <td>0.000000</td>\n",
       "      <td>2.674241</td>\n",
       "      <td>1.951949</td>\n",
       "      <td>2.617671</td>\n",
       "      <td>2.215054</td>\n",
       "      <td>2.180248</td>\n",
       "      <td>2.233243</td>\n",
       "      <td>2.804567</td>\n",
       "      <td>...</td>\n",
       "      <td>2.766289</td>\n",
       "      <td>2.299617</td>\n",
       "      <td>2.322323</td>\n",
       "      <td>2.454994</td>\n",
       "      <td>2.808157</td>\n",
       "      <td>2.560963</td>\n",
       "      <td>2.816282</td>\n",
       "      <td>3.226085</td>\n",
       "      <td>2.324055</td>\n",
       "      <td>2.320374</td>\n",
       "    </tr>\n",
       "    <tr>\n",
       "      <th>S11-SLF2_S5-RNase</th>\n",
       "      <td>2.437975</td>\n",
       "      <td>3.163424</td>\n",
       "      <td>2.674241</td>\n",
       "      <td>0.000000</td>\n",
       "      <td>2.730005</td>\n",
       "      <td>2.891376</td>\n",
       "      <td>2.360265</td>\n",
       "      <td>2.217781</td>\n",
       "      <td>2.908146</td>\n",
       "      <td>2.690379</td>\n",
       "      <td>...</td>\n",
       "      <td>3.028678</td>\n",
       "      <td>3.150356</td>\n",
       "      <td>2.570192</td>\n",
       "      <td>2.286292</td>\n",
       "      <td>3.269577</td>\n",
       "      <td>2.806489</td>\n",
       "      <td>2.371303</td>\n",
       "      <td>3.098288</td>\n",
       "      <td>2.844255</td>\n",
       "      <td>2.292063</td>\n",
       "    </tr>\n",
       "    <tr>\n",
       "      <th>S11-SLF1_S5-RNase</th>\n",
       "      <td>2.345008</td>\n",
       "      <td>2.545883</td>\n",
       "      <td>1.951949</td>\n",
       "      <td>2.730005</td>\n",
       "      <td>0.000000</td>\n",
       "      <td>2.631274</td>\n",
       "      <td>1.902189</td>\n",
       "      <td>2.319619</td>\n",
       "      <td>2.544269</td>\n",
       "      <td>3.039886</td>\n",
       "      <td>...</td>\n",
       "      <td>2.600749</td>\n",
       "      <td>2.349022</td>\n",
       "      <td>2.182590</td>\n",
       "      <td>2.607218</td>\n",
       "      <td>2.928563</td>\n",
       "      <td>2.802402</td>\n",
       "      <td>2.784793</td>\n",
       "      <td>2.876728</td>\n",
       "      <td>2.635044</td>\n",
       "      <td>2.190056</td>\n",
       "    </tr>\n",
       "    <tr>\n",
       "      <th>S5-SLF1_S7-RNase</th>\n",
       "      <td>2.605151</td>\n",
       "      <td>2.845985</td>\n",
       "      <td>2.617671</td>\n",
       "      <td>2.891376</td>\n",
       "      <td>2.631274</td>\n",
       "      <td>0.000000</td>\n",
       "      <td>2.368635</td>\n",
       "      <td>2.501523</td>\n",
       "      <td>2.749576</td>\n",
       "      <td>3.165760</td>\n",
       "      <td>...</td>\n",
       "      <td>2.334188</td>\n",
       "      <td>2.805267</td>\n",
       "      <td>2.275831</td>\n",
       "      <td>2.697007</td>\n",
       "      <td>3.334500</td>\n",
       "      <td>2.575512</td>\n",
       "      <td>3.059392</td>\n",
       "      <td>2.804526</td>\n",
       "      <td>2.374067</td>\n",
       "      <td>2.253216</td>\n",
       "    </tr>\n",
       "    <tr>\n",
       "      <th>S9-SLF1_S7-RNase</th>\n",
       "      <td>2.071667</td>\n",
       "      <td>2.753005</td>\n",
       "      <td>2.215054</td>\n",
       "      <td>2.360265</td>\n",
       "      <td>1.902189</td>\n",
       "      <td>2.368635</td>\n",
       "      <td>0.000000</td>\n",
       "      <td>2.177174</td>\n",
       "      <td>2.749274</td>\n",
       "      <td>2.969397</td>\n",
       "      <td>...</td>\n",
       "      <td>2.546597</td>\n",
       "      <td>2.876410</td>\n",
       "      <td>1.813809</td>\n",
       "      <td>2.384296</td>\n",
       "      <td>2.919392</td>\n",
       "      <td>2.863113</td>\n",
       "      <td>2.520850</td>\n",
       "      <td>2.666725</td>\n",
       "      <td>2.314305</td>\n",
       "      <td>1.726300</td>\n",
       "    </tr>\n",
       "    <tr>\n",
       "      <th>S11-SLF1_S9-RNase</th>\n",
       "      <td>1.883292</td>\n",
       "      <td>2.766277</td>\n",
       "      <td>2.180248</td>\n",
       "      <td>2.217781</td>\n",
       "      <td>2.319619</td>\n",
       "      <td>2.501523</td>\n",
       "      <td>2.177174</td>\n",
       "      <td>0.000000</td>\n",
       "      <td>2.399135</td>\n",
       "      <td>2.797905</td>\n",
       "      <td>...</td>\n",
       "      <td>2.403986</td>\n",
       "      <td>2.399912</td>\n",
       "      <td>2.217256</td>\n",
       "      <td>1.812761</td>\n",
       "      <td>3.025080</td>\n",
       "      <td>2.564219</td>\n",
       "      <td>2.195144</td>\n",
       "      <td>2.989226</td>\n",
       "      <td>2.484977</td>\n",
       "      <td>1.959535</td>\n",
       "    </tr>\n",
       "    <tr>\n",
       "      <th>S11-SLF2_S7-RNase</th>\n",
       "      <td>2.566492</td>\n",
       "      <td>3.047834</td>\n",
       "      <td>2.233243</td>\n",
       "      <td>2.908146</td>\n",
       "      <td>2.544269</td>\n",
       "      <td>2.749576</td>\n",
       "      <td>2.749274</td>\n",
       "      <td>2.399135</td>\n",
       "      <td>0.000000</td>\n",
       "      <td>2.886841</td>\n",
       "      <td>...</td>\n",
       "      <td>2.935075</td>\n",
       "      <td>2.636434</td>\n",
       "      <td>2.753126</td>\n",
       "      <td>2.746886</td>\n",
       "      <td>3.224259</td>\n",
       "      <td>2.426418</td>\n",
       "      <td>2.442897</td>\n",
       "      <td>3.253018</td>\n",
       "      <td>2.660894</td>\n",
       "      <td>2.631595</td>\n",
       "    </tr>\n",
       "    <tr>\n",
       "      <th>S11-SLF3_S17-RNase</th>\n",
       "      <td>2.832028</td>\n",
       "      <td>3.067775</td>\n",
       "      <td>2.804567</td>\n",
       "      <td>2.690379</td>\n",
       "      <td>3.039886</td>\n",
       "      <td>3.165760</td>\n",
       "      <td>2.969397</td>\n",
       "      <td>2.797905</td>\n",
       "      <td>2.886841</td>\n",
       "      <td>0.000000</td>\n",
       "      <td>...</td>\n",
       "      <td>3.234217</td>\n",
       "      <td>2.997487</td>\n",
       "      <td>2.823125</td>\n",
       "      <td>3.170104</td>\n",
       "      <td>2.996458</td>\n",
       "      <td>3.212474</td>\n",
       "      <td>3.044838</td>\n",
       "      <td>3.838152</td>\n",
       "      <td>2.746053</td>\n",
       "      <td>2.774913</td>\n",
       "    </tr>\n",
       "    <tr>\n",
       "      <th>S7-SLF1_S5-RNase</th>\n",
       "      <td>4.194303</td>\n",
       "      <td>4.543730</td>\n",
       "      <td>3.570756</td>\n",
       "      <td>3.920043</td>\n",
       "      <td>3.688784</td>\n",
       "      <td>3.687716</td>\n",
       "      <td>4.175405</td>\n",
       "      <td>3.725198</td>\n",
       "      <td>3.024934</td>\n",
       "      <td>4.292493</td>\n",
       "      <td>...</td>\n",
       "      <td>4.083984</td>\n",
       "      <td>3.475664</td>\n",
       "      <td>3.947945</td>\n",
       "      <td>3.489983</td>\n",
       "      <td>4.536872</td>\n",
       "      <td>2.703167</td>\n",
       "      <td>3.796966</td>\n",
       "      <td>3.911871</td>\n",
       "      <td>3.951312</td>\n",
       "      <td>4.138883</td>\n",
       "    </tr>\n",
       "    <tr>\n",
       "      <th>S7-SLF1_S11-RNase</th>\n",
       "      <td>2.582092</td>\n",
       "      <td>2.933963</td>\n",
       "      <td>2.827101</td>\n",
       "      <td>2.723482</td>\n",
       "      <td>2.809135</td>\n",
       "      <td>2.151284</td>\n",
       "      <td>2.452565</td>\n",
       "      <td>2.496820</td>\n",
       "      <td>2.795979</td>\n",
       "      <td>3.326226</td>\n",
       "      <td>...</td>\n",
       "      <td>3.122763</td>\n",
       "      <td>3.101758</td>\n",
       "      <td>2.659703</td>\n",
       "      <td>2.803052</td>\n",
       "      <td>3.459974</td>\n",
       "      <td>3.088179</td>\n",
       "      <td>2.774749</td>\n",
       "      <td>2.825129</td>\n",
       "      <td>2.821075</td>\n",
       "      <td>2.686497</td>\n",
       "    </tr>\n",
       "    <tr>\n",
       "      <th>S7-SLF2_S5-RNase</th>\n",
       "      <td>2.653780</td>\n",
       "      <td>3.130090</td>\n",
       "      <td>2.703138</td>\n",
       "      <td>2.817329</td>\n",
       "      <td>2.467083</td>\n",
       "      <td>2.559657</td>\n",
       "      <td>2.160156</td>\n",
       "      <td>2.575459</td>\n",
       "      <td>2.996746</td>\n",
       "      <td>2.995972</td>\n",
       "      <td>...</td>\n",
       "      <td>2.905505</td>\n",
       "      <td>2.790539</td>\n",
       "      <td>1.674913</td>\n",
       "      <td>2.851246</td>\n",
       "      <td>2.886323</td>\n",
       "      <td>2.613179</td>\n",
       "      <td>2.835843</td>\n",
       "      <td>2.829252</td>\n",
       "      <td>2.687064</td>\n",
       "      <td>2.123793</td>\n",
       "    </tr>\n",
       "    <tr>\n",
       "      <th>S5-SLF2_S17-RNase</th>\n",
       "      <td>2.148830</td>\n",
       "      <td>2.747776</td>\n",
       "      <td>2.552091</td>\n",
       "      <td>2.221689</td>\n",
       "      <td>2.441595</td>\n",
       "      <td>2.480801</td>\n",
       "      <td>1.958525</td>\n",
       "      <td>2.035675</td>\n",
       "      <td>2.740601</td>\n",
       "      <td>2.780973</td>\n",
       "      <td>...</td>\n",
       "      <td>2.542581</td>\n",
       "      <td>2.758738</td>\n",
       "      <td>2.123221</td>\n",
       "      <td>2.655367</td>\n",
       "      <td>3.306201</td>\n",
       "      <td>3.000271</td>\n",
       "      <td>2.314518</td>\n",
       "      <td>3.082487</td>\n",
       "      <td>2.574677</td>\n",
       "      <td>2.060370</td>\n",
       "    </tr>\n",
       "    <tr>\n",
       "      <th>S5-SLF2_S7-RNase</th>\n",
       "      <td>1.841408</td>\n",
       "      <td>2.681309</td>\n",
       "      <td>2.604161</td>\n",
       "      <td>2.468435</td>\n",
       "      <td>2.462396</td>\n",
       "      <td>2.399505</td>\n",
       "      <td>2.227731</td>\n",
       "      <td>2.039501</td>\n",
       "      <td>2.421839</td>\n",
       "      <td>2.820609</td>\n",
       "      <td>...</td>\n",
       "      <td>2.788366</td>\n",
       "      <td>2.765451</td>\n",
       "      <td>2.245554</td>\n",
       "      <td>2.237839</td>\n",
       "      <td>2.723794</td>\n",
       "      <td>2.657194</td>\n",
       "      <td>2.532278</td>\n",
       "      <td>2.679453</td>\n",
       "      <td>2.132843</td>\n",
       "      <td>1.907797</td>\n",
       "    </tr>\n",
       "    <tr>\n",
       "      <th>S7-SLF3_S11-RNase</th>\n",
       "      <td>2.722625</td>\n",
       "      <td>3.227062</td>\n",
       "      <td>2.638925</td>\n",
       "      <td>2.504832</td>\n",
       "      <td>1.995841</td>\n",
       "      <td>2.723726</td>\n",
       "      <td>2.264999</td>\n",
       "      <td>2.350710</td>\n",
       "      <td>2.931473</td>\n",
       "      <td>2.912072</td>\n",
       "      <td>...</td>\n",
       "      <td>2.393884</td>\n",
       "      <td>2.809799</td>\n",
       "      <td>2.249195</td>\n",
       "      <td>2.669346</td>\n",
       "      <td>3.412330</td>\n",
       "      <td>2.592556</td>\n",
       "      <td>2.806106</td>\n",
       "      <td>2.905329</td>\n",
       "      <td>2.933391</td>\n",
       "      <td>2.397111</td>\n",
       "    </tr>\n",
       "    <tr>\n",
       "      <th>S7-SLF3_S17-RNase</th>\n",
       "      <td>2.598736</td>\n",
       "      <td>2.573337</td>\n",
       "      <td>2.443022</td>\n",
       "      <td>3.030750</td>\n",
       "      <td>2.573627</td>\n",
       "      <td>2.602233</td>\n",
       "      <td>2.459887</td>\n",
       "      <td>2.471777</td>\n",
       "      <td>2.654185</td>\n",
       "      <td>3.001205</td>\n",
       "      <td>...</td>\n",
       "      <td>2.887882</td>\n",
       "      <td>2.757051</td>\n",
       "      <td>2.518712</td>\n",
       "      <td>2.558004</td>\n",
       "      <td>2.069877</td>\n",
       "      <td>2.437841</td>\n",
       "      <td>3.477595</td>\n",
       "      <td>3.181769</td>\n",
       "      <td>2.355544</td>\n",
       "      <td>2.407137</td>\n",
       "    </tr>\n",
       "    <tr>\n",
       "      <th>S9-SLF1_S11-RNase</th>\n",
       "      <td>2.344029</td>\n",
       "      <td>2.891048</td>\n",
       "      <td>2.741391</td>\n",
       "      <td>3.151020</td>\n",
       "      <td>2.653236</td>\n",
       "      <td>2.918688</td>\n",
       "      <td>2.408053</td>\n",
       "      <td>2.858795</td>\n",
       "      <td>3.369197</td>\n",
       "      <td>3.479474</td>\n",
       "      <td>...</td>\n",
       "      <td>2.970450</td>\n",
       "      <td>2.725749</td>\n",
       "      <td>2.084886</td>\n",
       "      <td>2.903932</td>\n",
       "      <td>2.827306</td>\n",
       "      <td>2.949433</td>\n",
       "      <td>3.207347</td>\n",
       "      <td>3.352920</td>\n",
       "      <td>2.584573</td>\n",
       "      <td>2.353939</td>\n",
       "    </tr>\n",
       "    <tr>\n",
       "      <th>S11-SLF3_S5-RNase</th>\n",
       "      <td>2.858936</td>\n",
       "      <td>3.984343</td>\n",
       "      <td>3.481984</td>\n",
       "      <td>2.841218</td>\n",
       "      <td>3.259264</td>\n",
       "      <td>3.065446</td>\n",
       "      <td>2.951589</td>\n",
       "      <td>2.668764</td>\n",
       "      <td>3.482987</td>\n",
       "      <td>3.754464</td>\n",
       "      <td>...</td>\n",
       "      <td>3.441279</td>\n",
       "      <td>3.431006</td>\n",
       "      <td>2.807326</td>\n",
       "      <td>2.433932</td>\n",
       "      <td>3.686874</td>\n",
       "      <td>3.089984</td>\n",
       "      <td>3.140060</td>\n",
       "      <td>2.651501</td>\n",
       "      <td>3.137994</td>\n",
       "      <td>2.766647</td>\n",
       "    </tr>\n",
       "    <tr>\n",
       "      <th>S7-SLF2_S17-RNase</th>\n",
       "      <td>2.813166</td>\n",
       "      <td>3.138207</td>\n",
       "      <td>2.612785</td>\n",
       "      <td>2.644007</td>\n",
       "      <td>2.532239</td>\n",
       "      <td>2.450496</td>\n",
       "      <td>2.224276</td>\n",
       "      <td>2.471657</td>\n",
       "      <td>3.113754</td>\n",
       "      <td>2.989206</td>\n",
       "      <td>...</td>\n",
       "      <td>2.707928</td>\n",
       "      <td>2.902005</td>\n",
       "      <td>2.081348</td>\n",
       "      <td>2.731793</td>\n",
       "      <td>3.016361</td>\n",
       "      <td>2.534473</td>\n",
       "      <td>3.246894</td>\n",
       "      <td>2.960729</td>\n",
       "      <td>2.489326</td>\n",
       "      <td>2.099629</td>\n",
       "    </tr>\n",
       "    <tr>\n",
       "      <th>S7-SLF3_S9-RNase</th>\n",
       "      <td>2.803565</td>\n",
       "      <td>3.213191</td>\n",
       "      <td>2.694041</td>\n",
       "      <td>2.830930</td>\n",
       "      <td>2.753486</td>\n",
       "      <td>2.558733</td>\n",
       "      <td>2.384454</td>\n",
       "      <td>2.661427</td>\n",
       "      <td>2.900187</td>\n",
       "      <td>3.322969</td>\n",
       "      <td>...</td>\n",
       "      <td>3.135482</td>\n",
       "      <td>3.168487</td>\n",
       "      <td>2.393258</td>\n",
       "      <td>2.637632</td>\n",
       "      <td>2.942858</td>\n",
       "      <td>2.606739</td>\n",
       "      <td>3.453145</td>\n",
       "      <td>2.968690</td>\n",
       "      <td>2.429015</td>\n",
       "      <td>2.642893</td>\n",
       "    </tr>\n",
       "    <tr>\n",
       "      <th>S11-SLF3_S9-RNase</th>\n",
       "      <td>2.478535</td>\n",
       "      <td>2.857825</td>\n",
       "      <td>2.194607</td>\n",
       "      <td>2.748590</td>\n",
       "      <td>2.226723</td>\n",
       "      <td>1.918677</td>\n",
       "      <td>2.249088</td>\n",
       "      <td>2.194793</td>\n",
       "      <td>2.117275</td>\n",
       "      <td>2.830528</td>\n",
       "      <td>...</td>\n",
       "      <td>2.477575</td>\n",
       "      <td>2.435667</td>\n",
       "      <td>2.339622</td>\n",
       "      <td>2.435914</td>\n",
       "      <td>2.983773</td>\n",
       "      <td>2.457506</td>\n",
       "      <td>2.766990</td>\n",
       "      <td>2.763388</td>\n",
       "      <td>2.433887</td>\n",
       "      <td>2.323138</td>\n",
       "    </tr>\n",
       "    <tr>\n",
       "      <th>S5-SLF1_S11-RNase</th>\n",
       "      <td>2.636033</td>\n",
       "      <td>3.286948</td>\n",
       "      <td>3.171460</td>\n",
       "      <td>2.840655</td>\n",
       "      <td>3.183383</td>\n",
       "      <td>3.510944</td>\n",
       "      <td>2.937019</td>\n",
       "      <td>2.783901</td>\n",
       "      <td>3.420274</td>\n",
       "      <td>2.253067</td>\n",
       "      <td>...</td>\n",
       "      <td>3.444268</td>\n",
       "      <td>3.210052</td>\n",
       "      <td>2.919234</td>\n",
       "      <td>3.364425</td>\n",
       "      <td>3.755774</td>\n",
       "      <td>3.696995</td>\n",
       "      <td>2.836642</td>\n",
       "      <td>4.011730</td>\n",
       "      <td>3.197860</td>\n",
       "      <td>2.908076</td>\n",
       "    </tr>\n",
       "    <tr>\n",
       "      <th>S7-SLF3_S5-RNase</th>\n",
       "      <td>2.677392</td>\n",
       "      <td>3.078423</td>\n",
       "      <td>2.794194</td>\n",
       "      <td>3.344537</td>\n",
       "      <td>3.247841</td>\n",
       "      <td>3.131763</td>\n",
       "      <td>2.834011</td>\n",
       "      <td>2.831536</td>\n",
       "      <td>2.623866</td>\n",
       "      <td>3.483894</td>\n",
       "      <td>...</td>\n",
       "      <td>3.243469</td>\n",
       "      <td>3.022484</td>\n",
       "      <td>2.776026</td>\n",
       "      <td>3.377761</td>\n",
       "      <td>3.224056</td>\n",
       "      <td>3.088650</td>\n",
       "      <td>2.810683</td>\n",
       "      <td>3.627773</td>\n",
       "      <td>2.742423</td>\n",
       "      <td>2.684653</td>\n",
       "    </tr>\n",
       "    <tr>\n",
       "      <th>S11-SLF2_S9-RNase</th>\n",
       "      <td>1.829223</td>\n",
       "      <td>2.809471</td>\n",
       "      <td>1.998790</td>\n",
       "      <td>2.278283</td>\n",
       "      <td>2.223923</td>\n",
       "      <td>2.487242</td>\n",
       "      <td>1.834899</td>\n",
       "      <td>2.019481</td>\n",
       "      <td>2.563175</td>\n",
       "      <td>2.755652</td>\n",
       "      <td>...</td>\n",
       "      <td>2.531416</td>\n",
       "      <td>2.560403</td>\n",
       "      <td>1.909813</td>\n",
       "      <td>2.320267</td>\n",
       "      <td>2.801460</td>\n",
       "      <td>2.659053</td>\n",
       "      <td>2.350925</td>\n",
       "      <td>3.030963</td>\n",
       "      <td>2.117027</td>\n",
       "      <td>1.943189</td>\n",
       "    </tr>\n",
       "    <tr>\n",
       "      <th>S9-SLF1_S3-RNase</th>\n",
       "      <td>2.737485</td>\n",
       "      <td>2.909928</td>\n",
       "      <td>2.902612</td>\n",
       "      <td>2.870411</td>\n",
       "      <td>2.849527</td>\n",
       "      <td>3.006595</td>\n",
       "      <td>2.812856</td>\n",
       "      <td>2.666775</td>\n",
       "      <td>2.966337</td>\n",
       "      <td>3.080933</td>\n",
       "      <td>...</td>\n",
       "      <td>2.646086</td>\n",
       "      <td>2.748649</td>\n",
       "      <td>2.733079</td>\n",
       "      <td>3.061009</td>\n",
       "      <td>3.138393</td>\n",
       "      <td>3.187742</td>\n",
       "      <td>2.970552</td>\n",
       "      <td>3.480449</td>\n",
       "      <td>2.989223</td>\n",
       "      <td>2.658954</td>\n",
       "    </tr>\n",
       "    <tr>\n",
       "      <th>S11-SLF1_S17-RNase</th>\n",
       "      <td>2.353524</td>\n",
       "      <td>2.910753</td>\n",
       "      <td>2.150977</td>\n",
       "      <td>2.534261</td>\n",
       "      <td>2.300023</td>\n",
       "      <td>2.427237</td>\n",
       "      <td>2.333439</td>\n",
       "      <td>2.247680</td>\n",
       "      <td>2.217671</td>\n",
       "      <td>3.151803</td>\n",
       "      <td>...</td>\n",
       "      <td>2.952520</td>\n",
       "      <td>2.676019</td>\n",
       "      <td>2.400806</td>\n",
       "      <td>2.266327</td>\n",
       "      <td>2.897789</td>\n",
       "      <td>2.179793</td>\n",
       "      <td>2.826797</td>\n",
       "      <td>2.591324</td>\n",
       "      <td>2.137258</td>\n",
       "      <td>2.318677</td>\n",
       "    </tr>\n",
       "    <tr>\n",
       "      <th>S5-SLF1_S9-RNase</th>\n",
       "      <td>2.558566</td>\n",
       "      <td>2.992631</td>\n",
       "      <td>2.766289</td>\n",
       "      <td>3.028678</td>\n",
       "      <td>2.600749</td>\n",
       "      <td>2.334188</td>\n",
       "      <td>2.546597</td>\n",
       "      <td>2.403986</td>\n",
       "      <td>2.935075</td>\n",
       "      <td>3.234217</td>\n",
       "      <td>...</td>\n",
       "      <td>0.000000</td>\n",
       "      <td>2.794968</td>\n",
       "      <td>2.375101</td>\n",
       "      <td>2.975636</td>\n",
       "      <td>3.580145</td>\n",
       "      <td>2.925227</td>\n",
       "      <td>2.938533</td>\n",
       "      <td>3.555024</td>\n",
       "      <td>2.987229</td>\n",
       "      <td>2.447770</td>\n",
       "    </tr>\n",
       "    <tr>\n",
       "      <th>S7-SLF1_S9-RNase</th>\n",
       "      <td>2.640115</td>\n",
       "      <td>2.676751</td>\n",
       "      <td>2.299617</td>\n",
       "      <td>3.150356</td>\n",
       "      <td>2.349022</td>\n",
       "      <td>2.805267</td>\n",
       "      <td>2.876410</td>\n",
       "      <td>2.399912</td>\n",
       "      <td>2.636434</td>\n",
       "      <td>2.997487</td>\n",
       "      <td>...</td>\n",
       "      <td>2.794968</td>\n",
       "      <td>0.000000</td>\n",
       "      <td>2.585982</td>\n",
       "      <td>2.640718</td>\n",
       "      <td>2.762371</td>\n",
       "      <td>2.651136</td>\n",
       "      <td>3.020644</td>\n",
       "      <td>3.442245</td>\n",
       "      <td>2.808289</td>\n",
       "      <td>2.603469</td>\n",
       "    </tr>\n",
       "    <tr>\n",
       "      <th>S11-SLF3_S7-RNase</th>\n",
       "      <td>2.142949</td>\n",
       "      <td>2.718498</td>\n",
       "      <td>2.322323</td>\n",
       "      <td>2.570192</td>\n",
       "      <td>2.182590</td>\n",
       "      <td>2.275831</td>\n",
       "      <td>1.813809</td>\n",
       "      <td>2.217256</td>\n",
       "      <td>2.753126</td>\n",
       "      <td>2.823125</td>\n",
       "      <td>...</td>\n",
       "      <td>2.375101</td>\n",
       "      <td>2.585982</td>\n",
       "      <td>0.000000</td>\n",
       "      <td>2.551894</td>\n",
       "      <td>2.887296</td>\n",
       "      <td>2.461491</td>\n",
       "      <td>2.515582</td>\n",
       "      <td>2.816667</td>\n",
       "      <td>2.234760</td>\n",
       "      <td>1.790697</td>\n",
       "    </tr>\n",
       "    <tr>\n",
       "      <th>S7-SLF1_S17-RNase</th>\n",
       "      <td>2.331975</td>\n",
       "      <td>3.256184</td>\n",
       "      <td>2.454994</td>\n",
       "      <td>2.286292</td>\n",
       "      <td>2.607218</td>\n",
       "      <td>2.697007</td>\n",
       "      <td>2.384296</td>\n",
       "      <td>1.812761</td>\n",
       "      <td>2.746886</td>\n",
       "      <td>3.170104</td>\n",
       "      <td>...</td>\n",
       "      <td>2.975636</td>\n",
       "      <td>2.640718</td>\n",
       "      <td>2.551894</td>\n",
       "      <td>0.000000</td>\n",
       "      <td>3.035511</td>\n",
       "      <td>2.503405</td>\n",
       "      <td>2.837287</td>\n",
       "      <td>3.029384</td>\n",
       "      <td>2.686116</td>\n",
       "      <td>2.262358</td>\n",
       "    </tr>\n",
       "    <tr>\n",
       "      <th>S5-SLF2_S11-RNase</th>\n",
       "      <td>2.741490</td>\n",
       "      <td>2.696799</td>\n",
       "      <td>2.808157</td>\n",
       "      <td>3.269577</td>\n",
       "      <td>2.928563</td>\n",
       "      <td>3.334500</td>\n",
       "      <td>2.919392</td>\n",
       "      <td>3.025080</td>\n",
       "      <td>3.224259</td>\n",
       "      <td>2.996458</td>\n",
       "      <td>...</td>\n",
       "      <td>3.580145</td>\n",
       "      <td>2.762371</td>\n",
       "      <td>2.887296</td>\n",
       "      <td>3.035511</td>\n",
       "      <td>0.000000</td>\n",
       "      <td>3.095175</td>\n",
       "      <td>3.713505</td>\n",
       "      <td>3.572850</td>\n",
       "      <td>2.541580</td>\n",
       "      <td>2.674167</td>\n",
       "    </tr>\n",
       "    <tr>\n",
       "      <th>S7-SLF2_S9-RNase</th>\n",
       "      <td>2.807001</td>\n",
       "      <td>3.259462</td>\n",
       "      <td>2.560963</td>\n",
       "      <td>2.806489</td>\n",
       "      <td>2.802402</td>\n",
       "      <td>2.575512</td>\n",
       "      <td>2.863113</td>\n",
       "      <td>2.564219</td>\n",
       "      <td>2.426418</td>\n",
       "      <td>3.212474</td>\n",
       "      <td>...</td>\n",
       "      <td>2.925227</td>\n",
       "      <td>2.651136</td>\n",
       "      <td>2.461491</td>\n",
       "      <td>2.503405</td>\n",
       "      <td>3.095175</td>\n",
       "      <td>0.000000</td>\n",
       "      <td>3.036989</td>\n",
       "      <td>3.101634</td>\n",
       "      <td>2.414121</td>\n",
       "      <td>2.598084</td>\n",
       "    </tr>\n",
       "    <tr>\n",
       "      <th>S9-SLF1_S17-RNase</th>\n",
       "      <td>2.172114</td>\n",
       "      <td>3.351339</td>\n",
       "      <td>2.816282</td>\n",
       "      <td>2.371303</td>\n",
       "      <td>2.784793</td>\n",
       "      <td>3.059392</td>\n",
       "      <td>2.520850</td>\n",
       "      <td>2.195144</td>\n",
       "      <td>2.442897</td>\n",
       "      <td>3.044838</td>\n",
       "      <td>...</td>\n",
       "      <td>2.938533</td>\n",
       "      <td>3.020644</td>\n",
       "      <td>2.515582</td>\n",
       "      <td>2.837287</td>\n",
       "      <td>3.713505</td>\n",
       "      <td>3.036989</td>\n",
       "      <td>0.000000</td>\n",
       "      <td>3.137794</td>\n",
       "      <td>2.977005</td>\n",
       "      <td>2.596563</td>\n",
       "    </tr>\n",
       "    <tr>\n",
       "      <th>S5-SLF2_S9-RNase</th>\n",
       "      <td>3.086341</td>\n",
       "      <td>3.552437</td>\n",
       "      <td>3.226085</td>\n",
       "      <td>3.098288</td>\n",
       "      <td>2.876728</td>\n",
       "      <td>2.804526</td>\n",
       "      <td>2.666725</td>\n",
       "      <td>2.989226</td>\n",
       "      <td>3.253018</td>\n",
       "      <td>3.838152</td>\n",
       "      <td>...</td>\n",
       "      <td>3.555024</td>\n",
       "      <td>3.442245</td>\n",
       "      <td>2.816667</td>\n",
       "      <td>3.029384</td>\n",
       "      <td>3.572850</td>\n",
       "      <td>3.101634</td>\n",
       "      <td>3.137794</td>\n",
       "      <td>0.000000</td>\n",
       "      <td>2.988363</td>\n",
       "      <td>2.831712</td>\n",
       "    </tr>\n",
       "    <tr>\n",
       "      <th>S7-SLF2_S11-RNase</th>\n",
       "      <td>2.000402</td>\n",
       "      <td>2.811065</td>\n",
       "      <td>2.324055</td>\n",
       "      <td>2.844255</td>\n",
       "      <td>2.635044</td>\n",
       "      <td>2.374067</td>\n",
       "      <td>2.314305</td>\n",
       "      <td>2.484977</td>\n",
       "      <td>2.660894</td>\n",
       "      <td>2.746053</td>\n",
       "      <td>...</td>\n",
       "      <td>2.987229</td>\n",
       "      <td>2.808289</td>\n",
       "      <td>2.234760</td>\n",
       "      <td>2.686116</td>\n",
       "      <td>2.541580</td>\n",
       "      <td>2.414121</td>\n",
       "      <td>2.977005</td>\n",
       "      <td>2.988363</td>\n",
       "      <td>0.000000</td>\n",
       "      <td>2.325969</td>\n",
       "    </tr>\n",
       "    <tr>\n",
       "      <th>S5-SLF1_S17-RNase</th>\n",
       "      <td>2.151220</td>\n",
       "      <td>2.437747</td>\n",
       "      <td>2.320374</td>\n",
       "      <td>2.292063</td>\n",
       "      <td>2.190056</td>\n",
       "      <td>2.253216</td>\n",
       "      <td>1.726300</td>\n",
       "      <td>1.959535</td>\n",
       "      <td>2.631595</td>\n",
       "      <td>2.774913</td>\n",
       "      <td>...</td>\n",
       "      <td>2.447770</td>\n",
       "      <td>2.603469</td>\n",
       "      <td>1.790697</td>\n",
       "      <td>2.262358</td>\n",
       "      <td>2.674167</td>\n",
       "      <td>2.598084</td>\n",
       "      <td>2.596563</td>\n",
       "      <td>2.831712</td>\n",
       "      <td>2.325969</td>\n",
       "      <td>0.000000</td>\n",
       "    </tr>\n",
       "  </tbody>\n",
       "</table>\n",
       "<p>37 rows × 37 columns</p>\n",
       "</div>"
      ],
      "text/plain": [
       "                    S11-SLF1_S7-RNase  S11-SLF2_S17-RNase  S9-SLF1_S5-RNase  \\\n",
       "S11-SLF1_S7-RNase            0.000000            2.514045          2.193159   \n",
       "S11-SLF2_S17-RNase           2.514045            0.000000          2.681086   \n",
       "S9-SLF1_S5-RNase             2.193159            2.681086          0.000000   \n",
       "S11-SLF2_S5-RNase            2.437975            3.163424          2.674241   \n",
       "S11-SLF1_S5-RNase            2.345008            2.545883          1.951949   \n",
       "S5-SLF1_S7-RNase             2.605151            2.845985          2.617671   \n",
       "S9-SLF1_S7-RNase             2.071667            2.753005          2.215054   \n",
       "S11-SLF1_S9-RNase            1.883292            2.766277          2.180248   \n",
       "S11-SLF2_S7-RNase            2.566492            3.047834          2.233243   \n",
       "S11-SLF3_S17-RNase           2.832028            3.067775          2.804567   \n",
       "S7-SLF1_S5-RNase             4.194303            4.543730          3.570756   \n",
       "S7-SLF1_S11-RNase            2.582092            2.933963          2.827101   \n",
       "S7-SLF2_S5-RNase             2.653780            3.130090          2.703138   \n",
       "S5-SLF2_S17-RNase            2.148830            2.747776          2.552091   \n",
       "S5-SLF2_S7-RNase             1.841408            2.681309          2.604161   \n",
       "S7-SLF3_S11-RNase            2.722625            3.227062          2.638925   \n",
       "S7-SLF3_S17-RNase            2.598736            2.573337          2.443022   \n",
       "S9-SLF1_S11-RNase            2.344029            2.891048          2.741391   \n",
       "S11-SLF3_S5-RNase            2.858936            3.984343          3.481984   \n",
       "S7-SLF2_S17-RNase            2.813166            3.138207          2.612785   \n",
       "S7-SLF3_S9-RNase             2.803565            3.213191          2.694041   \n",
       "S11-SLF3_S9-RNase            2.478535            2.857825          2.194607   \n",
       "S5-SLF1_S11-RNase            2.636033            3.286948          3.171460   \n",
       "S7-SLF3_S5-RNase             2.677392            3.078423          2.794194   \n",
       "S11-SLF2_S9-RNase            1.829223            2.809471          1.998790   \n",
       "S9-SLF1_S3-RNase             2.737485            2.909928          2.902612   \n",
       "S11-SLF1_S17-RNase           2.353524            2.910753          2.150977   \n",
       "S5-SLF1_S9-RNase             2.558566            2.992631          2.766289   \n",
       "S7-SLF1_S9-RNase             2.640115            2.676751          2.299617   \n",
       "S11-SLF3_S7-RNase            2.142949            2.718498          2.322323   \n",
       "S7-SLF1_S17-RNase            2.331975            3.256184          2.454994   \n",
       "S5-SLF2_S11-RNase            2.741490            2.696799          2.808157   \n",
       "S7-SLF2_S9-RNase             2.807001            3.259462          2.560963   \n",
       "S9-SLF1_S17-RNase            2.172114            3.351339          2.816282   \n",
       "S5-SLF2_S9-RNase             3.086341            3.552437          3.226085   \n",
       "S7-SLF2_S11-RNase            2.000402            2.811065          2.324055   \n",
       "S5-SLF1_S17-RNase            2.151220            2.437747          2.320374   \n",
       "\n",
       "                    S11-SLF2_S5-RNase  S11-SLF1_S5-RNase  S5-SLF1_S7-RNase  \\\n",
       "S11-SLF1_S7-RNase            2.437975           2.345008          2.605151   \n",
       "S11-SLF2_S17-RNase           3.163424           2.545883          2.845985   \n",
       "S9-SLF1_S5-RNase             2.674241           1.951949          2.617671   \n",
       "S11-SLF2_S5-RNase            0.000000           2.730005          2.891376   \n",
       "S11-SLF1_S5-RNase            2.730005           0.000000          2.631274   \n",
       "S5-SLF1_S7-RNase             2.891376           2.631274          0.000000   \n",
       "S9-SLF1_S7-RNase             2.360265           1.902189          2.368635   \n",
       "S11-SLF1_S9-RNase            2.217781           2.319619          2.501523   \n",
       "S11-SLF2_S7-RNase            2.908146           2.544269          2.749576   \n",
       "S11-SLF3_S17-RNase           2.690379           3.039886          3.165760   \n",
       "S7-SLF1_S5-RNase             3.920043           3.688784          3.687716   \n",
       "S7-SLF1_S11-RNase            2.723482           2.809135          2.151284   \n",
       "S7-SLF2_S5-RNase             2.817329           2.467083          2.559657   \n",
       "S5-SLF2_S17-RNase            2.221689           2.441595          2.480801   \n",
       "S5-SLF2_S7-RNase             2.468435           2.462396          2.399505   \n",
       "S7-SLF3_S11-RNase            2.504832           1.995841          2.723726   \n",
       "S7-SLF3_S17-RNase            3.030750           2.573627          2.602233   \n",
       "S9-SLF1_S11-RNase            3.151020           2.653236          2.918688   \n",
       "S11-SLF3_S5-RNase            2.841218           3.259264          3.065446   \n",
       "S7-SLF2_S17-RNase            2.644007           2.532239          2.450496   \n",
       "S7-SLF3_S9-RNase             2.830930           2.753486          2.558733   \n",
       "S11-SLF3_S9-RNase            2.748590           2.226723          1.918677   \n",
       "S5-SLF1_S11-RNase            2.840655           3.183383          3.510944   \n",
       "S7-SLF3_S5-RNase             3.344537           3.247841          3.131763   \n",
       "S11-SLF2_S9-RNase            2.278283           2.223923          2.487242   \n",
       "S9-SLF1_S3-RNase             2.870411           2.849527          3.006595   \n",
       "S11-SLF1_S17-RNase           2.534261           2.300023          2.427237   \n",
       "S5-SLF1_S9-RNase             3.028678           2.600749          2.334188   \n",
       "S7-SLF1_S9-RNase             3.150356           2.349022          2.805267   \n",
       "S11-SLF3_S7-RNase            2.570192           2.182590          2.275831   \n",
       "S7-SLF1_S17-RNase            2.286292           2.607218          2.697007   \n",
       "S5-SLF2_S11-RNase            3.269577           2.928563          3.334500   \n",
       "S7-SLF2_S9-RNase             2.806489           2.802402          2.575512   \n",
       "S9-SLF1_S17-RNase            2.371303           2.784793          3.059392   \n",
       "S5-SLF2_S9-RNase             3.098288           2.876728          2.804526   \n",
       "S7-SLF2_S11-RNase            2.844255           2.635044          2.374067   \n",
       "S5-SLF1_S17-RNase            2.292063           2.190056          2.253216   \n",
       "\n",
       "                    S9-SLF1_S7-RNase  S11-SLF1_S9-RNase  S11-SLF2_S7-RNase  \\\n",
       "S11-SLF1_S7-RNase           2.071667           1.883292           2.566492   \n",
       "S11-SLF2_S17-RNase          2.753005           2.766277           3.047834   \n",
       "S9-SLF1_S5-RNase            2.215054           2.180248           2.233243   \n",
       "S11-SLF2_S5-RNase           2.360265           2.217781           2.908146   \n",
       "S11-SLF1_S5-RNase           1.902189           2.319619           2.544269   \n",
       "S5-SLF1_S7-RNase            2.368635           2.501523           2.749576   \n",
       "S9-SLF1_S7-RNase            0.000000           2.177174           2.749274   \n",
       "S11-SLF1_S9-RNase           2.177174           0.000000           2.399135   \n",
       "S11-SLF2_S7-RNase           2.749274           2.399135           0.000000   \n",
       "S11-SLF3_S17-RNase          2.969397           2.797905           2.886841   \n",
       "S7-SLF1_S5-RNase            4.175405           3.725198           3.024934   \n",
       "S7-SLF1_S11-RNase           2.452565           2.496820           2.795979   \n",
       "S7-SLF2_S5-RNase            2.160156           2.575459           2.996746   \n",
       "S5-SLF2_S17-RNase           1.958525           2.035675           2.740601   \n",
       "S5-SLF2_S7-RNase            2.227731           2.039501           2.421839   \n",
       "S7-SLF3_S11-RNase           2.264999           2.350710           2.931473   \n",
       "S7-SLF3_S17-RNase           2.459887           2.471777           2.654185   \n",
       "S9-SLF1_S11-RNase           2.408053           2.858795           3.369197   \n",
       "S11-SLF3_S5-RNase           2.951589           2.668764           3.482987   \n",
       "S7-SLF2_S17-RNase           2.224276           2.471657           3.113754   \n",
       "S7-SLF3_S9-RNase            2.384454           2.661427           2.900187   \n",
       "S11-SLF3_S9-RNase           2.249088           2.194793           2.117275   \n",
       "S5-SLF1_S11-RNase           2.937019           2.783901           3.420274   \n",
       "S7-SLF3_S5-RNase            2.834011           2.831536           2.623866   \n",
       "S11-SLF2_S9-RNase           1.834899           2.019481           2.563175   \n",
       "S9-SLF1_S3-RNase            2.812856           2.666775           2.966337   \n",
       "S11-SLF1_S17-RNase          2.333439           2.247680           2.217671   \n",
       "S5-SLF1_S9-RNase            2.546597           2.403986           2.935075   \n",
       "S7-SLF1_S9-RNase            2.876410           2.399912           2.636434   \n",
       "S11-SLF3_S7-RNase           1.813809           2.217256           2.753126   \n",
       "S7-SLF1_S17-RNase           2.384296           1.812761           2.746886   \n",
       "S5-SLF2_S11-RNase           2.919392           3.025080           3.224259   \n",
       "S7-SLF2_S9-RNase            2.863113           2.564219           2.426418   \n",
       "S9-SLF1_S17-RNase           2.520850           2.195144           2.442897   \n",
       "S5-SLF2_S9-RNase            2.666725           2.989226           3.253018   \n",
       "S7-SLF2_S11-RNase           2.314305           2.484977           2.660894   \n",
       "S5-SLF1_S17-RNase           1.726300           1.959535           2.631595   \n",
       "\n",
       "                    S11-SLF3_S17-RNase  ...  S5-SLF1_S9-RNase  \\\n",
       "S11-SLF1_S7-RNase             2.832028  ...          2.558566   \n",
       "S11-SLF2_S17-RNase            3.067775  ...          2.992631   \n",
       "S9-SLF1_S5-RNase              2.804567  ...          2.766289   \n",
       "S11-SLF2_S5-RNase             2.690379  ...          3.028678   \n",
       "S11-SLF1_S5-RNase             3.039886  ...          2.600749   \n",
       "S5-SLF1_S7-RNase              3.165760  ...          2.334188   \n",
       "S9-SLF1_S7-RNase              2.969397  ...          2.546597   \n",
       "S11-SLF1_S9-RNase             2.797905  ...          2.403986   \n",
       "S11-SLF2_S7-RNase             2.886841  ...          2.935075   \n",
       "S11-SLF3_S17-RNase            0.000000  ...          3.234217   \n",
       "S7-SLF1_S5-RNase              4.292493  ...          4.083984   \n",
       "S7-SLF1_S11-RNase             3.326226  ...          3.122763   \n",
       "S7-SLF2_S5-RNase              2.995972  ...          2.905505   \n",
       "S5-SLF2_S17-RNase             2.780973  ...          2.542581   \n",
       "S5-SLF2_S7-RNase              2.820609  ...          2.788366   \n",
       "S7-SLF3_S11-RNase             2.912072  ...          2.393884   \n",
       "S7-SLF3_S17-RNase             3.001205  ...          2.887882   \n",
       "S9-SLF1_S11-RNase             3.479474  ...          2.970450   \n",
       "S11-SLF3_S5-RNase             3.754464  ...          3.441279   \n",
       "S7-SLF2_S17-RNase             2.989206  ...          2.707928   \n",
       "S7-SLF3_S9-RNase              3.322969  ...          3.135482   \n",
       "S11-SLF3_S9-RNase             2.830528  ...          2.477575   \n",
       "S5-SLF1_S11-RNase             2.253067  ...          3.444268   \n",
       "S7-SLF3_S5-RNase              3.483894  ...          3.243469   \n",
       "S11-SLF2_S9-RNase             2.755652  ...          2.531416   \n",
       "S9-SLF1_S3-RNase              3.080933  ...          2.646086   \n",
       "S11-SLF1_S17-RNase            3.151803  ...          2.952520   \n",
       "S5-SLF1_S9-RNase              3.234217  ...          0.000000   \n",
       "S7-SLF1_S9-RNase              2.997487  ...          2.794968   \n",
       "S11-SLF3_S7-RNase             2.823125  ...          2.375101   \n",
       "S7-SLF1_S17-RNase             3.170104  ...          2.975636   \n",
       "S5-SLF2_S11-RNase             2.996458  ...          3.580145   \n",
       "S7-SLF2_S9-RNase              3.212474  ...          2.925227   \n",
       "S9-SLF1_S17-RNase             3.044838  ...          2.938533   \n",
       "S5-SLF2_S9-RNase              3.838152  ...          3.555024   \n",
       "S7-SLF2_S11-RNase             2.746053  ...          2.987229   \n",
       "S5-SLF1_S17-RNase             2.774913  ...          2.447770   \n",
       "\n",
       "                    S7-SLF1_S9-RNase  S11-SLF3_S7-RNase  S7-SLF1_S17-RNase  \\\n",
       "S11-SLF1_S7-RNase           2.640115           2.142949           2.331975   \n",
       "S11-SLF2_S17-RNase          2.676751           2.718498           3.256184   \n",
       "S9-SLF1_S5-RNase            2.299617           2.322323           2.454994   \n",
       "S11-SLF2_S5-RNase           3.150356           2.570192           2.286292   \n",
       "S11-SLF1_S5-RNase           2.349022           2.182590           2.607218   \n",
       "S5-SLF1_S7-RNase            2.805267           2.275831           2.697007   \n",
       "S9-SLF1_S7-RNase            2.876410           1.813809           2.384296   \n",
       "S11-SLF1_S9-RNase           2.399912           2.217256           1.812761   \n",
       "S11-SLF2_S7-RNase           2.636434           2.753126           2.746886   \n",
       "S11-SLF3_S17-RNase          2.997487           2.823125           3.170104   \n",
       "S7-SLF1_S5-RNase            3.475664           3.947945           3.489983   \n",
       "S7-SLF1_S11-RNase           3.101758           2.659703           2.803052   \n",
       "S7-SLF2_S5-RNase            2.790539           1.674913           2.851246   \n",
       "S5-SLF2_S17-RNase           2.758738           2.123221           2.655367   \n",
       "S5-SLF2_S7-RNase            2.765451           2.245554           2.237839   \n",
       "S7-SLF3_S11-RNase           2.809799           2.249195           2.669346   \n",
       "S7-SLF3_S17-RNase           2.757051           2.518712           2.558004   \n",
       "S9-SLF1_S11-RNase           2.725749           2.084886           2.903932   \n",
       "S11-SLF3_S5-RNase           3.431006           2.807326           2.433932   \n",
       "S7-SLF2_S17-RNase           2.902005           2.081348           2.731793   \n",
       "S7-SLF3_S9-RNase            3.168487           2.393258           2.637632   \n",
       "S11-SLF3_S9-RNase           2.435667           2.339622           2.435914   \n",
       "S5-SLF1_S11-RNase           3.210052           2.919234           3.364425   \n",
       "S7-SLF3_S5-RNase            3.022484           2.776026           3.377761   \n",
       "S11-SLF2_S9-RNase           2.560403           1.909813           2.320267   \n",
       "S9-SLF1_S3-RNase            2.748649           2.733079           3.061009   \n",
       "S11-SLF1_S17-RNase          2.676019           2.400806           2.266327   \n",
       "S5-SLF1_S9-RNase            2.794968           2.375101           2.975636   \n",
       "S7-SLF1_S9-RNase            0.000000           2.585982           2.640718   \n",
       "S11-SLF3_S7-RNase           2.585982           0.000000           2.551894   \n",
       "S7-SLF1_S17-RNase           2.640718           2.551894           0.000000   \n",
       "S5-SLF2_S11-RNase           2.762371           2.887296           3.035511   \n",
       "S7-SLF2_S9-RNase            2.651136           2.461491           2.503405   \n",
       "S9-SLF1_S17-RNase           3.020644           2.515582           2.837287   \n",
       "S5-SLF2_S9-RNase            3.442245           2.816667           3.029384   \n",
       "S7-SLF2_S11-RNase           2.808289           2.234760           2.686116   \n",
       "S5-SLF1_S17-RNase           2.603469           1.790697           2.262358   \n",
       "\n",
       "                    S5-SLF2_S11-RNase  S7-SLF2_S9-RNase  S9-SLF1_S17-RNase  \\\n",
       "S11-SLF1_S7-RNase            2.741490          2.807001           2.172114   \n",
       "S11-SLF2_S17-RNase           2.696799          3.259462           3.351339   \n",
       "S9-SLF1_S5-RNase             2.808157          2.560963           2.816282   \n",
       "S11-SLF2_S5-RNase            3.269577          2.806489           2.371303   \n",
       "S11-SLF1_S5-RNase            2.928563          2.802402           2.784793   \n",
       "S5-SLF1_S7-RNase             3.334500          2.575512           3.059392   \n",
       "S9-SLF1_S7-RNase             2.919392          2.863113           2.520850   \n",
       "S11-SLF1_S9-RNase            3.025080          2.564219           2.195144   \n",
       "S11-SLF2_S7-RNase            3.224259          2.426418           2.442897   \n",
       "S11-SLF3_S17-RNase           2.996458          3.212474           3.044838   \n",
       "S7-SLF1_S5-RNase             4.536872          2.703167           3.796966   \n",
       "S7-SLF1_S11-RNase            3.459974          3.088179           2.774749   \n",
       "S7-SLF2_S5-RNase             2.886323          2.613179           2.835843   \n",
       "S5-SLF2_S17-RNase            3.306201          3.000271           2.314518   \n",
       "S5-SLF2_S7-RNase             2.723794          2.657194           2.532278   \n",
       "S7-SLF3_S11-RNase            3.412330          2.592556           2.806106   \n",
       "S7-SLF3_S17-RNase            2.069877          2.437841           3.477595   \n",
       "S9-SLF1_S11-RNase            2.827306          2.949433           3.207347   \n",
       "S11-SLF3_S5-RNase            3.686874          3.089984           3.140060   \n",
       "S7-SLF2_S17-RNase            3.016361          2.534473           3.246894   \n",
       "S7-SLF3_S9-RNase             2.942858          2.606739           3.453145   \n",
       "S11-SLF3_S9-RNase            2.983773          2.457506           2.766990   \n",
       "S5-SLF1_S11-RNase            3.755774          3.696995           2.836642   \n",
       "S7-SLF3_S5-RNase             3.224056          3.088650           2.810683   \n",
       "S11-SLF2_S9-RNase            2.801460          2.659053           2.350925   \n",
       "S9-SLF1_S3-RNase             3.138393          3.187742           2.970552   \n",
       "S11-SLF1_S17-RNase           2.897789          2.179793           2.826797   \n",
       "S5-SLF1_S9-RNase             3.580145          2.925227           2.938533   \n",
       "S7-SLF1_S9-RNase             2.762371          2.651136           3.020644   \n",
       "S11-SLF3_S7-RNase            2.887296          2.461491           2.515582   \n",
       "S7-SLF1_S17-RNase            3.035511          2.503405           2.837287   \n",
       "S5-SLF2_S11-RNase            0.000000          3.095175           3.713505   \n",
       "S7-SLF2_S9-RNase             3.095175          0.000000           3.036989   \n",
       "S9-SLF1_S17-RNase            3.713505          3.036989           0.000000   \n",
       "S5-SLF2_S9-RNase             3.572850          3.101634           3.137794   \n",
       "S7-SLF2_S11-RNase            2.541580          2.414121           2.977005   \n",
       "S5-SLF1_S17-RNase            2.674167          2.598084           2.596563   \n",
       "\n",
       "                    S5-SLF2_S9-RNase  S7-SLF2_S11-RNase  S5-SLF1_S17-RNase  \n",
       "S11-SLF1_S7-RNase           3.086341           2.000402           2.151220  \n",
       "S11-SLF2_S17-RNase          3.552437           2.811065           2.437747  \n",
       "S9-SLF1_S5-RNase            3.226085           2.324055           2.320374  \n",
       "S11-SLF2_S5-RNase           3.098288           2.844255           2.292063  \n",
       "S11-SLF1_S5-RNase           2.876728           2.635044           2.190056  \n",
       "S5-SLF1_S7-RNase            2.804526           2.374067           2.253216  \n",
       "S9-SLF1_S7-RNase            2.666725           2.314305           1.726300  \n",
       "S11-SLF1_S9-RNase           2.989226           2.484977           1.959535  \n",
       "S11-SLF2_S7-RNase           3.253018           2.660894           2.631595  \n",
       "S11-SLF3_S17-RNase          3.838152           2.746053           2.774913  \n",
       "S7-SLF1_S5-RNase            3.911871           3.951312           4.138883  \n",
       "S7-SLF1_S11-RNase           2.825129           2.821075           2.686497  \n",
       "S7-SLF2_S5-RNase            2.829252           2.687064           2.123793  \n",
       "S5-SLF2_S17-RNase           3.082487           2.574677           2.060370  \n",
       "S5-SLF2_S7-RNase            2.679453           2.132843           1.907797  \n",
       "S7-SLF3_S11-RNase           2.905329           2.933391           2.397111  \n",
       "S7-SLF3_S17-RNase           3.181769           2.355544           2.407137  \n",
       "S9-SLF1_S11-RNase           3.352920           2.584573           2.353939  \n",
       "S11-SLF3_S5-RNase           2.651501           3.137994           2.766647  \n",
       "S7-SLF2_S17-RNase           2.960729           2.489326           2.099629  \n",
       "S7-SLF3_S9-RNase            2.968690           2.429015           2.642893  \n",
       "S11-SLF3_S9-RNase           2.763388           2.433887           2.323138  \n",
       "S5-SLF1_S11-RNase           4.011730           3.197860           2.908076  \n",
       "S7-SLF3_S5-RNase            3.627773           2.742423           2.684653  \n",
       "S11-SLF2_S9-RNase           3.030963           2.117027           1.943189  \n",
       "S9-SLF1_S3-RNase            3.480449           2.989223           2.658954  \n",
       "S11-SLF1_S17-RNase          2.591324           2.137258           2.318677  \n",
       "S5-SLF1_S9-RNase            3.555024           2.987229           2.447770  \n",
       "S7-SLF1_S9-RNase            3.442245           2.808289           2.603469  \n",
       "S11-SLF3_S7-RNase           2.816667           2.234760           1.790697  \n",
       "S7-SLF1_S17-RNase           3.029384           2.686116           2.262358  \n",
       "S5-SLF2_S11-RNase           3.572850           2.541580           2.674167  \n",
       "S7-SLF2_S9-RNase            3.101634           2.414121           2.598084  \n",
       "S9-SLF1_S17-RNase           3.137794           2.977005           2.596563  \n",
       "S5-SLF2_S9-RNase            0.000000           2.988363           2.831712  \n",
       "S7-SLF2_S11-RNase           2.988363           0.000000           2.325969  \n",
       "S5-SLF1_S17-RNase           2.831712           2.325969           0.000000  \n",
       "\n",
       "[37 rows x 37 columns]"
      ]
     },
     "execution_count": 62,
     "metadata": {},
     "output_type": "execute_result"
    }
   ],
   "source": [
    "pd.DataFrame(dist_map)"
   ]
  },
  {
   "cell_type": "code",
   "execution_count": 60,
   "metadata": {},
   "outputs": [
    {
     "data": {
      "text/html": [
       "<div>\n",
       "<style scoped>\n",
       "    .dataframe tbody tr th:only-of-type {\n",
       "        vertical-align: middle;\n",
       "    }\n",
       "\n",
       "    .dataframe tbody tr th {\n",
       "        vertical-align: top;\n",
       "    }\n",
       "\n",
       "    .dataframe thead th {\n",
       "        text-align: right;\n",
       "    }\n",
       "</style>\n",
       "<table border=\"1\" class=\"dataframe\">\n",
       "  <thead>\n",
       "    <tr style=\"text-align: right;\">\n",
       "      <th></th>\n",
       "      <th>S11-SLF1_S7-RNase</th>\n",
       "      <th>S11-SLF2_S17-RNase</th>\n",
       "      <th>S9-SLF1_S5-RNase</th>\n",
       "      <th>S11-SLF2_S5-RNase</th>\n",
       "      <th>S11-SLF1_S5-RNase</th>\n",
       "      <th>S5-SLF1_S7-RNase</th>\n",
       "      <th>S9-SLF1_S7-RNase</th>\n",
       "      <th>S11-SLF1_S9-RNase</th>\n",
       "      <th>S11-SLF2_S7-RNase</th>\n",
       "      <th>S11-SLF3_S17-RNase</th>\n",
       "      <th>...</th>\n",
       "      <th>S5-SLF1_S9-RNase</th>\n",
       "      <th>S7-SLF1_S9-RNase</th>\n",
       "      <th>S11-SLF3_S7-RNase</th>\n",
       "      <th>S7-SLF1_S17-RNase</th>\n",
       "      <th>S5-SLF2_S11-RNase</th>\n",
       "      <th>S7-SLF2_S9-RNase</th>\n",
       "      <th>S9-SLF1_S17-RNase</th>\n",
       "      <th>S5-SLF2_S9-RNase</th>\n",
       "      <th>S7-SLF2_S11-RNase</th>\n",
       "      <th>S5-SLF1_S17-RNase</th>\n",
       "    </tr>\n",
       "  </thead>\n",
       "  <tbody>\n",
       "    <tr>\n",
       "      <th>S11-SLF1_S7-RNase</th>\n",
       "      <td>0.000000</td>\n",
       "      <td>0.594826</td>\n",
       "      <td>0.421496</td>\n",
       "      <td>0.554301</td>\n",
       "      <td>0.401848</td>\n",
       "      <td>0.114098</td>\n",
       "      <td>0.136997</td>\n",
       "      <td>0.371471</td>\n",
       "      <td>0.366567</td>\n",
       "      <td>0.600573</td>\n",
       "      <td>...</td>\n",
       "      <td>0.395610</td>\n",
       "      <td>0.399946</td>\n",
       "      <td>0.417763</td>\n",
       "      <td>0.434932</td>\n",
       "      <td>0.521540</td>\n",
       "      <td>0.484807</td>\n",
       "      <td>0.455715</td>\n",
       "      <td>0.493239</td>\n",
       "      <td>0.502369</td>\n",
       "      <td>0.441091</td>\n",
       "    </tr>\n",
       "    <tr>\n",
       "      <th>S11-SLF2_S17-RNase</th>\n",
       "      <td>0.594826</td>\n",
       "      <td>0.000000</td>\n",
       "      <td>0.593445</td>\n",
       "      <td>0.458530</td>\n",
       "      <td>0.608693</td>\n",
       "      <td>0.595367</td>\n",
       "      <td>0.581446</td>\n",
       "      <td>0.598246</td>\n",
       "      <td>0.426807</td>\n",
       "      <td>0.429932</td>\n",
       "      <td>...</td>\n",
       "      <td>0.603357</td>\n",
       "      <td>0.617001</td>\n",
       "      <td>0.632686</td>\n",
       "      <td>0.377093</td>\n",
       "      <td>0.584938</td>\n",
       "      <td>0.520125</td>\n",
       "      <td>0.354086</td>\n",
       "      <td>0.482661</td>\n",
       "      <td>0.606909</td>\n",
       "      <td>0.366597</td>\n",
       "    </tr>\n",
       "    <tr>\n",
       "      <th>S9-SLF1_S5-RNase</th>\n",
       "      <td>0.421496</td>\n",
       "      <td>0.593445</td>\n",
       "      <td>0.000000</td>\n",
       "      <td>0.354086</td>\n",
       "      <td>0.136997</td>\n",
       "      <td>0.413947</td>\n",
       "      <td>0.401848</td>\n",
       "      <td>0.424080</td>\n",
       "      <td>0.522370</td>\n",
       "      <td>0.593222</td>\n",
       "      <td>...</td>\n",
       "      <td>0.423125</td>\n",
       "      <td>0.418884</td>\n",
       "      <td>0.553074</td>\n",
       "      <td>0.447593</td>\n",
       "      <td>0.501298</td>\n",
       "      <td>0.549300</td>\n",
       "      <td>0.458530</td>\n",
       "      <td>0.501593</td>\n",
       "      <td>0.538564</td>\n",
       "      <td>0.461254</td>\n",
       "    </tr>\n",
       "    <tr>\n",
       "      <th>S11-SLF2_S5-RNase</th>\n",
       "      <td>0.554301</td>\n",
       "      <td>0.458530</td>\n",
       "      <td>0.354086</td>\n",
       "      <td>0.000000</td>\n",
       "      <td>0.366567</td>\n",
       "      <td>0.554297</td>\n",
       "      <td>0.548494</td>\n",
       "      <td>0.598821</td>\n",
       "      <td>0.401847</td>\n",
       "      <td>0.613195</td>\n",
       "      <td>...</td>\n",
       "      <td>0.603390</td>\n",
       "      <td>0.607041</td>\n",
       "      <td>0.600438</td>\n",
       "      <td>0.560075</td>\n",
       "      <td>0.469001</td>\n",
       "      <td>0.548487</td>\n",
       "      <td>0.564868</td>\n",
       "      <td>0.505939</td>\n",
       "      <td>0.503431</td>\n",
       "      <td>0.564012</td>\n",
       "    </tr>\n",
       "    <tr>\n",
       "      <th>S11-SLF1_S5-RNase</th>\n",
       "      <td>0.401848</td>\n",
       "      <td>0.608693</td>\n",
       "      <td>0.136997</td>\n",
       "      <td>0.366567</td>\n",
       "      <td>0.000000</td>\n",
       "      <td>0.417700</td>\n",
       "      <td>0.427598</td>\n",
       "      <td>0.416018</td>\n",
       "      <td>0.533344</td>\n",
       "      <td>0.625763</td>\n",
       "      <td>...</td>\n",
       "      <td>0.437676</td>\n",
       "      <td>0.432005</td>\n",
       "      <td>0.582076</td>\n",
       "      <td>0.456994</td>\n",
       "      <td>0.509256</td>\n",
       "      <td>0.542403</td>\n",
       "      <td>0.488214</td>\n",
       "      <td>0.523079</td>\n",
       "      <td>0.518216</td>\n",
       "      <td>0.471827</td>\n",
       "    </tr>\n",
       "    <tr>\n",
       "      <th>S5-SLF1_S7-RNase</th>\n",
       "      <td>0.114098</td>\n",
       "      <td>0.595367</td>\n",
       "      <td>0.413947</td>\n",
       "      <td>0.554297</td>\n",
       "      <td>0.417700</td>\n",
       "      <td>0.000000</td>\n",
       "      <td>0.111750</td>\n",
       "      <td>0.381459</td>\n",
       "      <td>0.366597</td>\n",
       "      <td>0.577979</td>\n",
       "      <td>...</td>\n",
       "      <td>0.371471</td>\n",
       "      <td>0.383781</td>\n",
       "      <td>0.383766</td>\n",
       "      <td>0.427336</td>\n",
       "      <td>0.519024</td>\n",
       "      <td>0.471306</td>\n",
       "      <td>0.449463</td>\n",
       "      <td>0.480033</td>\n",
       "      <td>0.499701</td>\n",
       "      <td>0.426807</td>\n",
       "    </tr>\n",
       "    <tr>\n",
       "      <th>S9-SLF1_S7-RNase</th>\n",
       "      <td>0.136997</td>\n",
       "      <td>0.581446</td>\n",
       "      <td>0.401848</td>\n",
       "      <td>0.548494</td>\n",
       "      <td>0.427598</td>\n",
       "      <td>0.111750</td>\n",
       "      <td>0.000000</td>\n",
       "      <td>0.383868</td>\n",
       "      <td>0.354086</td>\n",
       "      <td>0.568870</td>\n",
       "      <td>...</td>\n",
       "      <td>0.382848</td>\n",
       "      <td>0.389080</td>\n",
       "      <td>0.379731</td>\n",
       "      <td>0.428081</td>\n",
       "      <td>0.516287</td>\n",
       "      <td>0.495135</td>\n",
       "      <td>0.426807</td>\n",
       "      <td>0.473138</td>\n",
       "      <td>0.525803</td>\n",
       "      <td>0.432767</td>\n",
       "    </tr>\n",
       "    <tr>\n",
       "      <th>S11-SLF1_S9-RNase</th>\n",
       "      <td>0.371471</td>\n",
       "      <td>0.598246</td>\n",
       "      <td>0.424080</td>\n",
       "      <td>0.598821</td>\n",
       "      <td>0.416018</td>\n",
       "      <td>0.381459</td>\n",
       "      <td>0.383868</td>\n",
       "      <td>0.000000</td>\n",
       "      <td>0.558667</td>\n",
       "      <td>0.592271</td>\n",
       "      <td>...</td>\n",
       "      <td>0.114098</td>\n",
       "      <td>0.107109</td>\n",
       "      <td>0.581619</td>\n",
       "      <td>0.378161</td>\n",
       "      <td>0.577088</td>\n",
       "      <td>0.355690</td>\n",
       "      <td>0.403243</td>\n",
       "      <td>0.338695</td>\n",
       "      <td>0.577449</td>\n",
       "      <td>0.391659</td>\n",
       "    </tr>\n",
       "    <tr>\n",
       "      <th>S11-SLF2_S7-RNase</th>\n",
       "      <td>0.366567</td>\n",
       "      <td>0.426807</td>\n",
       "      <td>0.522370</td>\n",
       "      <td>0.401847</td>\n",
       "      <td>0.533344</td>\n",
       "      <td>0.366597</td>\n",
       "      <td>0.354086</td>\n",
       "      <td>0.558667</td>\n",
       "      <td>0.000000</td>\n",
       "      <td>0.577685</td>\n",
       "      <td>...</td>\n",
       "      <td>0.563586</td>\n",
       "      <td>0.574830</td>\n",
       "      <td>0.429932</td>\n",
       "      <td>0.531610</td>\n",
       "      <td>0.470347</td>\n",
       "      <td>0.479874</td>\n",
       "      <td>0.526309</td>\n",
       "      <td>0.462872</td>\n",
       "      <td>0.475259</td>\n",
       "      <td>0.527876</td>\n",
       "    </tr>\n",
       "    <tr>\n",
       "      <th>S11-SLF3_S17-RNase</th>\n",
       "      <td>0.600573</td>\n",
       "      <td>0.429932</td>\n",
       "      <td>0.593222</td>\n",
       "      <td>0.613195</td>\n",
       "      <td>0.625763</td>\n",
       "      <td>0.577979</td>\n",
       "      <td>0.568870</td>\n",
       "      <td>0.592271</td>\n",
       "      <td>0.577685</td>\n",
       "      <td>0.000000</td>\n",
       "      <td>...</td>\n",
       "      <td>0.574155</td>\n",
       "      <td>0.587495</td>\n",
       "      <td>0.426807</td>\n",
       "      <td>0.392336</td>\n",
       "      <td>0.654848</td>\n",
       "      <td>0.608954</td>\n",
       "      <td>0.379731</td>\n",
       "      <td>0.564871</td>\n",
       "      <td>0.684974</td>\n",
       "      <td>0.383767</td>\n",
       "    </tr>\n",
       "    <tr>\n",
       "      <th>S7-SLF1_S5-RNase</th>\n",
       "      <td>0.425866</td>\n",
       "      <td>0.625471</td>\n",
       "      <td>0.110923</td>\n",
       "      <td>0.377093</td>\n",
       "      <td>0.107109</td>\n",
       "      <td>0.417331</td>\n",
       "      <td>0.429866</td>\n",
       "      <td>0.427152</td>\n",
       "      <td>0.548354</td>\n",
       "      <td>0.619564</td>\n",
       "      <td>...</td>\n",
       "      <td>0.425158</td>\n",
       "      <td>0.416018</td>\n",
       "      <td>0.571509</td>\n",
       "      <td>0.458530</td>\n",
       "      <td>0.512868</td>\n",
       "      <td>0.545793</td>\n",
       "      <td>0.494740</td>\n",
       "      <td>0.519474</td>\n",
       "      <td>0.528855</td>\n",
       "      <td>0.476218</td>\n",
       "    </tr>\n",
       "    <tr>\n",
       "      <th>S7-SLF1_S11-RNase</th>\n",
       "      <td>0.444003</td>\n",
       "      <td>0.705935</td>\n",
       "      <td>0.428522</td>\n",
       "      <td>0.583908</td>\n",
       "      <td>0.425231</td>\n",
       "      <td>0.441254</td>\n",
       "      <td>0.450043</td>\n",
       "      <td>0.488110</td>\n",
       "      <td>0.588106</td>\n",
       "      <td>0.680705</td>\n",
       "      <td>...</td>\n",
       "      <td>0.491239</td>\n",
       "      <td>0.483972</td>\n",
       "      <td>0.586660</td>\n",
       "      <td>0.541613</td>\n",
       "      <td>0.336215</td>\n",
       "      <td>0.621582</td>\n",
       "      <td>0.569628</td>\n",
       "      <td>0.596433</td>\n",
       "      <td>0.363715</td>\n",
       "      <td>0.556126</td>\n",
       "    </tr>\n",
       "    <tr>\n",
       "      <th>S7-SLF2_S5-RNase</th>\n",
       "      <td>0.513726</td>\n",
       "      <td>0.537144</td>\n",
       "      <td>0.382152</td>\n",
       "      <td>0.286372</td>\n",
       "      <td>0.355690</td>\n",
       "      <td>0.506436</td>\n",
       "      <td>0.534818</td>\n",
       "      <td>0.552242</td>\n",
       "      <td>0.456082</td>\n",
       "      <td>0.645759</td>\n",
       "      <td>...</td>\n",
       "      <td>0.550484</td>\n",
       "      <td>0.559312</td>\n",
       "      <td>0.608093</td>\n",
       "      <td>0.547758</td>\n",
       "      <td>0.484932</td>\n",
       "      <td>0.416018</td>\n",
       "      <td>0.579659</td>\n",
       "      <td>0.471309</td>\n",
       "      <td>0.417989</td>\n",
       "      <td>0.546888</td>\n",
       "    </tr>\n",
       "    <tr>\n",
       "      <th>S5-SLF2_S17-RNase</th>\n",
       "      <td>0.569172</td>\n",
       "      <td>0.214322</td>\n",
       "      <td>0.572656</td>\n",
       "      <td>0.502616</td>\n",
       "      <td>0.589313</td>\n",
       "      <td>0.563225</td>\n",
       "      <td>0.554250</td>\n",
       "      <td>0.545629</td>\n",
       "      <td>0.466790</td>\n",
       "      <td>0.423462</td>\n",
       "      <td>...</td>\n",
       "      <td>0.544495</td>\n",
       "      <td>0.557675</td>\n",
       "      <td>0.620133</td>\n",
       "      <td>0.336215</td>\n",
       "      <td>0.541614</td>\n",
       "      <td>0.453696</td>\n",
       "      <td>0.323565</td>\n",
       "      <td>0.382750</td>\n",
       "      <td>0.584213</td>\n",
       "      <td>0.327657</td>\n",
       "    </tr>\n",
       "    <tr>\n",
       "      <th>S5-SLF2_S7-RNase</th>\n",
       "      <td>0.338695</td>\n",
       "      <td>0.488162</td>\n",
       "      <td>0.508755</td>\n",
       "      <td>0.462665</td>\n",
       "      <td>0.521002</td>\n",
       "      <td>0.327657</td>\n",
       "      <td>0.323565</td>\n",
       "      <td>0.511983</td>\n",
       "      <td>0.214322</td>\n",
       "      <td>0.581724</td>\n",
       "      <td>...</td>\n",
       "      <td>0.510165</td>\n",
       "      <td>0.520524</td>\n",
       "      <td>0.423462</td>\n",
       "      <td>0.513474</td>\n",
       "      <td>0.427345</td>\n",
       "      <td>0.419277</td>\n",
       "      <td>0.516259</td>\n",
       "      <td>0.371471</td>\n",
       "      <td>0.457212</td>\n",
       "      <td>0.511687</td>\n",
       "    </tr>\n",
       "    <tr>\n",
       "      <th>S7-SLF3_S11-RNase</th>\n",
       "      <td>0.614965</td>\n",
       "      <td>0.737024</td>\n",
       "      <td>0.618581</td>\n",
       "      <td>0.689733</td>\n",
       "      <td>0.639792</td>\n",
       "      <td>0.597018</td>\n",
       "      <td>0.595047</td>\n",
       "      <td>0.658895</td>\n",
       "      <td>0.658165</td>\n",
       "      <td>0.572682</td>\n",
       "      <td>...</td>\n",
       "      <td>0.646445</td>\n",
       "      <td>0.650574</td>\n",
       "      <td>0.501227</td>\n",
       "      <td>0.651966</td>\n",
       "      <td>0.459384</td>\n",
       "      <td>0.728491</td>\n",
       "      <td>0.658456</td>\n",
       "      <td>0.679179</td>\n",
       "      <td>0.518715</td>\n",
       "      <td>0.654637</td>\n",
       "    </tr>\n",
       "    <tr>\n",
       "      <th>S7-SLF3_S17-RNase</th>\n",
       "      <td>0.648038</td>\n",
       "      <td>0.486624</td>\n",
       "      <td>0.670146</td>\n",
       "      <td>0.705840</td>\n",
       "      <td>0.697926</td>\n",
       "      <td>0.627763</td>\n",
       "      <td>0.620112</td>\n",
       "      <td>0.623412</td>\n",
       "      <td>0.647816</td>\n",
       "      <td>0.261297</td>\n",
       "      <td>...</td>\n",
       "      <td>0.606855</td>\n",
       "      <td>0.620692</td>\n",
       "      <td>0.533315</td>\n",
       "      <td>0.425979</td>\n",
       "      <td>0.702991</td>\n",
       "      <td>0.650304</td>\n",
       "      <td>0.413687</td>\n",
       "      <td>0.602802</td>\n",
       "      <td>0.736436</td>\n",
       "      <td>0.416315</td>\n",
       "    </tr>\n",
       "    <tr>\n",
       "      <th>S9-SLF1_S11-RNase</th>\n",
       "      <td>0.443647</td>\n",
       "      <td>0.680217</td>\n",
       "      <td>0.417989</td>\n",
       "      <td>0.572289</td>\n",
       "      <td>0.437613</td>\n",
       "      <td>0.441905</td>\n",
       "      <td>0.427345</td>\n",
       "      <td>0.488901</td>\n",
       "      <td>0.566952</td>\n",
       "      <td>0.659395</td>\n",
       "      <td>...</td>\n",
       "      <td>0.492929</td>\n",
       "      <td>0.489908</td>\n",
       "      <td>0.571687</td>\n",
       "      <td>0.535558</td>\n",
       "      <td>0.323565</td>\n",
       "      <td>0.627370</td>\n",
       "      <td>0.541614</td>\n",
       "      <td>0.583835</td>\n",
       "      <td>0.382152</td>\n",
       "      <td>0.546476</td>\n",
       "    </tr>\n",
       "    <tr>\n",
       "      <th>S11-SLF3_S5-RNase</th>\n",
       "      <td>0.577237</td>\n",
       "      <td>0.643564</td>\n",
       "      <td>0.379731</td>\n",
       "      <td>0.429932</td>\n",
       "      <td>0.417763</td>\n",
       "      <td>0.553106</td>\n",
       "      <td>0.552687</td>\n",
       "      <td>0.608733</td>\n",
       "      <td>0.576299</td>\n",
       "      <td>0.458530</td>\n",
       "      <td>...</td>\n",
       "      <td>0.590574</td>\n",
       "      <td>0.593331</td>\n",
       "      <td>0.401848</td>\n",
       "      <td>0.586937</td>\n",
       "      <td>0.570718</td>\n",
       "      <td>0.648242</td>\n",
       "      <td>0.597476</td>\n",
       "      <td>0.600979</td>\n",
       "      <td>0.611046</td>\n",
       "      <td>0.591673</td>\n",
       "    </tr>\n",
       "    <tr>\n",
       "      <th>S7-SLF2_S17-RNase</th>\n",
       "      <td>0.560551</td>\n",
       "      <td>0.286372</td>\n",
       "      <td>0.613658</td>\n",
       "      <td>0.544052</td>\n",
       "      <td>0.605298</td>\n",
       "      <td>0.554461</td>\n",
       "      <td>0.571838</td>\n",
       "      <td>0.554994</td>\n",
       "      <td>0.482107</td>\n",
       "      <td>0.479137</td>\n",
       "      <td>...</td>\n",
       "      <td>0.553829</td>\n",
       "      <td>0.573373</td>\n",
       "      <td>0.642866</td>\n",
       "      <td>0.363715</td>\n",
       "      <td>0.600903</td>\n",
       "      <td>0.382750</td>\n",
       "      <td>0.382152</td>\n",
       "      <td>0.450392</td>\n",
       "      <td>0.541614</td>\n",
       "      <td>0.345115</td>\n",
       "    </tr>\n",
       "    <tr>\n",
       "      <th>S7-SLF3_S9-RNase</th>\n",
       "      <td>0.577443</td>\n",
       "      <td>0.646522</td>\n",
       "      <td>0.605737</td>\n",
       "      <td>0.704076</td>\n",
       "      <td>0.638422</td>\n",
       "      <td>0.549050</td>\n",
       "      <td>0.543477</td>\n",
       "      <td>0.446997</td>\n",
       "      <td>0.640456</td>\n",
       "      <td>0.449663</td>\n",
       "      <td>...</td>\n",
       "      <td>0.416315</td>\n",
       "      <td>0.425979</td>\n",
       "      <td>0.477153</td>\n",
       "      <td>0.520243</td>\n",
       "      <td>0.655165</td>\n",
       "      <td>0.518715</td>\n",
       "      <td>0.522144</td>\n",
       "      <td>0.459384</td>\n",
       "      <td>0.689848</td>\n",
       "      <td>0.520921</td>\n",
       "    </tr>\n",
       "    <tr>\n",
       "      <th>S11-SLF3_S9-RNase</th>\n",
       "      <td>0.535493</td>\n",
       "      <td>0.615311</td>\n",
       "      <td>0.531330</td>\n",
       "      <td>0.621368</td>\n",
       "      <td>0.569770</td>\n",
       "      <td>0.503990</td>\n",
       "      <td>0.497009</td>\n",
       "      <td>0.417763</td>\n",
       "      <td>0.580358</td>\n",
       "      <td>0.382750</td>\n",
       "      <td>...</td>\n",
       "      <td>0.383767</td>\n",
       "      <td>0.392336</td>\n",
       "      <td>0.371471</td>\n",
       "      <td>0.505667</td>\n",
       "      <td>0.613554</td>\n",
       "      <td>0.479137</td>\n",
       "      <td>0.508203</td>\n",
       "      <td>0.423462</td>\n",
       "      <td>0.644451</td>\n",
       "      <td>0.507832</td>\n",
       "    </tr>\n",
       "    <tr>\n",
       "      <th>S5-SLF1_S11-RNase</th>\n",
       "      <td>0.436926</td>\n",
       "      <td>0.692033</td>\n",
       "      <td>0.429438</td>\n",
       "      <td>0.577707</td>\n",
       "      <td>0.427749</td>\n",
       "      <td>0.427345</td>\n",
       "      <td>0.441524</td>\n",
       "      <td>0.486839</td>\n",
       "      <td>0.574703</td>\n",
       "      <td>0.667143</td>\n",
       "      <td>...</td>\n",
       "      <td>0.483972</td>\n",
       "      <td>0.485537</td>\n",
       "      <td>0.574229</td>\n",
       "      <td>0.534806</td>\n",
       "      <td>0.327657</td>\n",
       "      <td>0.608601</td>\n",
       "      <td>0.559491</td>\n",
       "      <td>0.589294</td>\n",
       "      <td>0.345115</td>\n",
       "      <td>0.541613</td>\n",
       "    </tr>\n",
       "    <tr>\n",
       "      <th>S7-SLF3_S5-RNase</th>\n",
       "      <td>0.567650</td>\n",
       "      <td>0.629202</td>\n",
       "      <td>0.413687</td>\n",
       "      <td>0.486624</td>\n",
       "      <td>0.446997</td>\n",
       "      <td>0.543794</td>\n",
       "      <td>0.544195</td>\n",
       "      <td>0.581526</td>\n",
       "      <td>0.589767</td>\n",
       "      <td>0.456382</td>\n",
       "      <td>...</td>\n",
       "      <td>0.563166</td>\n",
       "      <td>0.567370</td>\n",
       "      <td>0.439888</td>\n",
       "      <td>0.549350</td>\n",
       "      <td>0.566435</td>\n",
       "      <td>0.634071</td>\n",
       "      <td>0.560069</td>\n",
       "      <td>0.578987</td>\n",
       "      <td>0.613421</td>\n",
       "      <td>0.553061</td>\n",
       "    </tr>\n",
       "    <tr>\n",
       "      <th>S11-SLF2_S9-RNase</th>\n",
       "      <td>0.482302</td>\n",
       "      <td>0.382750</td>\n",
       "      <td>0.485086</td>\n",
       "      <td>0.416018</td>\n",
       "      <td>0.506259</td>\n",
       "      <td>0.476592</td>\n",
       "      <td>0.462835</td>\n",
       "      <td>0.366567</td>\n",
       "      <td>0.371471</td>\n",
       "      <td>0.532983</td>\n",
       "      <td>...</td>\n",
       "      <td>0.366597</td>\n",
       "      <td>0.377093</td>\n",
       "      <td>0.555743</td>\n",
       "      <td>0.443511</td>\n",
       "      <td>0.492449</td>\n",
       "      <td>0.286372</td>\n",
       "      <td>0.438387</td>\n",
       "      <td>0.214322</td>\n",
       "      <td>0.516912</td>\n",
       "      <td>0.444682</td>\n",
       "    </tr>\n",
       "    <tr>\n",
       "      <th>S9-SLF1_S3-RNase</th>\n",
       "      <td>0.536682</td>\n",
       "      <td>0.579423</td>\n",
       "      <td>0.434081</td>\n",
       "      <td>0.539358</td>\n",
       "      <td>0.479368</td>\n",
       "      <td>0.518824</td>\n",
       "      <td>0.499250</td>\n",
       "      <td>0.500752</td>\n",
       "      <td>0.581157</td>\n",
       "      <td>0.575909</td>\n",
       "      <td>...</td>\n",
       "      <td>0.487238</td>\n",
       "      <td>0.489399</td>\n",
       "      <td>0.605780</td>\n",
       "      <td>0.471728</td>\n",
       "      <td>0.542950</td>\n",
       "      <td>0.586153</td>\n",
       "      <td>0.465510</td>\n",
       "      <td>0.513833</td>\n",
       "      <td>0.602464</td>\n",
       "      <td>0.478813</td>\n",
       "    </tr>\n",
       "    <tr>\n",
       "      <th>S11-SLF1_S17-RNase</th>\n",
       "      <td>0.426807</td>\n",
       "      <td>0.366567</td>\n",
       "      <td>0.468703</td>\n",
       "      <td>0.564566</td>\n",
       "      <td>0.458530</td>\n",
       "      <td>0.442496</td>\n",
       "      <td>0.440667</td>\n",
       "      <td>0.382750</td>\n",
       "      <td>0.528443</td>\n",
       "      <td>0.417763</td>\n",
       "      <td>...</td>\n",
       "      <td>0.406982</td>\n",
       "      <td>0.415852</td>\n",
       "      <td>0.593879</td>\n",
       "      <td>0.107109</td>\n",
       "      <td>0.596361</td>\n",
       "      <td>0.487859</td>\n",
       "      <td>0.136997</td>\n",
       "      <td>0.474038</td>\n",
       "      <td>0.597961</td>\n",
       "      <td>0.114097</td>\n",
       "    </tr>\n",
       "    <tr>\n",
       "      <th>S5-SLF1_S9-RNase</th>\n",
       "      <td>0.395610</td>\n",
       "      <td>0.603357</td>\n",
       "      <td>0.423125</td>\n",
       "      <td>0.603390</td>\n",
       "      <td>0.437676</td>\n",
       "      <td>0.371471</td>\n",
       "      <td>0.382848</td>\n",
       "      <td>0.114098</td>\n",
       "      <td>0.563586</td>\n",
       "      <td>0.574155</td>\n",
       "      <td>...</td>\n",
       "      <td>0.000000</td>\n",
       "      <td>0.065586</td>\n",
       "      <td>0.562610</td>\n",
       "      <td>0.376767</td>\n",
       "      <td>0.579577</td>\n",
       "      <td>0.345115</td>\n",
       "      <td>0.403043</td>\n",
       "      <td>0.327657</td>\n",
       "      <td>0.579890</td>\n",
       "      <td>0.382750</td>\n",
       "    </tr>\n",
       "    <tr>\n",
       "      <th>S7-SLF1_S9-RNase</th>\n",
       "      <td>0.399946</td>\n",
       "      <td>0.617001</td>\n",
       "      <td>0.418884</td>\n",
       "      <td>0.607041</td>\n",
       "      <td>0.432005</td>\n",
       "      <td>0.383781</td>\n",
       "      <td>0.389080</td>\n",
       "      <td>0.107109</td>\n",
       "      <td>0.574830</td>\n",
       "      <td>0.587495</td>\n",
       "      <td>...</td>\n",
       "      <td>0.065586</td>\n",
       "      <td>0.000000</td>\n",
       "      <td>0.572866</td>\n",
       "      <td>0.382750</td>\n",
       "      <td>0.582071</td>\n",
       "      <td>0.363715</td>\n",
       "      <td>0.413648</td>\n",
       "      <td>0.336215</td>\n",
       "      <td>0.588789</td>\n",
       "      <td>0.399555</td>\n",
       "    </tr>\n",
       "    <tr>\n",
       "      <th>S11-SLF3_S7-RNase</th>\n",
       "      <td>0.417763</td>\n",
       "      <td>0.632686</td>\n",
       "      <td>0.553074</td>\n",
       "      <td>0.600438</td>\n",
       "      <td>0.582076</td>\n",
       "      <td>0.383766</td>\n",
       "      <td>0.379731</td>\n",
       "      <td>0.581619</td>\n",
       "      <td>0.429932</td>\n",
       "      <td>0.426807</td>\n",
       "      <td>...</td>\n",
       "      <td>0.562610</td>\n",
       "      <td>0.572866</td>\n",
       "      <td>0.000000</td>\n",
       "      <td>0.572384</td>\n",
       "      <td>0.584111</td>\n",
       "      <td>0.603208</td>\n",
       "      <td>0.573678</td>\n",
       "      <td>0.577628</td>\n",
       "      <td>0.600007</td>\n",
       "      <td>0.569932</td>\n",
       "    </tr>\n",
       "    <tr>\n",
       "      <th>S7-SLF1_S17-RNase</th>\n",
       "      <td>0.434932</td>\n",
       "      <td>0.377093</td>\n",
       "      <td>0.447593</td>\n",
       "      <td>0.560075</td>\n",
       "      <td>0.456994</td>\n",
       "      <td>0.427336</td>\n",
       "      <td>0.428081</td>\n",
       "      <td>0.378161</td>\n",
       "      <td>0.531610</td>\n",
       "      <td>0.392336</td>\n",
       "      <td>...</td>\n",
       "      <td>0.376767</td>\n",
       "      <td>0.382750</td>\n",
       "      <td>0.572384</td>\n",
       "      <td>0.000000</td>\n",
       "      <td>0.588608</td>\n",
       "      <td>0.478347</td>\n",
       "      <td>0.110923</td>\n",
       "      <td>0.456152</td>\n",
       "      <td>0.596505</td>\n",
       "      <td>0.065586</td>\n",
       "    </tr>\n",
       "    <tr>\n",
       "      <th>S5-SLF2_S11-RNase</th>\n",
       "      <td>0.521540</td>\n",
       "      <td>0.584938</td>\n",
       "      <td>0.501298</td>\n",
       "      <td>0.469001</td>\n",
       "      <td>0.509256</td>\n",
       "      <td>0.519024</td>\n",
       "      <td>0.516287</td>\n",
       "      <td>0.577088</td>\n",
       "      <td>0.470347</td>\n",
       "      <td>0.654848</td>\n",
       "      <td>...</td>\n",
       "      <td>0.579577</td>\n",
       "      <td>0.582071</td>\n",
       "      <td>0.584111</td>\n",
       "      <td>0.588608</td>\n",
       "      <td>0.000000</td>\n",
       "      <td>0.550874</td>\n",
       "      <td>0.597444</td>\n",
       "      <td>0.483972</td>\n",
       "      <td>0.240519</td>\n",
       "      <td>0.593639</td>\n",
       "    </tr>\n",
       "    <tr>\n",
       "      <th>S7-SLF2_S9-RNase</th>\n",
       "      <td>0.484807</td>\n",
       "      <td>0.520125</td>\n",
       "      <td>0.549300</td>\n",
       "      <td>0.548487</td>\n",
       "      <td>0.542403</td>\n",
       "      <td>0.471306</td>\n",
       "      <td>0.495135</td>\n",
       "      <td>0.355690</td>\n",
       "      <td>0.479874</td>\n",
       "      <td>0.608954</td>\n",
       "      <td>...</td>\n",
       "      <td>0.345115</td>\n",
       "      <td>0.363715</td>\n",
       "      <td>0.603208</td>\n",
       "      <td>0.478347</td>\n",
       "      <td>0.550874</td>\n",
       "      <td>0.000000</td>\n",
       "      <td>0.504848</td>\n",
       "      <td>0.240519</td>\n",
       "      <td>0.483972</td>\n",
       "      <td>0.473790</td>\n",
       "    </tr>\n",
       "    <tr>\n",
       "      <th>S9-SLF1_S17-RNase</th>\n",
       "      <td>0.455715</td>\n",
       "      <td>0.354086</td>\n",
       "      <td>0.458530</td>\n",
       "      <td>0.564868</td>\n",
       "      <td>0.488214</td>\n",
       "      <td>0.449463</td>\n",
       "      <td>0.426807</td>\n",
       "      <td>0.403243</td>\n",
       "      <td>0.526309</td>\n",
       "      <td>0.379731</td>\n",
       "      <td>...</td>\n",
       "      <td>0.403043</td>\n",
       "      <td>0.413648</td>\n",
       "      <td>0.573678</td>\n",
       "      <td>0.110923</td>\n",
       "      <td>0.597444</td>\n",
       "      <td>0.504848</td>\n",
       "      <td>0.000000</td>\n",
       "      <td>0.460469</td>\n",
       "      <td>0.623214</td>\n",
       "      <td>0.111750</td>\n",
       "    </tr>\n",
       "    <tr>\n",
       "      <th>S5-SLF2_S9-RNase</th>\n",
       "      <td>0.493239</td>\n",
       "      <td>0.482661</td>\n",
       "      <td>0.501593</td>\n",
       "      <td>0.505939</td>\n",
       "      <td>0.523079</td>\n",
       "      <td>0.480033</td>\n",
       "      <td>0.473138</td>\n",
       "      <td>0.338695</td>\n",
       "      <td>0.462872</td>\n",
       "      <td>0.564871</td>\n",
       "      <td>...</td>\n",
       "      <td>0.327657</td>\n",
       "      <td>0.336215</td>\n",
       "      <td>0.577628</td>\n",
       "      <td>0.456152</td>\n",
       "      <td>0.483972</td>\n",
       "      <td>0.240519</td>\n",
       "      <td>0.460469</td>\n",
       "      <td>0.000000</td>\n",
       "      <td>0.529807</td>\n",
       "      <td>0.459606</td>\n",
       "    </tr>\n",
       "    <tr>\n",
       "      <th>S7-SLF2_S11-RNase</th>\n",
       "      <td>0.502369</td>\n",
       "      <td>0.606909</td>\n",
       "      <td>0.538564</td>\n",
       "      <td>0.503431</td>\n",
       "      <td>0.518216</td>\n",
       "      <td>0.499701</td>\n",
       "      <td>0.525803</td>\n",
       "      <td>0.577449</td>\n",
       "      <td>0.475259</td>\n",
       "      <td>0.684974</td>\n",
       "      <td>...</td>\n",
       "      <td>0.579890</td>\n",
       "      <td>0.588789</td>\n",
       "      <td>0.600007</td>\n",
       "      <td>0.596505</td>\n",
       "      <td>0.240519</td>\n",
       "      <td>0.483972</td>\n",
       "      <td>0.623214</td>\n",
       "      <td>0.529807</td>\n",
       "      <td>0.000000</td>\n",
       "      <td>0.595200</td>\n",
       "    </tr>\n",
       "    <tr>\n",
       "      <th>S5-SLF1_S17-RNase</th>\n",
       "      <td>0.441091</td>\n",
       "      <td>0.366597</td>\n",
       "      <td>0.461254</td>\n",
       "      <td>0.564012</td>\n",
       "      <td>0.471827</td>\n",
       "      <td>0.426807</td>\n",
       "      <td>0.432767</td>\n",
       "      <td>0.391659</td>\n",
       "      <td>0.527876</td>\n",
       "      <td>0.383767</td>\n",
       "      <td>...</td>\n",
       "      <td>0.382750</td>\n",
       "      <td>0.399555</td>\n",
       "      <td>0.569932</td>\n",
       "      <td>0.065586</td>\n",
       "      <td>0.593639</td>\n",
       "      <td>0.473790</td>\n",
       "      <td>0.111750</td>\n",
       "      <td>0.459606</td>\n",
       "      <td>0.595200</td>\n",
       "      <td>0.000000</td>\n",
       "    </tr>\n",
       "  </tbody>\n",
       "</table>\n",
       "<p>37 rows × 37 columns</p>\n",
       "</div>"
      ],
      "text/plain": [
       "                    S11-SLF1_S7-RNase  S11-SLF2_S17-RNase  S9-SLF1_S5-RNase  \\\n",
       "S11-SLF1_S7-RNase            0.000000            0.594826          0.421496   \n",
       "S11-SLF2_S17-RNase           0.594826            0.000000          0.593445   \n",
       "S9-SLF1_S5-RNase             0.421496            0.593445          0.000000   \n",
       "S11-SLF2_S5-RNase            0.554301            0.458530          0.354086   \n",
       "S11-SLF1_S5-RNase            0.401848            0.608693          0.136997   \n",
       "S5-SLF1_S7-RNase             0.114098            0.595367          0.413947   \n",
       "S9-SLF1_S7-RNase             0.136997            0.581446          0.401848   \n",
       "S11-SLF1_S9-RNase            0.371471            0.598246          0.424080   \n",
       "S11-SLF2_S7-RNase            0.366567            0.426807          0.522370   \n",
       "S11-SLF3_S17-RNase           0.600573            0.429932          0.593222   \n",
       "S7-SLF1_S5-RNase             0.425866            0.625471          0.110923   \n",
       "S7-SLF1_S11-RNase            0.444003            0.705935          0.428522   \n",
       "S7-SLF2_S5-RNase             0.513726            0.537144          0.382152   \n",
       "S5-SLF2_S17-RNase            0.569172            0.214322          0.572656   \n",
       "S5-SLF2_S7-RNase             0.338695            0.488162          0.508755   \n",
       "S7-SLF3_S11-RNase            0.614965            0.737024          0.618581   \n",
       "S7-SLF3_S17-RNase            0.648038            0.486624          0.670146   \n",
       "S9-SLF1_S11-RNase            0.443647            0.680217          0.417989   \n",
       "S11-SLF3_S5-RNase            0.577237            0.643564          0.379731   \n",
       "S7-SLF2_S17-RNase            0.560551            0.286372          0.613658   \n",
       "S7-SLF3_S9-RNase             0.577443            0.646522          0.605737   \n",
       "S11-SLF3_S9-RNase            0.535493            0.615311          0.531330   \n",
       "S5-SLF1_S11-RNase            0.436926            0.692033          0.429438   \n",
       "S7-SLF3_S5-RNase             0.567650            0.629202          0.413687   \n",
       "S11-SLF2_S9-RNase            0.482302            0.382750          0.485086   \n",
       "S9-SLF1_S3-RNase             0.536682            0.579423          0.434081   \n",
       "S11-SLF1_S17-RNase           0.426807            0.366567          0.468703   \n",
       "S5-SLF1_S9-RNase             0.395610            0.603357          0.423125   \n",
       "S7-SLF1_S9-RNase             0.399946            0.617001          0.418884   \n",
       "S11-SLF3_S7-RNase            0.417763            0.632686          0.553074   \n",
       "S7-SLF1_S17-RNase            0.434932            0.377093          0.447593   \n",
       "S5-SLF2_S11-RNase            0.521540            0.584938          0.501298   \n",
       "S7-SLF2_S9-RNase             0.484807            0.520125          0.549300   \n",
       "S9-SLF1_S17-RNase            0.455715            0.354086          0.458530   \n",
       "S5-SLF2_S9-RNase             0.493239            0.482661          0.501593   \n",
       "S7-SLF2_S11-RNase            0.502369            0.606909          0.538564   \n",
       "S5-SLF1_S17-RNase            0.441091            0.366597          0.461254   \n",
       "\n",
       "                    S11-SLF2_S5-RNase  S11-SLF1_S5-RNase  S5-SLF1_S7-RNase  \\\n",
       "S11-SLF1_S7-RNase            0.554301           0.401848          0.114098   \n",
       "S11-SLF2_S17-RNase           0.458530           0.608693          0.595367   \n",
       "S9-SLF1_S5-RNase             0.354086           0.136997          0.413947   \n",
       "S11-SLF2_S5-RNase            0.000000           0.366567          0.554297   \n",
       "S11-SLF1_S5-RNase            0.366567           0.000000          0.417700   \n",
       "S5-SLF1_S7-RNase             0.554297           0.417700          0.000000   \n",
       "S9-SLF1_S7-RNase             0.548494           0.427598          0.111750   \n",
       "S11-SLF1_S9-RNase            0.598821           0.416018          0.381459   \n",
       "S11-SLF2_S7-RNase            0.401847           0.533344          0.366597   \n",
       "S11-SLF3_S17-RNase           0.613195           0.625763          0.577979   \n",
       "S7-SLF1_S5-RNase             0.377093           0.107109          0.417331   \n",
       "S7-SLF1_S11-RNase            0.583908           0.425231          0.441254   \n",
       "S7-SLF2_S5-RNase             0.286372           0.355690          0.506436   \n",
       "S5-SLF2_S17-RNase            0.502616           0.589313          0.563225   \n",
       "S5-SLF2_S7-RNase             0.462665           0.521002          0.327657   \n",
       "S7-SLF3_S11-RNase            0.689733           0.639792          0.597018   \n",
       "S7-SLF3_S17-RNase            0.705840           0.697926          0.627763   \n",
       "S9-SLF1_S11-RNase            0.572289           0.437613          0.441905   \n",
       "S11-SLF3_S5-RNase            0.429932           0.417763          0.553106   \n",
       "S7-SLF2_S17-RNase            0.544052           0.605298          0.554461   \n",
       "S7-SLF3_S9-RNase             0.704076           0.638422          0.549050   \n",
       "S11-SLF3_S9-RNase            0.621368           0.569770          0.503990   \n",
       "S5-SLF1_S11-RNase            0.577707           0.427749          0.427345   \n",
       "S7-SLF3_S5-RNase             0.486624           0.446997          0.543794   \n",
       "S11-SLF2_S9-RNase            0.416018           0.506259          0.476592   \n",
       "S9-SLF1_S3-RNase             0.539358           0.479368          0.518824   \n",
       "S11-SLF1_S17-RNase           0.564566           0.458530          0.442496   \n",
       "S5-SLF1_S9-RNase             0.603390           0.437676          0.371471   \n",
       "S7-SLF1_S9-RNase             0.607041           0.432005          0.383781   \n",
       "S11-SLF3_S7-RNase            0.600438           0.582076          0.383766   \n",
       "S7-SLF1_S17-RNase            0.560075           0.456994          0.427336   \n",
       "S5-SLF2_S11-RNase            0.469001           0.509256          0.519024   \n",
       "S7-SLF2_S9-RNase             0.548487           0.542403          0.471306   \n",
       "S9-SLF1_S17-RNase            0.564868           0.488214          0.449463   \n",
       "S5-SLF2_S9-RNase             0.505939           0.523079          0.480033   \n",
       "S7-SLF2_S11-RNase            0.503431           0.518216          0.499701   \n",
       "S5-SLF1_S17-RNase            0.564012           0.471827          0.426807   \n",
       "\n",
       "                    S9-SLF1_S7-RNase  S11-SLF1_S9-RNase  S11-SLF2_S7-RNase  \\\n",
       "S11-SLF1_S7-RNase           0.136997           0.371471           0.366567   \n",
       "S11-SLF2_S17-RNase          0.581446           0.598246           0.426807   \n",
       "S9-SLF1_S5-RNase            0.401848           0.424080           0.522370   \n",
       "S11-SLF2_S5-RNase           0.548494           0.598821           0.401847   \n",
       "S11-SLF1_S5-RNase           0.427598           0.416018           0.533344   \n",
       "S5-SLF1_S7-RNase            0.111750           0.381459           0.366597   \n",
       "S9-SLF1_S7-RNase            0.000000           0.383868           0.354086   \n",
       "S11-SLF1_S9-RNase           0.383868           0.000000           0.558667   \n",
       "S11-SLF2_S7-RNase           0.354086           0.558667           0.000000   \n",
       "S11-SLF3_S17-RNase          0.568870           0.592271           0.577685   \n",
       "S7-SLF1_S5-RNase            0.429866           0.427152           0.548354   \n",
       "S7-SLF1_S11-RNase           0.450043           0.488110           0.588106   \n",
       "S7-SLF2_S5-RNase            0.534818           0.552242           0.456082   \n",
       "S5-SLF2_S17-RNase           0.554250           0.545629           0.466790   \n",
       "S5-SLF2_S7-RNase            0.323565           0.511983           0.214322   \n",
       "S7-SLF3_S11-RNase           0.595047           0.658895           0.658165   \n",
       "S7-SLF3_S17-RNase           0.620112           0.623412           0.647816   \n",
       "S9-SLF1_S11-RNase           0.427345           0.488901           0.566952   \n",
       "S11-SLF3_S5-RNase           0.552687           0.608733           0.576299   \n",
       "S7-SLF2_S17-RNase           0.571838           0.554994           0.482107   \n",
       "S7-SLF3_S9-RNase            0.543477           0.446997           0.640456   \n",
       "S11-SLF3_S9-RNase           0.497009           0.417763           0.580358   \n",
       "S5-SLF1_S11-RNase           0.441524           0.486839           0.574703   \n",
       "S7-SLF3_S5-RNase            0.544195           0.581526           0.589767   \n",
       "S11-SLF2_S9-RNase           0.462835           0.366567           0.371471   \n",
       "S9-SLF1_S3-RNase            0.499250           0.500752           0.581157   \n",
       "S11-SLF1_S17-RNase          0.440667           0.382750           0.528443   \n",
       "S5-SLF1_S9-RNase            0.382848           0.114098           0.563586   \n",
       "S7-SLF1_S9-RNase            0.389080           0.107109           0.574830   \n",
       "S11-SLF3_S7-RNase           0.379731           0.581619           0.429932   \n",
       "S7-SLF1_S17-RNase           0.428081           0.378161           0.531610   \n",
       "S5-SLF2_S11-RNase           0.516287           0.577088           0.470347   \n",
       "S7-SLF2_S9-RNase            0.495135           0.355690           0.479874   \n",
       "S9-SLF1_S17-RNase           0.426807           0.403243           0.526309   \n",
       "S5-SLF2_S9-RNase            0.473138           0.338695           0.462872   \n",
       "S7-SLF2_S11-RNase           0.525803           0.577449           0.475259   \n",
       "S5-SLF1_S17-RNase           0.432767           0.391659           0.527876   \n",
       "\n",
       "                    S11-SLF3_S17-RNase  ...  S5-SLF1_S9-RNase  \\\n",
       "S11-SLF1_S7-RNase             0.600573  ...          0.395610   \n",
       "S11-SLF2_S17-RNase            0.429932  ...          0.603357   \n",
       "S9-SLF1_S5-RNase              0.593222  ...          0.423125   \n",
       "S11-SLF2_S5-RNase             0.613195  ...          0.603390   \n",
       "S11-SLF1_S5-RNase             0.625763  ...          0.437676   \n",
       "S5-SLF1_S7-RNase              0.577979  ...          0.371471   \n",
       "S9-SLF1_S7-RNase              0.568870  ...          0.382848   \n",
       "S11-SLF1_S9-RNase             0.592271  ...          0.114098   \n",
       "S11-SLF2_S7-RNase             0.577685  ...          0.563586   \n",
       "S11-SLF3_S17-RNase            0.000000  ...          0.574155   \n",
       "S7-SLF1_S5-RNase              0.619564  ...          0.425158   \n",
       "S7-SLF1_S11-RNase             0.680705  ...          0.491239   \n",
       "S7-SLF2_S5-RNase              0.645759  ...          0.550484   \n",
       "S5-SLF2_S17-RNase             0.423462  ...          0.544495   \n",
       "S5-SLF2_S7-RNase              0.581724  ...          0.510165   \n",
       "S7-SLF3_S11-RNase             0.572682  ...          0.646445   \n",
       "S7-SLF3_S17-RNase             0.261297  ...          0.606855   \n",
       "S9-SLF1_S11-RNase             0.659395  ...          0.492929   \n",
       "S11-SLF3_S5-RNase             0.458530  ...          0.590574   \n",
       "S7-SLF2_S17-RNase             0.479137  ...          0.553829   \n",
       "S7-SLF3_S9-RNase              0.449663  ...          0.416315   \n",
       "S11-SLF3_S9-RNase             0.382750  ...          0.383767   \n",
       "S5-SLF1_S11-RNase             0.667143  ...          0.483972   \n",
       "S7-SLF3_S5-RNase              0.456382  ...          0.563166   \n",
       "S11-SLF2_S9-RNase             0.532983  ...          0.366597   \n",
       "S9-SLF1_S3-RNase              0.575909  ...          0.487238   \n",
       "S11-SLF1_S17-RNase            0.417763  ...          0.406982   \n",
       "S5-SLF1_S9-RNase              0.574155  ...          0.000000   \n",
       "S7-SLF1_S9-RNase              0.587495  ...          0.065586   \n",
       "S11-SLF3_S7-RNase             0.426807  ...          0.562610   \n",
       "S7-SLF1_S17-RNase             0.392336  ...          0.376767   \n",
       "S5-SLF2_S11-RNase             0.654848  ...          0.579577   \n",
       "S7-SLF2_S9-RNase              0.608954  ...          0.345115   \n",
       "S9-SLF1_S17-RNase             0.379731  ...          0.403043   \n",
       "S5-SLF2_S9-RNase              0.564871  ...          0.327657   \n",
       "S7-SLF2_S11-RNase             0.684974  ...          0.579890   \n",
       "S5-SLF1_S17-RNase             0.383767  ...          0.382750   \n",
       "\n",
       "                    S7-SLF1_S9-RNase  S11-SLF3_S7-RNase  S7-SLF1_S17-RNase  \\\n",
       "S11-SLF1_S7-RNase           0.399946           0.417763           0.434932   \n",
       "S11-SLF2_S17-RNase          0.617001           0.632686           0.377093   \n",
       "S9-SLF1_S5-RNase            0.418884           0.553074           0.447593   \n",
       "S11-SLF2_S5-RNase           0.607041           0.600438           0.560075   \n",
       "S11-SLF1_S5-RNase           0.432005           0.582076           0.456994   \n",
       "S5-SLF1_S7-RNase            0.383781           0.383766           0.427336   \n",
       "S9-SLF1_S7-RNase            0.389080           0.379731           0.428081   \n",
       "S11-SLF1_S9-RNase           0.107109           0.581619           0.378161   \n",
       "S11-SLF2_S7-RNase           0.574830           0.429932           0.531610   \n",
       "S11-SLF3_S17-RNase          0.587495           0.426807           0.392336   \n",
       "S7-SLF1_S5-RNase            0.416018           0.571509           0.458530   \n",
       "S7-SLF1_S11-RNase           0.483972           0.586660           0.541613   \n",
       "S7-SLF2_S5-RNase            0.559312           0.608093           0.547758   \n",
       "S5-SLF2_S17-RNase           0.557675           0.620133           0.336215   \n",
       "S5-SLF2_S7-RNase            0.520524           0.423462           0.513474   \n",
       "S7-SLF3_S11-RNase           0.650574           0.501227           0.651966   \n",
       "S7-SLF3_S17-RNase           0.620692           0.533315           0.425979   \n",
       "S9-SLF1_S11-RNase           0.489908           0.571687           0.535558   \n",
       "S11-SLF3_S5-RNase           0.593331           0.401848           0.586937   \n",
       "S7-SLF2_S17-RNase           0.573373           0.642866           0.363715   \n",
       "S7-SLF3_S9-RNase            0.425979           0.477153           0.520243   \n",
       "S11-SLF3_S9-RNase           0.392336           0.371471           0.505667   \n",
       "S5-SLF1_S11-RNase           0.485537           0.574229           0.534806   \n",
       "S7-SLF3_S5-RNase            0.567370           0.439888           0.549350   \n",
       "S11-SLF2_S9-RNase           0.377093           0.555743           0.443511   \n",
       "S9-SLF1_S3-RNase            0.489399           0.605780           0.471728   \n",
       "S11-SLF1_S17-RNase          0.415852           0.593879           0.107109   \n",
       "S5-SLF1_S9-RNase            0.065586           0.562610           0.376767   \n",
       "S7-SLF1_S9-RNase            0.000000           0.572866           0.382750   \n",
       "S11-SLF3_S7-RNase           0.572866           0.000000           0.572384   \n",
       "S7-SLF1_S17-RNase           0.382750           0.572384           0.000000   \n",
       "S5-SLF2_S11-RNase           0.582071           0.584111           0.588608   \n",
       "S7-SLF2_S9-RNase            0.363715           0.603208           0.478347   \n",
       "S9-SLF1_S17-RNase           0.413648           0.573678           0.110923   \n",
       "S5-SLF2_S9-RNase            0.336215           0.577628           0.456152   \n",
       "S7-SLF2_S11-RNase           0.588789           0.600007           0.596505   \n",
       "S5-SLF1_S17-RNase           0.399555           0.569932           0.065586   \n",
       "\n",
       "                    S5-SLF2_S11-RNase  S7-SLF2_S9-RNase  S9-SLF1_S17-RNase  \\\n",
       "S11-SLF1_S7-RNase            0.521540          0.484807           0.455715   \n",
       "S11-SLF2_S17-RNase           0.584938          0.520125           0.354086   \n",
       "S9-SLF1_S5-RNase             0.501298          0.549300           0.458530   \n",
       "S11-SLF2_S5-RNase            0.469001          0.548487           0.564868   \n",
       "S11-SLF1_S5-RNase            0.509256          0.542403           0.488214   \n",
       "S5-SLF1_S7-RNase             0.519024          0.471306           0.449463   \n",
       "S9-SLF1_S7-RNase             0.516287          0.495135           0.426807   \n",
       "S11-SLF1_S9-RNase            0.577088          0.355690           0.403243   \n",
       "S11-SLF2_S7-RNase            0.470347          0.479874           0.526309   \n",
       "S11-SLF3_S17-RNase           0.654848          0.608954           0.379731   \n",
       "S7-SLF1_S5-RNase             0.512868          0.545793           0.494740   \n",
       "S7-SLF1_S11-RNase            0.336215          0.621582           0.569628   \n",
       "S7-SLF2_S5-RNase             0.484932          0.416018           0.579659   \n",
       "S5-SLF2_S17-RNase            0.541614          0.453696           0.323565   \n",
       "S5-SLF2_S7-RNase             0.427345          0.419277           0.516259   \n",
       "S7-SLF3_S11-RNase            0.459384          0.728491           0.658456   \n",
       "S7-SLF3_S17-RNase            0.702991          0.650304           0.413687   \n",
       "S9-SLF1_S11-RNase            0.323565          0.627370           0.541614   \n",
       "S11-SLF3_S5-RNase            0.570718          0.648242           0.597476   \n",
       "S7-SLF2_S17-RNase            0.600903          0.382750           0.382152   \n",
       "S7-SLF3_S9-RNase             0.655165          0.518715           0.522144   \n",
       "S11-SLF3_S9-RNase            0.613554          0.479137           0.508203   \n",
       "S5-SLF1_S11-RNase            0.327657          0.608601           0.559491   \n",
       "S7-SLF3_S5-RNase             0.566435          0.634071           0.560069   \n",
       "S11-SLF2_S9-RNase            0.492449          0.286372           0.438387   \n",
       "S9-SLF1_S3-RNase             0.542950          0.586153           0.465510   \n",
       "S11-SLF1_S17-RNase           0.596361          0.487859           0.136997   \n",
       "S5-SLF1_S9-RNase             0.579577          0.345115           0.403043   \n",
       "S7-SLF1_S9-RNase             0.582071          0.363715           0.413648   \n",
       "S11-SLF3_S7-RNase            0.584111          0.603208           0.573678   \n",
       "S7-SLF1_S17-RNase            0.588608          0.478347           0.110923   \n",
       "S5-SLF2_S11-RNase            0.000000          0.550874           0.597444   \n",
       "S7-SLF2_S9-RNase             0.550874          0.000000           0.504848   \n",
       "S9-SLF1_S17-RNase            0.597444          0.504848           0.000000   \n",
       "S5-SLF2_S9-RNase             0.483972          0.240519           0.460469   \n",
       "S7-SLF2_S11-RNase            0.240519          0.483972           0.623214   \n",
       "S5-SLF1_S17-RNase            0.593639          0.473790           0.111750   \n",
       "\n",
       "                    S5-SLF2_S9-RNase  S7-SLF2_S11-RNase  S5-SLF1_S17-RNase  \n",
       "S11-SLF1_S7-RNase           0.493239           0.502369           0.441091  \n",
       "S11-SLF2_S17-RNase          0.482661           0.606909           0.366597  \n",
       "S9-SLF1_S5-RNase            0.501593           0.538564           0.461254  \n",
       "S11-SLF2_S5-RNase           0.505939           0.503431           0.564012  \n",
       "S11-SLF1_S5-RNase           0.523079           0.518216           0.471827  \n",
       "S5-SLF1_S7-RNase            0.480033           0.499701           0.426807  \n",
       "S9-SLF1_S7-RNase            0.473138           0.525803           0.432767  \n",
       "S11-SLF1_S9-RNase           0.338695           0.577449           0.391659  \n",
       "S11-SLF2_S7-RNase           0.462872           0.475259           0.527876  \n",
       "S11-SLF3_S17-RNase          0.564871           0.684974           0.383767  \n",
       "S7-SLF1_S5-RNase            0.519474           0.528855           0.476218  \n",
       "S7-SLF1_S11-RNase           0.596433           0.363715           0.556126  \n",
       "S7-SLF2_S5-RNase            0.471309           0.417989           0.546888  \n",
       "S5-SLF2_S17-RNase           0.382750           0.584213           0.327657  \n",
       "S5-SLF2_S7-RNase            0.371471           0.457212           0.511687  \n",
       "S7-SLF3_S11-RNase           0.679179           0.518715           0.654637  \n",
       "S7-SLF3_S17-RNase           0.602802           0.736436           0.416315  \n",
       "S9-SLF1_S11-RNase           0.583835           0.382152           0.546476  \n",
       "S11-SLF3_S5-RNase           0.600979           0.611046           0.591673  \n",
       "S7-SLF2_S17-RNase           0.450392           0.541614           0.345115  \n",
       "S7-SLF3_S9-RNase            0.459384           0.689848           0.520921  \n",
       "S11-SLF3_S9-RNase           0.423462           0.644451           0.507832  \n",
       "S5-SLF1_S11-RNase           0.589294           0.345115           0.541613  \n",
       "S7-SLF3_S5-RNase            0.578987           0.613421           0.553061  \n",
       "S11-SLF2_S9-RNase           0.214322           0.516912           0.444682  \n",
       "S9-SLF1_S3-RNase            0.513833           0.602464           0.478813  \n",
       "S11-SLF1_S17-RNase          0.474038           0.597961           0.114097  \n",
       "S5-SLF1_S9-RNase            0.327657           0.579890           0.382750  \n",
       "S7-SLF1_S9-RNase            0.336215           0.588789           0.399555  \n",
       "S11-SLF3_S7-RNase           0.577628           0.600007           0.569932  \n",
       "S7-SLF1_S17-RNase           0.456152           0.596505           0.065586  \n",
       "S5-SLF2_S11-RNase           0.483972           0.240519           0.593639  \n",
       "S7-SLF2_S9-RNase            0.240519           0.483972           0.473790  \n",
       "S9-SLF1_S17-RNase           0.460469           0.623214           0.111750  \n",
       "S5-SLF2_S9-RNase            0.000000           0.529807           0.459606  \n",
       "S7-SLF2_S11-RNase           0.529807           0.000000           0.595200  \n",
       "S5-SLF1_S17-RNase           0.459606           0.595200           0.000000  \n",
       "\n",
       "[37 rows x 37 columns]"
      ]
     },
     "execution_count": 60,
     "metadata": {},
     "output_type": "execute_result"
    }
   ],
   "source": [
    "pd.DataFrame(pickle.load(open('../data/distance_map/' + \\\n",
    "    dataname + '.pkl', 'rb')) )"
   ]
  },
  {
   "cell_type": "code",
   "execution_count": null,
   "metadata": {},
   "outputs": [],
   "source": []
  },
  {
   "cell_type": "code",
   "execution_count": null,
   "metadata": {},
   "outputs": [],
   "source": []
  },
  {
   "cell_type": "code",
   "execution_count": null,
   "metadata": {},
   "outputs": [],
   "source": []
  },
  {
   "cell_type": "code",
   "execution_count": 2,
   "metadata": {},
   "outputs": [
    {
     "name": "stderr",
     "output_type": "stream",
     "text": [
      "100%|██████████| 100/100 [00:00<00:00, 88171.20it/s]"
     ]
    },
    {
     "name": "stdout",
     "output_type": "stream",
     "text": [
      "0\n",
      "1\n",
      "2\n",
      "3\n",
      "4\n",
      "5\n",
      "6\n",
      "7\n",
      "8\n",
      "9\n",
      "10\n",
      "11\n",
      "12\n",
      "13\n",
      "14\n",
      "15\n",
      "16\n",
      "17\n",
      "18\n",
      "19\n",
      "20\n",
      "21\n",
      "22\n",
      "23\n",
      "24\n",
      "25\n",
      "26\n",
      "27\n",
      "28\n",
      "29\n",
      "30\n",
      "31\n",
      "32\n",
      "33\n",
      "34\n",
      "35\n",
      "36\n",
      "37\n",
      "38\n",
      "39\n",
      "40\n",
      "41\n",
      "42\n",
      "43\n",
      "44\n",
      "45\n",
      "46\n",
      "47\n",
      "48\n",
      "49\n",
      "50\n",
      "51\n",
      "52\n",
      "53\n",
      "54\n",
      "55\n",
      "56\n",
      "57\n",
      "58\n",
      "59\n",
      "60\n",
      "61\n",
      "62\n",
      "63\n",
      "64\n",
      "65\n",
      "66\n",
      "67\n",
      "68\n",
      "69\n",
      "70\n",
      "71\n",
      "72\n",
      "73\n",
      "74\n",
      "75\n",
      "76\n",
      "77\n",
      "78\n",
      "79\n",
      "80\n",
      "81\n",
      "82\n",
      "83\n",
      "84\n",
      "85\n",
      "86\n",
      "87\n",
      "88\n",
      "89\n",
      "90\n",
      "91\n",
      "92\n",
      "93\n",
      "94\n",
      "95\n",
      "96\n",
      "97\n",
      "98\n",
      "99\n"
     ]
    },
    {
     "name": "stderr",
     "output_type": "stream",
     "text": [
      "\n"
     ]
    }
   ],
   "source": [
    "for i in tqdm( range(100)):\n",
    "    print(i)"
   ]
  },
  {
   "cell_type": "code",
   "execution_count": null,
   "metadata": {},
   "outputs": [],
   "source": []
  }
 ],
 "metadata": {
  "kernelspec": {
   "display_name": "clean",
   "language": "python",
   "name": "python3"
  },
  "language_info": {
   "codemirror_mode": {
    "name": "ipython",
    "version": 3
   },
   "file_extension": ".py",
   "mimetype": "text/x-python",
   "name": "python",
   "nbconvert_exporter": "python",
   "pygments_lexer": "ipython3",
   "version": "3.10.4"
  },
  "orig_nbformat": 4
 },
 "nbformat": 4,
 "nbformat_minor": 2
}
